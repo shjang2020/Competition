{
  "nbformat": 4,
  "nbformat_minor": 0,
  "metadata": {
    "colab": {
      "name": "dacon_credit_final_catboost_datacentric.ipynb",
      "provenance": [],
      "collapsed_sections": [],
      "machine_shape": "hm"
    },
    "kernelspec": {
      "name": "python3",
      "display_name": "Python 3"
    },
    "language_info": {
      "name": "python"
    }
  },
  "cells": [
    {
      "cell_type": "code",
      "metadata": {
        "id": "CQBWHsKcPWVc"
      },
      "source": [
        "import warnings\n",
        "warnings.filterwarnings('ignore')\n",
        "\n",
        "import glob\n",
        "import pandas as pd\n",
        "import numpy as np\n",
        "\n",
        "from catboost import CatBoostClassifier\n",
        "from sklearn.model_selection import StratifiedKFold,train_test_split\n",
        "from sklearn.metrics import log_loss\n",
        "from sklearn.preprocessing import OneHotEncoder\n",
        "import random\n",
        "\n",
        "import optuna\n",
        "from optuna.samplers import TPESampler"
      ],
      "execution_count": 31,
      "outputs": []
    },
    {
      "cell_type": "markdown",
      "metadata": {
        "id": "OzjdFz4xP4SN"
      },
      "source": [
        "#Data Load & Preprocessing\n",
        "  * 훈련에 필요없는 index 컬럼 삭제.\n",
        "  * missing value를 모두 NAN 문자열로 대체\n",
        "  * 범주형 특성 중 일부를 Ordinal하게 바꿈\n",
        "  * 동일 인물이 시간순서에 따라 Credit이 바뀐다고 가정하였으므로 동일인물을 구분할 주민등록번호 같은 고유코드를 만듬"
      ]
    },
    {
      "cell_type": "code",
      "metadata": {
        "id": "-tAWdE1eQAQ7"
      },
      "source": [
        "train = pd.read_csv('/content/drive/MyDrive/Dacon/credit/train.csv')\n",
        "train = train.drop(['index'], axis=1)\n",
        "train.fillna('NAN',inplace=True)\n",
        "\n",
        "test = pd.read_csv('/content/drive/MyDrive/Dacon/credit/test.csv')\n",
        "test = test.drop(['index'],axis=1)\n",
        "test.fillna('NAN',inplace=True)\n",
        "\n",
        "submit = pd.read_csv('/content/drive/MyDrive/Dacon/credit/sample_submission.csv')"
      ],
      "execution_count": 22,
      "outputs": []
    },
    {
      "cell_type": "code",
      "metadata": {
        "id": "KR7YbBAIWHV1"
      },
      "source": [
        "edu_dict = {'Lower secondary':1,\n",
        " 'Secondary / secondary special':2,\n",
        " 'Incomplete higher':3,\n",
        " 'Higher education':4,\n",
        " 'Academic degree':5}\n",
        "\n",
        "train['edu_type'].replace(edu_dict,inplace=True)\n",
        "test['edu_type'].replace(edu_dict,inplace=True)"
      ],
      "execution_count": 23,
      "outputs": []
    },
    {
      "cell_type": "code",
      "metadata": {
        "id": "5NvHDjB0nHUL"
      },
      "source": [
        "house_dict = {'With parents':3,\n",
        " 'Co-op apartment':2,\n",
        " 'Municipal apartment':1,\n",
        " 'Rented apartment':4,\n",
        " 'Office apartment':5,\n",
        " 'House / apartment':6}\n",
        "\n",
        "train['house_type'].replace(house_dict,inplace=True)\n",
        "test['house_type'].replace(house_dict,inplace=True)"
      ],
      "execution_count": 24,
      "outputs": []
    },
    {
      "cell_type": "code",
      "metadata": {
        "id": "5pgmz_k7GdZE"
      },
      "source": [
        "train['CODE'] = train['gender']+train['DAYS_BIRTH'].apply(str)+train['income_total'].apply(str)+train['income_type'].apply(str)\n",
        "test['CODE'] = test['gender']+test['DAYS_BIRTH'].apply(str)+test['income_total'].apply(str)+test['income_type'].apply(str)"
      ],
      "execution_count": 25,
      "outputs": []
    },
    {
      "cell_type": "code",
      "metadata": {
        "colab": {
          "base_uri": "https://localhost:8080/"
        },
        "id": "GGZImp3XkB4I",
        "outputId": "2897a178-0624-49d4-ef8a-076e7c0be6ce"
      },
      "source": [
        "train.info()"
      ],
      "execution_count": 26,
      "outputs": [
        {
          "output_type": "stream",
          "text": [
            "<class 'pandas.core.frame.DataFrame'>\n",
            "RangeIndex: 26457 entries, 0 to 26456\n",
            "Data columns (total 20 columns):\n",
            " #   Column         Non-Null Count  Dtype  \n",
            "---  ------         --------------  -----  \n",
            " 0   gender         26457 non-null  object \n",
            " 1   car            26457 non-null  object \n",
            " 2   reality        26457 non-null  object \n",
            " 3   child_num      26457 non-null  int64  \n",
            " 4   income_total   26457 non-null  float64\n",
            " 5   income_type    26457 non-null  object \n",
            " 6   edu_type       26457 non-null  int64  \n",
            " 7   family_type    26457 non-null  object \n",
            " 8   house_type     26457 non-null  int64  \n",
            " 9   DAYS_BIRTH     26457 non-null  int64  \n",
            " 10  DAYS_EMPLOYED  26457 non-null  int64  \n",
            " 11  FLAG_MOBIL     26457 non-null  int64  \n",
            " 12  work_phone     26457 non-null  int64  \n",
            " 13  phone          26457 non-null  int64  \n",
            " 14  email          26457 non-null  int64  \n",
            " 15  occyp_type     26457 non-null  object \n",
            " 16  family_size    26457 non-null  float64\n",
            " 17  begin_month    26457 non-null  float64\n",
            " 18  credit         26457 non-null  float64\n",
            " 19  CODE           26457 non-null  object \n",
            "dtypes: float64(4), int64(9), object(7)\n",
            "memory usage: 4.0+ MB\n"
          ],
          "name": "stdout"
        }
      ]
    },
    {
      "cell_type": "markdown",
      "metadata": {
        "id": "-JaWhfFYsgkP"
      },
      "source": [
        "#Training\n",
        "  * Optuna를 사용하여 best parameter 추출(Optuna를 K-Fold에 바로 적용하고 싶었으나 Colab에서 메모리 한계로 학습이 진행되지 않아 일반 데이터셋을 split하여 best parameter만 추출한 후 그것을 통해 Catboost 모델을 재학습함)\n",
        "  * 데이터 분리는 StratifiedKFold를 사용하여 y값 분포를 비슷하게 분리시킴 -> 5-fold\n",
        "  * CatBoostClasffier 사용(Optuna에서 추출한 best parameter 사용)\n",
        "  * 35번 이상 개선 없을 경우 조기종료\n",
        "  * 각 5개의 fold를 훈련하여 저장"
      ]
    },
    {
      "cell_type": "code",
      "metadata": {
        "id": "bsH9mEHs1LU-"
      },
      "source": [
        "#Optuna용 Train셋\n",
        "X = train.drop(['credit'],axis=1)\n",
        "y = train['credit']\n",
        "X_test = test.copy()"
      ],
      "execution_count": 34,
      "outputs": []
    },
    {
      "cell_type": "code",
      "metadata": {
        "id": "_X3xpkC80xe5"
      },
      "source": [
        "def objective(trial):\n",
        "  param = {\n",
        "      \"random_state\":42,\n",
        "      'learning_rate' : trial.suggest_loguniform('learning_rate', 0.01, 0.3),\n",
        "      'bagging_temperature' :trial.suggest_loguniform('bagging_temperature', 0.01, 100.00),\n",
        "      \"n_estimators\":trial.suggest_int(\"n_estimators\", 1000, 10000),\n",
        "      \"max_depth\":trial.suggest_int(\"max_depth\", 4, 16),\n",
        "      'random_strength' :trial.suggest_int('random_strength', 0, 100),\n",
        "      \"colsample_bylevel\":trial.suggest_float(\"colsample_bylevel\", 0.4, 1.0),\n",
        "      \"l2_leaf_reg\":trial.suggest_float(\"l2_leaf_reg\",1e-8,3e-5),\n",
        "      \"min_child_samples\": trial.suggest_int(\"min_child_samples\", 5, 100),\n",
        "      \"max_bin\": trial.suggest_int(\"max_bin\", 200, 500),\n",
        "      'od_type': trial.suggest_categorical('od_type', ['IncToDec', 'Iter']),\n",
        "  }\n",
        "\n",
        "  X_train, X_valid, y_train, y_valid = train_test_split(X,y,test_size=0.2)\n",
        "  \n",
        "  cat_features =[0,1,2,5,6,7,8,15,18]\n",
        "  cat = CatBoostClassifier(**param)\n",
        "  cat.fit(X_train, y_train,\n",
        "          eval_set=[(X_train, y_train), (X_valid,y_valid)],\n",
        "          early_stopping_rounds=35,cat_features=cat_features,\n",
        "          verbose=100)\n",
        "  cat_pred = cat.predict_proba(X_valid)\n",
        "  log_score = log_loss(y_valid, cat_pred)\n",
        "\n",
        "  return log_score"
      ],
      "execution_count": 35,
      "outputs": []
    },
    {
      "cell_type": "code",
      "metadata": {
        "colab": {
          "base_uri": "https://localhost:8080/"
        },
        "id": "37SNdUf10036",
        "outputId": "9d86221f-30de-45fb-e497-aee0ec0c86ba"
      },
      "source": [
        "sampler = TPESampler(seed=42)\n",
        "study = optuna.create_study(\n",
        "    study_name = 'cat_parameter_opt',\n",
        "    direction = 'minimize',\n",
        "    sampler = sampler,\n",
        ")\n",
        "study.optimize(objective, n_trials=10)\n",
        "print(\"Best Score:\",study.best_value)\n",
        "print(\"Best trial\",study.best_trial.params)"
      ],
      "execution_count": 36,
      "outputs": [
        {
          "output_type": "stream",
          "text": [
            "\u001b[32m[I 2021-05-24 14:43:51,592]\u001b[0m A new study created in memory with name: cat_parameter_opt\u001b[0m\n"
          ],
          "name": "stderr"
        },
        {
          "output_type": "stream",
          "text": [
            "0:\tlearn: 1.0829973\ttest: 1.0829973\ttest1: 1.0828206\tbest: 1.0828206 (0)\ttotal: 12.8ms\tremaining: 1m 37s\n",
            "100:\tlearn: 0.8836407\ttest: 0.8836407\ttest1: 0.8787194\tbest: 0.8787194 (100)\ttotal: 898ms\tremaining: 1m 6s\n",
            "200:\tlearn: 0.8834658\ttest: 0.8834658\ttest1: 0.8783854\tbest: 0.8783854 (200)\ttotal: 1.76s\tremaining: 1m 4s\n",
            "300:\tlearn: 0.8834656\ttest: 0.8834656\ttest1: 0.8783811\tbest: 0.8783811 (300)\ttotal: 2.62s\tremaining: 1m 3s\n",
            "400:\tlearn: 0.8834656\ttest: 0.8834656\ttest1: 0.8783810\tbest: 0.8783810 (400)\ttotal: 3.49s\tremaining: 1m 2s\n",
            "500:\tlearn: 0.8834656\ttest: 0.8834656\ttest1: 0.8783810\tbest: 0.8783810 (500)\ttotal: 4.34s\tremaining: 1m 1s\n",
            "600:\tlearn: 0.8834656\ttest: 0.8834656\ttest1: 0.8783810\tbest: 0.8783810 (599)\ttotal: 5.21s\tremaining: 1m\n",
            "700:\tlearn: 0.8834656\ttest: 0.8834656\ttest1: 0.8783810\tbest: 0.8783810 (694)\ttotal: 6.07s\tremaining: 59.6s\n"
          ],
          "name": "stdout"
        },
        {
          "output_type": "stream",
          "text": [
            "\u001b[32m[I 2021-05-24 14:43:58,511]\u001b[0m Trial 0 finished with value: 0.8783809642307818 and parameters: {'learning_rate': 0.03574712922600244, 'bagging_temperature': 63.512210106407046, 'n_estimators': 7588, 'max_depth': 11, 'random_strength': 15, 'colsample_bylevel': 0.49359671220172163, 'l2_leaf_reg': 1.7519275289243016e-06, 'min_child_samples': 88, 'max_bin': 380, 'od_type': 'IncToDec'}. Best is trial 0 with value: 0.8783809642307818.\u001b[0m\n"
          ],
          "name": "stderr"
        },
        {
          "output_type": "stream",
          "text": [
            "Stopped by overfitting detector  (35 iterations wait)\n",
            "\n",
            "bestTest = 0.8783809642\n",
            "bestIteration = 716\n",
            "\n",
            "Shrink model to first 717 iterations.\n",
            "0:\tlearn: 0.9889026\ttest: 0.9889026\ttest1: 0.9952012\tbest: 0.9952012 (0)\ttotal: 53.7ms\tremaining: 2m 36s\n",
            "100:\tlearn: 0.7050594\ttest: 0.7274368\ttest1: 0.8019875\tbest: 0.8017714 (99)\ttotal: 5.42s\tremaining: 2m 30s\n",
            "200:\tlearn: 0.6326761\ttest: 0.6719134\ttest1: 0.7916067\tbest: 0.7904890 (192)\ttotal: 10.6s\tremaining: 2m 22s\n"
          ],
          "name": "stdout"
        },
        {
          "output_type": "stream",
          "text": [
            "\u001b[32m[I 2021-05-24 14:44:10,897]\u001b[0m Trial 1 finished with value: 0.7904889807754315 and parameters: {'learning_rate': 0.2708160864249968, 'bagging_temperature': 21.368329072358772, 'n_estimators': 2911, 'max_depth': 6, 'random_strength': 18, 'colsample_bylevel': 0.5825453457757226, 'l2_leaf_reg': 1.5747445384650815e-05, 'min_child_samples': 46, 'max_bin': 287, 'od_type': 'IncToDec'}. Best is trial 1 with value: 0.7904889807754315.\u001b[0m\n"
          ],
          "name": "stderr"
        },
        {
          "output_type": "stream",
          "text": [
            "Stopped by overfitting detector  (35 iterations wait)\n",
            "\n",
            "bestTest = 0.7904889808\n",
            "bestIteration = 192\n",
            "\n",
            "Shrink model to first 193 iterations.\n",
            "0:\tlearn: 1.0866685\ttest: 1.0866603\ttest1: 1.0865949\tbest: 1.0865949 (0)\ttotal: 81.5ms\tremaining: 6m 56s\n",
            "100:\tlearn: 0.8068737\ttest: 0.7246018\ttest1: 0.7896162\tbest: 0.7896162 (100)\ttotal: 23.1s\tremaining: 19m 5s\n",
            "200:\tlearn: 0.7592541\ttest: 0.5953837\ttest1: 0.7297672\tbest: 0.7297672 (200)\ttotal: 47.2s\tremaining: 19m 11s\n",
            "300:\tlearn: 0.7379525\ttest: 0.5458290\ttest1: 0.7074282\tbest: 0.7074282 (300)\ttotal: 1m 10s\tremaining: 18m 50s\n",
            "400:\tlearn: 0.7158822\ttest: 0.5169784\ttest1: 0.6910359\tbest: 0.6910359 (400)\ttotal: 1m 47s\tremaining: 20m 56s\n",
            "500:\tlearn: 0.6256015\ttest: 0.4810030\ttest1: 0.6753580\tbest: 0.6753580 (500)\ttotal: 3m 9s\tremaining: 28m 59s\n",
            "Stopped by overfitting detector  (35 iterations wait)\n",
            "\n",
            "bestTest = 0.674562306\n",
            "bestIteration = 535\n",
            "\n",
            "Shrink model to first 536 iterations.\n"
          ],
          "name": "stdout"
        },
        {
          "output_type": "stream",
          "text": [
            "\u001b[32m[I 2021-05-24 14:48:59,383]\u001b[0m Trial 2 finished with value: 0.6745623060182001 and parameters: {'learning_rate': 0.027010527749605478, 'bagging_temperature': 0.2920433847181412, 'n_estimators': 5105, 'max_depth': 14, 'random_strength': 20, 'colsample_bylevel': 0.708540663048167, 'l2_leaf_reg': 1.7776512920172654e-05, 'min_child_samples': 9, 'max_bin': 382, 'od_type': 'IncToDec'}. Best is trial 2 with value: 0.6745623060182001.\u001b[0m\n"
          ],
          "name": "stderr"
        },
        {
          "output_type": "stream",
          "text": [
            "0:\tlearn: 1.0007201\ttest: 1.0007201\ttest1: 1.0002770\tbest: 1.0002770 (0)\ttotal: 11.9ms\tremaining: 1m 38s\n",
            "100:\tlearn: 0.8828703\ttest: 0.8828703\ttest1: 0.8807572\tbest: 0.8807572 (94)\ttotal: 950ms\tremaining: 1m 16s\n"
          ],
          "name": "stdout"
        },
        {
          "output_type": "stream",
          "text": [
            "\u001b[32m[I 2021-05-24 14:49:00,911]\u001b[0m Trial 3 finished with value: 0.8807571540222549 and parameters: {'learning_rate': 0.2521267904777921, 'bagging_temperature': 72.86653737491046, 'n_estimators': 8276, 'max_depth': 7, 'random_strength': 9, 'colsample_bylevel': 0.8105398159072941, 'l2_leaf_reg': 1.3210173287250643e-05, 'min_child_samples': 16, 'max_bin': 349, 'od_type': 'Iter'}. Best is trial 2 with value: 0.6745623060182001.\u001b[0m\n"
          ],
          "name": "stderr"
        },
        {
          "output_type": "stream",
          "text": [
            "Stopped by overfitting detector  (35 iterations wait)\n",
            "\n",
            "bestTest = 0.880757154\n",
            "bestIteration = 94\n",
            "\n",
            "Shrink model to first 95 iterations.\n",
            "0:\tlearn: 1.0876885\ttest: 1.0878834\ttest1: 1.0877775\tbest: 1.0877775 (0)\ttotal: 86.3ms\tremaining: 5m 28s\n",
            "100:\tlearn: 0.7842518\ttest: 0.7014191\ttest1: 0.7685548\tbest: 0.7685548 (100)\ttotal: 7.06s\tremaining: 4m 18s\n",
            "200:\tlearn: 0.7263824\ttest: 0.5863418\ttest1: 0.7131351\tbest: 0.7131351 (200)\ttotal: 16.6s\tremaining: 4m 58s\n",
            "300:\tlearn: 0.6983547\ttest: 0.5448539\ttest1: 0.6982697\tbest: 0.6982697 (300)\ttotal: 26.1s\tremaining: 5m 4s\n",
            "400:\tlearn: 0.6715674\ttest: 0.5200832\ttest1: 0.6889094\tbest: 0.6889094 (400)\ttotal: 36s\tremaining: 5m 5s\n",
            "500:\tlearn: 0.6093619\ttest: 0.4947276\ttest1: 0.6820525\tbest: 0.6820525 (500)\ttotal: 49.8s\tremaining: 5m 28s\n",
            "Stopped by overfitting detector  (35 iterations wait)\n",
            "\n",
            "bestTest = 0.6795082927\n",
            "bestIteration = 547\n",
            "\n",
            "Shrink model to first 548 iterations.\n"
          ],
          "name": "stdout"
        },
        {
          "output_type": "stream",
          "text": [
            "\u001b[32m[I 2021-05-24 14:50:03,022]\u001b[0m Trial 4 finished with value: 0.679508292731423 and parameters: {'learning_rate': 0.024112898115291985, 'bagging_temperature': 4.467752817973908, 'n_estimators': 3805, 'max_depth': 10, 'random_strength': 55, 'colsample_bylevel': 0.5109126733153162, 'l2_leaf_reg': 2.9087842986659113e-05, 'min_child_samples': 79, 'max_bin': 482, 'od_type': 'IncToDec'}. Best is trial 2 with value: 0.6745623060182001.\u001b[0m\n"
          ],
          "name": "stderr"
        },
        {
          "output_type": "stream",
          "text": [
            "0:\tlearn: 1.0090869\ttest: 1.0090869\ttest1: 1.0054055\tbest: 1.0054055 (0)\ttotal: 17.8ms\tremaining: 49.3s\n",
            "100:\tlearn: 0.7132523\ttest: 0.4744587\ttest1: 0.6772398\tbest: 0.6761036 (91)\ttotal: 2.74s\tremaining: 1m 12s\n"
          ],
          "name": "stdout"
        },
        {
          "output_type": "stream",
          "text": [
            "\u001b[32m[I 2021-05-24 14:50:07,021]\u001b[0m Trial 5 finished with value: 0.6761035617179211 and parameters: {'learning_rate': 0.22999586428143728, 'bagging_temperature': 0.022592797420156956, 'n_estimators': 2764, 'max_depth': 4, 'random_strength': 32, 'colsample_bylevel': 0.6332063738136893, 'l2_leaf_reg': 8.147757462899138e-06, 'min_child_samples': 84, 'max_bin': 307, 'od_type': 'Iter'}. Best is trial 2 with value: 0.6745623060182001.\u001b[0m\n"
          ],
          "name": "stderr"
        },
        {
          "output_type": "stream",
          "text": [
            "Stopped by overfitting detector  (35 iterations wait)\n",
            "\n",
            "bestTest = 0.6761035617\n",
            "bestIteration = 91\n",
            "\n",
            "Shrink model to first 92 iterations.\n",
            "0:\tlearn: 1.0865851\ttest: 1.0865851\ttest1: 1.0900474\tbest: 1.0900474 (0)\ttotal: 4.6s\tremaining: 2h 8m 1s\n",
            "100:\tlearn: 0.5257364\ttest: 0.5924967\ttest1: 0.7975159\tbest: 0.7975159 (100)\ttotal: 7m 39s\tremaining: 1h 58m 58s\n",
            "200:\tlearn: 0.3475562\ttest: 0.4507388\ttest1: 0.7732506\tbest: 0.7731843 (199)\ttotal: 15m 16s\tremaining: 1h 51m 41s\n",
            "Stopped by overfitting detector  (35 iterations wait)\n",
            "\n",
            "bestTest = 0.7731842796\n",
            "bestIteration = 199\n",
            "\n",
            "Shrink model to first 200 iterations.\n"
          ],
          "name": "stdout"
        },
        {
          "output_type": "stream",
          "text": [
            "\u001b[32m[I 2021-05-24 15:08:05,278]\u001b[0m Trial 6 finished with value: 0.7731842795598436 and parameters: {'learning_rate': 0.016149614799999188, 'bagging_temperature': 16.172900811143155, 'n_estimators': 1671, 'max_depth': 16, 'random_strength': 77, 'colsample_bylevel': 0.5192294089205034, 'l2_leaf_reg': 1.7560829253683595e-07, 'min_child_samples': 83, 'max_bin': 412, 'od_type': 'Iter'}. Best is trial 2 with value: 0.6745623060182001.\u001b[0m\n"
          ],
          "name": "stderr"
        },
        {
          "output_type": "stream",
          "text": [
            "0:\tlearn: 1.0929688\ttest: 1.0929688\ttest1: 1.0927706\tbest: 1.0927706 (0)\ttotal: 22.3ms\tremaining: 45.5s\n",
            "100:\tlearn: 0.8746003\ttest: 0.8304976\ttest1: 0.8575965\tbest: 0.8575965 (100)\ttotal: 34.7s\tremaining: 11m 6s\n",
            "200:\tlearn: 0.8390271\ttest: 0.7632972\ttest1: 0.8138329\tbest: 0.8138329 (200)\ttotal: 45.9s\tremaining: 7m\n",
            "300:\tlearn: 0.8147722\ttest: 0.6982232\ttest1: 0.7836891\tbest: 0.7836891 (300)\ttotal: 1m 8s\tremaining: 6m 34s\n",
            "400:\tlearn: 0.7951580\ttest: 0.6490291\ttest1: 0.7615788\tbest: 0.7615788 (400)\ttotal: 1m 32s\tremaining: 6m 19s\n",
            "500:\tlearn: 0.7813090\ttest: 0.6158054\ttest1: 0.7471676\tbest: 0.7471676 (500)\ttotal: 2m 7s\tremaining: 6m 32s\n",
            "600:\tlearn: 0.7692304\ttest: 0.5872096\ttest1: 0.7348261\tbest: 0.7348261 (600)\ttotal: 2m 42s\tremaining: 6m 28s\n",
            "700:\tlearn: 0.7587647\ttest: 0.5652123\ttest1: 0.7256019\tbest: 0.7256019 (700)\ttotal: 3m 36s\tremaining: 6m 54s\n",
            "800:\tlearn: 0.7479116\ttest: 0.5486457\ttest1: 0.7175572\tbest: 0.7175572 (800)\ttotal: 4m 11s\tremaining: 6m 30s\n",
            "900:\tlearn: 0.7326691\ttest: 0.5305286\ttest1: 0.7042016\tbest: 0.7042016 (900)\ttotal: 4m 51s\tremaining: 6m 8s\n",
            "1000:\tlearn: 0.7104633\ttest: 0.5114460\ttest1: 0.6874532\tbest: 0.6874532 (1000)\ttotal: 5m 45s\tremaining: 5m 58s\n",
            "1100:\tlearn: 0.6471701\ttest: 0.4882779\ttest1: 0.6773652\tbest: 0.6773652 (1100)\ttotal: 8m 19s\tremaining: 7m 6s\n",
            "1200:\tlearn: 0.5137398\ttest: 0.4582006\ttest1: 0.6734519\tbest: 0.6734519 (1200)\ttotal: 12m 45s\tremaining: 8m 56s\n",
            "Stopped by overfitting detector  (35 iterations wait)\n",
            "\n",
            "bestTest = 0.6734519116\n",
            "bestIteration = 1200\n",
            "\n",
            "Shrink model to first 1201 iterations.\n"
          ],
          "name": "stdout"
        },
        {
          "output_type": "stream",
          "text": [
            "\u001b[32m[I 2021-05-24 15:22:36,762]\u001b[0m Trial 7 finished with value: 0.6734519116166297 and parameters: {'learning_rate': 0.012863908101989912, 'bagging_temperature': 0.27155819552829413, 'n_estimators': 2042, 'max_depth': 15, 'random_strength': 62, 'colsample_bylevel': 0.5985388149115896, 'l2_leaf_reg': 1.9161149250778487e-06, 'min_child_samples': 34, 'max_bin': 297, 'od_type': 'IncToDec'}. Best is trial 7 with value: 0.6734519116166297.\u001b[0m\n"
          ],
          "name": "stderr"
        },
        {
          "output_type": "stream",
          "text": [
            "0:\tlearn: 1.0143249\ttest: 1.0146316\ttest1: 1.0199518\tbest: 1.0199518 (0)\ttotal: 136ms\tremaining: 4m 43s\n",
            "100:\tlearn: 0.2898520\ttest: 0.4174748\ttest1: 0.7547531\tbest: 0.7040270 (69)\ttotal: 41.7s\tremaining: 13m 35s\n"
          ],
          "name": "stdout"
        },
        {
          "output_type": "stream",
          "text": [
            "\u001b[32m[I 2021-05-24 15:23:22,776]\u001b[0m Trial 8 finished with value: 0.7040270022756067 and parameters: {'learning_rate': 0.20441878352493792, 'bagging_temperature': 0.7742116473996251, 'n_estimators': 2076, 'max_depth': 13, 'random_strength': 76, 'colsample_bylevel': 0.7367663185416977, 'l2_leaf_reg': 2.3131305726837285e-05, 'min_child_samples': 52, 'max_bin': 357, 'od_type': 'IncToDec'}. Best is trial 7 with value: 0.6734519116166297.\u001b[0m\n"
          ],
          "name": "stderr"
        },
        {
          "output_type": "stream",
          "text": [
            "Stopped by overfitting detector  (35 iterations wait)\n",
            "\n",
            "bestTest = 0.7040270023\n",
            "bestIteration = 69\n",
            "\n",
            "Shrink model to first 70 iterations.\n",
            "0:\tlearn: 1.0921642\ttest: 1.0921642\ttest1: 1.0922089\tbest: 1.0922089 (0)\ttotal: 27.1ms\tremaining: 3m 2s\n",
            "100:\tlearn: 0.8806005\ttest: 0.8661440\ttest1: 0.8788880\tbest: 0.8788880 (100)\ttotal: 5.99s\tremaining: 6m 33s\n",
            "200:\tlearn: 0.8384206\ttest: 0.7724476\ttest1: 0.8221751\tbest: 0.8221751 (200)\ttotal: 11.8s\tremaining: 6m 22s\n",
            "300:\tlearn: 0.8099366\ttest: 0.6909136\ttest1: 0.7799484\tbest: 0.7799484 (300)\ttotal: 18.1s\tremaining: 6m 26s\n",
            "400:\tlearn: 0.7933389\ttest: 0.6472357\ttest1: 0.7576572\tbest: 0.7576572 (400)\ttotal: 24.5s\tremaining: 6m 26s\n",
            "500:\tlearn: 0.7810835\ttest: 0.6185457\ttest1: 0.7420341\tbest: 0.7420341 (500)\ttotal: 30.6s\tremaining: 6m 20s\n",
            "600:\tlearn: 0.7728277\ttest: 0.5936483\ttest1: 0.7309859\tbest: 0.7309859 (600)\ttotal: 37.1s\tremaining: 6m 18s\n",
            "700:\tlearn: 0.7642718\ttest: 0.5710574\ttest1: 0.7205896\tbest: 0.7205896 (700)\ttotal: 44.1s\tremaining: 6m 19s\n",
            "800:\tlearn: 0.7427624\ttest: 0.5430477\ttest1: 0.6984060\tbest: 0.6984060 (800)\ttotal: 51.6s\tremaining: 6m 21s\n",
            "900:\tlearn: 0.7235445\ttest: 0.5146610\ttest1: 0.6788601\tbest: 0.6788601 (900)\ttotal: 1m 1s\tremaining: 6m 35s\n",
            "1000:\tlearn: 0.7096953\ttest: 0.4915804\ttest1: 0.6695997\tbest: 0.6695997 (1000)\ttotal: 1m 12s\tremaining: 6m 54s\n",
            "1100:\tlearn: 0.6965070\ttest: 0.4817766\ttest1: 0.6666148\tbest: 0.6666148 (1100)\ttotal: 1m 26s\tremaining: 7m 21s\n",
            "1200:\tlearn: 0.6847540\ttest: 0.4764459\ttest1: 0.6657404\tbest: 0.6657404 (1200)\ttotal: 1m 40s\tremaining: 7m 42s\n",
            "1300:\tlearn: 0.6740764\ttest: 0.4730890\ttest1: 0.6653178\tbest: 0.6653023 (1298)\ttotal: 1m 55s\tremaining: 8m\n",
            "1400:\tlearn: 0.6629447\ttest: 0.4702595\ttest1: 0.6649327\tbest: 0.6648962 (1395)\ttotal: 2m 10s\tremaining: 8m 14s\n",
            "Stopped by overfitting detector  (35 iterations wait)\n",
            "\n",
            "bestTest = 0.6647759577\n",
            "bestIteration = 1439\n",
            "\n",
            "Shrink model to first 1440 iterations.\n"
          ],
          "name": "stdout"
        },
        {
          "output_type": "stream",
          "text": [
            "\u001b[32m[I 2021-05-24 15:25:45,095]\u001b[0m Trial 9 finished with value: 0.6647759577222054 and parameters: {'learning_rate': 0.01443340240633889, 'bagging_temperature': 0.0133572404119741, 'n_estimators': 6728, 'max_depth': 8, 'random_strength': 51, 'colsample_bylevel': 0.9445398843556558, 'l2_leaf_reg': 7.486273952174759e-06, 'min_child_samples': 44, 'max_bin': 427, 'od_type': 'IncToDec'}. Best is trial 9 with value: 0.6647759577222054.\u001b[0m\n"
          ],
          "name": "stderr"
        },
        {
          "output_type": "stream",
          "text": [
            "Best Score: 0.6647759577222054\n",
            "Best trial {'learning_rate': 0.01443340240633889, 'bagging_temperature': 0.0133572404119741, 'n_estimators': 6728, 'max_depth': 8, 'random_strength': 51, 'colsample_bylevel': 0.9445398843556558, 'l2_leaf_reg': 7.486273952174759e-06, 'min_child_samples': 44, 'max_bin': 427, 'od_type': 'IncToDec'}\n"
          ],
          "name": "stdout"
        }
      ]
    },
    {
      "cell_type": "code",
      "metadata": {
        "id": "XiirClPbRJSV"
      },
      "source": [
        "skf = StratifiedKFold(n_splits=5, shuffle=True, random_state=42)\n",
        "folds = []\n",
        "for train_idx, valid_idx in skf.split(train, train['credit']):\n",
        "  folds.append((train_idx,valid_idx))"
      ],
      "execution_count": 37,
      "outputs": []
    },
    {
      "cell_type": "code",
      "metadata": {
        "colab": {
          "base_uri": "https://localhost:8080/"
        },
        "id": "35QkbKwnRU0W",
        "outputId": "05481c5a-0399-4fa0-800b-567f992c5080"
      },
      "source": [
        "random.seed(42)\n",
        "cat_models={}\n",
        "\n",
        "cat_features =[0,1,2,5,6,7,8,15,18]\n",
        "\n",
        "for fold in range(5):\n",
        "  print(f'===================================={fold+1}============================================')\n",
        "  train_idx, valid_idx = folds[fold]\n",
        "  X_train = train.drop(['credit'],axis=1).iloc[train_idx].values \n",
        "  X_valid = train.drop(['credit'],axis=1).iloc[valid_idx].values\n",
        "  y_train = train['credit'][train_idx].values\n",
        "  y_valid = train['credit'][valid_idx].values\n",
        "\n",
        "  cat = CatBoostClassifier(**study.best_params)\n",
        "  cat.fit(X_train, y_train,\n",
        "          eval_set=[(X_train, y_train), (X_valid,y_valid)],\n",
        "          early_stopping_rounds=35,cat_features=cat_features,\n",
        "          verbose=100)\n",
        "  cat_models[fold] = cat\n",
        "  print(f'================================================================================\\n\\n')"
      ],
      "execution_count": 38,
      "outputs": [
        {
          "output_type": "stream",
          "text": [
            "====================================1============================================\n",
            "0:\tlearn: 1.0922050\ttest: 1.0922092\ttest1: 1.0922165\tbest: 1.0922165 (0)\ttotal: 63.3ms\tremaining: 7m 5s\n",
            "100:\tlearn: 0.8704745\ttest: 0.8410897\ttest1: 0.8632174\tbest: 0.8632174 (100)\ttotal: 5.07s\tremaining: 5m 32s\n",
            "200:\tlearn: 0.8299229\ttest: 0.7503941\ttest1: 0.8106206\tbest: 0.8106206 (200)\ttotal: 10.9s\tremaining: 5m 53s\n",
            "300:\tlearn: 0.8078394\ttest: 0.6920266\ttest1: 0.7805516\tbest: 0.7805516 (300)\ttotal: 16.9s\tremaining: 6m\n",
            "400:\tlearn: 0.7881264\ttest: 0.6428746\ttest1: 0.7540892\tbest: 0.7540892 (400)\ttotal: 22.7s\tremaining: 5m 57s\n",
            "600:\tlearn: 0.7711681\ttest: 0.5908763\ttest1: 0.7317359\tbest: 0.7317328 (599)\ttotal: 35.3s\tremaining: 5m 59s\n",
            "700:\tlearn: 0.7629316\ttest: 0.5752048\ttest1: 0.7224648\tbest: 0.7224648 (700)\ttotal: 41.6s\tremaining: 5m 57s\n",
            "800:\tlearn: 0.7472073\ttest: 0.5503654\ttest1: 0.7048734\tbest: 0.7048734 (800)\ttotal: 48.5s\tremaining: 5m 59s\n",
            "900:\tlearn: 0.7283426\ttest: 0.5221340\ttest1: 0.6832629\tbest: 0.6832629 (900)\ttotal: 56.4s\tremaining: 6m 4s\n",
            "1000:\tlearn: 0.7134625\ttest: 0.4981122\ttest1: 0.6711258\tbest: 0.6711258 (1000)\ttotal: 1m 7s\tremaining: 6m 24s\n",
            "1100:\tlearn: 0.7002753\ttest: 0.4865287\ttest1: 0.6672750\tbest: 0.6672538 (1096)\ttotal: 1m 21s\tremaining: 6m 54s\n",
            "1200:\tlearn: 0.6891237\ttest: 0.4816010\ttest1: 0.6663314\tbest: 0.6663151 (1166)\ttotal: 1m 35s\tremaining: 7m 20s\n",
            "Stopped by overfitting detector  (35 iterations wait)\n",
            "\n",
            "bestTest = 0.6663150524\n",
            "bestIteration = 1166\n",
            "\n",
            "Shrink model to first 1167 iterations.\n",
            "================================================================================\n",
            "\n",
            "\n",
            "====================================2============================================\n",
            "0:\tlearn: 1.0922036\ttest: 1.0922077\ttest1: 1.0922133\tbest: 1.0922133 (0)\ttotal: 67.6ms\tremaining: 7m 34s\n",
            "100:\tlearn: 0.8736858\ttest: 0.8372443\ttest1: 0.8641040\tbest: 0.8641040 (100)\ttotal: 5.5s\tremaining: 6m\n",
            "200:\tlearn: 0.8274212\ttest: 0.7384059\ttest1: 0.8075609\tbest: 0.8075609 (200)\ttotal: 11.9s\tremaining: 6m 27s\n",
            "300:\tlearn: 0.8022777\ttest: 0.6725762\ttest1: 0.7745816\tbest: 0.7745816 (300)\ttotal: 17.9s\tremaining: 6m 22s\n",
            "400:\tlearn: 0.7907445\ttest: 0.6403857\ttest1: 0.7596123\tbest: 0.7596123 (400)\ttotal: 23.4s\tremaining: 6m 8s\n",
            "500:\tlearn: 0.7775463\ttest: 0.6065515\ttest1: 0.7439171\tbest: 0.7439171 (500)\ttotal: 29.9s\tremaining: 6m 11s\n",
            "600:\tlearn: 0.7685559\ttest: 0.5829417\ttest1: 0.7336463\tbest: 0.7336463 (600)\ttotal: 36.8s\tremaining: 6m 14s\n",
            "700:\tlearn: 0.7616455\ttest: 0.5672530\ttest1: 0.7263934\tbest: 0.7263934 (700)\ttotal: 42.5s\tremaining: 6m 5s\n",
            "800:\tlearn: 0.7405631\ttest: 0.5409342\ttest1: 0.7068435\tbest: 0.7068435 (800)\ttotal: 49.3s\tremaining: 6m 5s\n",
            "900:\tlearn: 0.7233285\ttest: 0.5156059\ttest1: 0.6915327\tbest: 0.6915327 (900)\ttotal: 57.8s\tremaining: 6m 13s\n",
            "1000:\tlearn: 0.7091452\ttest: 0.4933379\ttest1: 0.6840425\tbest: 0.6840425 (1000)\ttotal: 1m 8s\tremaining: 6m 34s\n",
            "1100:\tlearn: 0.6953286\ttest: 0.4825203\ttest1: 0.6813559\tbest: 0.6813534 (1099)\ttotal: 1m 22s\tremaining: 7m 1s\n",
            "1200:\tlearn: 0.6821795\ttest: 0.4760101\ttest1: 0.6806868\tbest: 0.6806868 (1200)\ttotal: 1m 36s\tremaining: 7m 23s\n",
            "1300:\tlearn: 0.6699458\ttest: 0.4715136\ttest1: 0.6801726\tbest: 0.6801726 (1300)\ttotal: 1m 50s\tremaining: 7m 40s\n",
            "Stopped by overfitting detector  (35 iterations wait)\n",
            "\n",
            "bestTest = 0.6799253831\n",
            "bestIteration = 1344\n",
            "\n",
            "Shrink model to first 1345 iterations.\n",
            "================================================================================\n",
            "\n",
            "\n",
            "====================================3============================================\n",
            "0:\tlearn: 1.0922087\ttest: 1.0922022\ttest1: 1.0922003\tbest: 1.0922003 (0)\ttotal: 43ms\tremaining: 4m 49s\n",
            "100:\tlearn: 0.8778062\ttest: 0.8537320\ttest1: 0.8724973\tbest: 0.8724973 (100)\ttotal: 5.27s\tremaining: 5m 45s\n",
            "200:\tlearn: 0.8330910\ttest: 0.7531749\ttest1: 0.8171176\tbest: 0.8171176 (200)\ttotal: 12.1s\tremaining: 6m 34s\n",
            "300:\tlearn: 0.8062876\ttest: 0.6745711\ttest1: 0.7817557\tbest: 0.7817557 (300)\ttotal: 20s\tremaining: 7m 7s\n",
            "400:\tlearn: 0.7899451\ttest: 0.6292155\ttest1: 0.7619817\tbest: 0.7619817 (400)\ttotal: 26.9s\tremaining: 7m 4s\n",
            "500:\tlearn: 0.7774775\ttest: 0.5941254\ttest1: 0.7472703\tbest: 0.7472667 (497)\ttotal: 33.7s\tremaining: 6m 58s\n",
            "600:\tlearn: 0.7703279\ttest: 0.5776218\ttest1: 0.7400890\tbest: 0.7400890 (600)\ttotal: 39.7s\tremaining: 6m 45s\n",
            "700:\tlearn: 0.7569701\ttest: 0.5574595\ttest1: 0.7269979\tbest: 0.7269979 (700)\ttotal: 46s\tremaining: 6m 35s\n",
            "800:\tlearn: 0.7384918\ttest: 0.5333129\ttest1: 0.7088811\tbest: 0.7088811 (800)\ttotal: 53.1s\tremaining: 6m 33s\n",
            "900:\tlearn: 0.7217816\ttest: 0.5116387\ttest1: 0.6930386\tbest: 0.6930386 (900)\ttotal: 1m 1s\tremaining: 6m 39s\n",
            "1000:\tlearn: 0.7080346\ttest: 0.4878648\ttest1: 0.6835983\tbest: 0.6835983 (1000)\ttotal: 1m 12s\tremaining: 6m 53s\n",
            "1100:\tlearn: 0.6937904\ttest: 0.4782437\ttest1: 0.6809136\tbest: 0.6809136 (1100)\ttotal: 1m 25s\tremaining: 7m 16s\n",
            "1200:\tlearn: 0.6787077\ttest: 0.4707487\ttest1: 0.6796118\tbest: 0.6796118 (1200)\ttotal: 1m 39s\tremaining: 7m 36s\n",
            "1300:\tlearn: 0.6655819\ttest: 0.4656968\ttest1: 0.6788832\tbest: 0.6788832 (1300)\ttotal: 1m 52s\tremaining: 7m 50s\n",
            "1400:\tlearn: 0.6547525\ttest: 0.4618924\ttest1: 0.6786620\tbest: 0.6785869 (1366)\ttotal: 2m 6s\tremaining: 8m\n",
            "Stopped by overfitting detector  (35 iterations wait)\n",
            "\n",
            "bestTest = 0.6785869287\n",
            "bestIteration = 1366\n",
            "\n",
            "Shrink model to first 1367 iterations.\n",
            "================================================================================\n",
            "\n",
            "\n",
            "====================================4============================================\n",
            "0:\tlearn: 1.0922053\ttest: 1.0921929\ttest1: 1.0921892\tbest: 1.0921892 (0)\ttotal: 41.4ms\tremaining: 4m 38s\n",
            "100:\tlearn: 0.8825563\ttest: 0.8687134\ttest1: 0.8802474\tbest: 0.8802474 (100)\ttotal: 6.03s\tremaining: 6m 35s\n",
            "200:\tlearn: 0.8329656\ttest: 0.7581262\ttest1: 0.8152607\tbest: 0.8152607 (200)\ttotal: 11.6s\tremaining: 6m 16s\n",
            "300:\tlearn: 0.8087198\ttest: 0.6914919\ttest1: 0.7819895\tbest: 0.7819895 (300)\ttotal: 18.3s\tremaining: 6m 31s\n",
            "400:\tlearn: 0.7919037\ttest: 0.6411165\ttest1: 0.7587795\tbest: 0.7587795 (400)\ttotal: 24.7s\tremaining: 6m 29s\n",
            "500:\tlearn: 0.7818873\ttest: 0.6133197\ttest1: 0.7458344\tbest: 0.7458344 (500)\ttotal: 30.9s\tremaining: 6m 23s\n",
            "600:\tlearn: 0.7734955\ttest: 0.5907231\ttest1: 0.7357078\tbest: 0.7357078 (600)\ttotal: 36.2s\tremaining: 6m 8s\n",
            "700:\tlearn: 0.7629330\ttest: 0.5706417\ttest1: 0.7248419\tbest: 0.7248419 (700)\ttotal: 43s\tremaining: 6m 9s\n",
            "800:\tlearn: 0.7418984\ttest: 0.5398586\ttest1: 0.7036026\tbest: 0.7036026 (800)\ttotal: 50.6s\tremaining: 6m 14s\n",
            "900:\tlearn: 0.7240188\ttest: 0.5141817\ttest1: 0.6858209\tbest: 0.6858209 (900)\ttotal: 1m\tremaining: 6m 29s\n",
            "1000:\tlearn: 0.7102465\ttest: 0.4930640\ttest1: 0.6757643\tbest: 0.6757643 (1000)\ttotal: 1m 10s\tremaining: 6m 44s\n",
            "1100:\tlearn: 0.6954413\ttest: 0.4805448\ttest1: 0.6721739\tbest: 0.6721739 (1100)\ttotal: 1m 23s\tremaining: 7m 7s\n",
            "1200:\tlearn: 0.6832128\ttest: 0.4735875\ttest1: 0.6712886\tbest: 0.6712522 (1193)\ttotal: 1m 37s\tremaining: 7m 27s\n",
            "Stopped by overfitting detector  (35 iterations wait)\n",
            "\n",
            "bestTest = 0.6710228968\n",
            "bestIteration = 1233\n",
            "\n",
            "Shrink model to first 1234 iterations.\n",
            "================================================================================\n",
            "\n",
            "\n",
            "====================================5============================================\n",
            "0:\tlearn: 1.0922076\ttest: 1.0922025\ttest1: 1.0922019\tbest: 1.0922019 (0)\ttotal: 41.5ms\tremaining: 4m 38s\n",
            "100:\tlearn: 0.8843739\ttest: 0.8721893\ttest1: 0.8817249\tbest: 0.8817249 (100)\ttotal: 4.74s\tremaining: 5m 10s\n",
            "200:\tlearn: 0.8343310\ttest: 0.7567539\ttest1: 0.8184929\tbest: 0.8184929 (200)\ttotal: 11s\tremaining: 5m 57s\n",
            "300:\tlearn: 0.8080257\ttest: 0.6855756\ttest1: 0.7838739\tbest: 0.7838739 (300)\ttotal: 16.9s\tremaining: 6m\n",
            "400:\tlearn: 0.7910956\ttest: 0.6433505\ttest1: 0.7632446\tbest: 0.7632419 (398)\ttotal: 22.5s\tremaining: 5m 54s\n",
            "500:\tlearn: 0.7790281\ttest: 0.6083185\ttest1: 0.7479449\tbest: 0.7479436 (498)\ttotal: 28.4s\tremaining: 5m 53s\n",
            "600:\tlearn: 0.7699133\ttest: 0.5837988\ttest1: 0.7376645\tbest: 0.7376645 (600)\ttotal: 34.8s\tremaining: 5m 55s\n",
            "700:\tlearn: 0.7609474\ttest: 0.5645341\ttest1: 0.7281827\tbest: 0.7281826 (699)\ttotal: 40.2s\tremaining: 5m 45s\n",
            "800:\tlearn: 0.7416705\ttest: 0.5394606\ttest1: 0.7087430\tbest: 0.7087430 (800)\ttotal: 47.2s\tremaining: 5m 49s\n",
            "900:\tlearn: 0.7228988\ttest: 0.5134167\ttest1: 0.6903151\tbest: 0.6903151 (900)\ttotal: 56s\tremaining: 6m 1s\n",
            "1000:\tlearn: 0.7090655\ttest: 0.4901283\ttest1: 0.6810752\tbest: 0.6810752 (1000)\ttotal: 1m 6s\tremaining: 6m 18s\n",
            "1100:\tlearn: 0.6955638\ttest: 0.4765714\ttest1: 0.6775681\tbest: 0.6775681 (1100)\ttotal: 1m 18s\tremaining: 6m 42s\n",
            "1200:\tlearn: 0.6836295\ttest: 0.4714056\ttest1: 0.6769366\tbest: 0.6769299 (1196)\ttotal: 1m 31s\tremaining: 7m 3s\n",
            "1300:\tlearn: 0.6732166\ttest: 0.4679618\ttest1: 0.6766040\tbest: 0.6765844 (1298)\ttotal: 1m 44s\tremaining: 7m 17s\n",
            "Stopped by overfitting detector  (35 iterations wait)\n",
            "\n",
            "bestTest = 0.6765843758\n",
            "bestIteration = 1298\n",
            "\n",
            "Shrink model to first 1299 iterations.\n",
            "================================================================================\n",
            "\n",
            "\n"
          ],
          "name": "stdout"
        }
      ]
    },
    {
      "cell_type": "markdown",
      "metadata": {
        "id": "suc5P-tKQ5hD"
      },
      "source": [
        "#Test inference\n",
        "  * 각 fold를 훈련시킨 catboost model로 predict\n",
        "  * 해당 대회는 logloss score를 겨루는 것이기 때문에 각  class의 probability를 얻어야함\n",
        "  * 대부분의 머신러닝 모델에서 predict, predict_proba를 구분하여 사용함\n",
        "  * predict는 class 출력을 해주고 predict_probal는 class별 probability를 출력해줌\n",
        "  * predict_proba를 사용하여 예측한 것을 5-fold 더하여 평균내어 앙상블함"
      ]
    },
    {
      "cell_type": "code",
      "metadata": {
        "id": "vy0QI5WoSuy_"
      },
      "source": [
        "submit.iloc[:,1:]=0\n",
        "for fold in range(5):\n",
        "  submit.iloc[:,1:] += cat_models[fold].predict_proba(test)/5"
      ],
      "execution_count": 39,
      "outputs": []
    },
    {
      "cell_type": "code",
      "metadata": {
        "id": "B3QpKGOeS73r"
      },
      "source": [
        "import datetime\n",
        "now = datetime.datetime.now()\n",
        "created_time = now.strftime('%m%d-%H%M')\n",
        "\n",
        "submit.to_csv(f'/content/drive/MyDrive/Dacon/credit/catboost/{created_time}_submit.csv',index=False)"
      ],
      "execution_count": 40,
      "outputs": []
    },
    {
      "cell_type": "code",
      "metadata": {
        "id": "lXWLYfphTRBG",
        "colab": {
          "base_uri": "https://localhost:8080/",
          "height": 669
        },
        "outputId": "1e221438-19a5-4149-c450-8dbb95c889e9"
      },
      "source": [
        "submit.head(20)"
      ],
      "execution_count": 41,
      "outputs": [
        {
          "output_type": "execute_result",
          "data": {
            "text/html": [
              "<div>\n",
              "<style scoped>\n",
              "    .dataframe tbody tr th:only-of-type {\n",
              "        vertical-align: middle;\n",
              "    }\n",
              "\n",
              "    .dataframe tbody tr th {\n",
              "        vertical-align: top;\n",
              "    }\n",
              "\n",
              "    .dataframe thead th {\n",
              "        text-align: right;\n",
              "    }\n",
              "</style>\n",
              "<table border=\"1\" class=\"dataframe\">\n",
              "  <thead>\n",
              "    <tr style=\"text-align: right;\">\n",
              "      <th></th>\n",
              "      <th>index</th>\n",
              "      <th>0</th>\n",
              "      <th>1</th>\n",
              "      <th>2</th>\n",
              "    </tr>\n",
              "  </thead>\n",
              "  <tbody>\n",
              "    <tr>\n",
              "      <th>0</th>\n",
              "      <td>26457</td>\n",
              "      <td>0.110182</td>\n",
              "      <td>0.147532</td>\n",
              "      <td>0.742286</td>\n",
              "    </tr>\n",
              "    <tr>\n",
              "      <th>1</th>\n",
              "      <td>26458</td>\n",
              "      <td>0.271473</td>\n",
              "      <td>0.263679</td>\n",
              "      <td>0.464848</td>\n",
              "    </tr>\n",
              "    <tr>\n",
              "      <th>2</th>\n",
              "      <td>26459</td>\n",
              "      <td>0.041421</td>\n",
              "      <td>0.083950</td>\n",
              "      <td>0.874629</td>\n",
              "    </tr>\n",
              "    <tr>\n",
              "      <th>3</th>\n",
              "      <td>26460</td>\n",
              "      <td>0.054469</td>\n",
              "      <td>0.091871</td>\n",
              "      <td>0.853660</td>\n",
              "    </tr>\n",
              "    <tr>\n",
              "      <th>4</th>\n",
              "      <td>26461</td>\n",
              "      <td>0.083830</td>\n",
              "      <td>0.214380</td>\n",
              "      <td>0.701790</td>\n",
              "    </tr>\n",
              "    <tr>\n",
              "      <th>5</th>\n",
              "      <td>26462</td>\n",
              "      <td>0.052267</td>\n",
              "      <td>0.149928</td>\n",
              "      <td>0.797805</td>\n",
              "    </tr>\n",
              "    <tr>\n",
              "      <th>6</th>\n",
              "      <td>26463</td>\n",
              "      <td>0.577076</td>\n",
              "      <td>0.408219</td>\n",
              "      <td>0.014705</td>\n",
              "    </tr>\n",
              "    <tr>\n",
              "      <th>7</th>\n",
              "      <td>26464</td>\n",
              "      <td>0.053523</td>\n",
              "      <td>0.100201</td>\n",
              "      <td>0.846277</td>\n",
              "    </tr>\n",
              "    <tr>\n",
              "      <th>8</th>\n",
              "      <td>26465</td>\n",
              "      <td>0.068321</td>\n",
              "      <td>0.107802</td>\n",
              "      <td>0.823877</td>\n",
              "    </tr>\n",
              "    <tr>\n",
              "      <th>9</th>\n",
              "      <td>26466</td>\n",
              "      <td>0.065994</td>\n",
              "      <td>0.297959</td>\n",
              "      <td>0.636047</td>\n",
              "    </tr>\n",
              "    <tr>\n",
              "      <th>10</th>\n",
              "      <td>26467</td>\n",
              "      <td>0.114994</td>\n",
              "      <td>0.098902</td>\n",
              "      <td>0.786104</td>\n",
              "    </tr>\n",
              "    <tr>\n",
              "      <th>11</th>\n",
              "      <td>26468</td>\n",
              "      <td>0.039376</td>\n",
              "      <td>0.087965</td>\n",
              "      <td>0.872660</td>\n",
              "    </tr>\n",
              "    <tr>\n",
              "      <th>12</th>\n",
              "      <td>26469</td>\n",
              "      <td>0.503489</td>\n",
              "      <td>0.111323</td>\n",
              "      <td>0.385188</td>\n",
              "    </tr>\n",
              "    <tr>\n",
              "      <th>13</th>\n",
              "      <td>26470</td>\n",
              "      <td>0.080417</td>\n",
              "      <td>0.347928</td>\n",
              "      <td>0.571655</td>\n",
              "    </tr>\n",
              "    <tr>\n",
              "      <th>14</th>\n",
              "      <td>26471</td>\n",
              "      <td>0.100601</td>\n",
              "      <td>0.136256</td>\n",
              "      <td>0.763143</td>\n",
              "    </tr>\n",
              "    <tr>\n",
              "      <th>15</th>\n",
              "      <td>26472</td>\n",
              "      <td>0.065339</td>\n",
              "      <td>0.313456</td>\n",
              "      <td>0.621204</td>\n",
              "    </tr>\n",
              "    <tr>\n",
              "      <th>16</th>\n",
              "      <td>26473</td>\n",
              "      <td>0.039060</td>\n",
              "      <td>0.074363</td>\n",
              "      <td>0.886577</td>\n",
              "    </tr>\n",
              "    <tr>\n",
              "      <th>17</th>\n",
              "      <td>26474</td>\n",
              "      <td>0.324493</td>\n",
              "      <td>0.654572</td>\n",
              "      <td>0.020935</td>\n",
              "    </tr>\n",
              "    <tr>\n",
              "      <th>18</th>\n",
              "      <td>26475</td>\n",
              "      <td>0.292339</td>\n",
              "      <td>0.213391</td>\n",
              "      <td>0.494270</td>\n",
              "    </tr>\n",
              "    <tr>\n",
              "      <th>19</th>\n",
              "      <td>26476</td>\n",
              "      <td>0.049698</td>\n",
              "      <td>0.094817</td>\n",
              "      <td>0.855486</td>\n",
              "    </tr>\n",
              "  </tbody>\n",
              "</table>\n",
              "</div>"
            ],
            "text/plain": [
              "    index         0         1         2\n",
              "0   26457  0.110182  0.147532  0.742286\n",
              "1   26458  0.271473  0.263679  0.464848\n",
              "2   26459  0.041421  0.083950  0.874629\n",
              "3   26460  0.054469  0.091871  0.853660\n",
              "4   26461  0.083830  0.214380  0.701790\n",
              "5   26462  0.052267  0.149928  0.797805\n",
              "6   26463  0.577076  0.408219  0.014705\n",
              "7   26464  0.053523  0.100201  0.846277\n",
              "8   26465  0.068321  0.107802  0.823877\n",
              "9   26466  0.065994  0.297959  0.636047\n",
              "10  26467  0.114994  0.098902  0.786104\n",
              "11  26468  0.039376  0.087965  0.872660\n",
              "12  26469  0.503489  0.111323  0.385188\n",
              "13  26470  0.080417  0.347928  0.571655\n",
              "14  26471  0.100601  0.136256  0.763143\n",
              "15  26472  0.065339  0.313456  0.621204\n",
              "16  26473  0.039060  0.074363  0.886577\n",
              "17  26474  0.324493  0.654572  0.020935\n",
              "18  26475  0.292339  0.213391  0.494270\n",
              "19  26476  0.049698  0.094817  0.855486"
            ]
          },
          "metadata": {
            "tags": []
          },
          "execution_count": 41
        }
      ]
    }
  ]
}