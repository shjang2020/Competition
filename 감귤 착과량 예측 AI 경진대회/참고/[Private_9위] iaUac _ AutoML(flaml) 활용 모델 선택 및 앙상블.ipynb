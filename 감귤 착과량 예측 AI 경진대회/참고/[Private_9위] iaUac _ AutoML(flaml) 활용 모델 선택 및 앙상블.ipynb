{
 "cells": [
  {
   "attachments": {},
   "cell_type": "markdown",
   "metadata": {},
   "source": [
    "## Import"
   ]
  },
  {
   "cell_type": "code",
   "execution_count": null,
   "metadata": {},
   "outputs": [],
   "source": [
    "import pandas as pd\n",
    "import numpy as np"
   ]
  },
  {
   "attachments": {},
   "cell_type": "markdown",
   "metadata": {},
   "source": [
    "## 데이터 불러오기"
   ]
  },
  {
   "cell_type": "code",
   "execution_count": null,
   "metadata": {},
   "outputs": [],
   "source": [
    "train = pd.read_csv('./data/train.csv')\n",
    "test = pd.read_csv('./data/test.csv')"
   ]
  },
  {
   "attachments": {},
   "cell_type": "markdown",
   "metadata": {},
   "source": [
    "## 입력 Feature와 Target(착과량) 분할"
   ]
  },
  {
   "cell_type": "code",
   "execution_count": null,
   "metadata": {},
   "outputs": [],
   "source": [
    "y_train = train['착과량(int)']\n",
    "X_train = train.drop(['ID', '착과량(int)'],axis=1)\n",
    "\n",
    "X_test = test.drop('ID', axis = 1)"
   ]
  },
  {
   "cell_type": "markdown",
   "metadata": {},
   "source": [
    "## AutoML(flaml)을 활용한 Model Selection"
   ]
  },
  {
   "cell_type": "code",
   "execution_count": null,
   "metadata": {},
   "outputs": [],
   "source": [
    "from flaml import AutoML\n",
    "\n",
    "MODEL_TIME_BUDGET = 60*5\n",
    "MODEL_METRIC = 'mae'\n",
    "MODEL_TASK = \"regression\"\n",
    "\n",
    "auto_model = AutoML()\n",
    "params = {\n",
    "    \"time_budget\": MODEL_TIME_BUDGET,\n",
    "    \"metric\": MODEL_METRIC,\n",
    "    \"task\": MODEL_TASK,\n",
    "    \"seed\": 42\n",
    "}\n",
    "auto_model.fit(X_train, y_train, **params)"
   ]
  },
  {
   "cell_type": "code",
   "execution_count": null,
   "metadata": {},
   "outputs": [],
   "source": [
    "print('Best hyperparmeter:', auto_model.model.estimator)\n",
    "print('Best hyperparmeter config:', auto_model.best_config)"
   ]
  },
  {
   "attachments": {},
   "cell_type": "markdown",
   "metadata": {},
   "source": [
    "## 학습 및 추론(4개 모델 앙상블)"
   ]
  },
  {
   "cell_type": "code",
   "execution_count": null,
   "metadata": {},
   "outputs": [],
   "source": [
    "from xgboost import XGBRFRegressor\n",
    "from sklearn.ensemble import RandomForestRegressor\n",
    "from sklearn.ensemble import ExtraTreesRegressor"
   ]
  },
  {
   "cell_type": "code",
   "execution_count": null,
   "metadata": {},
   "outputs": [],
   "source": [
    "RF1 = RandomForestRegressor(max_features=0.6346669492585846, max_leaf_nodes=26,n_estimators=14, n_jobs=-1)\n",
    "RF1.fit(X_train, y_train)"
   ]
  },
  {
   "cell_type": "code",
   "execution_count": null,
   "metadata": {},
   "outputs": [],
   "source": [
    "RF2 = RandomForestRegressor(max_features=1.0, max_leaf_nodes=22, n_estimators=16,n_jobs=-1)\n",
    "RF2.fit(X_train, y_train)"
   ]
  },
  {
   "cell_type": "code",
   "execution_count": null,
   "metadata": {},
   "outputs": [],
   "source": [
    "ET = ExtraTreesRegressor(max_features=0.9002433907979883, max_leaf_nodes=32, n_estimators=18, n_jobs=-1)\n",
    "ET.fit(X_train, y_train)"
   ]
  },
  {
   "cell_type": "code",
   "execution_count": null,
   "metadata": {},
   "outputs": [],
   "source": [
    "RFX = XGBRFRegressor(random_state=42)\n",
    "RFX.fit(X_train, y_train)"
   ]
  },
  {
   "cell_type": "code",
   "execution_count": null,
   "metadata": {},
   "outputs": [],
   "source": [
    "ensemble_result = (RF1.predict(X_test) + RF2.predict(X_test) + ET.predict(X_test) + RFX.predict(X_test)) / 4"
   ]
  },
  {
   "cell_type": "code",
   "execution_count": null,
   "metadata": {},
   "outputs": [],
   "source": [
    "file_name = 'submit_final.csv'\n",
    "submit = pd.read_csv('./data/sample_submission.csv')\n",
    "submit['착과량(int)'] = ensemble_result\n",
    "submit.to_csv(file_name, index=False)"
   ]
  }
 ],
 "metadata": {
  "kernelspec": {
   "display_name": "base",
   "language": "python",
   "name": "python3"
  },
  "language_info": {
   "codemirror_mode": {
    "name": "ipython",
    "version": 3
   },
   "file_extension": ".py",
   "mimetype": "text/x-python",
   "name": "python",
   "nbconvert_exporter": "python",
   "pygments_lexer": "ipython3",
   "version": "3.9.12 (main, Apr  4 2022, 05:22:27) [MSC v.1916 64 bit (AMD64)]"
  },
  "orig_nbformat": 4,
  "vscode": {
   "interpreter": {
    "hash": "6f5583cf1d9466b5c27e75c89cc6b383bed5736d6b16c51c8074d8690011a952"
   }
  }
 },
 "nbformat": 4,
 "nbformat_minor": 2
}
