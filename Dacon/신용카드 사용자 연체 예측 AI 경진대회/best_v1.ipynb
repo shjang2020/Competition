{
 "cells": [
  {
   "cell_type": "code",
   "execution_count": 1,
   "metadata": {},
   "outputs": [],
   "source": [
    "%reload_ext autoreload\n",
    "%autoreload 2\n",
    "%matplotlib inline"
   ]
  },
  {
   "cell_type": "code",
   "execution_count": 2,
   "metadata": {},
   "outputs": [],
   "source": [
    "import lightgbm as lgb\n",
    "from matplotlib import pyplot as plt\n",
    "import numpy as np\n",
    "import pandas as pd\n",
    "from pprint import pprint\n",
    "from sklearn.metrics import log_loss\n",
    "from sklearn.model_selection import StratifiedKFold\n",
    "import seaborn as sns\n",
    "from tensorflow import keras\n",
    "import warnings\n",
    "from tqdm import tqdm\n",
    "\n",
    "from sklearn.feature_selection import RFE \n",
    "from sklearn.feature_selection import SelectPercentile"
   ]
  },
  {
   "cell_type": "code",
   "execution_count": 3,
   "metadata": {},
   "outputs": [],
   "source": [
    "plt.style.use('fivethirtyeight')\n",
    "pd.set_option('max_columns', 100)\n",
    "warnings.simplefilter('ignore')"
   ]
  },
  {
   "cell_type": "markdown",
   "metadata": {},
   "source": [
    "### Load Data"
   ]
  },
  {
   "cell_type": "code",
   "execution_count": 4,
   "metadata": {},
   "outputs": [],
   "source": [
    "feature_name = 'ae'\n",
    "algo_name = 'lgb'\n",
    "model_name = f'{algo_name}_{feature_name}'\n",
    "\n",
    "feature_file = f'{feature_name}.csv'\n",
    "predict_val_file = f'{model_name}.val.txt'\n",
    "predict_tst_file = f'{model_name}.tst.txt'\n",
    "submission_file = f'{model_name}.sub.csv'\n",
    "\n",
    "index_col = 'index'\n",
    "target_col = 'credit'"
   ]
  },
  {
   "cell_type": "code",
   "execution_count": 5,
   "metadata": {},
   "outputs": [
    {
     "name": "stdout",
     "output_type": "stream",
     "text": [
      "(26457, 19)\n"
     ]
    },
    {
     "data": {
      "text/html": [
       "<div>\n",
       "<style scoped>\n",
       "    .dataframe tbody tr th:only-of-type {\n",
       "        vertical-align: middle;\n",
       "    }\n",
       "\n",
       "    .dataframe tbody tr th {\n",
       "        vertical-align: top;\n",
       "    }\n",
       "\n",
       "    .dataframe thead th {\n",
       "        text-align: right;\n",
       "    }\n",
       "</style>\n",
       "<table border=\"1\" class=\"dataframe\">\n",
       "  <thead>\n",
       "    <tr style=\"text-align: right;\">\n",
       "      <th></th>\n",
       "      <th>gender</th>\n",
       "      <th>car</th>\n",
       "      <th>reality</th>\n",
       "      <th>child_num</th>\n",
       "      <th>income_total</th>\n",
       "      <th>income_type</th>\n",
       "      <th>edu_type</th>\n",
       "      <th>family_type</th>\n",
       "      <th>house_type</th>\n",
       "      <th>DAYS_BIRTH</th>\n",
       "      <th>DAYS_EMPLOYED</th>\n",
       "      <th>FLAG_MOBIL</th>\n",
       "      <th>work_phone</th>\n",
       "      <th>phone</th>\n",
       "      <th>email</th>\n",
       "      <th>occyp_type</th>\n",
       "      <th>family_size</th>\n",
       "      <th>begin_month</th>\n",
       "      <th>credit</th>\n",
       "    </tr>\n",
       "    <tr>\n",
       "      <th>index</th>\n",
       "      <th></th>\n",
       "      <th></th>\n",
       "      <th></th>\n",
       "      <th></th>\n",
       "      <th></th>\n",
       "      <th></th>\n",
       "      <th></th>\n",
       "      <th></th>\n",
       "      <th></th>\n",
       "      <th></th>\n",
       "      <th></th>\n",
       "      <th></th>\n",
       "      <th></th>\n",
       "      <th></th>\n",
       "      <th></th>\n",
       "      <th></th>\n",
       "      <th></th>\n",
       "      <th></th>\n",
       "      <th></th>\n",
       "    </tr>\n",
       "  </thead>\n",
       "  <tbody>\n",
       "    <tr>\n",
       "      <th>0</th>\n",
       "      <td>F</td>\n",
       "      <td>N</td>\n",
       "      <td>N</td>\n",
       "      <td>0</td>\n",
       "      <td>202500.0</td>\n",
       "      <td>Commercial associate</td>\n",
       "      <td>Higher education</td>\n",
       "      <td>Married</td>\n",
       "      <td>Municipal apartment</td>\n",
       "      <td>-13899</td>\n",
       "      <td>-4709</td>\n",
       "      <td>1</td>\n",
       "      <td>0</td>\n",
       "      <td>0</td>\n",
       "      <td>0</td>\n",
       "      <td>NaN</td>\n",
       "      <td>2.0</td>\n",
       "      <td>-6.0</td>\n",
       "      <td>1.0</td>\n",
       "    </tr>\n",
       "    <tr>\n",
       "      <th>1</th>\n",
       "      <td>F</td>\n",
       "      <td>N</td>\n",
       "      <td>Y</td>\n",
       "      <td>1</td>\n",
       "      <td>247500.0</td>\n",
       "      <td>Commercial associate</td>\n",
       "      <td>Secondary / secondary special</td>\n",
       "      <td>Civil marriage</td>\n",
       "      <td>House / apartment</td>\n",
       "      <td>-11380</td>\n",
       "      <td>-1540</td>\n",
       "      <td>1</td>\n",
       "      <td>0</td>\n",
       "      <td>0</td>\n",
       "      <td>1</td>\n",
       "      <td>Laborers</td>\n",
       "      <td>3.0</td>\n",
       "      <td>-5.0</td>\n",
       "      <td>1.0</td>\n",
       "    </tr>\n",
       "    <tr>\n",
       "      <th>2</th>\n",
       "      <td>M</td>\n",
       "      <td>Y</td>\n",
       "      <td>Y</td>\n",
       "      <td>0</td>\n",
       "      <td>450000.0</td>\n",
       "      <td>Working</td>\n",
       "      <td>Higher education</td>\n",
       "      <td>Married</td>\n",
       "      <td>House / apartment</td>\n",
       "      <td>-19087</td>\n",
       "      <td>-4434</td>\n",
       "      <td>1</td>\n",
       "      <td>0</td>\n",
       "      <td>1</td>\n",
       "      <td>0</td>\n",
       "      <td>Managers</td>\n",
       "      <td>2.0</td>\n",
       "      <td>-22.0</td>\n",
       "      <td>2.0</td>\n",
       "    </tr>\n",
       "    <tr>\n",
       "      <th>3</th>\n",
       "      <td>F</td>\n",
       "      <td>N</td>\n",
       "      <td>Y</td>\n",
       "      <td>0</td>\n",
       "      <td>202500.0</td>\n",
       "      <td>Commercial associate</td>\n",
       "      <td>Secondary / secondary special</td>\n",
       "      <td>Married</td>\n",
       "      <td>House / apartment</td>\n",
       "      <td>-15088</td>\n",
       "      <td>-2092</td>\n",
       "      <td>1</td>\n",
       "      <td>0</td>\n",
       "      <td>1</td>\n",
       "      <td>0</td>\n",
       "      <td>Sales staff</td>\n",
       "      <td>2.0</td>\n",
       "      <td>-37.0</td>\n",
       "      <td>0.0</td>\n",
       "    </tr>\n",
       "    <tr>\n",
       "      <th>4</th>\n",
       "      <td>F</td>\n",
       "      <td>Y</td>\n",
       "      <td>Y</td>\n",
       "      <td>0</td>\n",
       "      <td>157500.0</td>\n",
       "      <td>State servant</td>\n",
       "      <td>Higher education</td>\n",
       "      <td>Married</td>\n",
       "      <td>House / apartment</td>\n",
       "      <td>-15037</td>\n",
       "      <td>-2105</td>\n",
       "      <td>1</td>\n",
       "      <td>0</td>\n",
       "      <td>0</td>\n",
       "      <td>0</td>\n",
       "      <td>Managers</td>\n",
       "      <td>2.0</td>\n",
       "      <td>-26.0</td>\n",
       "      <td>2.0</td>\n",
       "    </tr>\n",
       "  </tbody>\n",
       "</table>\n",
       "</div>"
      ],
      "text/plain": [
       "      gender car reality  child_num  income_total           income_type  \\\n",
       "index                                                                     \n",
       "0          F   N       N          0      202500.0  Commercial associate   \n",
       "1          F   N       Y          1      247500.0  Commercial associate   \n",
       "2          M   Y       Y          0      450000.0               Working   \n",
       "3          F   N       Y          0      202500.0  Commercial associate   \n",
       "4          F   Y       Y          0      157500.0         State servant   \n",
       "\n",
       "                            edu_type     family_type           house_type  \\\n",
       "index                                                                       \n",
       "0                   Higher education         Married  Municipal apartment   \n",
       "1      Secondary / secondary special  Civil marriage    House / apartment   \n",
       "2                   Higher education         Married    House / apartment   \n",
       "3      Secondary / secondary special         Married    House / apartment   \n",
       "4                   Higher education         Married    House / apartment   \n",
       "\n",
       "       DAYS_BIRTH  DAYS_EMPLOYED  FLAG_MOBIL  work_phone  phone  email  \\\n",
       "index                                                                    \n",
       "0          -13899          -4709           1           0      0      0   \n",
       "1          -11380          -1540           1           0      0      1   \n",
       "2          -19087          -4434           1           0      1      0   \n",
       "3          -15088          -2092           1           0      1      0   \n",
       "4          -15037          -2105           1           0      0      0   \n",
       "\n",
       "        occyp_type  family_size  begin_month  credit  \n",
       "index                                                 \n",
       "0              NaN          2.0         -6.0     1.0  \n",
       "1         Laborers          3.0         -5.0     1.0  \n",
       "2         Managers          2.0        -22.0     2.0  \n",
       "3      Sales staff          2.0        -37.0     0.0  \n",
       "4         Managers          2.0        -26.0     2.0  "
      ]
     },
     "execution_count": 5,
     "metadata": {},
     "output_type": "execute_result"
    }
   ],
   "source": [
    "trn = pd.read_csv('./train.csv', index_col=index_col)\n",
    "print(trn.shape)\n",
    "trn.head()"
   ]
  },
  {
   "cell_type": "code",
   "execution_count": 6,
   "metadata": {},
   "outputs": [
    {
     "name": "stdout",
     "output_type": "stream",
     "text": [
      "(10000, 18)\n"
     ]
    },
    {
     "data": {
      "text/html": [
       "<div>\n",
       "<style scoped>\n",
       "    .dataframe tbody tr th:only-of-type {\n",
       "        vertical-align: middle;\n",
       "    }\n",
       "\n",
       "    .dataframe tbody tr th {\n",
       "        vertical-align: top;\n",
       "    }\n",
       "\n",
       "    .dataframe thead th {\n",
       "        text-align: right;\n",
       "    }\n",
       "</style>\n",
       "<table border=\"1\" class=\"dataframe\">\n",
       "  <thead>\n",
       "    <tr style=\"text-align: right;\">\n",
       "      <th></th>\n",
       "      <th>gender</th>\n",
       "      <th>car</th>\n",
       "      <th>reality</th>\n",
       "      <th>child_num</th>\n",
       "      <th>income_total</th>\n",
       "      <th>income_type</th>\n",
       "      <th>edu_type</th>\n",
       "      <th>family_type</th>\n",
       "      <th>house_type</th>\n",
       "      <th>DAYS_BIRTH</th>\n",
       "      <th>DAYS_EMPLOYED</th>\n",
       "      <th>FLAG_MOBIL</th>\n",
       "      <th>work_phone</th>\n",
       "      <th>phone</th>\n",
       "      <th>email</th>\n",
       "      <th>occyp_type</th>\n",
       "      <th>family_size</th>\n",
       "      <th>begin_month</th>\n",
       "    </tr>\n",
       "    <tr>\n",
       "      <th>index</th>\n",
       "      <th></th>\n",
       "      <th></th>\n",
       "      <th></th>\n",
       "      <th></th>\n",
       "      <th></th>\n",
       "      <th></th>\n",
       "      <th></th>\n",
       "      <th></th>\n",
       "      <th></th>\n",
       "      <th></th>\n",
       "      <th></th>\n",
       "      <th></th>\n",
       "      <th></th>\n",
       "      <th></th>\n",
       "      <th></th>\n",
       "      <th></th>\n",
       "      <th></th>\n",
       "      <th></th>\n",
       "    </tr>\n",
       "  </thead>\n",
       "  <tbody>\n",
       "    <tr>\n",
       "      <th>26457</th>\n",
       "      <td>M</td>\n",
       "      <td>Y</td>\n",
       "      <td>N</td>\n",
       "      <td>0</td>\n",
       "      <td>112500.0</td>\n",
       "      <td>Pensioner</td>\n",
       "      <td>Secondary / secondary special</td>\n",
       "      <td>Civil marriage</td>\n",
       "      <td>House / apartment</td>\n",
       "      <td>-21990</td>\n",
       "      <td>365243</td>\n",
       "      <td>1</td>\n",
       "      <td>0</td>\n",
       "      <td>1</td>\n",
       "      <td>0</td>\n",
       "      <td>NaN</td>\n",
       "      <td>2.0</td>\n",
       "      <td>-60.0</td>\n",
       "    </tr>\n",
       "    <tr>\n",
       "      <th>26458</th>\n",
       "      <td>F</td>\n",
       "      <td>N</td>\n",
       "      <td>Y</td>\n",
       "      <td>0</td>\n",
       "      <td>135000.0</td>\n",
       "      <td>State servant</td>\n",
       "      <td>Higher education</td>\n",
       "      <td>Married</td>\n",
       "      <td>House / apartment</td>\n",
       "      <td>-18964</td>\n",
       "      <td>-8671</td>\n",
       "      <td>1</td>\n",
       "      <td>0</td>\n",
       "      <td>1</td>\n",
       "      <td>0</td>\n",
       "      <td>Core staff</td>\n",
       "      <td>2.0</td>\n",
       "      <td>-36.0</td>\n",
       "    </tr>\n",
       "    <tr>\n",
       "      <th>26459</th>\n",
       "      <td>F</td>\n",
       "      <td>N</td>\n",
       "      <td>Y</td>\n",
       "      <td>0</td>\n",
       "      <td>69372.0</td>\n",
       "      <td>Working</td>\n",
       "      <td>Secondary / secondary special</td>\n",
       "      <td>Married</td>\n",
       "      <td>House / apartment</td>\n",
       "      <td>-15887</td>\n",
       "      <td>-217</td>\n",
       "      <td>1</td>\n",
       "      <td>1</td>\n",
       "      <td>1</td>\n",
       "      <td>0</td>\n",
       "      <td>Laborers</td>\n",
       "      <td>2.0</td>\n",
       "      <td>-40.0</td>\n",
       "    </tr>\n",
       "    <tr>\n",
       "      <th>26460</th>\n",
       "      <td>M</td>\n",
       "      <td>Y</td>\n",
       "      <td>N</td>\n",
       "      <td>0</td>\n",
       "      <td>112500.0</td>\n",
       "      <td>Commercial associate</td>\n",
       "      <td>Secondary / secondary special</td>\n",
       "      <td>Married</td>\n",
       "      <td>House / apartment</td>\n",
       "      <td>-19270</td>\n",
       "      <td>-2531</td>\n",
       "      <td>1</td>\n",
       "      <td>1</td>\n",
       "      <td>0</td>\n",
       "      <td>0</td>\n",
       "      <td>Drivers</td>\n",
       "      <td>2.0</td>\n",
       "      <td>-41.0</td>\n",
       "    </tr>\n",
       "    <tr>\n",
       "      <th>26461</th>\n",
       "      <td>F</td>\n",
       "      <td>Y</td>\n",
       "      <td>Y</td>\n",
       "      <td>0</td>\n",
       "      <td>225000.0</td>\n",
       "      <td>State servant</td>\n",
       "      <td>Higher education</td>\n",
       "      <td>Married</td>\n",
       "      <td>House / apartment</td>\n",
       "      <td>-17822</td>\n",
       "      <td>-9385</td>\n",
       "      <td>1</td>\n",
       "      <td>1</td>\n",
       "      <td>0</td>\n",
       "      <td>0</td>\n",
       "      <td>Managers</td>\n",
       "      <td>2.0</td>\n",
       "      <td>-8.0</td>\n",
       "    </tr>\n",
       "  </tbody>\n",
       "</table>\n",
       "</div>"
      ],
      "text/plain": [
       "      gender car reality  child_num  income_total           income_type  \\\n",
       "index                                                                     \n",
       "26457      M   Y       N          0      112500.0             Pensioner   \n",
       "26458      F   N       Y          0      135000.0         State servant   \n",
       "26459      F   N       Y          0       69372.0               Working   \n",
       "26460      M   Y       N          0      112500.0  Commercial associate   \n",
       "26461      F   Y       Y          0      225000.0         State servant   \n",
       "\n",
       "                            edu_type     family_type         house_type  \\\n",
       "index                                                                     \n",
       "26457  Secondary / secondary special  Civil marriage  House / apartment   \n",
       "26458               Higher education         Married  House / apartment   \n",
       "26459  Secondary / secondary special         Married  House / apartment   \n",
       "26460  Secondary / secondary special         Married  House / apartment   \n",
       "26461               Higher education         Married  House / apartment   \n",
       "\n",
       "       DAYS_BIRTH  DAYS_EMPLOYED  FLAG_MOBIL  work_phone  phone  email  \\\n",
       "index                                                                    \n",
       "26457      -21990         365243           1           0      1      0   \n",
       "26458      -18964          -8671           1           0      1      0   \n",
       "26459      -15887           -217           1           1      1      0   \n",
       "26460      -19270          -2531           1           1      0      0   \n",
       "26461      -17822          -9385           1           1      0      0   \n",
       "\n",
       "       occyp_type  family_size  begin_month  \n",
       "index                                        \n",
       "26457         NaN          2.0        -60.0  \n",
       "26458  Core staff          2.0        -36.0  \n",
       "26459    Laborers          2.0        -40.0  \n",
       "26460     Drivers          2.0        -41.0  \n",
       "26461    Managers          2.0         -8.0  "
      ]
     },
     "execution_count": 6,
     "metadata": {},
     "output_type": "execute_result"
    }
   ],
   "source": [
    "tst = pd.read_csv('./test.csv', index_col=index_col)\n",
    "print(tst.shape)\n",
    "tst.head()"
   ]
  },
  {
   "cell_type": "code",
   "execution_count": 7,
   "metadata": {},
   "outputs": [
    {
     "name": "stdout",
     "output_type": "stream",
     "text": [
      "(10000, 3)\n"
     ]
    },
    {
     "data": {
      "text/html": [
       "<div>\n",
       "<style scoped>\n",
       "    .dataframe tbody tr th:only-of-type {\n",
       "        vertical-align: middle;\n",
       "    }\n",
       "\n",
       "    .dataframe tbody tr th {\n",
       "        vertical-align: top;\n",
       "    }\n",
       "\n",
       "    .dataframe thead th {\n",
       "        text-align: right;\n",
       "    }\n",
       "</style>\n",
       "<table border=\"1\" class=\"dataframe\">\n",
       "  <thead>\n",
       "    <tr style=\"text-align: right;\">\n",
       "      <th></th>\n",
       "      <th>0</th>\n",
       "      <th>1</th>\n",
       "      <th>2</th>\n",
       "    </tr>\n",
       "    <tr>\n",
       "      <th>index</th>\n",
       "      <th></th>\n",
       "      <th></th>\n",
       "      <th></th>\n",
       "    </tr>\n",
       "  </thead>\n",
       "  <tbody>\n",
       "    <tr>\n",
       "      <th>26457</th>\n",
       "      <td>0</td>\n",
       "      <td>0</td>\n",
       "      <td>0</td>\n",
       "    </tr>\n",
       "    <tr>\n",
       "      <th>26458</th>\n",
       "      <td>0</td>\n",
       "      <td>0</td>\n",
       "      <td>0</td>\n",
       "    </tr>\n",
       "    <tr>\n",
       "      <th>26459</th>\n",
       "      <td>0</td>\n",
       "      <td>0</td>\n",
       "      <td>0</td>\n",
       "    </tr>\n",
       "    <tr>\n",
       "      <th>26460</th>\n",
       "      <td>0</td>\n",
       "      <td>0</td>\n",
       "      <td>0</td>\n",
       "    </tr>\n",
       "    <tr>\n",
       "      <th>26461</th>\n",
       "      <td>0</td>\n",
       "      <td>0</td>\n",
       "      <td>0</td>\n",
       "    </tr>\n",
       "  </tbody>\n",
       "</table>\n",
       "</div>"
      ],
      "text/plain": [
       "       0  1  2\n",
       "index         \n",
       "26457  0  0  0\n",
       "26458  0  0  0\n",
       "26459  0  0  0\n",
       "26460  0  0  0\n",
       "26461  0  0  0"
      ]
     },
     "execution_count": 7,
     "metadata": {},
     "output_type": "execute_result"
    }
   ],
   "source": [
    "sub = pd.read_csv('./sample_submission.csv', index_col=index_col)\n",
    "print(sub.shape)\n",
    "sub.head()"
   ]
  },
  {
   "cell_type": "markdown",
   "metadata": {},
   "source": [
    "### Simple EDA"
   ]
  },
  {
   "cell_type": "code",
   "execution_count": 8,
   "metadata": {},
   "outputs": [
    {
     "data": {
      "text/plain": [
       "index\n",
       "0        1.0\n",
       "1        1.0\n",
       "2        2.0\n",
       "3        0.0\n",
       "4        2.0\n",
       "        ... \n",
       "26452    1.0\n",
       "26453    2.0\n",
       "26454    2.0\n",
       "26455    2.0\n",
       "26456    2.0\n",
       "Name: credit, Length: 26457, dtype: category\n",
       "Categories (3, float64): [0.0, 1.0, 2.0]"
      ]
     },
     "execution_count": 8,
     "metadata": {},
     "output_type": "execute_result"
    }
   ],
   "source": [
    "trn[target_col] = trn[target_col].astype('category')\n",
    "trn[target_col]"
   ]
  },
  {
   "cell_type": "code",
   "execution_count": 9,
   "metadata": {},
   "outputs": [
    {
     "name": "stdout",
     "output_type": "stream",
     "text": [
      "          gender: 26457\t2\tobject\n",
      "             car: 26457\t2\tobject\n",
      "         reality: 26457\t2\tobject\n",
      "       child_num: 26457\t9\tint64\n",
      "    income_total: 26457\t249\tfloat64\n",
      "     income_type: 26457\t5\tobject\n",
      "        edu_type: 26457\t5\tobject\n",
      "     family_type: 26457\t5\tobject\n",
      "      house_type: 26457\t6\tobject\n",
      "      DAYS_BIRTH: 26457\t6621\tint64\n",
      "   DAYS_EMPLOYED: 26457\t3470\tint64\n",
      "      FLAG_MOBIL: 26457\t1\tint64\n",
      "      work_phone: 26457\t2\tint64\n",
      "           phone: 26457\t2\tint64\n",
      "           email: 26457\t2\tint64\n",
      "      occyp_type: 18286\t18\tobject\n",
      "     family_size: 26457\t10\tfloat64\n",
      "     begin_month: 26457\t61\tfloat64\n",
      "          credit: 26457\t3\tcategory\n"
     ]
    }
   ],
   "source": [
    "for col in trn.columns:\n",
    "    print(f'{col:>16s}: {trn[col].count()}\\t{trn[col].nunique()}\\t{trn[col].dtype}')"
   ]
  },
  {
   "cell_type": "code",
   "execution_count": 10,
   "metadata": {},
   "outputs": [
    {
     "data": {
      "text/plain": [
       "Pensioner    536\n",
       "Name: income_type, dtype: int64"
      ]
     },
     "execution_count": 10,
     "metadata": {},
     "output_type": "execute_result"
    }
   ],
   "source": [
    "trn.query('DAYS_EMPLOYED == 365243 & credit == 0')['income_type'].value_counts()  # DAYS_EMPLOYED == 365243인 사람은 전부 pensioner인 점을 알 수 있음"
   ]
  },
  {
   "cell_type": "markdown",
   "metadata": {},
   "source": [
    "### Feature Engineering"
   ]
  },
  {
   "cell_type": "code",
   "execution_count": 11,
   "metadata": {},
   "outputs": [],
   "source": [
    "trn = pd.read_csv('./train.csv', index_col=index_col)\n",
    "tst = pd.read_csv('./test.csv', index_col=index_col)"
   ]
  },
  {
   "cell_type": "code",
   "execution_count": 12,
   "metadata": {},
   "outputs": [],
   "source": [
    "trn.drop('FLAG_MOBIL', axis=1, inplace=True)\n",
    "tst.drop('FLAG_MOBIL', axis=1, inplace=True)"
   ]
  },
  {
   "cell_type": "code",
   "execution_count": 13,
   "metadata": {},
   "outputs": [
    {
     "data": {
      "text/plain": [
       "((26457, 18), (10000, 17))"
      ]
     },
     "execution_count": 13,
     "metadata": {},
     "output_type": "execute_result"
    }
   ],
   "source": [
    "trn.shape, tst.shape"
   ]
  },
  {
   "cell_type": "markdown",
   "metadata": {},
   "source": [
    "#### Numerical Features"
   ]
  },
  {
   "cell_type": "code",
   "execution_count": 14,
   "metadata": {},
   "outputs": [],
   "source": [
    "trn['DAYS_EMPLOYED'] = trn['DAYS_EMPLOYED'].replace(365243, 1)\n",
    "tst['DAYS_EMPLOYED'] = tst['DAYS_EMPLOYED'].replace(365243, 1)"
   ]
  },
  {
   "cell_type": "code",
   "execution_count": 15,
   "metadata": {},
   "outputs": [],
   "source": [
    "trn['DAYS_EMPLOYED'] = -trn['DAYS_EMPLOYED']\n",
    "trn['DAYS_BIRTH'] = -trn['DAYS_BIRTH']\n",
    "trn['child_ratio'] = trn['child_num'] / trn['family_size']\n",
    "trn['employed_ratio'] = (-trn['DAYS_EMPLOYED']) / (-trn['DAYS_BIRTH'])\n",
    "trn['DAYS_EMPLOYED_year'] = (trn['DAYS_EMPLOYED'] / 365).round()\n",
    "trn['DAYS_BIRTH_year'] = (trn['DAYS_BIRTH'] / 365).round()\n",
    "trn['begin_month_year'] = ((-trn['begin_month']) / 12).round()\n",
    "trn['mean_income_family'] = trn['income_total'] / trn['family_size']\n",
    "trn['income_employed'] = trn['income_total'] * trn['DAYS_EMPLOYED_year']\n",
    "trn['income_begin_ratio'] = (-trn['begin_month']) / trn['income_total']\n",
    "trn['family_age_ratio'] = trn['DAYS_BIRTH_year'] / trn['family_size']\n",
    "trn['family_child_abstract'] = trn['family_size'] - trn['child_num']\n",
    "trn['income>mean'] = trn['income_total'].apply(lambda x: 1 if x>=trn['income_total'].mean() else 0)\n",
    "trn['begin_month>mean'] = trn['begin_month'].apply(lambda x: 1 if x>=trn['begin_month'].mean() else 0)\n",
    "\n",
    "# DAYS_BIRTH\n",
    "trn['DAYS_BIRTH_month'] = np.floor((-trn['DAYS_BIRTH'])/30)-((np.floor((-trn['DAYS_BIRTH'])/30)/12).astype(int)*12)\n",
    "trn['DAYS_BIRTH_week'] = np.floor((-trn['DAYS_BIRTH'])/7)-((np.floor((-trn['DAYS_BIRTH'])/7)/4).astype(int)*4)\n",
    "\n",
    "# DAYS_EMPLOYED\n",
    "trn['DAYS_EMPLOYED_month'] = np.floor((-trn['DAYS_EMPLOYED'])/30)-((np.floor((-trn['DAYS_EMPLOYED'])/30)/12).astype(int)*12)\n",
    "trn['DAYS_EMPLOYED_week'] = np.floor((-trn['DAYS_EMPLOYED'])/7)-((np.floor((-trn['DAYS_EMPLOYED'])/7)/4).astype(int)*4)\n",
    "\n",
    "# before_EMPLOYED\n",
    "trn['before_EMPLOYED'] = trn['DAYS_BIRTH']-trn['DAYS_EMPLOYED']\n",
    "trn['before_EMPLOYED_month'] = np.floor((-trn['before_EMPLOYED'])/30)-((np.floor((-trn['before_EMPLOYED'])/30)/12).astype(int)*12)\n",
    "trn['before_EMPLOYED_week'] = np.floor((-trn['before_EMPLOYED'])/7)-((np.floor((-trn['before_EMPLOYED'])/7)/4).astype(int)*4)\n",
    "trn['before_EMPLOYED_BIRTH_ratio'] = trn['before_EMPLOYED'] / trn['DAYS_BIRTH']\n",
    "trn['before_EMPLOYED_ratio'] = trn['before_EMPLOYED'] / trn['DAYS_EMPLOYED']\n",
    "trn['before_EMPLOYED>mean'] = trn['before_EMPLOYED'].apply(lambda x: 1 if x>=trn['before_EMPLOYED'].mean() else 0)"
   ]
  },
  {
   "cell_type": "code",
   "execution_count": 16,
   "metadata": {},
   "outputs": [],
   "source": [
    "tst['DAYS_BIRTH'] = -tst['DAYS_BIRTH']\n",
    "tst['DAYS_EMPLOYED'] = -tst['DAYS_EMPLOYED']\n",
    "tst['child_ratio'] = tst['child_num'] / tst['family_size']\n",
    "tst['employed_ratio'] = (-tst['DAYS_EMPLOYED']) / (-tst['DAYS_BIRTH'])\n",
    "tst['DAYS_EMPLOYED_year'] = (tst['DAYS_EMPLOYED'] / 365).round()\n",
    "tst['DAYS_BIRTH_year'] = (tst['DAYS_BIRTH'] / 365).round()\n",
    "tst['begin_month_year'] = ((-tst['begin_month']) / 12).round()\n",
    "tst['mean_income_family'] = tst['income_total'] / tst['family_size']\n",
    "tst['income_employed'] = tst['income_total'] * tst['DAYS_EMPLOYED_year']\n",
    "tst['income_begin_ratio'] = (-tst['begin_month']) / tst['income_total']\n",
    "tst['family_age_ratio'] = tst['DAYS_BIRTH_year'] / tst['family_size']\n",
    "tst['family_child_abstract'] = tst['family_size'] - tst['child_num']\n",
    "tst['income>mean'] = tst['income_total'].apply(lambda x: 1 if x>=tst['income_total'].mean() else 0)\n",
    "tst['begin_month>mean'] = tst['begin_month'].apply(lambda x: 1 if x>=tst['begin_month'].mean() else 0)\n",
    "\n",
    "# DAYS_BIRTH\n",
    "tst['DAYS_BIRTH_month'] = np.floor((-tst['DAYS_BIRTH'])/30)-((np.floor((-tst['DAYS_BIRTH'])/30)/12).astype(int)*12)\n",
    "tst['DAYS_BIRTH_week'] = np.floor((-tst['DAYS_BIRTH'])/7)-((np.floor((-tst['DAYS_BIRTH'])/7)/4).astype(int)*4)\n",
    "\n",
    "# DAYS_EMPLOYED\n",
    "tst['DAYS_EMPLOYED_month'] = np.floor((-tst['DAYS_EMPLOYED'])/30)-((np.floor((-tst['DAYS_EMPLOYED'])/30)/12).astype(int)*12)\n",
    "tst['DAYS_EMPLOYED_week'] = np.floor((-tst['DAYS_EMPLOYED'])/7)-((np.floor((-tst['DAYS_EMPLOYED'])/7)/4).astype(int)*4)\n",
    "\n",
    "# before_EMPLOYED\n",
    "tst['before_EMPLOYED'] = tst['DAYS_BIRTH']-tst['DAYS_EMPLOYED']\n",
    "tst['before_EMPLOYED_month'] = np.floor((-tst['before_EMPLOYED'])/30)-((np.floor((-tst['before_EMPLOYED'])/30)/12).astype(int)*12)\n",
    "tst['before_EMPLOYED_week'] = np.floor((-tst['before_EMPLOYED'])/7)-((np.floor((-tst['before_EMPLOYED'])/7)/4).astype(int)*4)\n",
    "tst['before_EMPLOYED_BIRTH_ratio'] = tst['before_EMPLOYED'] / tst['DAYS_BIRTH']\n",
    "tst['before_EMPLOYED_ratio'] = tst['before_EMPLOYED'] / tst['DAYS_EMPLOYED']\n",
    "tst['before_EMPLOYED>mean'] = tst['before_EMPLOYED'].apply(lambda x: 1 if x>=tst['before_EMPLOYED'].mean() else 0)"
   ]
  },
  {
   "cell_type": "code",
   "execution_count": 17,
   "metadata": {},
   "outputs": [],
   "source": [
    "trn['age_group'] = pd.cut(trn['DAYS_BIRTH_year'], bins=[20, 30, 40, 50, 60, 70],\n",
    "                         labels=['20ager', '30ager', '40ager', '50ager', '60ager'])\n",
    "\n",
    "tst['age_group'] = pd.cut(tst['DAYS_BIRTH_year'], bins=[20, 30, 40, 50, 60, 70],\n",
    "                         labels=['20ager', '30ager', '40ager', '50ager', '60ager'])"
   ]
  },
  {
   "cell_type": "code",
   "execution_count": 18,
   "metadata": {},
   "outputs": [],
   "source": [
    "trn['dup']=0\n",
    "du = list(trn[trn.duplicated(trn.columns)].index)\n",
    "\n",
    "for i in range(0,26457):\n",
    "    if i in du:\n",
    "        trn.loc[i,'dup']=1"
   ]
  },
  {
   "cell_type": "code",
   "execution_count": 19,
   "metadata": {},
   "outputs": [],
   "source": [
    "tst['dup']=0\n",
    "du = list(tst[tst.duplicated(tst.columns)].index)\n",
    "\n",
    "for i in range(26457,36457):\n",
    "    if i in du:\n",
    "        tst.loc[i,'dup']=1"
   ]
  },
  {
   "cell_type": "code",
   "execution_count": 20,
   "metadata": {},
   "outputs": [],
   "source": [
    "#trn3 = trn.groupby(['income_total', 'income_type', 'DAYS_BIRTH', 'DAYS_EMPLOYED'])['begin_month'].agg([('begin_month_sum', 'sum')])\n",
    "#trn3 = pd.DataFrame(trn3)\n",
    "\n",
    "#tst3 = tst.groupby(['income_total', 'income_type', 'DAYS_BIRTH', 'DAYS_EMPLOYED'])['begin_month'].agg([('begin_month_sum', 'sum')])\n",
    "#tst3 = pd.DataFrame(tst3)"
   ]
  },
  {
   "cell_type": "code",
   "execution_count": 21,
   "metadata": {},
   "outputs": [],
   "source": [
    "#trn = trn.merge(trn3, how='left', on=('income_total', 'income_type', 'DAYS_BIRTH', 'DAYS_EMPLOYED'))\n",
    "#tst = tst.merge(tst3, how='left', on=('income_total', 'income_type', 'DAYS_BIRTH', 'DAYS_EMPLOYED'))"
   ]
  },
  {
   "cell_type": "code",
   "execution_count": 22,
   "metadata": {},
   "outputs": [],
   "source": [
    "#trn['begin_month_mean'] = -trn['begin_month_sum'] / trn['duplicated']\n",
    "#tst['begin_month_mean'] = -tst['begin_month_sum'] / tst['duplicated']"
   ]
  },
  {
   "cell_type": "code",
   "execution_count": 23,
   "metadata": {
    "scrolled": true
   },
   "outputs": [
    {
     "data": {
      "text/plain": [
       "((26457, 42), (10000, 41))"
      ]
     },
     "execution_count": 23,
     "metadata": {},
     "output_type": "execute_result"
    }
   ],
   "source": [
    "trn.shape, tst.shape"
   ]
  },
  {
   "cell_type": "markdown",
   "metadata": {},
   "source": [
    "####  Encoding for Categorical Features"
   ]
  },
  {
   "cell_type": "code",
   "execution_count": 24,
   "metadata": {},
   "outputs": [
    {
     "name": "stdout",
     "output_type": "stream",
     "text": [
      "41 8 33\n"
     ]
    }
   ],
   "source": [
    "cat_cols = [x for x in trn.columns if trn[x].dtype == 'object']\n",
    "num_cols = [x for x in trn.columns if x not in cat_cols + [target_col]]\n",
    "\n",
    "feature_cols = num_cols + cat_cols\n",
    "print(len(feature_cols), len(cat_cols), len(num_cols))"
   ]
  },
  {
   "cell_type": "code",
   "execution_count": 25,
   "metadata": {},
   "outputs": [],
   "source": [
    "trn['occyp_type'] = trn['occyp_type'].fillna('no job')\n",
    "tst['occyp_type'] = tst['occyp_type'].fillna('no job')"
   ]
  },
  {
   "cell_type": "code",
   "execution_count": 26,
   "metadata": {},
   "outputs": [],
   "source": [
    "trn['income_occyp_type'] = trn['income_type'].astype(str) + \"_\" + trn['occyp_type'].astype(str)\n",
    "tst['income_occyp_type'] = tst['income_type'].astype(str) + \"_\" + tst['occyp_type'].astype(str)"
   ]
  },
  {
   "cell_type": "code",
   "execution_count": 27,
   "metadata": {},
   "outputs": [],
   "source": [
    "trn['income_age_type'] = trn['income_type'].astype(str) + \"_\" + trn['age_group'].astype(str)\n",
    "tst['income_age_type'] = tst['income_type'].astype(str) + \"_\" + tst['age_group'].astype(str)"
   ]
  },
  {
   "cell_type": "code",
   "execution_count": 28,
   "metadata": {},
   "outputs": [],
   "source": [
    "trn['edu_occyp_type'] = trn['edu_type'].astype(str) + \"_\" + trn['occyp_type'].astype(str)\n",
    "tst['edu_occyp_type'] = tst['edu_type'].astype(str) + \"_\" + tst['occyp_type'].astype(str)\n",
    "\n",
    "trn['edu_income_type'] = trn['edu_type'].astype(str) + \"_\" + trn['income_type'].astype(str)\n",
    "tst['edu_income_type'] = tst['edu_type'].astype(str) + \"_\" + tst['income_type'].astype(str)\n",
    "\n",
    "trn['family_income_type'] = trn['family_type'].astype(str) + \"_\" + trn['income_type'].astype(str)\n",
    "tst['family_income_type'] = tst['family_type'].astype(str) + \"_\" + tst['income_type'].astype(str)"
   ]
  },
  {
   "cell_type": "code",
   "execution_count": 29,
   "metadata": {},
   "outputs": [],
   "source": [
    "trn['income_type_income']=trn.groupby('income_type')['income_total'].transform('mean')\n",
    "tst['income_type_income']=tst.groupby('income_type')['income_total'].transform('mean')"
   ]
  },
  {
   "cell_type": "code",
   "execution_count": 30,
   "metadata": {},
   "outputs": [],
   "source": [
    "trn['edu_type_income']=trn.groupby('edu_type')['income_total'].transform('mean')\n",
    "tst['edu_type_income']=tst.groupby('edu_type')['income_total'].transform('mean')"
   ]
  },
  {
   "cell_type": "code",
   "execution_count": 31,
   "metadata": {},
   "outputs": [],
   "source": [
    "trn['family_type_income']=trn.groupby('family_type')['income_total'].transform('mean')\n",
    "tst['family_type_income']=tst.groupby('family_type')['income_total'].transform('mean')"
   ]
  },
  {
   "cell_type": "code",
   "execution_count": 32,
   "metadata": {},
   "outputs": [],
   "source": [
    "trn['house_type_income']=trn.groupby('house_type')['income_total'].transform('mean')\n",
    "tst['house_type_income']=tst.groupby('house_type')['income_total'].transform('mean')"
   ]
  },
  {
   "cell_type": "code",
   "execution_count": 33,
   "metadata": {},
   "outputs": [],
   "source": [
    "trn['occyp_type_income']=trn.groupby('occyp_type')['income_total'].transform('mean')\n",
    "tst['occyp_type_income']=tst.groupby('occyp_type')['income_total'].transform('mean')"
   ]
  },
  {
   "cell_type": "code",
   "execution_count": 34,
   "metadata": {},
   "outputs": [],
   "source": [
    "trn['age_group_income']=trn.groupby('age_group')['income_total'].transform('mean')\n",
    "tst['age_group_income']=tst.groupby('age_group')['income_total'].transform('mean')"
   ]
  },
  {
   "cell_type": "code",
   "execution_count": null,
   "metadata": {},
   "outputs": [],
   "source": []
  },
  {
   "cell_type": "markdown",
   "metadata": {},
   "source": [
    "### word2vec"
   ]
  },
  {
   "cell_type": "code",
   "execution_count": 35,
   "metadata": {},
   "outputs": [],
   "source": [
    "# income_occyp_type, income_age_type, edu_occyp_type, edu_income_type, family_income_type\n",
    "\n",
    "import random\n",
    "\n",
    "train_data = list(trn.groupby('index')['income_occyp_type'].unique())\n",
    "test_data = list(tst.groupby('index')['income_occyp_type'].unique())"
   ]
  },
  {
   "cell_type": "code",
   "execution_count": 36,
   "metadata": {},
   "outputs": [
    {
     "data": {
      "text/plain": [
       "array(['Pensioner_no job'], dtype=object)"
      ]
     },
     "execution_count": 36,
     "metadata": {},
     "output_type": "execute_result"
    }
   ],
   "source": [
    "test_data[0]"
   ]
  },
  {
   "cell_type": "code",
   "execution_count": 37,
   "metadata": {},
   "outputs": [],
   "source": [
    "def oversample(x, n):\n",
    "    lst = []\n",
    "    for i in x:\n",
    "        tmp = []\n",
    "        for j in range(n):\n",
    "            random.shuffle(i)\n",
    "            tmp += list(i)\n",
    "            lst.append(tmp)\n",
    "    return lst"
   ]
  },
  {
   "cell_type": "code",
   "execution_count": 38,
   "metadata": {},
   "outputs": [],
   "source": [
    "w2v_input = oversample(train_data, 5)"
   ]
  },
  {
   "cell_type": "code",
   "execution_count": 39,
   "metadata": {},
   "outputs": [],
   "source": [
    "from gensim.models import word2vec\n",
    "\n",
    "w2v = word2vec.Word2Vec(sentences = w2v_input, size = 30, window = 3, min_count = 1, sg = 1)"
   ]
  },
  {
   "cell_type": "code",
   "execution_count": 40,
   "metadata": {},
   "outputs": [
    {
     "name": "stderr",
     "output_type": "stream",
     "text": [
      "100%|████████████████████████████████████████████████████████████████████████| 26457/26457 [00:00<00:00, 108406.09it/s]\n"
     ]
    }
   ],
   "source": [
    "train_mean_vector = []\n",
    "for words in tqdm(train_data):\n",
    "    tmp = np.zeros(30)\n",
    "    cnt = 0\n",
    "    for word in words:\n",
    "        try:\n",
    "            tmp += w2v[word]\n",
    "            cnt += 1\n",
    "        except:\n",
    "            pass\n",
    "    tmp /= cnt\n",
    "    train_mean_vector.append(tmp)\n",
    "train_mean_vector = np.array(train_mean_vector)"
   ]
  },
  {
   "cell_type": "code",
   "execution_count": 41,
   "metadata": {},
   "outputs": [
    {
     "name": "stderr",
     "output_type": "stream",
     "text": [
      "100%|████████████████████████████████████████████████████████████████████████| 10000/10000 [00:00<00:00, 108537.57it/s]\n"
     ]
    }
   ],
   "source": [
    "test_mean_vector = []\n",
    "for words in tqdm(test_data):\n",
    "    tmp = np.zeros(30)\n",
    "    cnt = 0\n",
    "    for word in words:\n",
    "        try:\n",
    "            tmp += w2v[word]\n",
    "            cnt += 1\n",
    "        except:\n",
    "            pass\n",
    "    tmp /= cnt\n",
    "    test_mean_vector.append(tmp)\n",
    "test_mean_vector = np.array(test_mean_vector)"
   ]
  },
  {
   "cell_type": "code",
   "execution_count": 42,
   "metadata": {},
   "outputs": [],
   "source": [
    "trn2 = trn.copy()\n",
    "tst2 = tst.copy()\n",
    "trn2 = trn2.reset_index()\n",
    "tst2 = tst2.reset_index()"
   ]
  },
  {
   "cell_type": "code",
   "execution_count": 43,
   "metadata": {},
   "outputs": [],
   "source": [
    "train_data = list(trn2.groupby('index')['income_age_type'].unique())\n",
    "test_data = list(tst2.groupby('index')['income_age_type'].unique())"
   ]
  },
  {
   "cell_type": "code",
   "execution_count": 44,
   "metadata": {},
   "outputs": [],
   "source": [
    "w2v_input = oversample(train_data, 5)"
   ]
  },
  {
   "cell_type": "code",
   "execution_count": 45,
   "metadata": {},
   "outputs": [],
   "source": [
    "w2v = word2vec.Word2Vec(sentences = w2v_input, size = 30, window = 3, min_count = 1, sg = 1)"
   ]
  },
  {
   "cell_type": "code",
   "execution_count": 46,
   "metadata": {},
   "outputs": [
    {
     "name": "stderr",
     "output_type": "stream",
     "text": [
      "100%|████████████████████████████████████████████████████████████████████████| 26457/26457 [00:00<00:00, 117040.90it/s]\n"
     ]
    }
   ],
   "source": [
    "train_mean_vector2 = []\n",
    "for words in tqdm(train_data):\n",
    "    tmp = np.zeros(30)\n",
    "    cnt = 0\n",
    "    for word in words:\n",
    "        try:\n",
    "            tmp += w2v[word]\n",
    "            cnt += 1\n",
    "        except:\n",
    "            pass\n",
    "    tmp /= cnt\n",
    "    train_mean_vector2.append(tmp)\n",
    "train_mean_vector2 = np.array(train_mean_vector2)"
   ]
  },
  {
   "cell_type": "code",
   "execution_count": 47,
   "metadata": {},
   "outputs": [
    {
     "name": "stderr",
     "output_type": "stream",
     "text": [
      "100%|████████████████████████████████████████████████████████████████████████| 10000/10000 [00:00<00:00, 111089.73it/s]\n"
     ]
    }
   ],
   "source": [
    "test_mean_vector2 = []\n",
    "for words in tqdm(test_data):\n",
    "    tmp = np.zeros(30)\n",
    "    cnt = 0\n",
    "    for word in words:\n",
    "        try:\n",
    "            tmp += w2v[word]\n",
    "            cnt += 1\n",
    "        except:\n",
    "            pass\n",
    "    tmp /= cnt\n",
    "    test_mean_vector2.append(tmp)\n",
    "test_mean_vector2 = np.array(test_mean_vector2)"
   ]
  },
  {
   "cell_type": "code",
   "execution_count": 48,
   "metadata": {},
   "outputs": [],
   "source": [
    "trn['car_before>mean'] = trn['car'].astype(str) + \"_\" + trn['before_EMPLOYED>mean'].astype(str)\n",
    "tst['car_before>mean'] = tst['car'].astype(str) + \"_\" + tst['before_EMPLOYED>mean'].astype(str)\n",
    "\n",
    "trn['car_income>mean'] = trn['car'].astype(str) + \"_\" + trn['income>mean'].astype(str)\n",
    "tst['car_income>mean'] = tst['car'].astype(str) + \"_\" + tst['income>mean'].astype(str)\n",
    "\n",
    "trn['car_begin_month>mean'] = trn['car'].astype(str) + \"_\" + trn['begin_month>mean'].astype(str)\n",
    "tst['car_begin_month>mean'] = tst['car'].astype(str) + \"_\" + tst['begin_month>mean'].astype(str)\n",
    "\n",
    "trn['car_income_type'] = trn['car'].astype(str) + \"_\" + trn['income_type'].astype(str)\n",
    "tst['car_income_type'] = tst['car'].astype(str) + \"_\" + tst['income_type'].astype(str)\n",
    "\n",
    "trn['car_begin_month>mean_occyp'] = trn['car'].astype(str) + \"_\" + trn['begin_month>mean'].astype(str) + \"_\" + trn['occyp_type'].astype(str)\n",
    "tst['car_begin_month>mean_occyp'] = tst['car'].astype(str) + \"_\" + tst['begin_month>mean'].astype(str) + \"_\" + tst['occyp_type'].astype(str)"
   ]
  },
  {
   "cell_type": "code",
   "execution_count": 49,
   "metadata": {},
   "outputs": [],
   "source": [
    "trn['child_it']=trn['child_num'].apply(lambda x: 1 if x >0 else 0)\n",
    "tst['child_it']=tst['child_num'].apply(lambda x: 1 if x >0 else 0)\n",
    "trn['marry_child']='no'\n",
    "tst['marry_child']='no'"
   ]
  },
  {
   "cell_type": "code",
   "execution_count": 50,
   "metadata": {},
   "outputs": [],
   "source": [
    "trn.loc[trn[trn.family_type=='Separated'][trn.child_it==1].index,'marry_child']='sep_ch'\n",
    "trn.loc[trn[trn.family_type=='Single / not married'][trn.child_it==1].index,'marry_child']='sin_ch'\n",
    "trn.loc[trn[trn.family_type=='Widow'][trn.child_it==1].index,'marry_child']='wid_ch'\n",
    "\n",
    "tst.loc[tst[tst.family_type=='Separated'][tst.child_it==1].index,'marry_child']='sep_ch'\n",
    "tst.loc[tst[tst.family_type=='Single / not married'][tst.child_it==1].index,'marry_child']='sin_ch'\n",
    "tst.loc[tst[tst.family_type=='Widow'][tst.child_it==1].index,'marry_child']='wid_ch'"
   ]
  },
  {
   "cell_type": "code",
   "execution_count": 51,
   "metadata": {},
   "outputs": [],
   "source": [
    "trn.drop('child_it', axis=1, inplace=True)\n",
    "tst.drop('child_it', axis=1, inplace=True)"
   ]
  },
  {
   "cell_type": "code",
   "execution_count": 52,
   "metadata": {},
   "outputs": [],
   "source": [
    "trn = pd.concat([trn, pd.get_dummies(trn['age_group'])], axis=1)\n",
    "tst = pd.concat([tst, pd.get_dummies(tst['age_group'])], axis=1)"
   ]
  },
  {
   "cell_type": "code",
   "execution_count": 53,
   "metadata": {},
   "outputs": [],
   "source": [
    "trn['age_group']=trn['age_group'].astype('object')\n",
    "tst['age_group']=tst['age_group'].astype('object')"
   ]
  },
  {
   "cell_type": "code",
   "execution_count": 54,
   "metadata": {},
   "outputs": [
    {
     "name": "stdout",
     "output_type": "stream",
     "text": [
      "63 20 43\n"
     ]
    }
   ],
   "source": [
    "cat_cols = [x for x in trn.columns if trn[x].dtype == 'object']\n",
    "num_cols = [x for x in trn.columns if x not in cat_cols + [target_col]]\n",
    "\n",
    "feature_cols = num_cols + cat_cols\n",
    "print(len(feature_cols), len(cat_cols), len(num_cols))"
   ]
  },
  {
   "cell_type": "code",
   "execution_count": 55,
   "metadata": {},
   "outputs": [],
   "source": [
    "from sklearn.preprocessing import LabelEncoder\n",
    "lbe = LabelEncoder()"
   ]
  },
  {
   "cell_type": "code",
   "execution_count": 56,
   "metadata": {},
   "outputs": [],
   "source": [
    "for i in cat_cols:\n",
    "    trn[i]=lbe.fit_transform(trn[i])"
   ]
  },
  {
   "cell_type": "code",
   "execution_count": 57,
   "metadata": {},
   "outputs": [],
   "source": [
    "for i in cat_cols:\n",
    "    tst[i]=lbe.fit_transform(tst[i])"
   ]
  },
  {
   "cell_type": "code",
   "execution_count": 58,
   "metadata": {},
   "outputs": [],
   "source": [
    "minus = ['begin_month', 'DAYS_BIRTH_month', 'DAYS_BIRTH_week', 'DAYS_EMPLOYED_month', 'DAYS_EMPLOYED_week', 'before_EMPLOYED_month', 'before_EMPLOYED_week']\n",
    "trn[minus] = -trn[minus]\n",
    "tst[minus] = -tst[minus]"
   ]
  },
  {
   "cell_type": "code",
   "execution_count": 59,
   "metadata": {},
   "outputs": [],
   "source": [
    "from sklearn.preprocessing import StandardScaler\n",
    "scaler = StandardScaler()\n",
    "trn[num_cols] = scaler.fit_transform(trn[num_cols])\n",
    "tst[num_cols] = scaler.transform(tst[num_cols])"
   ]
  },
  {
   "cell_type": "code",
   "execution_count": 60,
   "metadata": {},
   "outputs": [],
   "source": [
    "#trn = pd.concat([trn, pd.get_dummies(trn[cat_cols])], axis=1)\n",
    "#trn.drop(cat_cols, axis=1, inplace=True)"
   ]
  },
  {
   "cell_type": "code",
   "execution_count": 61,
   "metadata": {},
   "outputs": [],
   "source": [
    "#tst = pd.concat([tst, pd.get_dummies(tst[cat_cols])], axis=1)\n",
    "#tst.drop(cat_cols, axis=1, inplace=True)"
   ]
  },
  {
   "cell_type": "code",
   "execution_count": null,
   "metadata": {},
   "outputs": [],
   "source": []
  },
  {
   "cell_type": "code",
   "execution_count": 62,
   "metadata": {},
   "outputs": [],
   "source": [
    "train_mean_vector = pd.DataFrame(train_mean_vector)\n",
    "trn = pd.concat([trn, train_mean_vector], axis=1)\n",
    "\n",
    "test_mean_vector = pd.DataFrame(test_mean_vector)\n",
    "test_mean_vector.index = tst.index\n",
    "tst = pd.concat([tst, test_mean_vector], axis=1)"
   ]
  },
  {
   "cell_type": "code",
   "execution_count": 63,
   "metadata": {},
   "outputs": [],
   "source": [
    "train_mean_vector2 = pd.DataFrame(train_mean_vector2)\n",
    "trn = pd.concat([trn, train_mean_vector2], axis=1)\n",
    "\n",
    "test_mean_vector2 = pd.DataFrame(test_mean_vector2)\n",
    "test_mean_vector2.index = tst.index\n",
    "tst = pd.concat([tst, test_mean_vector2], axis=1)"
   ]
  },
  {
   "cell_type": "code",
   "execution_count": 64,
   "metadata": {},
   "outputs": [],
   "source": [
    "#trn[num_cols] = np.log1p(trn[num_cols])\n",
    "#tst[num_cols] = np.log1p(trn[num_cols])"
   ]
  },
  {
   "cell_type": "code",
   "execution_count": 65,
   "metadata": {},
   "outputs": [],
   "source": [
    "y = trn[target_col]\n",
    "n_trn = trn.shape[0]\n",
    "X = trn.drop(target_col, axis=1)\n",
    "X_tst = tst"
   ]
  },
  {
   "cell_type": "code",
   "execution_count": 114,
   "metadata": {},
   "outputs": [],
   "source": [
    "y=y.reset_index()"
   ]
  },
  {
   "cell_type": "code",
   "execution_count": 117,
   "metadata": {},
   "outputs": [],
   "source": [
    "y.set_index('index',inplace=True)"
   ]
  },
  {
   "cell_type": "code",
   "execution_count": 77,
   "metadata": {},
   "outputs": [],
   "source": [
    "X=X.reset_index().set_index('index')\n",
    "X_tst=X_tst.set_index(np.arange(26457,36457)).reset_index().set_index('index')"
   ]
  },
  {
   "cell_type": "code",
   "execution_count": 78,
   "metadata": {},
   "outputs": [
    {
     "data": {
      "text/plain": [
       "((26457, 123), (10000, 123), (26457, 1))"
      ]
     },
     "execution_count": 78,
     "metadata": {},
     "output_type": "execute_result"
    }
   ],
   "source": [
    "X.shape, X_tst.shape, y.shape"
   ]
  },
  {
   "cell_type": "code",
   "execution_count": 79,
   "metadata": {},
   "outputs": [],
   "source": [
    "target=y"
   ]
  },
  {
   "cell_type": "code",
   "execution_count": 84,
   "metadata": {},
   "outputs": [],
   "source": [
    "from sklearn.linear_model import LogisticRegression\n",
    "from sklearn.model_selection import cross_validate\n",
    "from tqdm import tqdm\n",
    "# Evaluation\n",
    "from sklearn.metrics import roc_auc_score\n",
    "from sklearn.metrics import accuracy_score\n",
    "from sklearn.model_selection import cross_val_score\n",
    "from sklearn.feature_selection import SelectPercentile\n",
    "\n",
    "from sklearn.metrics import accuracy_score, log_loss\n",
    "from sklearn.metrics import f1_score\n",
    "from tensorflow.keras.utils import to_categorical\n",
    "from sklearn.model_selection import KFold, StratifiedKFold\n",
    "from sklearn.ensemble import RandomForestClassifier, ExtraTreesClassifier\n",
    "from lightgbm import LGBMClassifier\n",
    "from xgboost import XGBClassifier"
   ]
  },
  {
   "cell_type": "code",
   "execution_count": 85,
   "metadata": {},
   "outputs": [
    {
     "name": "stderr",
     "output_type": "stream",
     "text": [
      "100%|██████████████████████████████████████████████████████████████████████████████████| 95/95 [14:28<00:00,  9.15s/it]"
     ]
    },
    {
     "name": "stdout",
     "output_type": "stream",
     "text": [
      "(60, -0.7441855046675876)\n"
     ]
    },
    {
     "name": "stderr",
     "output_type": "stream",
     "text": [
      "\n"
     ]
    },
    {
     "data": {
      "image/png": "[encoded data removed]",
      "text/plain": [
       "<Figure size 432x288 with 1 Axes>"
      ]
     },
     "metadata": {},
     "output_type": "display_data"
    }
   ],
   "source": [
    "# 학습용과 제출용 데이터로 분리\n",
    "features = pd.concat([X, X_tst], axis=0)\n",
    "X_train = X\n",
    "X_test = X_tst\n",
    "\n",
    "# 사용할 모델 설정 (속도가 빠른 모델 사용 권장)\n",
    "model = LGBMClassifier(random_state=0)\n",
    "\n",
    "# 각 특성과 타깃(class) 사이에 유의한 통계적 관계가 있는지 계산하여 특성을 선택하는 방법 \n",
    "cv_scores = []\n",
    "for p in tqdm(range(5,100,1)):\n",
    "    #X_new = SelectPercentile(percentile=p).fit_transform(X_train, target)    #SelectPercentile: 지정된 비율만큼 특성을 선택한다.\n",
    "    X_new = RFE(model, n_features_to_select=p, step=10).fit_transform(X_train, target)\n",
    "    cv_score = cross_val_score(model, X_new, target, scoring='neg_log_loss', cv=5).mean()\n",
    "    cv_scores.append((p,cv_score))\n",
    "\n",
    "# Print the best percentile\n",
    "best_score = cv_scores[np.argmax([score for _, score in cv_scores])]\n",
    "print(best_score)\n",
    "\n",
    "# Plot the performance change with p\n",
    "plt.plot([k for k, _ in cv_scores], [score for _, score in cv_scores])\n",
    "plt.xlabel('Percent of features')\n",
    "plt.grid()"
   ]
  },
  {
   "cell_type": "code",
   "execution_count": 86,
   "metadata": {},
   "outputs": [
    {
     "name": "stdout",
     "output_type": "stream",
     "text": [
      "(26457, 60)\n",
      "['reality', 'income_total', 'DAYS_BIRTH', 'DAYS_EMPLOYED', 'work_phone', 'phone', 'begin_month', 'child_ratio', 'employed_ratio', 'mean_income_family', 'income_employed', 'income_begin_ratio', 'family_age_ratio', 'DAYS_BIRTH_month', 'DAYS_BIRTH_week', 'DAYS_EMPLOYED_month', 'DAYS_EMPLOYED_week', 'before_EMPLOYED', 'before_EMPLOYED_month', 'before_EMPLOYED_week', 'before_EMPLOYED_BIRTH_ratio', 'before_EMPLOYED_ratio', 'edu_occyp_type', 'edu_income_type', 'family_income_type', 'house_type_income', 'occyp_type_income', 'car_before>mean', 'car_income>mean', 'car_begin_month>mean_occyp', 0, 1, 2, 3, 4, 5, 7, 8, 9, 10, 11, 12, 13, 14, 16, 18, 21, 22, 25, 27, 29, 0, 1, 3, 5, 6, 8, 17, 22, 27]\n"
     ]
    }
   ],
   "source": [
    "# 과적합을 피하기 위해 최적의 p값 주변의 값을 선택하는게 더 나은 결과를 얻을 수 있다. \n",
    "#fs = SelectPercentile(percentile=best_score[0]).fit(X_train, y)\n",
    "#X_train = fs.transform(X_train)\n",
    "#X_test = fs.transform(X_test)\n",
    "fs = RFE(estimator=LGBMClassifier(random_state=0), n_features_to_select=best_score[0], step=10)\n",
    "X_train = fs.fit_transform(X_train, target)\n",
    "X_test = fs.transform(X_test)\n",
    "\n",
    "print(X_train.shape)\n",
    "print(features.columns[fs.get_support()].tolist())"
   ]
  },
  {
   "cell_type": "markdown",
   "metadata": {},
   "source": [
    "### Model Training"
   ]
  },
  {
   "cell_type": "markdown",
   "metadata": {},
   "source": [
    "#### 5-fold Cross Validation + AutoLGB"
   ]
  },
  {
   "cell_type": "code",
   "execution_count": 313,
   "metadata": {
    "collapsed": true
   },
   "outputs": [
    {
     "ename": "IndexError",
     "evalue": "list index out of range",
     "output_type": "error",
     "traceback": [
      "\u001b[1;31m---------------------------------------------------------------------------\u001b[0m",
      "\u001b[1;31mIndexError\u001b[0m                                Traceback (most recent call last)",
      "\u001b[1;32m<ipython-input-313-97113397fc2b>\u001b[0m in \u001b[0;36m<module>\u001b[1;34m\u001b[0m\n\u001b[0;32m     12\u001b[0m         clf = AutoLGB(objective='multiclass', metric='multi_logloss', params=params, \n\u001b[0;32m     13\u001b[0m                       feature_selection=False, n_est=10000)\n\u001b[1;32m---> 14\u001b[1;33m         \u001b[0mclf\u001b[0m\u001b[1;33m.\u001b[0m\u001b[0mtune\u001b[0m\u001b[1;33m(\u001b[0m\u001b[0mX\u001b[0m\u001b[1;33m.\u001b[0m\u001b[0miloc\u001b[0m\u001b[1;33m[\u001b[0m\u001b[0mi_trn\u001b[0m\u001b[1;33m]\u001b[0m\u001b[1;33m,\u001b[0m \u001b[0my\u001b[0m\u001b[1;33m[\u001b[0m\u001b[0mi_trn\u001b[0m\u001b[1;33m]\u001b[0m\u001b[1;33m)\u001b[0m\u001b[1;33m\u001b[0m\u001b[1;33m\u001b[0m\u001b[0m\n\u001b[0m\u001b[0;32m     15\u001b[0m         \u001b[0mn_best\u001b[0m \u001b[1;33m=\u001b[0m \u001b[0mclf\u001b[0m\u001b[1;33m.\u001b[0m\u001b[0mn_best\u001b[0m\u001b[1;33m\u001b[0m\u001b[1;33m\u001b[0m\u001b[0m\n\u001b[0;32m     16\u001b[0m         \u001b[0mfeatures\u001b[0m \u001b[1;33m=\u001b[0m \u001b[0mclf\u001b[0m\u001b[1;33m.\u001b[0m\u001b[0mfeatures\u001b[0m\u001b[1;33m\u001b[0m\u001b[1;33m\u001b[0m\u001b[0m\n",
      "\u001b[1;32m~\\anaconda3\\lib\\site-packages\\kaggler\\model\\automl.py\u001b[0m in \u001b[0;36mtune\u001b[1;34m(self, X, y)\u001b[0m\n\u001b[0;32m    137\u001b[0m         \u001b[1;32mif\u001b[0m \u001b[0mself\u001b[0m\u001b[1;33m.\u001b[0m\u001b[0mhyperparam_opt\u001b[0m\u001b[1;33m:\u001b[0m\u001b[1;33m\u001b[0m\u001b[1;33m\u001b[0m\u001b[0m\n\u001b[0;32m    138\u001b[0m             \u001b[0mlogger\u001b[0m\u001b[1;33m.\u001b[0m\u001b[0minfo\u001b[0m\u001b[1;33m(\u001b[0m\u001b[1;34m'hyper-parameter tuning'\u001b[0m\u001b[1;33m)\u001b[0m\u001b[1;33m\u001b[0m\u001b[1;33m\u001b[0m\u001b[0m\n\u001b[1;32m--> 139\u001b[1;33m             hyperparams, trials = self.optimize_hyperparam(X_s[self.features].values,\n\u001b[0m\u001b[0;32m    140\u001b[0m                                                            \u001b[0my_s\u001b[0m\u001b[1;33m.\u001b[0m\u001b[0mvalues\u001b[0m\u001b[1;33m,\u001b[0m\u001b[1;33m\u001b[0m\u001b[1;33m\u001b[0m\u001b[0m\n\u001b[0;32m    141\u001b[0m                                                            n_eval=self.n_hpopt)\n",
      "\u001b[1;32m~\\anaconda3\\lib\\site-packages\\kaggler\\model\\automl.py\u001b[0m in \u001b[0;36moptimize_hyperparam\u001b[1;34m(self, X, y, test_size, n_eval)\u001b[0m\n\u001b[0;32m    403\u001b[0m \u001b[1;33m\u001b[0m\u001b[0m\n\u001b[0;32m    404\u001b[0m         \u001b[0mtrials\u001b[0m \u001b[1;33m=\u001b[0m \u001b[0mTrials\u001b[0m\u001b[1;33m(\u001b[0m\u001b[1;33m)\u001b[0m\u001b[1;33m\u001b[0m\u001b[1;33m\u001b[0m\u001b[0m\n\u001b[1;32m--> 405\u001b[1;33m         best = hyperopt.fmin(fn=objective, space=self.space, trials=trials,\n\u001b[0m\u001b[0;32m    406\u001b[0m                              \u001b[0malgo\u001b[0m\u001b[1;33m=\u001b[0m\u001b[0mtpe\u001b[0m\u001b[1;33m.\u001b[0m\u001b[0msuggest\u001b[0m\u001b[1;33m,\u001b[0m \u001b[0mmax_evals\u001b[0m\u001b[1;33m=\u001b[0m\u001b[0mn_eval\u001b[0m\u001b[1;33m,\u001b[0m \u001b[0mverbose\u001b[0m\u001b[1;33m=\u001b[0m\u001b[1;36m1\u001b[0m\u001b[1;33m,\u001b[0m\u001b[1;33m\u001b[0m\u001b[1;33m\u001b[0m\u001b[0m\n\u001b[0;32m    407\u001b[0m                              rstate=self.random_state)\n",
      "\u001b[1;32m~\\anaconda3\\lib\\site-packages\\hyperopt\\fmin.py\u001b[0m in \u001b[0;36mfmin\u001b[1;34m(fn, space, algo, max_evals, timeout, loss_threshold, trials, rstate, allow_trials_fmin, pass_expr_memo_ctrl, catch_eval_exceptions, verbose, return_argmin, points_to_evaluate, max_queue_len, show_progressbar, early_stop_fn, trials_save_file)\u001b[0m\n\u001b[0;32m    505\u001b[0m \u001b[1;33m\u001b[0m\u001b[0m\n\u001b[0;32m    506\u001b[0m     \u001b[1;32mif\u001b[0m \u001b[0mallow_trials_fmin\u001b[0m \u001b[1;32mand\u001b[0m \u001b[0mhasattr\u001b[0m\u001b[1;33m(\u001b[0m\u001b[0mtrials\u001b[0m\u001b[1;33m,\u001b[0m \u001b[1;34m\"fmin\"\u001b[0m\u001b[1;33m)\u001b[0m\u001b[1;33m:\u001b[0m\u001b[1;33m\u001b[0m\u001b[1;33m\u001b[0m\u001b[0m\n\u001b[1;32m--> 507\u001b[1;33m         return trials.fmin(\n\u001b[0m\u001b[0;32m    508\u001b[0m             \u001b[0mfn\u001b[0m\u001b[1;33m,\u001b[0m\u001b[1;33m\u001b[0m\u001b[1;33m\u001b[0m\u001b[0m\n\u001b[0;32m    509\u001b[0m             \u001b[0mspace\u001b[0m\u001b[1;33m,\u001b[0m\u001b[1;33m\u001b[0m\u001b[1;33m\u001b[0m\u001b[0m\n",
      "\u001b[1;32m~\\anaconda3\\lib\\site-packages\\hyperopt\\base.py\u001b[0m in \u001b[0;36mfmin\u001b[1;34m(self, fn, space, algo, max_evals, timeout, loss_threshold, max_queue_len, rstate, verbose, pass_expr_memo_ctrl, catch_eval_exceptions, return_argmin, show_progressbar, early_stop_fn, trials_save_file)\u001b[0m\n\u001b[0;32m    680\u001b[0m         \u001b[1;32mfrom\u001b[0m \u001b[1;33m.\u001b[0m\u001b[0mfmin\u001b[0m \u001b[1;32mimport\u001b[0m \u001b[0mfmin\u001b[0m\u001b[1;33m\u001b[0m\u001b[1;33m\u001b[0m\u001b[0m\n\u001b[0;32m    681\u001b[0m \u001b[1;33m\u001b[0m\u001b[0m\n\u001b[1;32m--> 682\u001b[1;33m         return fmin(\n\u001b[0m\u001b[0;32m    683\u001b[0m             \u001b[0mfn\u001b[0m\u001b[1;33m,\u001b[0m\u001b[1;33m\u001b[0m\u001b[1;33m\u001b[0m\u001b[0m\n\u001b[0;32m    684\u001b[0m             \u001b[0mspace\u001b[0m\u001b[1;33m,\u001b[0m\u001b[1;33m\u001b[0m\u001b[1;33m\u001b[0m\u001b[0m\n",
      "\u001b[1;32m~\\anaconda3\\lib\\site-packages\\hyperopt\\fmin.py\u001b[0m in \u001b[0;36mfmin\u001b[1;34m(fn, space, algo, max_evals, timeout, loss_threshold, trials, rstate, allow_trials_fmin, pass_expr_memo_ctrl, catch_eval_exceptions, verbose, return_argmin, points_to_evaluate, max_queue_len, show_progressbar, early_stop_fn, trials_save_file)\u001b[0m\n\u001b[0;32m    532\u001b[0m             \u001b[0mtrials\u001b[0m \u001b[1;33m=\u001b[0m \u001b[0mgenerate_trials_to_calculate\u001b[0m\u001b[1;33m(\u001b[0m\u001b[0mpoints_to_evaluate\u001b[0m\u001b[1;33m)\u001b[0m\u001b[1;33m\u001b[0m\u001b[1;33m\u001b[0m\u001b[0m\n\u001b[0;32m    533\u001b[0m \u001b[1;33m\u001b[0m\u001b[0m\n\u001b[1;32m--> 534\u001b[1;33m     \u001b[0mdomain\u001b[0m \u001b[1;33m=\u001b[0m \u001b[0mbase\u001b[0m\u001b[1;33m.\u001b[0m\u001b[0mDomain\u001b[0m\u001b[1;33m(\u001b[0m\u001b[0mfn\u001b[0m\u001b[1;33m,\u001b[0m \u001b[0mspace\u001b[0m\u001b[1;33m,\u001b[0m \u001b[0mpass_expr_memo_ctrl\u001b[0m\u001b[1;33m=\u001b[0m\u001b[0mpass_expr_memo_ctrl\u001b[0m\u001b[1;33m)\u001b[0m\u001b[1;33m\u001b[0m\u001b[1;33m\u001b[0m\u001b[0m\n\u001b[0m\u001b[0;32m    535\u001b[0m \u001b[1;33m\u001b[0m\u001b[0m\n\u001b[0;32m    536\u001b[0m     rval = FMinIter(\n",
      "\u001b[1;32m~\\anaconda3\\lib\\site-packages\\hyperopt\\base.py\u001b[0m in \u001b[0;36m__init__\u001b[1;34m(self, fn, expr, workdir, pass_expr_memo_ctrl, name, loss_target)\u001b[0m\n\u001b[0;32m    850\u001b[0m         \u001b[0mbefore\u001b[0m \u001b[1;33m=\u001b[0m \u001b[0mpyll\u001b[0m\u001b[1;33m.\u001b[0m\u001b[0mdfs\u001b[0m\u001b[1;33m(\u001b[0m\u001b[0mself\u001b[0m\u001b[1;33m.\u001b[0m\u001b[0mexpr\u001b[0m\u001b[1;33m)\u001b[0m\u001b[1;33m\u001b[0m\u001b[1;33m\u001b[0m\u001b[0m\n\u001b[0;32m    851\u001b[0m         \u001b[1;31m# -- raises exception if expr contains cycles\u001b[0m\u001b[1;33m\u001b[0m\u001b[1;33m\u001b[0m\u001b[1;33m\u001b[0m\u001b[0m\n\u001b[1;32m--> 852\u001b[1;33m         \u001b[0mpyll\u001b[0m\u001b[1;33m.\u001b[0m\u001b[0mtoposort\u001b[0m\u001b[1;33m(\u001b[0m\u001b[0mself\u001b[0m\u001b[1;33m.\u001b[0m\u001b[0mexpr\u001b[0m\u001b[1;33m)\u001b[0m\u001b[1;33m\u001b[0m\u001b[1;33m\u001b[0m\u001b[0m\n\u001b[0m\u001b[0;32m    853\u001b[0m         \u001b[0mvh\u001b[0m \u001b[1;33m=\u001b[0m \u001b[0mself\u001b[0m\u001b[1;33m.\u001b[0m\u001b[0mvh\u001b[0m \u001b[1;33m=\u001b[0m \u001b[0mVectorizeHelper\u001b[0m\u001b[1;33m(\u001b[0m\u001b[0mself\u001b[0m\u001b[1;33m.\u001b[0m\u001b[0mexpr\u001b[0m\u001b[1;33m,\u001b[0m \u001b[0mself\u001b[0m\u001b[1;33m.\u001b[0m\u001b[0ms_new_ids\u001b[0m\u001b[1;33m)\u001b[0m\u001b[1;33m\u001b[0m\u001b[1;33m\u001b[0m\u001b[0m\n\u001b[0;32m    854\u001b[0m         \u001b[1;31m# -- raises exception if v_expr contains cycles\u001b[0m\u001b[1;33m\u001b[0m\u001b[1;33m\u001b[0m\u001b[1;33m\u001b[0m\u001b[0m\n",
      "\u001b[1;32m~\\anaconda3\\lib\\site-packages\\hyperopt\\pyll\\base.py\u001b[0m in \u001b[0;36mtoposort\u001b[1;34m(expr)\u001b[0m\n\u001b[0;32m    710\u001b[0m         \u001b[0mG\u001b[0m\u001b[1;33m.\u001b[0m\u001b[0madd_edges_from\u001b[0m\u001b[1;33m(\u001b[0m\u001b[1;33m[\u001b[0m\u001b[1;33m(\u001b[0m\u001b[0mn_in\u001b[0m\u001b[1;33m,\u001b[0m \u001b[0mnode\u001b[0m\u001b[1;33m)\u001b[0m \u001b[1;32mfor\u001b[0m \u001b[0mn_in\u001b[0m \u001b[1;32min\u001b[0m \u001b[0mnode\u001b[0m\u001b[1;33m.\u001b[0m\u001b[0minputs\u001b[0m\u001b[1;33m(\u001b[0m\u001b[1;33m)\u001b[0m\u001b[1;33m]\u001b[0m\u001b[1;33m)\u001b[0m\u001b[1;33m\u001b[0m\u001b[1;33m\u001b[0m\u001b[0m\n\u001b[0;32m    711\u001b[0m     \u001b[0morder\u001b[0m \u001b[1;33m=\u001b[0m \u001b[0mlist\u001b[0m\u001b[1;33m(\u001b[0m\u001b[0mnx\u001b[0m\u001b[1;33m.\u001b[0m\u001b[0mtopological_sort\u001b[0m\u001b[1;33m(\u001b[0m\u001b[0mG\u001b[0m\u001b[1;33m)\u001b[0m\u001b[1;33m)\u001b[0m\u001b[1;33m\u001b[0m\u001b[1;33m\u001b[0m\u001b[0m\n\u001b[1;32m--> 712\u001b[1;33m     \u001b[1;32massert\u001b[0m \u001b[0morder\u001b[0m\u001b[1;33m[\u001b[0m\u001b[1;33m-\u001b[0m\u001b[1;36m1\u001b[0m\u001b[1;33m]\u001b[0m \u001b[1;33m==\u001b[0m \u001b[0mexpr\u001b[0m\u001b[1;33m\u001b[0m\u001b[1;33m\u001b[0m\u001b[0m\n\u001b[0m\u001b[0;32m    713\u001b[0m     \u001b[1;32mreturn\u001b[0m \u001b[0morder\u001b[0m\u001b[1;33m\u001b[0m\u001b[1;33m\u001b[0m\u001b[0m\n\u001b[0;32m    714\u001b[0m \u001b[1;33m\u001b[0m\u001b[0m\n",
      "\u001b[1;31mIndexError\u001b[0m: list index out of range"
     ]
    }
   ],
   "source": [
    "n_class = 3\n",
    "n_fold = 5\n",
    "\n",
    "params = {'num_class': n_class}\n",
    "\n",
    "cv = StratifiedKFold(n_splits=n_fold)\n",
    "\n",
    "p = np.zeros((X.shape[0], n_class), dtype=float)\n",
    "p_tst = np.zeros((X_tst.shape[0], n_class), dtype=float)\n",
    "for i_cv, (i_trn, i_val) in enumerate(cv.split(X, y)):\n",
    "    if i_cv == 0:\n",
    "        clf = AutoLGB(objective='multiclass', metric='multi_logloss', params=params, \n",
    "                      feature_selection=False, n_est=10000)\n",
    "        clf.tune(X.iloc[i_trn], y[i_trn])\n",
    "        n_best = clf.n_best\n",
    "        features = clf.features\n",
    "        params = clf.params\n",
    "        print(f'best iteration: {n_best}')\n",
    "        print(f'selected features ({len(features)}): {features}')        \n",
    "        pprint(params)\n",
    "        clf.fit(X.iloc[i_trn], y[i_trn])\n",
    "    else:\n",
    "        train_data = lgb.Dataset(X[features].iloc[i_trn], label=y[i_trn])\n",
    "        clf = lgb.train(params, train_data, n_best, verbose_eval=100)\n",
    "    \n",
    "    p[i_val] = clf.predict(X[features].iloc[i_val])\n",
    "    p_tst += clf.predict(X_tst[features]) / n_fold   # oof"
   ]
  },
  {
   "cell_type": "code",
   "execution_count": 70,
   "metadata": {
    "scrolled": true
   },
   "outputs": [
    {
     "name": "stdout",
     "output_type": "stream",
     "text": [
      "CV Log Loss: 1.098612\n"
     ]
    }
   ],
   "source": [
    "print(f'CV Log Loss: {log_loss(y, p):.6f}')\n",
    "np.savetxt(predict_val_file, p, fmt='%.6f')\n",
    "np.savetxt(predict_tst_file, p_tst, fmt='%.6f')"
   ]
  },
  {
   "cell_type": "code",
   "execution_count": 170,
   "metadata": {},
   "outputs": [
    {
     "data": {
      "text/html": [
       "<div>\n",
       "<style scoped>\n",
       "    .dataframe tbody tr th:only-of-type {\n",
       "        vertical-align: middle;\n",
       "    }\n",
       "\n",
       "    .dataframe tbody tr th {\n",
       "        vertical-align: top;\n",
       "    }\n",
       "\n",
       "    .dataframe thead th {\n",
       "        text-align: right;\n",
       "    }\n",
       "</style>\n",
       "<table border=\"1\" class=\"dataframe\">\n",
       "  <thead>\n",
       "    <tr style=\"text-align: right;\">\n",
       "      <th></th>\n",
       "      <th>0</th>\n",
       "      <th>1</th>\n",
       "      <th>2</th>\n",
       "    </tr>\n",
       "    <tr>\n",
       "      <th>index</th>\n",
       "      <th></th>\n",
       "      <th></th>\n",
       "      <th></th>\n",
       "    </tr>\n",
       "  </thead>\n",
       "  <tbody>\n",
       "    <tr>\n",
       "      <th>26457</th>\n",
       "      <td>0.085760</td>\n",
       "      <td>0.171326</td>\n",
       "      <td>0.742913</td>\n",
       "    </tr>\n",
       "    <tr>\n",
       "      <th>26458</th>\n",
       "      <td>0.140151</td>\n",
       "      <td>0.160011</td>\n",
       "      <td>0.699838</td>\n",
       "    </tr>\n",
       "    <tr>\n",
       "      <th>26459</th>\n",
       "      <td>0.082076</td>\n",
       "      <td>0.118417</td>\n",
       "      <td>0.799507</td>\n",
       "    </tr>\n",
       "    <tr>\n",
       "      <th>26460</th>\n",
       "      <td>0.102079</td>\n",
       "      <td>0.142700</td>\n",
       "      <td>0.755221</td>\n",
       "    </tr>\n",
       "    <tr>\n",
       "      <th>26461</th>\n",
       "      <td>0.108594</td>\n",
       "      <td>0.167827</td>\n",
       "      <td>0.723579</td>\n",
       "    </tr>\n",
       "  </tbody>\n",
       "</table>\n",
       "</div>"
      ],
      "text/plain": [
       "              0         1         2\n",
       "index                              \n",
       "26457  0.085760  0.171326  0.742913\n",
       "26458  0.140151  0.160011  0.699838\n",
       "26459  0.082076  0.118417  0.799507\n",
       "26460  0.102079  0.142700  0.755221\n",
       "26461  0.108594  0.167827  0.723579"
      ]
     },
     "execution_count": 170,
     "metadata": {},
     "output_type": "execute_result"
    }
   ],
   "source": [
    "sub[sub.columns] = p_tst\n",
    "sub.head()"
   ]
  },
  {
   "cell_type": "code",
   "execution_count": 33,
   "metadata": {},
   "outputs": [],
   "source": [
    "sub.to_csv('0514(feature+w2v).csv')"
   ]
  },
  {
   "cell_type": "markdown",
   "metadata": {},
   "source": [
    "#### LGBM 모델"
   ]
  },
  {
   "cell_type": "code",
   "execution_count": 90,
   "metadata": {},
   "outputs": [],
   "source": [
    "X_train2=pd.DataFrame(X_train,columns=features.columns[fs.get_support()].tolist())"
   ]
  },
  {
   "cell_type": "code",
   "execution_count": 93,
   "metadata": {},
   "outputs": [],
   "source": [
    "X_test2=pd.DataFrame(X_test,columns=features.columns[fs.get_support()].tolist())"
   ]
  },
  {
   "cell_type": "code",
   "execution_count": 94,
   "metadata": {},
   "outputs": [],
   "source": [
    "ftr = X_train2\n",
    "target = y"
   ]
  },
  {
   "cell_type": "code",
   "execution_count": 95,
   "metadata": {},
   "outputs": [
    {
     "data": {
      "text/plain": [
       "((18519, 60), (7938, 60))"
      ]
     },
     "execution_count": 95,
     "metadata": {},
     "output_type": "execute_result"
    }
   ],
   "source": [
    "from sklearn.model_selection import train_test_split\n",
    "\n",
    "train_x, valid_x, train_y, valid_y = train_test_split(ftr, target, test_size=0.3, random_state=0)\n",
    "train_x.shape, valid_x.shape"
   ]
  },
  {
   "cell_type": "code",
   "execution_count": 66,
   "metadata": {},
   "outputs": [
    {
     "name": "stdout",
     "output_type": "stream",
     "text": [
      "Training until validation scores don't improve for 50 rounds\n",
      "[100]\ttraining's multi_logloss: 0.758862\tvalid_1's multi_logloss: 0.79075\n",
      "[200]\ttraining's multi_logloss: 0.711925\tvalid_1's multi_logloss: 0.771716\n",
      "[300]\ttraining's multi_logloss: 0.67511\tvalid_1's multi_logloss: 0.758973\n",
      "[400]\ttraining's multi_logloss: 0.645594\tvalid_1's multi_logloss: 0.751094\n",
      "[500]\ttraining's multi_logloss: 0.619963\tvalid_1's multi_logloss: 0.74541\n",
      "[600]\ttraining's multi_logloss: 0.597644\tvalid_1's multi_logloss: 0.741177\n",
      "[700]\ttraining's multi_logloss: 0.576468\tvalid_1's multi_logloss: 0.737803\n",
      "[800]\ttraining's multi_logloss: 0.55652\tvalid_1's multi_logloss: 0.735359\n",
      "[900]\ttraining's multi_logloss: 0.538757\tvalid_1's multi_logloss: 0.733659\n",
      "[1000]\ttraining's multi_logloss: 0.521743\tvalid_1's multi_logloss: 0.732353\n",
      "Did not meet early stopping. Best iteration is:\n",
      "[1000]\ttraining's multi_logloss: 0.521743\tvalid_1's multi_logloss: 0.732353\n"
     ]
    },
    {
     "data": {
      "text/plain": [
       "LGBMClassifier(learning_rate=0.02, max_depth=12, n_estimators=1000,\n",
       "               num_leaves=32, silent=-1, subsample=0.8, verbose=-1)"
      ]
     },
     "execution_count": 66,
     "metadata": {},
     "output_type": "execute_result"
    }
   ],
   "source": [
    "from lightgbm import LGBMClassifier\n",
    "\n",
    "clf = LGBMClassifier(\n",
    "        n_jobs=-1,\n",
    "        n_estimators=1000,\n",
    "        learning_rate=0.02,\n",
    "        num_leaves=32,\n",
    "        subsample=0.8,\n",
    "        max_depth=12,\n",
    "        silent=-1,\n",
    "        verbose=-1\n",
    "        )\n",
    "\n",
    "clf.fit(train_x, train_y, eval_set=[(train_x, train_y), (valid_x, valid_y)], eval_metric='logloss', \n",
    "        verbose=100, early_stopping_rounds=50)"
   ]
  },
  {
   "cell_type": "code",
   "execution_count": 67,
   "metadata": {
    "scrolled": true
   },
   "outputs": [
    {
     "data": {
      "text/plain": [
       "<AxesSubplot:title={'center':'Feature importance'}, xlabel='Feature importance', ylabel='Features'>"
      ]
     },
     "execution_count": 67,
     "metadata": {},
     "output_type": "execute_result"
    },
    {
     "data": {
      "image/png": "[encoded data removed]",
      "text/plain": [
       "<Figure size 1152x2304 with 1 Axes>"
      ]
     },
     "metadata": {},
     "output_type": "display_data"
    }
   ],
   "source": [
    "from lightgbm import plot_importance\n",
    "\n",
    "plot_importance(clf, figsize=(16, 32), max_num_features=100)"
   ]
  },
  {
   "cell_type": "markdown",
   "metadata": {},
   "source": [
    "#### Feature Selection & Cross Validation"
   ]
  },
  {
   "cell_type": "code",
   "execution_count": 68,
   "metadata": {},
   "outputs": [],
   "source": [
    "ftr=X\n",
    "target=y"
   ]
  },
  {
   "cell_type": "code",
   "execution_count": 69,
   "metadata": {},
   "outputs": [],
   "source": [
    "from sklearn.feature_selection import SelectFromModel\n",
    "smf = SelectFromModel(clf, threshold='median')\n",
    "smf.fit(ftr, target)\n",
    "X_new = smf.transform(ftr)\n",
    "X_te_new = smf.transform(X_tst)\n",
    "feature_idx = smf.get_support()\n",
    "feature_name = ftr.columns[feature_idx]"
   ]
  },
  {
   "cell_type": "code",
   "execution_count": 70,
   "metadata": {
    "collapsed": true
   },
   "outputs": [
    {
     "data": {
      "text/plain": [
       "Index([                     'gender',                     'reality',\n",
       "                      'income_total',                    'edu_type',\n",
       "                       'family_type',                  'house_type',\n",
       "                        'DAYS_BIRTH',               'DAYS_EMPLOYED',\n",
       "                        'work_phone',                       'phone',\n",
       "                       'begin_month',              'employed_ratio',\n",
       "                'mean_income_family',             'income_employed',\n",
       "                'income_begin_ratio',            'family_age_ratio',\n",
       "                  'DAYS_BIRTH_month',             'DAYS_BIRTH_week',\n",
       "               'DAYS_EMPLOYED_month',          'DAYS_EMPLOYED_week',\n",
       "                   'before_EMPLOYED',       'before_EMPLOYED_month',\n",
       "              'before_EMPLOYED_week', 'before_EMPLOYED_BIRTH_ratio',\n",
       "             'before_EMPLOYED_ratio',              'edu_occyp_type',\n",
       "                   'edu_income_type',          'family_income_type',\n",
       "                   'car_income>mean',  'car_begin_month>mean_occyp',\n",
       "                                   0,                             1,\n",
       "                                   2,                             3,\n",
       "                                   4,                             5,\n",
       "                                   6,                             7,\n",
       "                                   8,                             9,\n",
       "                                  10,                            11,\n",
       "                                  12,                            13,\n",
       "                                  15,                            16,\n",
       "                                  17,                            18,\n",
       "                                  19,                            20,\n",
       "                                  21,                            22,\n",
       "                                  23,                            24,\n",
       "                                  26,                            27,\n",
       "                                  28,                            29],\n",
       "      dtype='object')"
      ]
     },
     "execution_count": 70,
     "metadata": {},
     "output_type": "execute_result"
    }
   ],
   "source": [
    "ftr.columns[feature_idx]"
   ]
  },
  {
   "cell_type": "code",
   "execution_count": 71,
   "metadata": {},
   "outputs": [],
   "source": [
    "X_new = pd.DataFrame(X_new)\n",
    "X_te_new = pd.DataFrame(X_te_new)\n",
    "\n",
    "X_new.columns = feature_name\n",
    "X_te_new.columns = feature_name"
   ]
  },
  {
   "cell_type": "code",
   "execution_count": 72,
   "metadata": {},
   "outputs": [
    {
     "name": "stdout",
     "output_type": "stream",
     "text": [
      "교차 검증별 정확도: [-0.7257 -0.727  -0.7291 -0.7281 -0.7252]\n",
      "평균 검증 정확도: -0.727\n"
     ]
    }
   ],
   "source": [
    "from sklearn.model_selection import cross_val_score\n",
    "\n",
    "scores = cross_val_score(clf, X_new, target, scoring='neg_log_loss', cv=5)\n",
    "print('교차 검증별 정확도:', np.round(scores, 4))\n",
    "print('평균 검증 정확도:', np.round(np.mean(scores), 4))"
   ]
  },
  {
   "cell_type": "markdown",
   "metadata": {},
   "source": [
    "#### Bayesian Opt"
   ]
  },
  {
   "cell_type": "code",
   "execution_count": 90,
   "metadata": {},
   "outputs": [],
   "source": [
    "X_train2=pd.DataFrame(X_train,columns=features.columns[fs.get_support()].tolist())"
   ]
  },
  {
   "cell_type": "code",
   "execution_count": 93,
   "metadata": {},
   "outputs": [],
   "source": [
    "X_test2=pd.DataFrame(X_test,columns=features.columns[fs.get_support()].tolist())"
   ]
  },
  {
   "cell_type": "code",
   "execution_count": 94,
   "metadata": {},
   "outputs": [],
   "source": [
    "ftr = X_train2\n",
    "target = y"
   ]
  },
  {
   "cell_type": "code",
   "execution_count": 96,
   "metadata": {},
   "outputs": [],
   "source": [
    "from bayes_opt import BayesianOptimization"
   ]
  },
  {
   "cell_type": "code",
   "execution_count": 97,
   "metadata": {
    "scrolled": true
   },
   "outputs": [
    {
     "data": {
      "text/plain": [
       "((18519, 60), (7938, 60))"
      ]
     },
     "execution_count": 97,
     "metadata": {},
     "output_type": "execute_result"
    }
   ],
   "source": [
    "from sklearn.model_selection import train_test_split\n",
    "train_x, valid_x, train_y, valid_y = train_test_split(ftr, target, test_size=0.3, random_state=0)\n",
    "train_x.shape, valid_x.shape"
   ]
  },
  {
   "cell_type": "code",
   "execution_count": 98,
   "metadata": {},
   "outputs": [],
   "source": [
    "bayesian_params = {\n",
    "    'max_depth':(8, 16),\n",
    "    'num_leaves':(24, 64),\n",
    "    'min_child_samples':(10, 200),\n",
    "    'min_child_weight':(1, 50),\n",
    "    'subsample':(0.5, 1),\n",
    "    'colsample_bytree':(0.5, 1),\n",
    "    'max_bin':(10, 500),\n",
    "    'reg_lambda':(0.001, 10),\n",
    "    'reg_alpha':(0.01, 50)\n",
    "}"
   ]
  },
  {
   "cell_type": "code",
   "execution_count": 99,
   "metadata": {},
   "outputs": [],
   "source": [
    "def lgb_log_eval(max_depth, num_leaves, min_child_samples, min_child_weight, subsample, \n",
    "                colsample_bytree, max_bin, reg_lambda, reg_alpha):\n",
    "    \n",
    "    params = {\n",
    "        \"n_estimators\":2000, \n",
    "        \"learning_rate\":0.02,\n",
    "        'max_depth':int(round(max_depth)),\n",
    "        'num_leaves':int(round(num_leaves)),\n",
    "        'min_child_samples': int(round(min_child_samples)),\n",
    "        'min_child_weight': int(round(min_child_weight)),\n",
    "        'subsample':max(min(subsample, 1), 0),\n",
    "        'colsample_bytree':max(min(colsample_bytree, 1), 0),\n",
    "        'reg_lambda': max(reg_lambda,0),\n",
    "        'reg_alpha': max(reg_alpha, 0)\n",
    "    }\n",
    "    \n",
    "    lgb_model = LGBMClassifier(**params)\n",
    "    lgb_model.fit(train_x, train_y, eval_set=[(train_x, train_y), (valid_x, valid_y)], eval_metric='logloss', verbose=100, \n",
    "                early_stopping_rounds=100)\n",
    "    valid_pred = lgb_model.predict_proba(valid_x)\n",
    "    log_score = log_loss(valid_y, valid_pred)\n",
    "    \n",
    "    return log_score"
   ]
  },
  {
   "cell_type": "code",
   "execution_count": 100,
   "metadata": {},
   "outputs": [
    {
     "name": "stdout",
     "output_type": "stream",
     "text": [
      "|   iter    |  target   | colsam... |  max_bin  | max_depth | min_ch... | min_ch... | num_le... | reg_alpha | reg_la... | subsample |\n",
      "-------------------------------------------------------------------------------------------------------------------------------------\n",
      "Training until validation scores don't improve for 100 rounds\n",
      "[100]\ttraining's multi_logloss: 0.798648\tvalid_1's multi_logloss: 0.807892\n",
      "[200]\ttraining's multi_logloss: 0.767067\tvalid_1's multi_logloss: 0.789525\n",
      "[300]\ttraining's multi_logloss: 0.745777\tvalid_1's multi_logloss: 0.780331\n",
      "[400]\ttraining's multi_logloss: 0.730067\tvalid_1's multi_logloss: 0.774359\n",
      "[500]\ttraining's multi_logloss: 0.719776\tvalid_1's multi_logloss: 0.770732\n",
      "[600]\ttraining's multi_logloss: 0.713791\tvalid_1's multi_logloss: 0.768503\n",
      "[700]\ttraining's multi_logloss: 0.709158\tvalid_1's multi_logloss: 0.766836\n",
      "[800]\ttraining's multi_logloss: 0.707818\tvalid_1's multi_logloss: 0.766465\n",
      "[900]\ttraining's multi_logloss: 0.7072\tvalid_1's multi_logloss: 0.766294\n",
      "[1000]\ttraining's multi_logloss: 0.707005\tvalid_1's multi_logloss: 0.766266\n",
      "[1100]\ttraining's multi_logloss: 0.70675\tvalid_1's multi_logloss: 0.766207\n",
      "[1200]\ttraining's multi_logloss: 0.706605\tvalid_1's multi_logloss: 0.7662\n",
      "Early stopping, best iteration is:\n",
      "[1175]\ttraining's multi_logloss: 0.706616\tvalid_1's multi_logloss: 0.766198\n",
      "| \u001b[0m 1       \u001b[0m | \u001b[0m 0.7662  \u001b[0m | \u001b[0m 0.7744  \u001b[0m | \u001b[0m 360.4   \u001b[0m | \u001b[0m 12.82   \u001b[0m | \u001b[0m 113.5   \u001b[0m | \u001b[0m 21.76   \u001b[0m | \u001b[0m 49.84   \u001b[0m | \u001b[0m 21.88   \u001b[0m | \u001b[0m 8.918   \u001b[0m | \u001b[0m 0.9818  \u001b[0m |\n",
      "Training until validation scores don't improve for 100 rounds\n",
      "[100]\ttraining's multi_logloss: 0.781581\tvalid_1's multi_logloss: 0.799152\n",
      "[200]\ttraining's multi_logloss: 0.744222\tvalid_1's multi_logloss: 0.779698\n",
      "[300]\ttraining's multi_logloss: 0.717375\tvalid_1's multi_logloss: 0.769376\n",
      "[400]\ttraining's multi_logloss: 0.694669\tvalid_1's multi_logloss: 0.761378\n",
      "[500]\ttraining's multi_logloss: 0.675851\tvalid_1's multi_logloss: 0.755788\n",
      "[600]\ttraining's multi_logloss: 0.659357\tvalid_1's multi_logloss: 0.751901\n",
      "[700]\ttraining's multi_logloss: 0.644363\tvalid_1's multi_logloss: 0.748626\n",
      "[800]\ttraining's multi_logloss: 0.630556\tvalid_1's multi_logloss: 0.745609\n",
      "[900]\ttraining's multi_logloss: 0.618107\tvalid_1's multi_logloss: 0.743942\n",
      "[1000]\ttraining's multi_logloss: 0.606479\tvalid_1's multi_logloss: 0.74228\n",
      "[1100]\ttraining's multi_logloss: 0.595481\tvalid_1's multi_logloss: 0.741085\n",
      "[1200]\ttraining's multi_logloss: 0.585605\tvalid_1's multi_logloss: 0.739963\n",
      "[1300]\ttraining's multi_logloss: 0.57603\tvalid_1's multi_logloss: 0.73902\n",
      "[1400]\ttraining's multi_logloss: 0.566922\tvalid_1's multi_logloss: 0.738287\n",
      "[1500]\ttraining's multi_logloss: 0.55804\tvalid_1's multi_logloss: 0.737301\n",
      "[1600]\ttraining's multi_logloss: 0.549746\tvalid_1's multi_logloss: 0.736743\n",
      "[1700]\ttraining's multi_logloss: 0.541888\tvalid_1's multi_logloss: 0.736022\n",
      "[1800]\ttraining's multi_logloss: 0.534204\tvalid_1's multi_logloss: 0.735627\n",
      "[1900]\ttraining's multi_logloss: 0.527343\tvalid_1's multi_logloss: 0.735515\n",
      "Early stopping, best iteration is:\n",
      "[1881]\ttraining's multi_logloss: 0.52864\tvalid_1's multi_logloss: 0.735459\n",
      "| \u001b[0m 2       \u001b[0m | \u001b[0m 0.7355  \u001b[0m | \u001b[0m 0.6917  \u001b[0m | \u001b[0m 397.9   \u001b[0m | \u001b[0m 12.23   \u001b[0m | \u001b[0m 117.9   \u001b[0m | \u001b[0m 46.35   \u001b[0m | \u001b[0m 26.84   \u001b[0m | \u001b[0m 4.366   \u001b[0m | \u001b[0m 0.2032  \u001b[0m | \u001b[0m 0.9163  \u001b[0m |\n",
      "Training until validation scores don't improve for 100 rounds\n",
      "[100]\ttraining's multi_logloss: 0.764778\tvalid_1's multi_logloss: 0.792654\n",
      "[200]\ttraining's multi_logloss: 0.711896\tvalid_1's multi_logloss: 0.769364\n",
      "[300]\ttraining's multi_logloss: 0.672774\tvalid_1's multi_logloss: 0.756042\n",
      "[400]\ttraining's multi_logloss: 0.641844\tvalid_1's multi_logloss: 0.747779\n",
      "[500]\ttraining's multi_logloss: 0.616649\tvalid_1's multi_logloss: 0.742578\n",
      "[600]\ttraining's multi_logloss: 0.594612\tvalid_1's multi_logloss: 0.738724\n",
      "[700]\ttraining's multi_logloss: 0.575435\tvalid_1's multi_logloss: 0.736373\n",
      "[800]\ttraining's multi_logloss: 0.558383\tvalid_1's multi_logloss: 0.734598\n",
      "[900]\ttraining's multi_logloss: 0.542713\tvalid_1's multi_logloss: 0.733817\n",
      "[1000]\ttraining's multi_logloss: 0.528819\tvalid_1's multi_logloss: 0.732736\n",
      "[1100]\ttraining's multi_logloss: 0.516026\tvalid_1's multi_logloss: 0.73206\n",
      "[1200]\ttraining's multi_logloss: 0.504508\tvalid_1's multi_logloss: 0.732206\n",
      "Early stopping, best iteration is:\n",
      "[1148]\ttraining's multi_logloss: 0.510403\tvalid_1's multi_logloss: 0.732\n",
      "| \u001b[0m 3       \u001b[0m | \u001b[0m 0.732   \u001b[0m | \u001b[0m 0.8891  \u001b[0m | \u001b[0m 436.3   \u001b[0m | \u001b[0m 15.83   \u001b[0m | \u001b[0m 161.8   \u001b[0m | \u001b[0m 23.61   \u001b[0m | \u001b[0m 55.22   \u001b[0m | \u001b[0m 5.923   \u001b[0m | \u001b[0m 6.4     \u001b[0m | \u001b[0m 0.5717  \u001b[0m |\n",
      "Training until validation scores don't improve for 100 rounds\n",
      "[100]\ttraining's multi_logloss: 0.802286\tvalid_1's multi_logloss: 0.808534\n",
      "[200]\ttraining's multi_logloss: 0.776588\tvalid_1's multi_logloss: 0.793697\n",
      "[300]\ttraining's multi_logloss: 0.759116\tvalid_1's multi_logloss: 0.785611\n",
      "[400]\ttraining's multi_logloss: 0.748427\tvalid_1's multi_logloss: 0.781062\n",
      "[500]\ttraining's multi_logloss: 0.743231\tvalid_1's multi_logloss: 0.7789\n",
      "[600]\ttraining's multi_logloss: 0.742146\tvalid_1's multi_logloss: 0.778653\n",
      "[700]\ttraining's multi_logloss: 0.741592\tvalid_1's multi_logloss: 0.778431\n",
      "[800]\ttraining's multi_logloss: 0.74156\tvalid_1's multi_logloss: 0.778412\n",
      "Early stopping, best iteration is:\n",
      "[723]\ttraining's multi_logloss: 0.74156\tvalid_1's multi_logloss: 0.778412\n",
      "| \u001b[95m 4       \u001b[0m | \u001b[95m 0.7784  \u001b[0m | \u001b[95m 0.9723  \u001b[0m | \u001b[95m 265.7   \u001b[0m | \u001b[95m 11.32   \u001b[0m | \u001b[95m 60.27   \u001b[0m | \u001b[95m 38.94   \u001b[0m | \u001b[95m 42.25   \u001b[0m | \u001b[95m 28.43   \u001b[0m | \u001b[95m 0.1889  \u001b[0m | \u001b[95m 0.8088  \u001b[0m |\n",
      "Training until validation scores don't improve for 100 rounds\n",
      "[100]\ttraining's multi_logloss: 0.808453\tvalid_1's multi_logloss: 0.812386\n",
      "[200]\ttraining's multi_logloss: 0.78839\tvalid_1's multi_logloss: 0.799068\n",
      "[300]\ttraining's multi_logloss: 0.775641\tvalid_1's multi_logloss: 0.792553\n",
      "[400]\ttraining's multi_logloss: 0.770872\tvalid_1's multi_logloss: 0.790058\n",
      "[500]\ttraining's multi_logloss: 0.769813\tvalid_1's multi_logloss: 0.789393\n",
      "[600]\ttraining's multi_logloss: 0.768816\tvalid_1's multi_logloss: 0.788945\n",
      "[700]\ttraining's multi_logloss: 0.767754\tvalid_1's multi_logloss: 0.788456\n",
      "[800]\ttraining's multi_logloss: 0.767694\tvalid_1's multi_logloss: 0.788396\n",
      "[900]\ttraining's multi_logloss: 0.76768\tvalid_1's multi_logloss: 0.788377\n",
      "[1000]\ttraining's multi_logloss: 0.767679\tvalid_1's multi_logloss: 0.788377\n",
      "[1100]\ttraining's multi_logloss: 0.767679\tvalid_1's multi_logloss: 0.788376\n",
      "[1200]\ttraining's multi_logloss: 0.767679\tvalid_1's multi_logloss: 0.788376\n",
      "[1300]\ttraining's multi_logloss: 0.767678\tvalid_1's multi_logloss: 0.788376\n",
      "[1400]\ttraining's multi_logloss: 0.767678\tvalid_1's multi_logloss: 0.788375\n",
      "[1500]\ttraining's multi_logloss: 0.767678\tvalid_1's multi_logloss: 0.788375\n",
      "[1600]\ttraining's multi_logloss: 0.767678\tvalid_1's multi_logloss: 0.788375\n",
      "[1700]\ttraining's multi_logloss: 0.767678\tvalid_1's multi_logloss: 0.788375\n",
      "[1800]\ttraining's multi_logloss: 0.767678\tvalid_1's multi_logloss: 0.788375\n",
      "[1900]\ttraining's multi_logloss: 0.767678\tvalid_1's multi_logloss: 0.788375\n",
      "[2000]\ttraining's multi_logloss: 0.767678\tvalid_1's multi_logloss: 0.788375\n",
      "Did not meet early stopping. Best iteration is:\n",
      "[1999]\ttraining's multi_logloss: 0.767678\tvalid_1's multi_logloss: 0.788375\n",
      "| \u001b[95m 5       \u001b[0m | \u001b[95m 0.7884  \u001b[0m | \u001b[95m 0.806   \u001b[0m | \u001b[95m 312.3   \u001b[0m | \u001b[95m 15.55   \u001b[0m | \u001b[95m 139.5   \u001b[0m | \u001b[95m 18.62   \u001b[0m | \u001b[95m 41.48   \u001b[0m | \u001b[95m 34.88   \u001b[0m | \u001b[95m 0.6032  \u001b[0m | \u001b[95m 0.8334  \u001b[0m |\n",
      "Training until validation scores don't improve for 100 rounds\n",
      "[100]\ttraining's multi_logloss: 0.815316\tvalid_1's multi_logloss: 0.815922\n",
      "[200]\ttraining's multi_logloss: 0.801634\tvalid_1's multi_logloss: 0.805486\n",
      "[300]\ttraining's multi_logloss: 0.795722\tvalid_1's multi_logloss: 0.801746\n",
      "[400]\ttraining's multi_logloss: 0.793868\tvalid_1's multi_logloss: 0.800275\n",
      "[500]\ttraining's multi_logloss: 0.793061\tvalid_1's multi_logloss: 0.799623\n",
      "[600]\ttraining's multi_logloss: 0.792622\tvalid_1's multi_logloss: 0.79929\n",
      "[700]\ttraining's multi_logloss: 0.792482\tvalid_1's multi_logloss: 0.799177\n",
      "[800]\ttraining's multi_logloss: 0.792439\tvalid_1's multi_logloss: 0.79914\n"
     ]
    },
    {
     "name": "stdout",
     "output_type": "stream",
     "text": [
      "[900]\ttraining's multi_logloss: 0.79242\tvalid_1's multi_logloss: 0.799127\n",
      "[1000]\ttraining's multi_logloss: 0.792401\tvalid_1's multi_logloss: 0.799116\n",
      "[1100]\ttraining's multi_logloss: 0.792395\tvalid_1's multi_logloss: 0.799111\n",
      "[1200]\ttraining's multi_logloss: 0.792391\tvalid_1's multi_logloss: 0.799108\n",
      "[1300]\ttraining's multi_logloss: 0.792389\tvalid_1's multi_logloss: 0.799106\n",
      "[1400]\ttraining's multi_logloss: 0.792387\tvalid_1's multi_logloss: 0.799105\n",
      "[1500]\ttraining's multi_logloss: 0.792384\tvalid_1's multi_logloss: 0.799104\n",
      "[1600]\ttraining's multi_logloss: 0.792383\tvalid_1's multi_logloss: 0.799103\n",
      "[1700]\ttraining's multi_logloss: 0.792382\tvalid_1's multi_logloss: 0.799103\n",
      "[1800]\ttraining's multi_logloss: 0.792382\tvalid_1's multi_logloss: 0.799102\n",
      "[1900]\ttraining's multi_logloss: 0.792382\tvalid_1's multi_logloss: 0.799102\n",
      "Early stopping, best iteration is:\n",
      "[1859]\ttraining's multi_logloss: 0.792382\tvalid_1's multi_logloss: 0.799102\n",
      "| \u001b[95m 6       \u001b[0m | \u001b[95m 0.7991  \u001b[0m | \u001b[95m 0.7962  \u001b[0m | \u001b[95m 227.2   \u001b[0m | \u001b[95m 9.712   \u001b[0m | \u001b[95m 160.8   \u001b[0m | \u001b[95m 1.0     \u001b[0m | \u001b[95m 64.0    \u001b[0m | \u001b[95m 50.0    \u001b[0m | \u001b[95m 10.0    \u001b[0m | \u001b[95m 1.0     \u001b[0m |\n",
      "Training until validation scores don't improve for 100 rounds\n",
      "[100]\ttraining's multi_logloss: 0.810541\tvalid_1's multi_logloss: 0.814276\n",
      "[200]\ttraining's multi_logloss: 0.789644\tvalid_1's multi_logloss: 0.800387\n",
      "[300]\ttraining's multi_logloss: 0.776967\tvalid_1's multi_logloss: 0.793237\n",
      "[400]\ttraining's multi_logloss: 0.769704\tvalid_1's multi_logloss: 0.78996\n",
      "[500]\ttraining's multi_logloss: 0.767713\tvalid_1's multi_logloss: 0.788884\n",
      "[600]\ttraining's multi_logloss: 0.767015\tvalid_1's multi_logloss: 0.788392\n",
      "[700]\ttraining's multi_logloss: 0.766718\tvalid_1's multi_logloss: 0.788167\n",
      "[800]\ttraining's multi_logloss: 0.766599\tvalid_1's multi_logloss: 0.788075\n",
      "[900]\ttraining's multi_logloss: 0.766554\tvalid_1's multi_logloss: 0.788042\n",
      "[1000]\ttraining's multi_logloss: 0.766535\tvalid_1's multi_logloss: 0.788028\n",
      "[1100]\ttraining's multi_logloss: 0.766521\tvalid_1's multi_logloss: 0.788016\n",
      "[1200]\ttraining's multi_logloss: 0.766509\tvalid_1's multi_logloss: 0.788006\n",
      "[1300]\ttraining's multi_logloss: 0.766501\tvalid_1's multi_logloss: 0.787999\n",
      "[1400]\ttraining's multi_logloss: 0.766498\tvalid_1's multi_logloss: 0.787997\n",
      "[1500]\ttraining's multi_logloss: 0.766496\tvalid_1's multi_logloss: 0.787995\n",
      "[1600]\ttraining's multi_logloss: 0.766495\tvalid_1's multi_logloss: 0.787994\n",
      "[1700]\ttraining's multi_logloss: 0.766493\tvalid_1's multi_logloss: 0.787992\n",
      "Early stopping, best iteration is:\n",
      "[1625]\ttraining's multi_logloss: 0.766493\tvalid_1's multi_logloss: 0.787992\n",
      "| \u001b[0m 7       \u001b[0m | \u001b[0m 0.788   \u001b[0m | \u001b[0m 0.6105  \u001b[0m | \u001b[0m 314.6   \u001b[0m | \u001b[0m 13.33   \u001b[0m | \u001b[0m 143.0   \u001b[0m | \u001b[0m 23.61   \u001b[0m | \u001b[0m 36.02   \u001b[0m | \u001b[0m 32.36   \u001b[0m | \u001b[0m 3.318   \u001b[0m | \u001b[0m 0.9919  \u001b[0m |\n",
      "Training until validation scores don't improve for 100 rounds\n",
      "[100]\ttraining's multi_logloss: 0.789784\tvalid_1's multi_logloss: 0.805393\n",
      "[200]\ttraining's multi_logloss: 0.754961\tvalid_1's multi_logloss: 0.786722\n",
      "[300]\ttraining's multi_logloss: 0.731576\tvalid_1's multi_logloss: 0.776695\n",
      "[400]\ttraining's multi_logloss: 0.712309\tvalid_1's multi_logloss: 0.769559\n",
      "[500]\ttraining's multi_logloss: 0.695777\tvalid_1's multi_logloss: 0.764049\n",
      "[600]\ttraining's multi_logloss: 0.681122\tvalid_1's multi_logloss: 0.759789\n",
      "[700]\ttraining's multi_logloss: 0.668185\tvalid_1's multi_logloss: 0.75655\n",
      "[800]\ttraining's multi_logloss: 0.65688\tvalid_1's multi_logloss: 0.754422\n",
      "[900]\ttraining's multi_logloss: 0.646242\tvalid_1's multi_logloss: 0.752252\n",
      "[1000]\ttraining's multi_logloss: 0.63592\tvalid_1's multi_logloss: 0.750179\n",
      "[1100]\ttraining's multi_logloss: 0.626225\tvalid_1's multi_logloss: 0.74854\n",
      "[1200]\ttraining's multi_logloss: 0.617252\tvalid_1's multi_logloss: 0.747395\n",
      "[1300]\ttraining's multi_logloss: 0.608803\tvalid_1's multi_logloss: 0.746164\n",
      "[1400]\ttraining's multi_logloss: 0.600441\tvalid_1's multi_logloss: 0.745115\n",
      "[1500]\ttraining's multi_logloss: 0.592903\tvalid_1's multi_logloss: 0.744255\n",
      "[1600]\ttraining's multi_logloss: 0.585729\tvalid_1's multi_logloss: 0.74378\n",
      "[1700]\ttraining's multi_logloss: 0.578689\tvalid_1's multi_logloss: 0.743197\n",
      "[1800]\ttraining's multi_logloss: 0.572222\tvalid_1's multi_logloss: 0.742808\n",
      "[1900]\ttraining's multi_logloss: 0.565417\tvalid_1's multi_logloss: 0.742112\n",
      "[2000]\ttraining's multi_logloss: 0.558852\tvalid_1's multi_logloss: 0.741539\n",
      "Did not meet early stopping. Best iteration is:\n",
      "[2000]\ttraining's multi_logloss: 0.558852\tvalid_1's multi_logloss: 0.741539\n",
      "| \u001b[0m 8       \u001b[0m | \u001b[0m 0.7415  \u001b[0m | \u001b[0m 0.5     \u001b[0m | \u001b[0m 128.9   \u001b[0m | \u001b[0m 9.097   \u001b[0m | \u001b[0m 200.0   \u001b[0m | \u001b[0m 50.0    \u001b[0m | \u001b[0m 24.0    \u001b[0m | \u001b[0m 0.01    \u001b[0m | \u001b[0m 10.0    \u001b[0m | \u001b[0m 1.0     \u001b[0m |\n",
      "Training until validation scores don't improve for 100 rounds\n",
      "[100]\ttraining's multi_logloss: 0.782897\tvalid_1's multi_logloss: 0.802818\n",
      "[200]\ttraining's multi_logloss: 0.744442\tvalid_1's multi_logloss: 0.783009\n",
      "[300]\ttraining's multi_logloss: 0.719225\tvalid_1's multi_logloss: 0.772673\n",
      "[400]\ttraining's multi_logloss: 0.696416\tvalid_1's multi_logloss: 0.764996\n",
      "[500]\ttraining's multi_logloss: 0.678267\tvalid_1's multi_logloss: 0.759224\n",
      "[600]\ttraining's multi_logloss: 0.664256\tvalid_1's multi_logloss: 0.755348\n",
      "[700]\ttraining's multi_logloss: 0.651087\tvalid_1's multi_logloss: 0.751939\n",
      "[800]\ttraining's multi_logloss: 0.639481\tvalid_1's multi_logloss: 0.749082\n",
      "[900]\ttraining's multi_logloss: 0.627865\tvalid_1's multi_logloss: 0.74682\n",
      "[1000]\ttraining's multi_logloss: 0.616803\tvalid_1's multi_logloss: 0.744877\n",
      "[1100]\ttraining's multi_logloss: 0.606525\tvalid_1's multi_logloss: 0.743531\n",
      "[1200]\ttraining's multi_logloss: 0.596844\tvalid_1's multi_logloss: 0.742363\n",
      "[1300]\ttraining's multi_logloss: 0.588168\tvalid_1's multi_logloss: 0.74161\n",
      "[1400]\ttraining's multi_logloss: 0.579435\tvalid_1's multi_logloss: 0.740695\n",
      "[1500]\ttraining's multi_logloss: 0.571524\tvalid_1's multi_logloss: 0.740055\n",
      "[1600]\ttraining's multi_logloss: 0.562918\tvalid_1's multi_logloss: 0.739505\n",
      "[1700]\ttraining's multi_logloss: 0.555034\tvalid_1's multi_logloss: 0.738958\n",
      "[1800]\ttraining's multi_logloss: 0.547752\tvalid_1's multi_logloss: 0.738566\n",
      "[1900]\ttraining's multi_logloss: 0.54073\tvalid_1's multi_logloss: 0.738134\n",
      "[2000]\ttraining's multi_logloss: 0.534115\tvalid_1's multi_logloss: 0.737858\n",
      "Did not meet early stopping. Best iteration is:\n",
      "[2000]\ttraining's multi_logloss: 0.534115\tvalid_1's multi_logloss: 0.737858\n",
      "| \u001b[0m 9       \u001b[0m | \u001b[0m 0.7379  \u001b[0m | \u001b[0m 0.5     \u001b[0m | \u001b[0m 272.6   \u001b[0m | \u001b[0m 8.0     \u001b[0m | \u001b[0m 200.0   \u001b[0m | \u001b[0m 1.0     \u001b[0m | \u001b[0m 64.0    \u001b[0m | \u001b[0m 0.01    \u001b[0m | \u001b[0m 10.0    \u001b[0m | \u001b[0m 0.6104  \u001b[0m |\n",
      "Training until validation scores don't improve for 100 rounds\n",
      "[100]\ttraining's multi_logloss: 0.813224\tvalid_1's multi_logloss: 0.81429\n",
      "[200]\ttraining's multi_logloss: 0.799064\tvalid_1's multi_logloss: 0.803997\n",
      "[300]\ttraining's multi_logloss: 0.793761\tvalid_1's multi_logloss: 0.800588\n",
      "[400]\ttraining's multi_logloss: 0.792231\tvalid_1's multi_logloss: 0.799398\n",
      "[500]\ttraining's multi_logloss: 0.791509\tvalid_1's multi_logloss: 0.798837\n",
      "[600]\ttraining's multi_logloss: 0.791197\tvalid_1's multi_logloss: 0.798589\n",
      "[700]\ttraining's multi_logloss: 0.791056\tvalid_1's multi_logloss: 0.798486\n",
      "[800]\ttraining's multi_logloss: 0.791017\tvalid_1's multi_logloss: 0.798458\n",
      "[900]\ttraining's multi_logloss: 0.791014\tvalid_1's multi_logloss: 0.798456\n",
      "[1000]\ttraining's multi_logloss: 0.791013\tvalid_1's multi_logloss: 0.798455\n",
      "[1100]\ttraining's multi_logloss: 0.791013\tvalid_1's multi_logloss: 0.798454\n",
      "[1200]\ttraining's multi_logloss: 0.791013\tvalid_1's multi_logloss: 0.798454\n",
      "[1300]\ttraining's multi_logloss: 0.791012\tvalid_1's multi_logloss: 0.798454\n",
      "[1400]\ttraining's multi_logloss: 0.791012\tvalid_1's multi_logloss: 0.798454\n",
      "[1500]\ttraining's multi_logloss: 0.791012\tvalid_1's multi_logloss: 0.798454\n",
      "[1600]\ttraining's multi_logloss: 0.791012\tvalid_1's multi_logloss: 0.798454\n",
      "[1700]\ttraining's multi_logloss: 0.791012\tvalid_1's multi_logloss: 0.798454\n",
      "[1800]\ttraining's multi_logloss: 0.791012\tvalid_1's multi_logloss: 0.798454\n",
      "[1900]\ttraining's multi_logloss: 0.791012\tvalid_1's multi_logloss: 0.798454\n"
     ]
    },
    {
     "name": "stdout",
     "output_type": "stream",
     "text": [
      "[2000]\ttraining's multi_logloss: 0.791012\tvalid_1's multi_logloss: 0.798454\n",
      "Did not meet early stopping. Best iteration is:\n",
      "[2000]\ttraining's multi_logloss: 0.791012\tvalid_1's multi_logloss: 0.798454\n",
      "| \u001b[0m 10      \u001b[0m | \u001b[0m 0.7985  \u001b[0m | \u001b[0m 0.9117  \u001b[0m | \u001b[0m 220.3   \u001b[0m | \u001b[0m 12.36   \u001b[0m | \u001b[0m 107.2   \u001b[0m | \u001b[0m 1.0     \u001b[0m | \u001b[0m 59.79   \u001b[0m | \u001b[0m 50.0    \u001b[0m | \u001b[0m 9.337   \u001b[0m | \u001b[0m 1.0     \u001b[0m |\n",
      "Training until validation scores don't improve for 100 rounds\n",
      "[100]\ttraining's multi_logloss: 0.799316\tvalid_1's multi_logloss: 0.808847\n",
      "[200]\ttraining's multi_logloss: 0.766538\tvalid_1's multi_logloss: 0.790245\n",
      "[300]\ttraining's multi_logloss: 0.743356\tvalid_1's multi_logloss: 0.779535\n",
      "[400]\ttraining's multi_logloss: 0.725787\tvalid_1's multi_logloss: 0.772931\n",
      "[500]\ttraining's multi_logloss: 0.712745\tvalid_1's multi_logloss: 0.768533\n",
      "[600]\ttraining's multi_logloss: 0.703821\tvalid_1's multi_logloss: 0.765754\n",
      "[700]\ttraining's multi_logloss: 0.698413\tvalid_1's multi_logloss: 0.763923\n",
      "[800]\ttraining's multi_logloss: 0.696893\tvalid_1's multi_logloss: 0.76353\n",
      "[900]\ttraining's multi_logloss: 0.696331\tvalid_1's multi_logloss: 0.763363\n",
      "[1000]\ttraining's multi_logloss: 0.696115\tvalid_1's multi_logloss: 0.763362\n",
      "Early stopping, best iteration is:\n",
      "[967]\ttraining's multi_logloss: 0.69613\tvalid_1's multi_logloss: 0.763359\n",
      "| \u001b[0m 11      \u001b[0m | \u001b[0m 0.7634  \u001b[0m | \u001b[0m 0.5925  \u001b[0m | \u001b[0m 265.0   \u001b[0m | \u001b[0m 14.29   \u001b[0m | \u001b[0m 64.35   \u001b[0m | \u001b[0m 39.22   \u001b[0m | \u001b[0m 45.55   \u001b[0m | \u001b[0m 19.14   \u001b[0m | \u001b[0m 3.45    \u001b[0m | \u001b[0m 0.7425  \u001b[0m |\n",
      "Training until validation scores don't improve for 100 rounds\n",
      "[100]\ttraining's multi_logloss: 0.813175\tvalid_1's multi_logloss: 0.813667\n",
      "[200]\ttraining's multi_logloss: 0.799524\tvalid_1's multi_logloss: 0.803844\n",
      "[300]\ttraining's multi_logloss: 0.794399\tvalid_1's multi_logloss: 0.80072\n",
      "[400]\ttraining's multi_logloss: 0.79303\tvalid_1's multi_logloss: 0.79976\n",
      "[500]\ttraining's multi_logloss: 0.792336\tvalid_1's multi_logloss: 0.799241\n",
      "[600]\ttraining's multi_logloss: 0.792002\tvalid_1's multi_logloss: 0.798998\n",
      "[700]\ttraining's multi_logloss: 0.791879\tvalid_1's multi_logloss: 0.79891\n",
      "[800]\ttraining's multi_logloss: 0.791875\tvalid_1's multi_logloss: 0.798907\n",
      "[900]\ttraining's multi_logloss: 0.791875\tvalid_1's multi_logloss: 0.798907\n",
      "[1000]\ttraining's multi_logloss: 0.791875\tvalid_1's multi_logloss: 0.798907\n",
      "[1100]\ttraining's multi_logloss: 0.791875\tvalid_1's multi_logloss: 0.798907\n",
      "[1200]\ttraining's multi_logloss: 0.791875\tvalid_1's multi_logloss: 0.798907\n",
      "[1300]\ttraining's multi_logloss: 0.791875\tvalid_1's multi_logloss: 0.798907\n",
      "[1400]\ttraining's multi_logloss: 0.791875\tvalid_1's multi_logloss: 0.798907\n",
      "[1500]\ttraining's multi_logloss: 0.791875\tvalid_1's multi_logloss: 0.798907\n",
      "[1600]\ttraining's multi_logloss: 0.791875\tvalid_1's multi_logloss: 0.798907\n",
      "[1700]\ttraining's multi_logloss: 0.791875\tvalid_1's multi_logloss: 0.798907\n",
      "[1800]\ttraining's multi_logloss: 0.791875\tvalid_1's multi_logloss: 0.798907\n",
      "[1900]\ttraining's multi_logloss: 0.791875\tvalid_1's multi_logloss: 0.798907\n",
      "[2000]\ttraining's multi_logloss: 0.791875\tvalid_1's multi_logloss: 0.798907\n",
      "Did not meet early stopping. Best iteration is:\n",
      "[2000]\ttraining's multi_logloss: 0.791875\tvalid_1's multi_logloss: 0.798907\n",
      "| \u001b[0m 12      \u001b[0m | \u001b[0m 0.7989  \u001b[0m | \u001b[0m 1.0     \u001b[0m | \u001b[0m 247.7   \u001b[0m | \u001b[0m 8.0     \u001b[0m | \u001b[0m 130.8   \u001b[0m | \u001b[0m 7.583   \u001b[0m | \u001b[0m 34.1    \u001b[0m | \u001b[0m 50.0    \u001b[0m | \u001b[0m 0.4624  \u001b[0m | \u001b[0m 1.0     \u001b[0m |\n",
      "Training until validation scores don't improve for 100 rounds\n",
      "[100]\ttraining's multi_logloss: 0.811554\tvalid_1's multi_logloss: 0.814382\n",
      "[200]\ttraining's multi_logloss: 0.793136\tvalid_1's multi_logloss: 0.801752\n",
      "[300]\ttraining's multi_logloss: 0.782355\tvalid_1's multi_logloss: 0.795657\n",
      "[400]\ttraining's multi_logloss: 0.778158\tvalid_1's multi_logloss: 0.793407\n",
      "[500]\ttraining's multi_logloss: 0.777318\tvalid_1's multi_logloss: 0.792707\n",
      "[600]\ttraining's multi_logloss: 0.776955\tvalid_1's multi_logloss: 0.792373\n",
      "[700]\ttraining's multi_logloss: 0.77685\tvalid_1's multi_logloss: 0.79226\n",
      "[800]\ttraining's multi_logloss: 0.776793\tvalid_1's multi_logloss: 0.792204\n",
      "[900]\ttraining's multi_logloss: 0.776762\tvalid_1's multi_logloss: 0.792174\n",
      "[1000]\ttraining's multi_logloss: 0.77675\tvalid_1's multi_logloss: 0.792161\n",
      "[1100]\ttraining's multi_logloss: 0.776737\tvalid_1's multi_logloss: 0.792153\n",
      "[1200]\ttraining's multi_logloss: 0.776732\tvalid_1's multi_logloss: 0.792147\n",
      "[1300]\ttraining's multi_logloss: 0.77673\tvalid_1's multi_logloss: 0.792145\n",
      "[1400]\ttraining's multi_logloss: 0.776728\tvalid_1's multi_logloss: 0.792143\n",
      "[1500]\ttraining's multi_logloss: 0.776727\tvalid_1's multi_logloss: 0.792142\n",
      "[1600]\ttraining's multi_logloss: 0.776727\tvalid_1's multi_logloss: 0.792142\n",
      "[1700]\ttraining's multi_logloss: 0.776727\tvalid_1's multi_logloss: 0.792141\n",
      "[1800]\ttraining's multi_logloss: 0.776727\tvalid_1's multi_logloss: 0.792141\n",
      "Early stopping, best iteration is:\n",
      "[1727]\ttraining's multi_logloss: 0.776727\tvalid_1's multi_logloss: 0.792141\n",
      "| \u001b[0m 13      \u001b[0m | \u001b[0m 0.7921  \u001b[0m | \u001b[0m 0.6918  \u001b[0m | \u001b[0m 315.5   \u001b[0m | \u001b[0m 14.44   \u001b[0m | \u001b[0m 145.2   \u001b[0m | \u001b[0m 21.62   \u001b[0m | \u001b[0m 39.04   \u001b[0m | \u001b[0m 37.29   \u001b[0m | \u001b[0m 3.812   \u001b[0m | \u001b[0m 0.8113  \u001b[0m |\n",
      "Training until validation scores don't improve for 100 rounds\n",
      "[100]\ttraining's multi_logloss: 0.813162\tvalid_1's multi_logloss: 0.813623\n",
      "[200]\ttraining's multi_logloss: 0.799608\tvalid_1's multi_logloss: 0.803845\n",
      "[300]\ttraining's multi_logloss: 0.794276\tvalid_1's multi_logloss: 0.800734\n",
      "[400]\ttraining's multi_logloss: 0.792779\tvalid_1's multi_logloss: 0.799708\n",
      "[500]\ttraining's multi_logloss: 0.792136\tvalid_1's multi_logloss: 0.7992\n",
      "[600]\ttraining's multi_logloss: 0.791839\tvalid_1's multi_logloss: 0.798976\n",
      "[700]\ttraining's multi_logloss: 0.791777\tvalid_1's multi_logloss: 0.798911\n",
      "[800]\ttraining's multi_logloss: 0.79175\tvalid_1's multi_logloss: 0.798878\n",
      "[900]\ttraining's multi_logloss: 0.791749\tvalid_1's multi_logloss: 0.798877\n",
      "[1000]\ttraining's multi_logloss: 0.791749\tvalid_1's multi_logloss: 0.798877\n",
      "[1100]\ttraining's multi_logloss: 0.791748\tvalid_1's multi_logloss: 0.798876\n",
      "[1200]\ttraining's multi_logloss: 0.791748\tvalid_1's multi_logloss: 0.798876\n",
      "[1300]\ttraining's multi_logloss: 0.791748\tvalid_1's multi_logloss: 0.798876\n",
      "[1400]\ttraining's multi_logloss: 0.791748\tvalid_1's multi_logloss: 0.798876\n",
      "[1500]\ttraining's multi_logloss: 0.791748\tvalid_1's multi_logloss: 0.798876\n",
      "[1600]\ttraining's multi_logloss: 0.791748\tvalid_1's multi_logloss: 0.798876\n",
      "[1700]\ttraining's multi_logloss: 0.791748\tvalid_1's multi_logloss: 0.798876\n",
      "[1800]\ttraining's multi_logloss: 0.791748\tvalid_1's multi_logloss: 0.798876\n",
      "[1900]\ttraining's multi_logloss: 0.791748\tvalid_1's multi_logloss: 0.798876\n",
      "[2000]\ttraining's multi_logloss: 0.791748\tvalid_1's multi_logloss: 0.798876\n",
      "Did not meet early stopping. Best iteration is:\n",
      "[2000]\ttraining's multi_logloss: 0.791748\tvalid_1's multi_logloss: 0.798876\n",
      "| \u001b[0m 14      \u001b[0m | \u001b[0m 0.7989  \u001b[0m | \u001b[0m 1.0     \u001b[0m | \u001b[0m 193.3   \u001b[0m | \u001b[0m 8.0     \u001b[0m | \u001b[0m 136.8   \u001b[0m | \u001b[0m 1.0     \u001b[0m | \u001b[0m 25.44   \u001b[0m | \u001b[0m 50.0    \u001b[0m | \u001b[0m 0.001   \u001b[0m | \u001b[0m 0.5     \u001b[0m |\n",
      "Training until validation scores don't improve for 100 rounds\n",
      "[100]\ttraining's multi_logloss: 0.810279\tvalid_1's multi_logloss: 0.812679\n",
      "[200]\ttraining's multi_logloss: 0.792837\tvalid_1's multi_logloss: 0.80124\n",
      "[300]\ttraining's multi_logloss: 0.783808\tvalid_1's multi_logloss: 0.796396\n",
      "[400]\ttraining's multi_logloss: 0.780643\tvalid_1's multi_logloss: 0.794527\n",
      "[500]\ttraining's multi_logloss: 0.779066\tvalid_1's multi_logloss: 0.793847\n",
      "[600]\ttraining's multi_logloss: 0.778121\tvalid_1's multi_logloss: 0.793396\n",
      "[700]\ttraining's multi_logloss: 0.777939\tvalid_1's multi_logloss: 0.793261\n",
      "[800]\ttraining's multi_logloss: 0.777905\tvalid_1's multi_logloss: 0.79322\n",
      "[900]\ttraining's multi_logloss: 0.777904\tvalid_1's multi_logloss: 0.793219\n",
      "[1000]\ttraining's multi_logloss: 0.777903\tvalid_1's multi_logloss: 0.793218\n",
      "[1100]\ttraining's multi_logloss: 0.777903\tvalid_1's multi_logloss: 0.793218\n",
      "[1200]\ttraining's multi_logloss: 0.777903\tvalid_1's multi_logloss: 0.793218\n",
      "[1300]\ttraining's multi_logloss: 0.777903\tvalid_1's multi_logloss: 0.793218\n",
      "[1400]\ttraining's multi_logloss: 0.777903\tvalid_1's multi_logloss: 0.793218\n"
     ]
    },
    {
     "name": "stdout",
     "output_type": "stream",
     "text": [
      "[1500]\ttraining's multi_logloss: 0.777903\tvalid_1's multi_logloss: 0.793218\n",
      "[1600]\ttraining's multi_logloss: 0.777903\tvalid_1's multi_logloss: 0.793218\n",
      "[1700]\ttraining's multi_logloss: 0.777903\tvalid_1's multi_logloss: 0.793218\n",
      "[1800]\ttraining's multi_logloss: 0.777903\tvalid_1's multi_logloss: 0.793218\n",
      "[1900]\ttraining's multi_logloss: 0.777903\tvalid_1's multi_logloss: 0.793218\n",
      "[2000]\ttraining's multi_logloss: 0.777903\tvalid_1's multi_logloss: 0.793218\n",
      "Did not meet early stopping. Best iteration is:\n",
      "[2000]\ttraining's multi_logloss: 0.777903\tvalid_1's multi_logloss: 0.793218\n",
      "| \u001b[0m 15      \u001b[0m | \u001b[0m 0.7932  \u001b[0m | \u001b[0m 0.9555  \u001b[0m | \u001b[0m 223.7   \u001b[0m | \u001b[0m 13.75   \u001b[0m | \u001b[0m 166.5   \u001b[0m | \u001b[0m 3.227   \u001b[0m | \u001b[0m 62.86   \u001b[0m | \u001b[0m 39.58   \u001b[0m | \u001b[0m 8.762   \u001b[0m | \u001b[0m 0.9848  \u001b[0m |\n",
      "Training until validation scores don't improve for 100 rounds\n",
      "[100]\ttraining's multi_logloss: 0.809373\tvalid_1's multi_logloss: 0.813009\n",
      "[200]\ttraining's multi_logloss: 0.790041\tvalid_1's multi_logloss: 0.799931\n",
      "[300]\ttraining's multi_logloss: 0.778669\tvalid_1's multi_logloss: 0.793929\n",
      "[400]\ttraining's multi_logloss: 0.774506\tvalid_1's multi_logloss: 0.791756\n",
      "[500]\ttraining's multi_logloss: 0.773429\tvalid_1's multi_logloss: 0.791125\n",
      "[600]\ttraining's multi_logloss: 0.773072\tvalid_1's multi_logloss: 0.790835\n",
      "[700]\ttraining's multi_logloss: 0.773\tvalid_1's multi_logloss: 0.790749\n",
      "[800]\ttraining's multi_logloss: 0.772974\tvalid_1's multi_logloss: 0.790721\n",
      "[900]\ttraining's multi_logloss: 0.772963\tvalid_1's multi_logloss: 0.790709\n",
      "[1000]\ttraining's multi_logloss: 0.772957\tvalid_1's multi_logloss: 0.790703\n",
      "[1100]\ttraining's multi_logloss: 0.772954\tvalid_1's multi_logloss: 0.790699\n",
      "[1200]\ttraining's multi_logloss: 0.772953\tvalid_1's multi_logloss: 0.790697\n",
      "[1300]\ttraining's multi_logloss: 0.772952\tvalid_1's multi_logloss: 0.790697\n",
      "[1400]\ttraining's multi_logloss: 0.772951\tvalid_1's multi_logloss: 0.790696\n",
      "[1500]\ttraining's multi_logloss: 0.772951\tvalid_1's multi_logloss: 0.790696\n",
      "[1600]\ttraining's multi_logloss: 0.772951\tvalid_1's multi_logloss: 0.790696\n",
      "[1700]\ttraining's multi_logloss: 0.772951\tvalid_1's multi_logloss: 0.790696\n",
      "[1800]\ttraining's multi_logloss: 0.772951\tvalid_1's multi_logloss: 0.790696\n",
      "[1900]\ttraining's multi_logloss: 0.772951\tvalid_1's multi_logloss: 0.790696\n",
      "[2000]\ttraining's multi_logloss: 0.772951\tvalid_1's multi_logloss: 0.790696\n",
      "Did not meet early stopping. Best iteration is:\n",
      "[1999]\ttraining's multi_logloss: 0.772951\tvalid_1's multi_logloss: 0.790696\n",
      "| \u001b[0m 16      \u001b[0m | \u001b[0m 0.7907  \u001b[0m | \u001b[0m 0.7651  \u001b[0m | \u001b[0m 317.5   \u001b[0m | \u001b[0m 11.74   \u001b[0m | \u001b[0m 143.9   \u001b[0m | \u001b[0m 24.46   \u001b[0m | \u001b[0m 28.65   \u001b[0m | \u001b[0m 35.68   \u001b[0m | \u001b[0m 0.02566 \u001b[0m | \u001b[0m 0.528   \u001b[0m |\n",
      "Training until validation scores don't improve for 100 rounds\n",
      "[100]\ttraining's multi_logloss: 0.811533\tvalid_1's multi_logloss: 0.814994\n",
      "[200]\ttraining's multi_logloss: 0.790824\tvalid_1's multi_logloss: 0.800984\n",
      "[300]\ttraining's multi_logloss: 0.778787\tvalid_1's multi_logloss: 0.794135\n",
      "[400]\ttraining's multi_logloss: 0.771601\tvalid_1's multi_logloss: 0.790724\n",
      "[500]\ttraining's multi_logloss: 0.769736\tvalid_1's multi_logloss: 0.789598\n",
      "[600]\ttraining's multi_logloss: 0.768899\tvalid_1's multi_logloss: 0.789094\n",
      "[700]\ttraining's multi_logloss: 0.768622\tvalid_1's multi_logloss: 0.788874\n",
      "[800]\ttraining's multi_logloss: 0.768511\tvalid_1's multi_logloss: 0.788782\n",
      "[900]\ttraining's multi_logloss: 0.768454\tvalid_1's multi_logloss: 0.788739\n",
      "[1000]\ttraining's multi_logloss: 0.768431\tvalid_1's multi_logloss: 0.788721\n",
      "[1100]\ttraining's multi_logloss: 0.768416\tvalid_1's multi_logloss: 0.788709\n",
      "[1200]\ttraining's multi_logloss: 0.768403\tvalid_1's multi_logloss: 0.788697\n",
      "[1300]\ttraining's multi_logloss: 0.768396\tvalid_1's multi_logloss: 0.788691\n",
      "[1400]\ttraining's multi_logloss: 0.768393\tvalid_1's multi_logloss: 0.788688\n",
      "[1500]\ttraining's multi_logloss: 0.768388\tvalid_1's multi_logloss: 0.788684\n",
      "[1600]\ttraining's multi_logloss: 0.768387\tvalid_1's multi_logloss: 0.788683\n",
      "[1700]\ttraining's multi_logloss: 0.768384\tvalid_1's multi_logloss: 0.788682\n",
      "[1800]\ttraining's multi_logloss: 0.768384\tvalid_1's multi_logloss: 0.788681\n",
      "[1900]\ttraining's multi_logloss: 0.768384\tvalid_1's multi_logloss: 0.788681\n",
      "[2000]\ttraining's multi_logloss: 0.768383\tvalid_1's multi_logloss: 0.788681\n",
      "Did not meet early stopping. Best iteration is:\n",
      "[1997]\ttraining's multi_logloss: 0.768383\tvalid_1's multi_logloss: 0.788681\n",
      "| \u001b[0m 17      \u001b[0m | \u001b[0m 0.7887  \u001b[0m | \u001b[0m 0.58    \u001b[0m | \u001b[0m 306.9   \u001b[0m | \u001b[0m 14.69   \u001b[0m | \u001b[0m 142.2   \u001b[0m | \u001b[0m 20.03   \u001b[0m | \u001b[0m 32.04   \u001b[0m | \u001b[0m 32.84   \u001b[0m | \u001b[0m 3.56    \u001b[0m | \u001b[0m 0.8835  \u001b[0m |\n",
      "Training until validation scores don't improve for 100 rounds\n",
      "[100]\ttraining's multi_logloss: 0.81167\tvalid_1's multi_logloss: 0.813182\n",
      "[200]\ttraining's multi_logloss: 0.797639\tvalid_1's multi_logloss: 0.803189\n",
      "[300]\ttraining's multi_logloss: 0.792606\tvalid_1's multi_logloss: 0.799963\n",
      "[400]\ttraining's multi_logloss: 0.790959\tvalid_1's multi_logloss: 0.79892\n",
      "[500]\ttraining's multi_logloss: 0.790192\tvalid_1's multi_logloss: 0.798439\n",
      "[600]\ttraining's multi_logloss: 0.789895\tvalid_1's multi_logloss: 0.798208\n",
      "[700]\ttraining's multi_logloss: 0.789824\tvalid_1's multi_logloss: 0.79814\n",
      "[800]\ttraining's multi_logloss: 0.789823\tvalid_1's multi_logloss: 0.798139\n",
      "[900]\ttraining's multi_logloss: 0.789823\tvalid_1's multi_logloss: 0.798139\n",
      "[1000]\ttraining's multi_logloss: 0.789823\tvalid_1's multi_logloss: 0.798139\n",
      "[1100]\ttraining's multi_logloss: 0.789823\tvalid_1's multi_logloss: 0.798139\n",
      "[1200]\ttraining's multi_logloss: 0.789823\tvalid_1's multi_logloss: 0.798139\n",
      "[1300]\ttraining's multi_logloss: 0.789823\tvalid_1's multi_logloss: 0.798139\n",
      "[1400]\ttraining's multi_logloss: 0.789823\tvalid_1's multi_logloss: 0.798139\n",
      "[1500]\ttraining's multi_logloss: 0.789823\tvalid_1's multi_logloss: 0.798139\n",
      "[1600]\ttraining's multi_logloss: 0.789823\tvalid_1's multi_logloss: 0.798139\n",
      "[1700]\ttraining's multi_logloss: 0.789823\tvalid_1's multi_logloss: 0.798139\n",
      "[1800]\ttraining's multi_logloss: 0.789823\tvalid_1's multi_logloss: 0.798139\n",
      "[1900]\ttraining's multi_logloss: 0.789823\tvalid_1's multi_logloss: 0.798139\n",
      "[2000]\ttraining's multi_logloss: 0.789823\tvalid_1's multi_logloss: 0.798139\n",
      "Did not meet early stopping. Best iteration is:\n",
      "[2000]\ttraining's multi_logloss: 0.789823\tvalid_1's multi_logloss: 0.798139\n",
      "| \u001b[0m 18      \u001b[0m | \u001b[0m 0.7981  \u001b[0m | \u001b[0m 1.0     \u001b[0m | \u001b[0m 235.8   \u001b[0m | \u001b[0m 8.0     \u001b[0m | \u001b[0m 10.0    \u001b[0m | \u001b[0m 1.0     \u001b[0m | \u001b[0m 24.0    \u001b[0m | \u001b[0m 50.0    \u001b[0m | \u001b[0m 0.001   \u001b[0m | \u001b[0m 1.0     \u001b[0m |\n",
      "Training until validation scores don't improve for 100 rounds\n",
      "[100]\ttraining's multi_logloss: 0.812429\tvalid_1's multi_logloss: 0.81549\n",
      "[200]\ttraining's multi_logloss: 0.792803\tvalid_1's multi_logloss: 0.801954\n",
      "[300]\ttraining's multi_logloss: 0.781587\tvalid_1's multi_logloss: 0.795387\n",
      "[400]\ttraining's multi_logloss: 0.776166\tvalid_1's multi_logloss: 0.792674\n",
      "[500]\ttraining's multi_logloss: 0.775078\tvalid_1's multi_logloss: 0.791845\n",
      "[600]\ttraining's multi_logloss: 0.774618\tvalid_1's multi_logloss: 0.791413\n",
      "[700]\ttraining's multi_logloss: 0.774446\tvalid_1's multi_logloss: 0.791257\n",
      "[800]\ttraining's multi_logloss: 0.774359\tvalid_1's multi_logloss: 0.791179\n",
      "[900]\ttraining's multi_logloss: 0.774309\tvalid_1's multi_logloss: 0.791132\n",
      "[1000]\ttraining's multi_logloss: 0.774288\tvalid_1's multi_logloss: 0.791112\n",
      "[1100]\ttraining's multi_logloss: 0.774274\tvalid_1's multi_logloss: 0.791098\n",
      "[1200]\ttraining's multi_logloss: 0.774262\tvalid_1's multi_logloss: 0.791087\n",
      "[1300]\ttraining's multi_logloss: 0.774253\tvalid_1's multi_logloss: 0.79108\n",
      "[1400]\ttraining's multi_logloss: 0.77425\tvalid_1's multi_logloss: 0.791077\n",
      "[1500]\ttraining's multi_logloss: 0.774247\tvalid_1's multi_logloss: 0.791075\n",
      "[1600]\ttraining's multi_logloss: 0.774246\tvalid_1's multi_logloss: 0.791073\n",
      "[1700]\ttraining's multi_logloss: 0.774245\tvalid_1's multi_logloss: 0.791072\n",
      "[1800]\ttraining's multi_logloss: 0.774245\tvalid_1's multi_logloss: 0.791072\n",
      "[1900]\ttraining's multi_logloss: 0.774244\tvalid_1's multi_logloss: 0.791071\n",
      "[2000]\ttraining's multi_logloss: 0.774244\tvalid_1's multi_logloss: 0.791071\n",
      "Did not meet early stopping. Best iteration is:\n",
      "[1997]\ttraining's multi_logloss: 0.774244\tvalid_1's multi_logloss: 0.791071\n"
     ]
    },
    {
     "name": "stdout",
     "output_type": "stream",
     "text": [
      "| \u001b[0m 19      \u001b[0m | \u001b[0m 0.7911  \u001b[0m | \u001b[0m 0.5934  \u001b[0m | \u001b[0m 312.2   \u001b[0m | \u001b[0m 11.75   \u001b[0m | \u001b[0m 140.1   \u001b[0m | \u001b[0m 22.31   \u001b[0m | \u001b[0m 32.77   \u001b[0m | \u001b[0m 35.18   \u001b[0m | \u001b[0m 3.943   \u001b[0m | \u001b[0m 0.95    \u001b[0m |\n",
      "Training until validation scores don't improve for 100 rounds\n",
      "[100]\ttraining's multi_logloss: 0.81167\tvalid_1's multi_logloss: 0.813182\n",
      "[200]\ttraining's multi_logloss: 0.797639\tvalid_1's multi_logloss: 0.803189\n",
      "[300]\ttraining's multi_logloss: 0.792606\tvalid_1's multi_logloss: 0.799963\n",
      "[400]\ttraining's multi_logloss: 0.790959\tvalid_1's multi_logloss: 0.79892\n",
      "[500]\ttraining's multi_logloss: 0.790192\tvalid_1's multi_logloss: 0.798439\n",
      "[600]\ttraining's multi_logloss: 0.789895\tvalid_1's multi_logloss: 0.798208\n",
      "[700]\ttraining's multi_logloss: 0.789824\tvalid_1's multi_logloss: 0.79814\n",
      "[800]\ttraining's multi_logloss: 0.789823\tvalid_1's multi_logloss: 0.798139\n",
      "[900]\ttraining's multi_logloss: 0.789823\tvalid_1's multi_logloss: 0.798139\n",
      "[1000]\ttraining's multi_logloss: 0.789823\tvalid_1's multi_logloss: 0.798139\n",
      "[1100]\ttraining's multi_logloss: 0.789823\tvalid_1's multi_logloss: 0.798139\n",
      "[1200]\ttraining's multi_logloss: 0.789823\tvalid_1's multi_logloss: 0.798139\n",
      "[1300]\ttraining's multi_logloss: 0.789823\tvalid_1's multi_logloss: 0.798139\n",
      "[1400]\ttraining's multi_logloss: 0.789823\tvalid_1's multi_logloss: 0.798139\n",
      "[1500]\ttraining's multi_logloss: 0.789823\tvalid_1's multi_logloss: 0.798139\n",
      "[1600]\ttraining's multi_logloss: 0.789823\tvalid_1's multi_logloss: 0.798139\n",
      "[1700]\ttraining's multi_logloss: 0.789823\tvalid_1's multi_logloss: 0.798139\n",
      "[1800]\ttraining's multi_logloss: 0.789823\tvalid_1's multi_logloss: 0.798139\n",
      "[1900]\ttraining's multi_logloss: 0.789823\tvalid_1's multi_logloss: 0.798139\n",
      "[2000]\ttraining's multi_logloss: 0.789823\tvalid_1's multi_logloss: 0.798139\n",
      "Did not meet early stopping. Best iteration is:\n",
      "[2000]\ttraining's multi_logloss: 0.789823\tvalid_1's multi_logloss: 0.798139\n",
      "| \u001b[0m 20      \u001b[0m | \u001b[0m 0.7981  \u001b[0m | \u001b[0m 1.0     \u001b[0m | \u001b[0m 318.2   \u001b[0m | \u001b[0m 8.0     \u001b[0m | \u001b[0m 10.0    \u001b[0m | \u001b[0m 1.0     \u001b[0m | \u001b[0m 24.0    \u001b[0m | \u001b[0m 50.0    \u001b[0m | \u001b[0m 0.001   \u001b[0m | \u001b[0m 1.0     \u001b[0m |\n",
      "Training until validation scores don't improve for 100 rounds\n",
      "[100]\ttraining's multi_logloss: 0.811926\tvalid_1's multi_logloss: 0.813171\n",
      "[200]\ttraining's multi_logloss: 0.798008\tvalid_1's multi_logloss: 0.803178\n",
      "[300]\ttraining's multi_logloss: 0.792689\tvalid_1's multi_logloss: 0.799915\n",
      "[400]\ttraining's multi_logloss: 0.790796\tvalid_1's multi_logloss: 0.798814\n",
      "[500]\ttraining's multi_logloss: 0.790061\tvalid_1's multi_logloss: 0.798396\n",
      "[600]\ttraining's multi_logloss: 0.789751\tvalid_1's multi_logloss: 0.798159\n",
      "[700]\ttraining's multi_logloss: 0.789669\tvalid_1's multi_logloss: 0.798082\n",
      "[800]\ttraining's multi_logloss: 0.789669\tvalid_1's multi_logloss: 0.798081\n",
      "[900]\ttraining's multi_logloss: 0.789669\tvalid_1's multi_logloss: 0.798081\n",
      "[1000]\ttraining's multi_logloss: 0.789668\tvalid_1's multi_logloss: 0.798081\n",
      "[1100]\ttraining's multi_logloss: 0.789668\tvalid_1's multi_logloss: 0.798081\n",
      "[1200]\ttraining's multi_logloss: 0.789668\tvalid_1's multi_logloss: 0.798081\n",
      "[1300]\ttraining's multi_logloss: 0.789668\tvalid_1's multi_logloss: 0.798081\n",
      "[1400]\ttraining's multi_logloss: 0.789668\tvalid_1's multi_logloss: 0.798081\n",
      "[1500]\ttraining's multi_logloss: 0.789668\tvalid_1's multi_logloss: 0.798081\n",
      "[1600]\ttraining's multi_logloss: 0.789668\tvalid_1's multi_logloss: 0.798081\n",
      "[1700]\ttraining's multi_logloss: 0.789668\tvalid_1's multi_logloss: 0.798081\n",
      "[1800]\ttraining's multi_logloss: 0.789668\tvalid_1's multi_logloss: 0.798081\n",
      "[1900]\ttraining's multi_logloss: 0.789668\tvalid_1's multi_logloss: 0.798081\n",
      "[2000]\ttraining's multi_logloss: 0.789668\tvalid_1's multi_logloss: 0.798081\n",
      "Did not meet early stopping. Best iteration is:\n",
      "[2000]\ttraining's multi_logloss: 0.789668\tvalid_1's multi_logloss: 0.798081\n",
      "| \u001b[0m 21      \u001b[0m | \u001b[0m 0.7981  \u001b[0m | \u001b[0m 1.0     \u001b[0m | \u001b[0m 123.0   \u001b[0m | \u001b[0m 8.0     \u001b[0m | \u001b[0m 34.78   \u001b[0m | \u001b[0m 1.0     \u001b[0m | \u001b[0m 64.0    \u001b[0m | \u001b[0m 50.0    \u001b[0m | \u001b[0m 0.001   \u001b[0m | \u001b[0m 1.0     \u001b[0m |\n",
      "Training until validation scores don't improve for 100 rounds\n",
      "[100]\ttraining's multi_logloss: 0.811627\tvalid_1's multi_logloss: 0.8132\n",
      "[200]\ttraining's multi_logloss: 0.79751\tvalid_1's multi_logloss: 0.80312\n",
      "[300]\ttraining's multi_logloss: 0.792477\tvalid_1's multi_logloss: 0.79987\n",
      "[400]\ttraining's multi_logloss: 0.790532\tvalid_1's multi_logloss: 0.798746\n",
      "[500]\ttraining's multi_logloss: 0.789841\tvalid_1's multi_logloss: 0.798342\n",
      "[600]\ttraining's multi_logloss: 0.789532\tvalid_1's multi_logloss: 0.798103\n",
      "[700]\ttraining's multi_logloss: 0.789455\tvalid_1's multi_logloss: 0.798032\n",
      "[800]\ttraining's multi_logloss: 0.789453\tvalid_1's multi_logloss: 0.79803\n",
      "[900]\ttraining's multi_logloss: 0.789453\tvalid_1's multi_logloss: 0.79803\n",
      "[1000]\ttraining's multi_logloss: 0.789453\tvalid_1's multi_logloss: 0.79803\n",
      "[1100]\ttraining's multi_logloss: 0.789453\tvalid_1's multi_logloss: 0.79803\n",
      "[1200]\ttraining's multi_logloss: 0.789453\tvalid_1's multi_logloss: 0.79803\n",
      "[1300]\ttraining's multi_logloss: 0.789453\tvalid_1's multi_logloss: 0.79803\n",
      "[1400]\ttraining's multi_logloss: 0.789453\tvalid_1's multi_logloss: 0.79803\n",
      "[1500]\ttraining's multi_logloss: 0.789453\tvalid_1's multi_logloss: 0.79803\n",
      "[1600]\ttraining's multi_logloss: 0.789453\tvalid_1's multi_logloss: 0.79803\n",
      "[1700]\ttraining's multi_logloss: 0.789453\tvalid_1's multi_logloss: 0.79803\n",
      "[1800]\ttraining's multi_logloss: 0.789453\tvalid_1's multi_logloss: 0.79803\n",
      "[1900]\ttraining's multi_logloss: 0.789453\tvalid_1's multi_logloss: 0.79803\n",
      "[2000]\ttraining's multi_logloss: 0.789453\tvalid_1's multi_logloss: 0.79803\n",
      "Did not meet early stopping. Best iteration is:\n",
      "[2000]\ttraining's multi_logloss: 0.789453\tvalid_1's multi_logloss: 0.79803\n",
      "| \u001b[0m 22      \u001b[0m | \u001b[0m 0.798   \u001b[0m | \u001b[0m 1.0     \u001b[0m | \u001b[0m 20.2    \u001b[0m | \u001b[0m 8.0     \u001b[0m | \u001b[0m 10.0    \u001b[0m | \u001b[0m 1.0     \u001b[0m | \u001b[0m 64.0    \u001b[0m | \u001b[0m 50.0    \u001b[0m | \u001b[0m 0.001   \u001b[0m | \u001b[0m 0.5     \u001b[0m |\n",
      "Training until validation scores don't improve for 100 rounds\n",
      "[100]\ttraining's multi_logloss: 0.809602\tvalid_1's multi_logloss: 0.812349\n",
      "[200]\ttraining's multi_logloss: 0.792242\tvalid_1's multi_logloss: 0.800867\n",
      "[300]\ttraining's multi_logloss: 0.783191\tvalid_1's multi_logloss: 0.796105\n",
      "[400]\ttraining's multi_logloss: 0.780991\tvalid_1's multi_logloss: 0.79476\n",
      "[500]\ttraining's multi_logloss: 0.779969\tvalid_1's multi_logloss: 0.794174\n",
      "[600]\ttraining's multi_logloss: 0.779557\tvalid_1's multi_logloss: 0.793912\n",
      "[700]\ttraining's multi_logloss: 0.779441\tvalid_1's multi_logloss: 0.793803\n",
      "[800]\ttraining's multi_logloss: 0.779432\tvalid_1's multi_logloss: 0.793796\n",
      "[900]\ttraining's multi_logloss: 0.779432\tvalid_1's multi_logloss: 0.793796\n",
      "[1000]\ttraining's multi_logloss: 0.779432\tvalid_1's multi_logloss: 0.793796\n",
      "[1100]\ttraining's multi_logloss: 0.779432\tvalid_1's multi_logloss: 0.793796\n",
      "[1200]\ttraining's multi_logloss: 0.779432\tvalid_1's multi_logloss: 0.793796\n",
      "[1300]\ttraining's multi_logloss: 0.779432\tvalid_1's multi_logloss: 0.793796\n",
      "[1400]\ttraining's multi_logloss: 0.779432\tvalid_1's multi_logloss: 0.793796\n",
      "[1500]\ttraining's multi_logloss: 0.779432\tvalid_1's multi_logloss: 0.793796\n",
      "[1600]\ttraining's multi_logloss: 0.779432\tvalid_1's multi_logloss: 0.793796\n",
      "[1700]\ttraining's multi_logloss: 0.779432\tvalid_1's multi_logloss: 0.793796\n",
      "[1800]\ttraining's multi_logloss: 0.779432\tvalid_1's multi_logloss: 0.793796\n",
      "[1900]\ttraining's multi_logloss: 0.779432\tvalid_1's multi_logloss: 0.793796\n",
      "[2000]\ttraining's multi_logloss: 0.779432\tvalid_1's multi_logloss: 0.793796\n",
      "Did not meet early stopping. Best iteration is:\n",
      "[2000]\ttraining's multi_logloss: 0.779432\tvalid_1's multi_logloss: 0.793796\n",
      "| \u001b[0m 23      \u001b[0m | \u001b[0m 0.7938  \u001b[0m | \u001b[0m 0.9305  \u001b[0m | \u001b[0m 310.5   \u001b[0m | \u001b[0m 10.23   \u001b[0m | \u001b[0m 136.0   \u001b[0m | \u001b[0m 17.75   \u001b[0m | \u001b[0m 46.33   \u001b[0m | \u001b[0m 40.04   \u001b[0m | \u001b[0m 0.7529  \u001b[0m | \u001b[0m 0.715   \u001b[0m |\n",
      "Training until validation scores don't improve for 100 rounds\n",
      "[100]\ttraining's multi_logloss: 0.801544\tvalid_1's multi_logloss: 0.808449\n",
      "[200]\ttraining's multi_logloss: 0.775423\tvalid_1's multi_logloss: 0.793061\n",
      "[300]\ttraining's multi_logloss: 0.757155\tvalid_1's multi_logloss: 0.784982\n",
      "[400]\ttraining's multi_logloss: 0.744667\tvalid_1's multi_logloss: 0.780028\n"
     ]
    },
    {
     "name": "stdout",
     "output_type": "stream",
     "text": [
      "[500]\ttraining's multi_logloss: 0.737666\tvalid_1's multi_logloss: 0.777628\n",
      "[600]\ttraining's multi_logloss: 0.735014\tvalid_1's multi_logloss: 0.776513\n",
      "[700]\ttraining's multi_logloss: 0.734537\tvalid_1's multi_logloss: 0.776294\n",
      "[800]\ttraining's multi_logloss: 0.734473\tvalid_1's multi_logloss: 0.776283\n",
      "Early stopping, best iteration is:\n",
      "[781]\ttraining's multi_logloss: 0.734481\tvalid_1's multi_logloss: 0.77628\n",
      "| \u001b[0m 24      \u001b[0m | \u001b[0m 0.7763  \u001b[0m | \u001b[0m 0.9167  \u001b[0m | \u001b[0m 307.7   \u001b[0m | \u001b[0m 11.99   \u001b[0m | \u001b[0m 143.1   \u001b[0m | \u001b[0m 23.48   \u001b[0m | \u001b[0m 37.28   \u001b[0m | \u001b[0m 25.93   \u001b[0m | \u001b[0m 7.177   \u001b[0m | \u001b[0m 0.8748  \u001b[0m |\n",
      "Training until validation scores don't improve for 100 rounds\n",
      "[100]\ttraining's multi_logloss: 0.812184\tvalid_1's multi_logloss: 0.813221\n",
      "[200]\ttraining's multi_logloss: 0.79839\tvalid_1's multi_logloss: 0.803326\n",
      "[300]\ttraining's multi_logloss: 0.793222\tvalid_1's multi_logloss: 0.800161\n",
      "[400]\ttraining's multi_logloss: 0.791496\tvalid_1's multi_logloss: 0.799056\n",
      "[500]\ttraining's multi_logloss: 0.790747\tvalid_1's multi_logloss: 0.798578\n",
      "[600]\ttraining's multi_logloss: 0.790473\tvalid_1's multi_logloss: 0.798357\n",
      "[700]\ttraining's multi_logloss: 0.790377\tvalid_1's multi_logloss: 0.798265\n",
      "[800]\ttraining's multi_logloss: 0.790371\tvalid_1's multi_logloss: 0.79826\n",
      "[900]\ttraining's multi_logloss: 0.790371\tvalid_1's multi_logloss: 0.798259\n",
      "[1000]\ttraining's multi_logloss: 0.790371\tvalid_1's multi_logloss: 0.798259\n",
      "[1100]\ttraining's multi_logloss: 0.790371\tvalid_1's multi_logloss: 0.798259\n",
      "[1200]\ttraining's multi_logloss: 0.790369\tvalid_1's multi_logloss: 0.798258\n",
      "Early stopping, best iteration is:\n",
      "[1160]\ttraining's multi_logloss: 0.790369\tvalid_1's multi_logloss: 0.798258\n",
      "| \u001b[0m 25      \u001b[0m | \u001b[0m 0.7983  \u001b[0m | \u001b[0m 1.0     \u001b[0m | \u001b[0m 176.6   \u001b[0m | \u001b[0m 8.0     \u001b[0m | \u001b[0m 57.53   \u001b[0m | \u001b[0m 7.681   \u001b[0m | \u001b[0m 24.0    \u001b[0m | \u001b[0m 50.0    \u001b[0m | \u001b[0m 0.001   \u001b[0m | \u001b[0m 1.0     \u001b[0m |\n",
      "Training until validation scores don't improve for 100 rounds\n",
      "[100]\ttraining's multi_logloss: 0.815143\tvalid_1's multi_logloss: 0.81676\n",
      "[200]\ttraining's multi_logloss: 0.80001\tvalid_1's multi_logloss: 0.80542\n",
      "[300]\ttraining's multi_logloss: 0.792017\tvalid_1's multi_logloss: 0.800478\n",
      "[400]\ttraining's multi_logloss: 0.789209\tvalid_1's multi_logloss: 0.798525\n",
      "[500]\ttraining's multi_logloss: 0.788406\tvalid_1's multi_logloss: 0.797852\n",
      "[600]\ttraining's multi_logloss: 0.788047\tvalid_1's multi_logloss: 0.797487\n",
      "[700]\ttraining's multi_logloss: 0.787937\tvalid_1's multi_logloss: 0.797365\n",
      "[800]\ttraining's multi_logloss: 0.787866\tvalid_1's multi_logloss: 0.797289\n",
      "[900]\ttraining's multi_logloss: 0.787819\tvalid_1's multi_logloss: 0.797239\n",
      "[1000]\ttraining's multi_logloss: 0.787799\tvalid_1's multi_logloss: 0.797216\n",
      "[1100]\ttraining's multi_logloss: 0.787783\tvalid_1's multi_logloss: 0.797199\n",
      "[1200]\ttraining's multi_logloss: 0.787773\tvalid_1's multi_logloss: 0.797187\n",
      "[1300]\ttraining's multi_logloss: 0.787767\tvalid_1's multi_logloss: 0.797181\n",
      "[1400]\ttraining's multi_logloss: 0.787765\tvalid_1's multi_logloss: 0.797178\n",
      "[1500]\ttraining's multi_logloss: 0.787763\tvalid_1's multi_logloss: 0.797176\n",
      "[1600]\ttraining's multi_logloss: 0.787762\tvalid_1's multi_logloss: 0.797175\n",
      "[1700]\ttraining's multi_logloss: 0.787761\tvalid_1's multi_logloss: 0.797174\n",
      "[1800]\ttraining's multi_logloss: 0.78776\tvalid_1's multi_logloss: 0.797173\n",
      "[1900]\ttraining's multi_logloss: 0.78776\tvalid_1's multi_logloss: 0.797173\n",
      "[2000]\ttraining's multi_logloss: 0.78776\tvalid_1's multi_logloss: 0.797173\n",
      "Did not meet early stopping. Best iteration is:\n",
      "[1997]\ttraining's multi_logloss: 0.78776\tvalid_1's multi_logloss: 0.797173\n",
      "| \u001b[0m 26      \u001b[0m | \u001b[0m 0.7972  \u001b[0m | \u001b[0m 0.6525  \u001b[0m | \u001b[0m 75.92   \u001b[0m | \u001b[0m 14.55   \u001b[0m | \u001b[0m 10.38   \u001b[0m | \u001b[0m 30.8    \u001b[0m | \u001b[0m 26.93   \u001b[0m | \u001b[0m 45.21   \u001b[0m | \u001b[0m 7.107   \u001b[0m | \u001b[0m 0.6176  \u001b[0m |\n",
      "Training until validation scores don't improve for 100 rounds\n",
      "[100]\ttraining's multi_logloss: 0.811911\tvalid_1's multi_logloss: 0.813115\n",
      "[200]\ttraining's multi_logloss: 0.797173\tvalid_1's multi_logloss: 0.802667\n",
      "[300]\ttraining's multi_logloss: 0.791864\tvalid_1's multi_logloss: 0.799403\n",
      "[400]\ttraining's multi_logloss: 0.790473\tvalid_1's multi_logloss: 0.798398\n",
      "[500]\ttraining's multi_logloss: 0.789861\tvalid_1's multi_logloss: 0.797915\n",
      "[600]\ttraining's multi_logloss: 0.789543\tvalid_1's multi_logloss: 0.797673\n",
      "[700]\ttraining's multi_logloss: 0.789456\tvalid_1's multi_logloss: 0.797605\n",
      "[800]\ttraining's multi_logloss: 0.789438\tvalid_1's multi_logloss: 0.797593\n",
      "[900]\ttraining's multi_logloss: 0.789437\tvalid_1's multi_logloss: 0.797591\n",
      "[1000]\ttraining's multi_logloss: 0.789424\tvalid_1's multi_logloss: 0.797584\n",
      "[1100]\ttraining's multi_logloss: 0.789424\tvalid_1's multi_logloss: 0.797584\n",
      "[1200]\ttraining's multi_logloss: 0.789424\tvalid_1's multi_logloss: 0.797584\n",
      "[1300]\ttraining's multi_logloss: 0.789424\tvalid_1's multi_logloss: 0.797584\n",
      "[1400]\ttraining's multi_logloss: 0.789424\tvalid_1's multi_logloss: 0.797584\n",
      "[1500]\ttraining's multi_logloss: 0.789424\tvalid_1's multi_logloss: 0.797584\n",
      "[1600]\ttraining's multi_logloss: 0.789424\tvalid_1's multi_logloss: 0.797584\n",
      "[1700]\ttraining's multi_logloss: 0.789424\tvalid_1's multi_logloss: 0.797584\n",
      "[1800]\ttraining's multi_logloss: 0.789424\tvalid_1's multi_logloss: 0.797584\n",
      "[1900]\ttraining's multi_logloss: 0.789424\tvalid_1's multi_logloss: 0.797584\n",
      "[2000]\ttraining's multi_logloss: 0.789424\tvalid_1's multi_logloss: 0.797584\n",
      "Did not meet early stopping. Best iteration is:\n",
      "[2000]\ttraining's multi_logloss: 0.789424\tvalid_1's multi_logloss: 0.797584\n",
      "| \u001b[0m 27      \u001b[0m | \u001b[0m 0.7976  \u001b[0m | \u001b[0m 1.0     \u001b[0m | \u001b[0m 55.06   \u001b[0m | \u001b[0m 12.75   \u001b[0m | \u001b[0m 70.74   \u001b[0m | \u001b[0m 20.56   \u001b[0m | \u001b[0m 64.0    \u001b[0m | \u001b[0m 49.54   \u001b[0m | \u001b[0m 0.5587  \u001b[0m | \u001b[0m 1.0     \u001b[0m |\n",
      "Training until validation scores don't improve for 100 rounds\n",
      "[100]\ttraining's multi_logloss: 0.775358\tvalid_1's multi_logloss: 0.795997\n",
      "[200]\ttraining's multi_logloss: 0.737662\tvalid_1's multi_logloss: 0.778839\n",
      "[300]\ttraining's multi_logloss: 0.709867\tvalid_1's multi_logloss: 0.768689\n",
      "[400]\ttraining's multi_logloss: 0.687462\tvalid_1's multi_logloss: 0.761327\n",
      "[500]\ttraining's multi_logloss: 0.667663\tvalid_1's multi_logloss: 0.755043\n",
      "[600]\ttraining's multi_logloss: 0.650428\tvalid_1's multi_logloss: 0.750847\n",
      "[700]\ttraining's multi_logloss: 0.634015\tvalid_1's multi_logloss: 0.747534\n",
      "[800]\ttraining's multi_logloss: 0.618933\tvalid_1's multi_logloss: 0.744892\n",
      "[900]\ttraining's multi_logloss: 0.604456\tvalid_1's multi_logloss: 0.742742\n",
      "[1000]\ttraining's multi_logloss: 0.590979\tvalid_1's multi_logloss: 0.740621\n",
      "[1100]\ttraining's multi_logloss: 0.578358\tvalid_1's multi_logloss: 0.738996\n",
      "[1200]\ttraining's multi_logloss: 0.56623\tvalid_1's multi_logloss: 0.737564\n",
      "[1300]\ttraining's multi_logloss: 0.5552\tvalid_1's multi_logloss: 0.736247\n",
      "[1400]\ttraining's multi_logloss: 0.544469\tvalid_1's multi_logloss: 0.735257\n",
      "[1500]\ttraining's multi_logloss: 0.534216\tvalid_1's multi_logloss: 0.734161\n",
      "[1600]\ttraining's multi_logloss: 0.52437\tvalid_1's multi_logloss: 0.733853\n",
      "[1700]\ttraining's multi_logloss: 0.51425\tvalid_1's multi_logloss: 0.733637\n",
      "[1800]\ttraining's multi_logloss: 0.504635\tvalid_1's multi_logloss: 0.733641\n",
      "Early stopping, best iteration is:\n",
      "[1764]\ttraining's multi_logloss: 0.507919\tvalid_1's multi_logloss: 0.733525\n",
      "| \u001b[0m 28      \u001b[0m | \u001b[0m 0.7335  \u001b[0m | \u001b[0m 1.0     \u001b[0m | \u001b[0m 62.32   \u001b[0m | \u001b[0m 10.02   \u001b[0m | \u001b[0m 45.19   \u001b[0m | \u001b[0m 1.0     \u001b[0m | \u001b[0m 26.37   \u001b[0m | \u001b[0m 0.01    \u001b[0m | \u001b[0m 6.701   \u001b[0m | \u001b[0m 0.5     \u001b[0m |\n",
      "Training until validation scores don't improve for 100 rounds\n",
      "[100]\ttraining's multi_logloss: 0.820929\tvalid_1's multi_logloss: 0.821127\n",
      "[200]\ttraining's multi_logloss: 0.806456\tvalid_1's multi_logloss: 0.809421\n",
      "[300]\ttraining's multi_logloss: 0.799472\tvalid_1's multi_logloss: 0.804388\n",
      "[400]\ttraining's multi_logloss: 0.796801\tvalid_1's multi_logloss: 0.802374\n",
      "[500]\ttraining's multi_logloss: 0.795855\tvalid_1's multi_logloss: 0.801508\n",
      "[600]\ttraining's multi_logloss: 0.795331\tvalid_1's multi_logloss: 0.800996\n",
      "[700]\ttraining's multi_logloss: 0.795129\tvalid_1's multi_logloss: 0.800795\n",
      "[800]\ttraining's multi_logloss: 0.794973\tvalid_1's multi_logloss: 0.800636\n",
      "[900]\ttraining's multi_logloss: 0.79489\tvalid_1's multi_logloss: 0.800548\n"
     ]
    },
    {
     "name": "stdout",
     "output_type": "stream",
     "text": [
      "[1000]\ttraining's multi_logloss: 0.794846\tvalid_1's multi_logloss: 0.800501\n",
      "[1100]\ttraining's multi_logloss: 0.794815\tvalid_1's multi_logloss: 0.800468\n",
      "[1200]\ttraining's multi_logloss: 0.794791\tvalid_1's multi_logloss: 0.800443\n",
      "[1300]\ttraining's multi_logloss: 0.794775\tvalid_1's multi_logloss: 0.800426\n",
      "[1400]\ttraining's multi_logloss: 0.794765\tvalid_1's multi_logloss: 0.800417\n",
      "[1500]\ttraining's multi_logloss: 0.794759\tvalid_1's multi_logloss: 0.800411\n",
      "[1600]\ttraining's multi_logloss: 0.794754\tvalid_1's multi_logloss: 0.800406\n",
      "[1700]\ttraining's multi_logloss: 0.794751\tvalid_1's multi_logloss: 0.800403\n",
      "[1800]\ttraining's multi_logloss: 0.794749\tvalid_1's multi_logloss: 0.800401\n",
      "[1900]\ttraining's multi_logloss: 0.794748\tvalid_1's multi_logloss: 0.8004\n",
      "[2000]\ttraining's multi_logloss: 0.794747\tvalid_1's multi_logloss: 0.800399\n",
      "Did not meet early stopping. Best iteration is:\n",
      "[2000]\ttraining's multi_logloss: 0.794747\tvalid_1's multi_logloss: 0.800399\n",
      "| \u001b[95m 29      \u001b[0m | \u001b[95m 0.8004  \u001b[0m | \u001b[95m 0.5     \u001b[0m | \u001b[95m 146.5   \u001b[0m | \u001b[95m 16.0    \u001b[0m | \u001b[95m 10.0    \u001b[0m | \u001b[95m 50.0    \u001b[0m | \u001b[95m 41.35   \u001b[0m | \u001b[95m 50.0    \u001b[0m | \u001b[95m 0.001   \u001b[0m | \u001b[95m 1.0     \u001b[0m |\n",
      "Training until validation scores don't improve for 100 rounds\n",
      "[100]\ttraining's multi_logloss: 0.815447\tvalid_1's multi_logloss: 0.816185\n",
      "[200]\ttraining's multi_logloss: 0.801448\tvalid_1's multi_logloss: 0.805419\n",
      "[300]\ttraining's multi_logloss: 0.795384\tvalid_1's multi_logloss: 0.801509\n",
      "[400]\ttraining's multi_logloss: 0.793743\tvalid_1's multi_logloss: 0.80008\n",
      "[500]\ttraining's multi_logloss: 0.793097\tvalid_1's multi_logloss: 0.799539\n",
      "[600]\ttraining's multi_logloss: 0.792879\tvalid_1's multi_logloss: 0.799323\n",
      "[700]\ttraining's multi_logloss: 0.792753\tvalid_1's multi_logloss: 0.799212\n",
      "[800]\ttraining's multi_logloss: 0.79271\tvalid_1's multi_logloss: 0.79917\n",
      "[900]\ttraining's multi_logloss: 0.792689\tvalid_1's multi_logloss: 0.799148\n",
      "[1000]\ttraining's multi_logloss: 0.792678\tvalid_1's multi_logloss: 0.799135\n",
      "[1100]\ttraining's multi_logloss: 0.792672\tvalid_1's multi_logloss: 0.799129\n",
      "[1200]\ttraining's multi_logloss: 0.792668\tvalid_1's multi_logloss: 0.799126\n",
      "[1300]\ttraining's multi_logloss: 0.792666\tvalid_1's multi_logloss: 0.799125\n",
      "[1400]\ttraining's multi_logloss: 0.792665\tvalid_1's multi_logloss: 0.799124\n",
      "[1500]\ttraining's multi_logloss: 0.792665\tvalid_1's multi_logloss: 0.799123\n",
      "[1600]\ttraining's multi_logloss: 0.792664\tvalid_1's multi_logloss: 0.799124\n",
      "Early stopping, best iteration is:\n",
      "[1500]\ttraining's multi_logloss: 0.792665\tvalid_1's multi_logloss: 0.799123\n",
      "| \u001b[0m 30      \u001b[0m | \u001b[0m 0.7991  \u001b[0m | \u001b[0m 0.7724  \u001b[0m | \u001b[0m 133.2   \u001b[0m | \u001b[0m 16.0    \u001b[0m | \u001b[0m 73.25   \u001b[0m | \u001b[0m 50.0    \u001b[0m | \u001b[0m 64.0    \u001b[0m | \u001b[0m 50.0    \u001b[0m | \u001b[0m 0.001   \u001b[0m | \u001b[0m 1.0     \u001b[0m |\n",
      "=====================================================================================================================================\n"
     ]
    }
   ],
   "source": [
    "lgbBO = BayesianOptimization(f=lgb_log_eval, pbounds=bayesian_params, random_state=0)\n",
    "lgbBO.maximize(init_points=5, n_iter=25)"
   ]
  },
  {
   "cell_type": "code",
   "execution_count": 101,
   "metadata": {},
   "outputs": [
    {
     "data": {
      "text/plain": [
       "[{'target': 0.766198305921405,\n",
       "  'params': {'colsample_bytree': 0.7744067519636624,\n",
       "   'max_bin': 360.44278952248555,\n",
       "   'max_depth': 12.822107008573152,\n",
       "   'min_child_samples': 113.52780476941041,\n",
       "   'min_child_weight': 21.75908516760633,\n",
       "   'num_leaves': 49.835764522666246,\n",
       "   'reg_alpha': 21.884984691022,\n",
       "   'reg_lambda': 8.917838234820016,\n",
       "   'subsample': 0.9818313802505146}},\n",
       " {'target': 0.735458957896142,\n",
       "  'params': {'colsample_bytree': 0.6917207594128889,\n",
       "   'max_bin': 397.94526866050563,\n",
       "   'max_depth': 12.231159358023236,\n",
       "   'min_child_samples': 117.92846660784714,\n",
       "   'min_child_weight': 46.35423527634039,\n",
       "   'num_leaves': 26.841442327915477,\n",
       "   'reg_alpha': 4.36559369208002,\n",
       "   'reg_lambda': 0.20316375600581688,\n",
       "   'subsample': 0.916309922773969}},\n",
       " {'target': 0.7320002243940098,\n",
       "  'params': {'colsample_bytree': 0.8890783754749252,\n",
       "   'max_bin': 436.30595264094137,\n",
       "   'max_depth': 15.828946737862111,\n",
       "   'min_child_samples': 161.8401272011775,\n",
       "   'min_child_weight': 23.61248875039366,\n",
       "   'num_leaves': 55.22116705145822,\n",
       "   'reg_alpha': 5.922538549187972,\n",
       "   'reg_lambda': 6.3995702922539115,\n",
       "   'subsample': 0.5716766437045232}},\n",
       " {'target': 0.7784120758446975,\n",
       "  'params': {'colsample_bytree': 0.972334458524792,\n",
       "   'max_bin': 265.70567765753515,\n",
       "   'max_depth': 11.317295519924189,\n",
       "   'min_child_samples': 60.265566299879126,\n",
       "   'min_child_weight': 38.93745078227661,\n",
       "   'num_leaves': 42.24601328866194,\n",
       "   'reg_alpha': 28.426013103943742,\n",
       "   'reg_lambda': 0.18887921456311507,\n",
       "   'subsample': 0.8088177485379385}},\n",
       " {'target': 0.7883751516543245,\n",
       "  'params': {'colsample_bytree': 0.8060478613612108,\n",
       "   'max_bin': 312.2976584686309,\n",
       "   'max_depth': 15.549984628116993,\n",
       "   'min_child_samples': 139.54585682966186,\n",
       "   'min_child_weight': 18.615887128115514,\n",
       "   'num_leaves': 41.481278151973655,\n",
       "   'reg_alpha': 34.88458348440397,\n",
       "   'reg_lambda': 0.6031944908210691,\n",
       "   'subsample': 0.8333833577228338}},\n",
       " {'target': 0.7991022456830005,\n",
       "  'params': {'colsample_bytree': 0.7962024381648112,\n",
       "   'max_bin': 227.1520258571582,\n",
       "   'max_depth': 9.712132798267948,\n",
       "   'min_child_samples': 160.75881156517835,\n",
       "   'min_child_weight': 1.0,\n",
       "   'num_leaves': 64.0,\n",
       "   'reg_alpha': 50.0,\n",
       "   'reg_lambda': 10.0,\n",
       "   'subsample': 1.0}},\n",
       " {'target': 0.7879918565036893,\n",
       "  'params': {'colsample_bytree': 0.6104750401663404,\n",
       "   'max_bin': 314.56822256724473,\n",
       "   'max_depth': 13.327434085622322,\n",
       "   'min_child_samples': 143.01213052470868,\n",
       "   'min_child_weight': 23.614761465536983,\n",
       "   'num_leaves': 36.02242851396237,\n",
       "   'reg_alpha': 32.36297362737444,\n",
       "   'reg_lambda': 3.3176793519623575,\n",
       "   'subsample': 0.9918901486846947}},\n",
       " {'target': 0.7415388232992584,\n",
       "  'params': {'colsample_bytree': 0.5,\n",
       "   'max_bin': 128.94099225020125,\n",
       "   'max_depth': 9.096808483007917,\n",
       "   'min_child_samples': 200.0,\n",
       "   'min_child_weight': 50.0,\n",
       "   'num_leaves': 24.0,\n",
       "   'reg_alpha': 0.01,\n",
       "   'reg_lambda': 10.0,\n",
       "   'subsample': 1.0}},\n",
       " {'target': 0.7378580775374228,\n",
       "  'params': {'colsample_bytree': 0.5,\n",
       "   'max_bin': 272.59619341842694,\n",
       "   'max_depth': 8.0,\n",
       "   'min_child_samples': 200.0,\n",
       "   'min_child_weight': 1.0,\n",
       "   'num_leaves': 64.0,\n",
       "   'reg_alpha': 0.01,\n",
       "   'reg_lambda': 10.0,\n",
       "   'subsample': 0.6103650828753093}},\n",
       " {'target': 0.7984536640976272,\n",
       "  'params': {'colsample_bytree': 0.9117108388169789,\n",
       "   'max_bin': 220.3113595767334,\n",
       "   'max_depth': 12.356403776011632,\n",
       "   'min_child_samples': 107.15743733543107,\n",
       "   'min_child_weight': 1.0,\n",
       "   'num_leaves': 59.78962603667126,\n",
       "   'reg_alpha': 50.0,\n",
       "   'reg_lambda': 9.337391720668345,\n",
       "   'subsample': 1.0}},\n",
       " {'target': 0.7633600764286226,\n",
       "  'params': {'colsample_bytree': 0.5925209137066674,\n",
       "   'max_bin': 264.9694919138617,\n",
       "   'max_depth': 14.288080416925759,\n",
       "   'min_child_samples': 64.35453598964475,\n",
       "   'min_child_weight': 39.21862410208353,\n",
       "   'num_leaves': 45.550114189442766,\n",
       "   'reg_alpha': 19.14062300483427,\n",
       "   'reg_lambda': 3.4496173592690638,\n",
       "   'subsample': 0.742492131973743}},\n",
       " {'target': 0.7989066441053905,\n",
       "  'params': {'colsample_bytree': 1.0,\n",
       "   'max_bin': 247.67804391157202,\n",
       "   'max_depth': 8.0,\n",
       "   'min_child_samples': 130.84275305838744,\n",
       "   'min_child_weight': 7.583253892991398,\n",
       "   'num_leaves': 34.097174501266544,\n",
       "   'reg_alpha': 50.0,\n",
       "   'reg_lambda': 0.46235615121646556,\n",
       "   'subsample': 1.0}},\n",
       " {'target': 0.7921413180687898,\n",
       "  'params': {'colsample_bytree': 0.691846376308528,\n",
       "   'max_bin': 315.52665619278974,\n",
       "   'max_depth': 14.435852109435196,\n",
       "   'min_child_samples': 145.21200980993754,\n",
       "   'min_child_weight': 21.620981607433027,\n",
       "   'num_leaves': 39.04413116480919,\n",
       "   'reg_alpha': 37.29052328711559,\n",
       "   'reg_lambda': 3.8120813265257567,\n",
       "   'subsample': 0.8113252096283463}},\n",
       " {'target': 0.7988763424048662,\n",
       "  'params': {'colsample_bytree': 1.0,\n",
       "   'max_bin': 193.3262519856117,\n",
       "   'max_depth': 8.0,\n",
       "   'min_child_samples': 136.7615886916652,\n",
       "   'min_child_weight': 1.0,\n",
       "   'num_leaves': 25.437479908108,\n",
       "   'reg_alpha': 50.0,\n",
       "   'reg_lambda': 0.001,\n",
       "   'subsample': 0.5}},\n",
       " {'target': 0.7932181830938337,\n",
       "  'params': {'colsample_bytree': 0.9555206147352014,\n",
       "   'max_bin': 223.71263427418646,\n",
       "   'max_depth': 13.751923469608531,\n",
       "   'min_child_samples': 166.470544033068,\n",
       "   'min_child_weight': 3.227266898096246,\n",
       "   'num_leaves': 62.85932576484585,\n",
       "   'reg_alpha': 39.58363956955467,\n",
       "   'reg_lambda': 8.76198420275401,\n",
       "   'subsample': 0.9847832814568134}},\n",
       " {'target': 0.7906955708165254,\n",
       "  'params': {'colsample_bytree': 0.7650617997793291,\n",
       "   'max_bin': 317.4661976818364,\n",
       "   'max_depth': 11.744333160030056,\n",
       "   'min_child_samples': 143.8718622253974,\n",
       "   'min_child_weight': 24.45914802110835,\n",
       "   'num_leaves': 28.654596930853717,\n",
       "   'reg_alpha': 35.67571687852775,\n",
       "   'reg_lambda': 0.025659789055731082,\n",
       "   'subsample': 0.5279915172622653}},\n",
       " {'target': 0.7886812438151202,\n",
       "  'params': {'colsample_bytree': 0.5800126886880583,\n",
       "   'max_bin': 306.8835480295976,\n",
       "   'max_depth': 14.691116113816667,\n",
       "   'min_child_samples': 142.22559805310016,\n",
       "   'min_child_weight': 20.028665863441404,\n",
       "   'num_leaves': 32.04177974558384,\n",
       "   'reg_alpha': 32.844809348587525,\n",
       "   'reg_lambda': 3.560067724675478,\n",
       "   'subsample': 0.883503852529671}},\n",
       " {'target': 0.7981387286983994,\n",
       "  'params': {'colsample_bytree': 1.0,\n",
       "   'max_bin': 235.83968883168654,\n",
       "   'max_depth': 8.0,\n",
       "   'min_child_samples': 10.0,\n",
       "   'min_child_weight': 1.0,\n",
       "   'num_leaves': 24.0,\n",
       "   'reg_alpha': 50.0,\n",
       "   'reg_lambda': 0.001,\n",
       "   'subsample': 1.0}},\n",
       " {'target': 0.7910710260679251,\n",
       "  'params': {'colsample_bytree': 0.5933610525670114,\n",
       "   'max_bin': 312.2457551277246,\n",
       "   'max_depth': 11.752402970209822,\n",
       "   'min_child_samples': 140.1041811395692,\n",
       "   'min_child_weight': 22.314689352255748,\n",
       "   'num_leaves': 32.765889785978004,\n",
       "   'reg_alpha': 35.18405717031849,\n",
       "   'reg_lambda': 3.943172449370046,\n",
       "   'subsample': 0.9499968245515606}},\n",
       " {'target': 0.7981387286983994,\n",
       "  'params': {'colsample_bytree': 1.0,\n",
       "   'max_bin': 318.2113093875745,\n",
       "   'max_depth': 8.0,\n",
       "   'min_child_samples': 10.0,\n",
       "   'min_child_weight': 1.0,\n",
       "   'num_leaves': 24.0,\n",
       "   'reg_alpha': 50.0,\n",
       "   'reg_lambda': 0.001,\n",
       "   'subsample': 1.0}},\n",
       " {'target': 0.7980807855652213,\n",
       "  'params': {'colsample_bytree': 1.0,\n",
       "   'max_bin': 122.95895560270888,\n",
       "   'max_depth': 8.0,\n",
       "   'min_child_samples': 34.7806503137382,\n",
       "   'min_child_weight': 1.0,\n",
       "   'num_leaves': 64.0,\n",
       "   'reg_alpha': 50.0,\n",
       "   'reg_lambda': 0.001,\n",
       "   'subsample': 1.0}},\n",
       " {'target': 0.7980298482002822,\n",
       "  'params': {'colsample_bytree': 1.0,\n",
       "   'max_bin': 20.199966237224782,\n",
       "   'max_depth': 8.0,\n",
       "   'min_child_samples': 10.0,\n",
       "   'min_child_weight': 1.0,\n",
       "   'num_leaves': 64.0,\n",
       "   'reg_alpha': 50.0,\n",
       "   'reg_lambda': 0.001,\n",
       "   'subsample': 0.5}},\n",
       " {'target': 0.7937958637408371,\n",
       "  'params': {'colsample_bytree': 0.9304546052868432,\n",
       "   'max_bin': 310.5174060343361,\n",
       "   'max_depth': 10.228107513353208,\n",
       "   'min_child_samples': 136.0474759133225,\n",
       "   'min_child_weight': 17.75023247527011,\n",
       "   'num_leaves': 46.32654025269073,\n",
       "   'reg_alpha': 40.03911190877183,\n",
       "   'reg_lambda': 0.7528926025596817,\n",
       "   'subsample': 0.7149845104232067}},\n",
       " {'target': 0.7762804156079575,\n",
       "  'params': {'colsample_bytree': 0.9166963339789977,\n",
       "   'max_bin': 307.6926639951294,\n",
       "   'max_depth': 11.985607166445494,\n",
       "   'min_child_samples': 143.13740600840586,\n",
       "   'min_child_weight': 23.47821575832019,\n",
       "   'num_leaves': 37.276961784362555,\n",
       "   'reg_alpha': 25.927249991761666,\n",
       "   'reg_lambda': 7.176733693098384,\n",
       "   'subsample': 0.8747918446399996}},\n",
       " {'target': 0.7982582061360384,\n",
       "  'params': {'colsample_bytree': 1.0,\n",
       "   'max_bin': 176.5994052760927,\n",
       "   'max_depth': 8.0,\n",
       "   'min_child_samples': 57.52799145607088,\n",
       "   'min_child_weight': 7.681136197154277,\n",
       "   'num_leaves': 24.0,\n",
       "   'reg_alpha': 50.0,\n",
       "   'reg_lambda': 0.001,\n",
       "   'subsample': 1.0}},\n",
       " {'target': 0.7971725305593308,\n",
       "  'params': {'colsample_bytree': 0.6525166001053117,\n",
       "   'max_bin': 75.92493105985936,\n",
       "   'max_depth': 14.548584461089014,\n",
       "   'min_child_samples': 10.384327596809056,\n",
       "   'min_child_weight': 30.798542982083564,\n",
       "   'num_leaves': 26.931343080986814,\n",
       "   'reg_alpha': 45.210788971725556,\n",
       "   'reg_lambda': 7.107410052723895,\n",
       "   'subsample': 0.6176006213347122}},\n",
       " {'target': 0.7975840161074349,\n",
       "  'params': {'colsample_bytree': 1.0,\n",
       "   'max_bin': 55.05626610063244,\n",
       "   'max_depth': 12.752578161270266,\n",
       "   'min_child_samples': 70.74370209814579,\n",
       "   'min_child_weight': 20.55690963820694,\n",
       "   'num_leaves': 64.0,\n",
       "   'reg_alpha': 49.539258859393456,\n",
       "   'reg_lambda': 0.5587080616460344,\n",
       "   'subsample': 1.0}},\n",
       " {'target': 0.7335245610382437,\n",
       "  'params': {'colsample_bytree': 1.0,\n",
       "   'max_bin': 62.3240763300667,\n",
       "   'max_depth': 10.023097964541192,\n",
       "   'min_child_samples': 45.1867618212849,\n",
       "   'min_child_weight': 1.0,\n",
       "   'num_leaves': 26.36580146066715,\n",
       "   'reg_alpha': 0.01,\n",
       "   'reg_lambda': 6.700957162408192,\n",
       "   'subsample': 0.5}},\n",
       " {'target': 0.8003993444911616,\n",
       "  'params': {'colsample_bytree': 0.5,\n",
       "   'max_bin': 146.51534630056955,\n",
       "   'max_depth': 16.0,\n",
       "   'min_child_samples': 10.0,\n",
       "   'min_child_weight': 50.0,\n",
       "   'num_leaves': 41.34919424027174,\n",
       "   'reg_alpha': 50.0,\n",
       "   'reg_lambda': 0.001,\n",
       "   'subsample': 1.0}},\n",
       " {'target': 0.7991235234843006,\n",
       "  'params': {'colsample_bytree': 0.7723695243581715,\n",
       "   'max_bin': 133.18633252673698,\n",
       "   'max_depth': 16.0,\n",
       "   'min_child_samples': 73.24849308044232,\n",
       "   'min_child_weight': 50.0,\n",
       "   'num_leaves': 64.0,\n",
       "   'reg_alpha': 50.0,\n",
       "   'reg_lambda': 0.001,\n",
       "   'subsample': 1.0}}]"
      ]
     },
     "execution_count": 101,
     "metadata": {},
     "output_type": "execute_result"
    }
   ],
   "source": [
    "lgbBO.res"
   ]
  },
  {
   "cell_type": "code",
   "execution_count": 102,
   "metadata": {},
   "outputs": [
    {
     "name": "stdout",
     "output_type": "stream",
     "text": [
      "[0.766198305921405, 0.735458957896142, 0.7320002243940098, 0.7784120758446975, 0.7883751516543245, 0.7991022456830005, 0.7879918565036893, 0.7415388232992584, 0.7378580775374228, 0.7984536640976272, 0.7633600764286226, 0.7989066441053905, 0.7921413180687898, 0.7988763424048662, 0.7932181830938337, 0.7906955708165254, 0.7886812438151202, 0.7981387286983994, 0.7910710260679251, 0.7981387286983994, 0.7980807855652213, 0.7980298482002822, 0.7937958637408371, 0.7762804156079575, 0.7982582061360384, 0.7971725305593308, 0.7975840161074349, 0.7335245610382437, 0.8003993444911616, 0.7991235234843006]\n",
      "minimum target index: 2\n"
     ]
    }
   ],
   "source": [
    "# dictionary에 있는 target값을 모두 추출\n",
    "target_list = []\n",
    "for result in lgbBO.res:\n",
    "    target = result['target']\n",
    "    target_list.append(target)\n",
    "print(target_list)\n",
    "# 가장 큰 target 값을 가지는 순번(index)를 추출\n",
    "print('minimum target index:', np.argmin(np.array(target_list)))"
   ]
  },
  {
   "cell_type": "code",
   "execution_count": 103,
   "metadata": {},
   "outputs": [
    {
     "name": "stdout",
     "output_type": "stream",
     "text": [
      "{'target': 0.7320002243940098, 'params': {'colsample_bytree': 0.8890783754749252, 'max_bin': 436.30595264094137, 'max_depth': 15.828946737862111, 'min_child_samples': 161.8401272011775, 'min_child_weight': 23.61248875039366, 'num_leaves': 55.22116705145822, 'reg_alpha': 5.922538549187972, 'reg_lambda': 6.3995702922539115, 'subsample': 0.5716766437045232}}\n"
     ]
    }
   ],
   "source": [
    "# 가장 큰 target값을 가지는 index값을 기준으로 res에서 해당 parameter 추출. \n",
    "min_dict = lgbBO.res[np.argmin(np.array(target_list))]\n",
    "print(min_dict)"
   ]
  },
  {
   "cell_type": "code",
   "execution_count": 119,
   "metadata": {},
   "outputs": [],
   "source": [
    "ftr = X_train2\n",
    "target = y"
   ]
  },
  {
   "cell_type": "code",
   "execution_count": 120,
   "metadata": {},
   "outputs": [],
   "source": [
    "from sklearn.model_selection import KFold\n",
    "\n",
    "def train_apps_all_with_oof(ftr, target, nfolds=5):\n",
    "\n",
    "    # nfolds 개의 cross validatin fold set을 가지는 KFold 생성 \n",
    "    folds = KFold(n_splits=nfolds, shuffle=True, random_state=0)\n",
    "    \n",
    "    # Out of Folds로 학습된 모델의 validation set을 예측하여 결과 확률을 담을 array 생성.\n",
    "    # validation set가 n_split갯수만큼 있으므로 크기는 ftr_app의 크기가 되어야 함. \n",
    "    oof_preds = np.zeros(ftr.shape[0])\n",
    "    \n",
    "    # Ouf of Folds로 학습된 모델의 test dataset을 예측하여 결과 확률을 담을 array 생성. \n",
    "    test_preds = np.zeros((X_tst.shape[0], 3))\n",
    "    \n",
    "    # n_estimators를 4000까지 확대. \n",
    "    clf = LGBMClassifier(\n",
    "                n_jobs=4,\n",
    "                n_estimators=4000,\n",
    "                learning_rate=0.01,\n",
    "                max_depth=14,\n",
    "                num_leaves=64,\n",
    "                colsample_bytree=0.6937,\n",
    "                subsample=0.5455,\n",
    "                max_bin=38,\n",
    "                reg_alpha=5.8437,\n",
    "                reg_lambda=7.4838,\n",
    "                min_child_weight=8.8813,\n",
    "                min_child_samples=31,\n",
    "                silent=-1,\n",
    "                verbose=-1,\n",
    "                )\n",
    "    \n",
    "    # nfolds 번 cross validation Iteration 반복하면서 OOF 방식으로 학습 및 테스트 데이터 예측\n",
    "    for fold_idx, (train_idx, valid_idx) in enumerate(folds.split(ftr)):\n",
    "        print('##### iteration', fold_idx, '시작')\n",
    "        # 학습용 데이터 세트의 인덱스와 검증용 데이터 세트의 인덱스 추출하여 이를 기반으로 학습/검증 데이터 추출\n",
    "        train_x = ftr.iloc[train_idx,:]\n",
    "        train_y = target.iloc[train_idx]\n",
    "        valid_x = ftr.iloc[valid_idx,:]\n",
    "        valid_y = target.iloc[valid_idx]\n",
    "        \n",
    "        # 추출된 학습/검증 데이터 세트로 모델 학습. early_stopping은 200으로 증가. \n",
    "        clf.fit(train_x, train_y, eval_set=[(train_x, train_y), (valid_x, valid_y)], eval_metric= 'logloss', verbose= 200, \n",
    "                early_stopping_rounds= 200)\n",
    "        \n",
    "        # 검증 데이터 세트로 예측된 확률 저장. 사용되지는 않음. \n",
    "        #oof_preds[valid_idx] = clf.predict_proba(valid_x, num_iteration=clf.best_iteration_)[:, 1]    \n",
    "        \n",
    "        # 학습된 모델로 테스트 데이터 세트에 예측 확률 계산.\n",
    "        # nfolds 번 반복 실행하므로 평균 확률을 구하기 위해 개별 수행시 마다 수행 횟수로 나눈 확률을 추후에 더해서 최종 평균 확률 계산. \n",
    "        test_preds += clf.predict_proba(X_test, num_iteration=clf.best_iteration_)/folds.n_splits\n",
    "             \n",
    "    return clf, test_preds"
   ]
  },
  {
   "cell_type": "code",
   "execution_count": 121,
   "metadata": {},
   "outputs": [
    {
     "name": "stdout",
     "output_type": "stream",
     "text": [
      "##### iteration 0 시작\n",
      "Training until validation scores don't improve for 200 rounds\n",
      "[200]\ttraining's multi_logloss: 0.762292\tvalid_1's multi_logloss: 0.793957\n",
      "[400]\ttraining's multi_logloss: 0.707877\tvalid_1's multi_logloss: 0.769401\n",
      "[600]\ttraining's multi_logloss: 0.670548\tvalid_1's multi_logloss: 0.756858\n",
      "[800]\ttraining's multi_logloss: 0.639527\tvalid_1's multi_logloss: 0.747483\n",
      "[1000]\ttraining's multi_logloss: 0.61493\tvalid_1's multi_logloss: 0.7413\n",
      "[1200]\ttraining's multi_logloss: 0.594272\tvalid_1's multi_logloss: 0.737291\n",
      "[1400]\ttraining's multi_logloss: 0.576512\tvalid_1's multi_logloss: 0.734427\n",
      "[1600]\ttraining's multi_logloss: 0.560676\tvalid_1's multi_logloss: 0.732432\n",
      "[1800]\ttraining's multi_logloss: 0.546086\tvalid_1's multi_logloss: 0.730836\n",
      "[2000]\ttraining's multi_logloss: 0.533163\tvalid_1's multi_logloss: 0.729782\n",
      "[2200]\ttraining's multi_logloss: 0.52176\tvalid_1's multi_logloss: 0.729018\n",
      "[2400]\ttraining's multi_logloss: 0.511255\tvalid_1's multi_logloss: 0.728261\n",
      "[2600]\ttraining's multi_logloss: 0.501588\tvalid_1's multi_logloss: 0.727781\n",
      "[2800]\ttraining's multi_logloss: 0.493497\tvalid_1's multi_logloss: 0.72742\n",
      "Early stopping, best iteration is:\n",
      "[2797]\ttraining's multi_logloss: 0.493602\tvalid_1's multi_logloss: 0.727407\n",
      "##### iteration 1 시작\n",
      "Training until validation scores don't improve for 200 rounds\n",
      "[200]\ttraining's multi_logloss: 0.759639\tvalid_1's multi_logloss: 0.792495\n",
      "[400]\ttraining's multi_logloss: 0.704913\tvalid_1's multi_logloss: 0.769222\n",
      "[600]\ttraining's multi_logloss: 0.66749\tvalid_1's multi_logloss: 0.757726\n",
      "[800]\ttraining's multi_logloss: 0.636926\tvalid_1's multi_logloss: 0.749757\n",
      "[1000]\ttraining's multi_logloss: 0.612556\tvalid_1's multi_logloss: 0.744524\n",
      "[1200]\ttraining's multi_logloss: 0.592125\tvalid_1's multi_logloss: 0.740934\n",
      "[1400]\ttraining's multi_logloss: 0.573793\tvalid_1's multi_logloss: 0.737895\n",
      "[1600]\ttraining's multi_logloss: 0.557496\tvalid_1's multi_logloss: 0.73587\n",
      "[1800]\ttraining's multi_logloss: 0.542939\tvalid_1's multi_logloss: 0.734211\n",
      "[2000]\ttraining's multi_logloss: 0.529685\tvalid_1's multi_logloss: 0.732867\n",
      "[2200]\ttraining's multi_logloss: 0.517603\tvalid_1's multi_logloss: 0.732431\n",
      "[2400]\ttraining's multi_logloss: 0.506518\tvalid_1's multi_logloss: 0.731931\n",
      "[2600]\ttraining's multi_logloss: 0.496528\tvalid_1's multi_logloss: 0.732001\n",
      "Early stopping, best iteration is:\n",
      "[2472]\ttraining's multi_logloss: 0.502821\tvalid_1's multi_logloss: 0.731842\n",
      "##### iteration 2 시작\n",
      "Training until validation scores don't improve for 200 rounds\n",
      "[200]\ttraining's multi_logloss: 0.759838\tvalid_1's multi_logloss: 0.801327\n",
      "[400]\ttraining's multi_logloss: 0.707148\tvalid_1's multi_logloss: 0.777073\n",
      "[600]\ttraining's multi_logloss: 0.670311\tvalid_1's multi_logloss: 0.764186\n",
      "[800]\ttraining's multi_logloss: 0.640061\tvalid_1's multi_logloss: 0.754354\n",
      "[1000]\ttraining's multi_logloss: 0.615504\tvalid_1's multi_logloss: 0.746844\n",
      "[1200]\ttraining's multi_logloss: 0.594886\tvalid_1's multi_logloss: 0.741436\n",
      "[1400]\ttraining's multi_logloss: 0.576612\tvalid_1's multi_logloss: 0.73704\n",
      "[1600]\ttraining's multi_logloss: 0.560855\tvalid_1's multi_logloss: 0.73386\n",
      "[1800]\ttraining's multi_logloss: 0.546592\tvalid_1's multi_logloss: 0.731408\n",
      "[2000]\ttraining's multi_logloss: 0.533839\tvalid_1's multi_logloss: 0.729648\n",
      "[2200]\ttraining's multi_logloss: 0.52213\tvalid_1's multi_logloss: 0.728108\n",
      "[2400]\ttraining's multi_logloss: 0.511151\tvalid_1's multi_logloss: 0.727115\n",
      "[2600]\ttraining's multi_logloss: 0.501094\tvalid_1's multi_logloss: 0.726294\n",
      "[2800]\ttraining's multi_logloss: 0.492211\tvalid_1's multi_logloss: 0.72606\n",
      "[3000]\ttraining's multi_logloss: 0.484446\tvalid_1's multi_logloss: 0.725801\n",
      "[3200]\ttraining's multi_logloss: 0.478674\tvalid_1's multi_logloss: 0.725594\n",
      "[3400]\ttraining's multi_logloss: 0.473351\tvalid_1's multi_logloss: 0.725395\n",
      "[3600]\ttraining's multi_logloss: 0.469829\tvalid_1's multi_logloss: 0.72568\n",
      "Early stopping, best iteration is:\n",
      "[3415]\ttraining's multi_logloss: 0.472958\tvalid_1's multi_logloss: 0.725364\n",
      "##### iteration 3 시작\n",
      "Training until validation scores don't improve for 200 rounds\n",
      "[200]\ttraining's multi_logloss: 0.762004\tvalid_1's multi_logloss: 0.792177\n",
      "[400]\ttraining's multi_logloss: 0.709881\tvalid_1's multi_logloss: 0.768325\n",
      "[600]\ttraining's multi_logloss: 0.673078\tvalid_1's multi_logloss: 0.755445\n",
      "[800]\ttraining's multi_logloss: 0.642671\tvalid_1's multi_logloss: 0.744441\n",
      "[1000]\ttraining's multi_logloss: 0.617894\tvalid_1's multi_logloss: 0.736971\n",
      "[1200]\ttraining's multi_logloss: 0.597105\tvalid_1's multi_logloss: 0.731983\n",
      "[1400]\ttraining's multi_logloss: 0.579334\tvalid_1's multi_logloss: 0.72807\n",
      "[1600]\ttraining's multi_logloss: 0.56334\tvalid_1's multi_logloss: 0.725291\n",
      "[1800]\ttraining's multi_logloss: 0.548893\tvalid_1's multi_logloss: 0.722504\n",
      "[2000]\ttraining's multi_logloss: 0.536012\tvalid_1's multi_logloss: 0.720879\n",
      "[2200]\ttraining's multi_logloss: 0.524217\tvalid_1's multi_logloss: 0.720075\n",
      "[2400]\ttraining's multi_logloss: 0.513797\tvalid_1's multi_logloss: 0.719282\n",
      "[2600]\ttraining's multi_logloss: 0.504128\tvalid_1's multi_logloss: 0.718532\n",
      "[2800]\ttraining's multi_logloss: 0.495263\tvalid_1's multi_logloss: 0.718042\n",
      "[3000]\ttraining's multi_logloss: 0.48825\tvalid_1's multi_logloss: 0.717993\n",
      "[3200]\ttraining's multi_logloss: 0.482918\tvalid_1's multi_logloss: 0.718049\n",
      "Early stopping, best iteration is:\n",
      "[3015]\ttraining's multi_logloss: 0.487831\tvalid_1's multi_logloss: 0.717976\n",
      "##### iteration 4 시작\n",
      "Training until validation scores don't improve for 200 rounds\n",
      "[200]\ttraining's multi_logloss: 0.76036\tvalid_1's multi_logloss: 0.800731\n",
      "[400]\ttraining's multi_logloss: 0.708086\tvalid_1's multi_logloss: 0.776866\n",
      "[600]\ttraining's multi_logloss: 0.670914\tvalid_1's multi_logloss: 0.764531\n",
      "[800]\ttraining's multi_logloss: 0.640881\tvalid_1's multi_logloss: 0.75547\n",
      "[1000]\ttraining's multi_logloss: 0.615558\tvalid_1's multi_logloss: 0.748617\n",
      "[1200]\ttraining's multi_logloss: 0.594433\tvalid_1's multi_logloss: 0.744098\n",
      "[1400]\ttraining's multi_logloss: 0.576285\tvalid_1's multi_logloss: 0.740872\n",
      "[1600]\ttraining's multi_logloss: 0.560367\tvalid_1's multi_logloss: 0.738872\n",
      "[1800]\ttraining's multi_logloss: 0.545894\tvalid_1's multi_logloss: 0.73739\n",
      "[2000]\ttraining's multi_logloss: 0.532903\tvalid_1's multi_logloss: 0.735745\n",
      "[2200]\ttraining's multi_logloss: 0.521323\tvalid_1's multi_logloss: 0.735026\n",
      "[2400]\ttraining's multi_logloss: 0.510609\tvalid_1's multi_logloss: 0.734018\n",
      "[2600]\ttraining's multi_logloss: 0.501325\tvalid_1's multi_logloss: 0.733637\n",
      "[2800]\ttraining's multi_logloss: 0.492847\tvalid_1's multi_logloss: 0.733453\n",
      "[3000]\ttraining's multi_logloss: 0.485099\tvalid_1's multi_logloss: 0.733542\n",
      "Early stopping, best iteration is:\n",
      "[2865]\ttraining's multi_logloss: 0.490148\tvalid_1's multi_logloss: 0.733319\n"
     ]
    }
   ],
   "source": [
    "clf, test_preds = train_apps_all_with_oof(ftr, target, nfolds=5)"
   ]
  },
  {
   "cell_type": "code",
   "execution_count": 262,
   "metadata": {},
   "outputs": [
    {
     "data": {
      "text/html": [
       "<div>\n",
       "<style scoped>\n",
       "    .dataframe tbody tr th:only-of-type {\n",
       "        vertical-align: middle;\n",
       "    }\n",
       "\n",
       "    .dataframe tbody tr th {\n",
       "        vertical-align: top;\n",
       "    }\n",
       "\n",
       "    .dataframe thead th {\n",
       "        text-align: right;\n",
       "    }\n",
       "</style>\n",
       "<table border=\"1\" class=\"dataframe\">\n",
       "  <thead>\n",
       "    <tr style=\"text-align: right;\">\n",
       "      <th></th>\n",
       "      <th>0</th>\n",
       "      <th>1</th>\n",
       "      <th>2</th>\n",
       "    </tr>\n",
       "    <tr>\n",
       "      <th>index</th>\n",
       "      <th></th>\n",
       "      <th></th>\n",
       "      <th></th>\n",
       "    </tr>\n",
       "  </thead>\n",
       "  <tbody>\n",
       "    <tr>\n",
       "      <th>26457</th>\n",
       "      <td>0.047126</td>\n",
       "      <td>0.149310</td>\n",
       "      <td>0.803564</td>\n",
       "    </tr>\n",
       "    <tr>\n",
       "      <th>26458</th>\n",
       "      <td>0.207047</td>\n",
       "      <td>0.166652</td>\n",
       "      <td>0.626301</td>\n",
       "    </tr>\n",
       "    <tr>\n",
       "      <th>26459</th>\n",
       "      <td>0.041662</td>\n",
       "      <td>0.083028</td>\n",
       "      <td>0.875310</td>\n",
       "    </tr>\n",
       "    <tr>\n",
       "      <th>26460</th>\n",
       "      <td>0.068874</td>\n",
       "      <td>0.140710</td>\n",
       "      <td>0.790416</td>\n",
       "    </tr>\n",
       "    <tr>\n",
       "      <th>26461</th>\n",
       "      <td>0.050649</td>\n",
       "      <td>0.175728</td>\n",
       "      <td>0.773623</td>\n",
       "    </tr>\n",
       "  </tbody>\n",
       "</table>\n",
       "</div>"
      ],
      "text/plain": [
       "              0         1         2\n",
       "index                              \n",
       "26457  0.047126  0.149310  0.803564\n",
       "26458  0.207047  0.166652  0.626301\n",
       "26459  0.041662  0.083028  0.875310\n",
       "26460  0.068874  0.140710  0.790416\n",
       "26461  0.050649  0.175728  0.773623"
      ]
     },
     "execution_count": 262,
     "metadata": {},
     "output_type": "execute_result"
    }
   ],
   "source": [
    "sub[sub.columns] = test_preds\n",
    "sub.head()"
   ]
  },
  {
   "cell_type": "code",
   "execution_count": 263,
   "metadata": {},
   "outputs": [],
   "source": [
    "sub.to_csv('0515(feature+w2v)2.csv')"
   ]
  },
  {
   "cell_type": "code",
   "execution_count": 264,
   "metadata": {},
   "outputs": [
    {
     "data": {
      "text/plain": [
       "<AxesSubplot:title={'center':'Feature importance'}, xlabel='Feature importance', ylabel='Features'>"
      ]
     },
     "execution_count": 264,
     "metadata": {},
     "output_type": "execute_result"
    },
    {
     "data": {
      "image/png": "[encoded data removed]",
      "text/plain": [
       "<Figure size 1152x2304 with 1 Axes>"
      ]
     },
     "metadata": {},
     "output_type": "display_data"
    }
   ],
   "source": [
    "from lightgbm import plot_importance\n",
    "\n",
    "plot_importance(clf, figsize=(16, 32), max_num_features=100)"
   ]
  },
  {
   "cell_type": "markdown",
   "metadata": {},
   "source": [
    "### TabNet"
   ]
  },
  {
   "cell_type": "code",
   "execution_count": 41,
   "metadata": {},
   "outputs": [],
   "source": [
    "#!pip uninstall -y typing\n",
    "#!pip install \"git+https://github.com/dreamquark-ai/tabnet.git@develop#egg=pytorch_tabnet\" --upgrade"
   ]
  },
  {
   "cell_type": "code",
   "execution_count": 29,
   "metadata": {},
   "outputs": [],
   "source": [
    "from pytorch_tabnet.multitask import TabNetMultiTaskClassifier\n",
    "\n",
    "import torch\n",
    "from sklearn.preprocessing import LabelEncoder\n",
    "from sklearn.metrics import roc_auc_score, log_loss\n",
    "\n",
    "import pandas as pd\n",
    "import numpy as np\n",
    "np.random.seed(0)\n",
    "\n",
    "from tqdm.notebook import tqdm\n",
    "\n",
    "import os\n",
    "\n",
    "from matplotlib import pyplot as plt\n",
    "%matplotlib inline"
   ]
  },
  {
   "cell_type": "code",
   "execution_count": 43,
   "metadata": {},
   "outputs": [
    {
     "data": {
      "text/plain": [
       "((18519, 42), (7938, 42))"
      ]
     },
     "execution_count": 43,
     "metadata": {},
     "output_type": "execute_result"
    }
   ],
   "source": [
    "ftr = X\n",
    "target = y\n",
    "train_x, valid_x, train_y, valid_y = train_test_split(ftr, target, test_size=0.3, random_state=0)\n",
    "train_x.shape, valid_x.shape"
   ]
  },
  {
   "cell_type": "code",
   "execution_count": 44,
   "metadata": {},
   "outputs": [
    {
     "name": "stdout",
     "output_type": "stream",
     "text": [
      "Device used : cuda\n"
     ]
    }
   ],
   "source": [
    "clf = TabNetMultiTaskClassifier(n_steps=12,\n",
    "                                #cat_idxs=cat_idxs,\n",
    "                                #cat_dims=cat_dims,\n",
    "                                #cat_emb_dim=1,\n",
    "                                optimizer_fn=torch.optim.Adam,\n",
    "                                optimizer_params=dict(lr=2e-2),\n",
    "                                scheduler_params={\"step_size\":50,\n",
    "                                                  \"gamma\":0.9},\n",
    "                                scheduler_fn=torch.optim.lr_scheduler.StepLR,\n",
    "                                mask_type='entmax',\n",
    "                                lambda_sparse=0\n",
    "                               )"
   ]
  },
  {
   "cell_type": "code",
   "execution_count": 45,
   "metadata": {},
   "outputs": [],
   "source": [
    "train_y = train_y.values.reshape(-1, 1)\n",
    "valid_y = valid_y.values.reshape(-1, 1)"
   ]
  },
  {
   "cell_type": "code",
   "execution_count": 46,
   "metadata": {},
   "outputs": [
    {
     "data": {
      "text/plain": [
       "((18519, 1), (7938, 1))"
      ]
     },
     "execution_count": 46,
     "metadata": {},
     "output_type": "execute_result"
    }
   ],
   "source": [
    "train_y.shape, valid_y.shape"
   ]
  },
  {
   "cell_type": "code",
   "execution_count": 47,
   "metadata": {},
   "outputs": [
    {
     "name": "stdout",
     "output_type": "stream",
     "text": [
      "epoch 0  | loss: 1.54238 | val_0_logloss: 1.16283 | val_1_logloss: 1.1599  |  0:00:14s\n",
      "epoch 1  | loss: 1.00132 | val_0_logloss: 0.93277 | val_1_logloss: 0.93229 |  0:00:26s\n",
      "epoch 2  | loss: 0.90455 | val_0_logloss: 0.90316 | val_1_logloss: 0.8952  |  0:00:38s\n",
      "epoch 3  | loss: 0.8907  | val_0_logloss: 0.92451 | val_1_logloss: 0.92367 |  0:00:50s\n",
      "epoch 4  | loss: 0.97504 | val_0_logloss: 0.92867 | val_1_logloss: 0.91954 |  0:01:02s\n",
      "epoch 5  | loss: 0.90255 | val_0_logloss: 0.88677 | val_1_logloss: 0.87857 |  0:01:15s\n",
      "epoch 6  | loss: 0.8854  | val_0_logloss: 0.90019 | val_1_logloss: 0.89381 |  0:01:27s\n",
      "epoch 7  | loss: 0.89418 | val_0_logloss: 0.9742  | val_1_logloss: 0.97149 |  0:01:40s\n",
      "epoch 8  | loss: 0.88304 | val_0_logloss: 0.871   | val_1_logloss: 0.86744 |  0:01:52s\n",
      "epoch 9  | loss: 0.85851 | val_0_logloss: 0.85526 | val_1_logloss: 0.84756 |  0:02:04s\n",
      "epoch 10 | loss: 0.8565  | val_0_logloss: 0.86605 | val_1_logloss: 0.86262 |  0:02:17s\n",
      "epoch 11 | loss: 0.85841 | val_0_logloss: 0.87215 | val_1_logloss: 0.86536 |  0:02:30s\n",
      "epoch 12 | loss: 0.86173 | val_0_logloss: 0.85322 | val_1_logloss: 0.84697 |  0:02:45s\n",
      "epoch 13 | loss: 0.85196 | val_0_logloss: 0.85209 | val_1_logloss: 0.84615 |  0:02:59s\n",
      "epoch 14 | loss: 0.85385 | val_0_logloss: 0.85298 | val_1_logloss: 0.84392 |  0:03:13s\n",
      "epoch 15 | loss: 0.84996 | val_0_logloss: 0.84885 | val_1_logloss: 0.84379 |  0:03:31s\n"
     ]
    },
    {
     "ename": "KeyboardInterrupt",
     "evalue": "",
     "output_type": "error",
     "traceback": [
      "\u001b[1;31m---------------------------------------------------------------------------\u001b[0m",
      "\u001b[1;31mKeyboardInterrupt\u001b[0m                         Traceback (most recent call last)",
      "\u001b[1;32m<ipython-input-47-91170a2c0d63>\u001b[0m in \u001b[0;36m<module>\u001b[1;34m\u001b[0m\n\u001b[0;32m      1\u001b[0m \u001b[0mmax_epochs\u001b[0m \u001b[1;33m=\u001b[0m \u001b[1;36m300\u001b[0m\u001b[1;33m\u001b[0m\u001b[1;33m\u001b[0m\u001b[0m\n\u001b[1;32m----> 2\u001b[1;33m clf.fit(\n\u001b[0m\u001b[0;32m      3\u001b[0m     \u001b[0mX_train\u001b[0m\u001b[1;33m=\u001b[0m\u001b[0mtrain_x\u001b[0m\u001b[1;33m.\u001b[0m\u001b[0mvalues\u001b[0m\u001b[1;33m,\u001b[0m \u001b[0my_train\u001b[0m\u001b[1;33m=\u001b[0m\u001b[0mtrain_y\u001b[0m\u001b[1;33m,\u001b[0m\u001b[1;33m\u001b[0m\u001b[1;33m\u001b[0m\u001b[0m\n\u001b[0;32m      4\u001b[0m     \u001b[0meval_set\u001b[0m\u001b[1;33m=\u001b[0m\u001b[1;33m[\u001b[0m\u001b[1;33m(\u001b[0m\u001b[0mtrain_x\u001b[0m\u001b[1;33m.\u001b[0m\u001b[0mvalues\u001b[0m\u001b[1;33m,\u001b[0m \u001b[0mtrain_y\u001b[0m\u001b[1;33m)\u001b[0m\u001b[1;33m,\u001b[0m\u001b[1;33m(\u001b[0m\u001b[0mvalid_x\u001b[0m\u001b[1;33m.\u001b[0m\u001b[0mvalues\u001b[0m\u001b[1;33m,\u001b[0m \u001b[0mvalid_y\u001b[0m\u001b[1;33m)\u001b[0m\u001b[1;33m]\u001b[0m\u001b[1;33m,\u001b[0m\u001b[1;33m\u001b[0m\u001b[1;33m\u001b[0m\u001b[0m\n\u001b[0;32m      5\u001b[0m     \u001b[0mmax_epochs\u001b[0m\u001b[1;33m=\u001b[0m\u001b[0mmax_epochs\u001b[0m\u001b[1;33m,\u001b[0m\u001b[1;33m\u001b[0m\u001b[1;33m\u001b[0m\u001b[0m\n",
      "\u001b[1;32m~\\anaconda3\\lib\\site-packages\\pytorch_tabnet\\abstract_model.py\u001b[0m in \u001b[0;36mfit\u001b[1;34m(self, X_train, y_train, eval_set, eval_name, eval_metric, loss_fn, weights, max_epochs, patience, batch_size, virtual_batch_size, num_workers, drop_last, callbacks, pin_memory, from_unsupervised)\u001b[0m\n\u001b[0;32m    221\u001b[0m             \u001b[0mself\u001b[0m\u001b[1;33m.\u001b[0m\u001b[0m_callback_container\u001b[0m\u001b[1;33m.\u001b[0m\u001b[0mon_epoch_begin\u001b[0m\u001b[1;33m(\u001b[0m\u001b[0mepoch_idx\u001b[0m\u001b[1;33m)\u001b[0m\u001b[1;33m\u001b[0m\u001b[1;33m\u001b[0m\u001b[0m\n\u001b[0;32m    222\u001b[0m \u001b[1;33m\u001b[0m\u001b[0m\n\u001b[1;32m--> 223\u001b[1;33m             \u001b[0mself\u001b[0m\u001b[1;33m.\u001b[0m\u001b[0m_train_epoch\u001b[0m\u001b[1;33m(\u001b[0m\u001b[0mtrain_dataloader\u001b[0m\u001b[1;33m)\u001b[0m\u001b[1;33m\u001b[0m\u001b[1;33m\u001b[0m\u001b[0m\n\u001b[0m\u001b[0;32m    224\u001b[0m \u001b[1;33m\u001b[0m\u001b[0m\n\u001b[0;32m    225\u001b[0m             \u001b[1;31m# Apply predict epoch to all eval sets\u001b[0m\u001b[1;33m\u001b[0m\u001b[1;33m\u001b[0m\u001b[1;33m\u001b[0m\u001b[0m\n",
      "\u001b[1;32m~\\anaconda3\\lib\\site-packages\\pytorch_tabnet\\abstract_model.py\u001b[0m in \u001b[0;36m_train_epoch\u001b[1;34m(self, train_loader)\u001b[0m\n\u001b[0;32m    432\u001b[0m             \u001b[0mself\u001b[0m\u001b[1;33m.\u001b[0m\u001b[0m_callback_container\u001b[0m\u001b[1;33m.\u001b[0m\u001b[0mon_batch_begin\u001b[0m\u001b[1;33m(\u001b[0m\u001b[0mbatch_idx\u001b[0m\u001b[1;33m)\u001b[0m\u001b[1;33m\u001b[0m\u001b[1;33m\u001b[0m\u001b[0m\n\u001b[0;32m    433\u001b[0m \u001b[1;33m\u001b[0m\u001b[0m\n\u001b[1;32m--> 434\u001b[1;33m             \u001b[0mbatch_logs\u001b[0m \u001b[1;33m=\u001b[0m \u001b[0mself\u001b[0m\u001b[1;33m.\u001b[0m\u001b[0m_train_batch\u001b[0m\u001b[1;33m(\u001b[0m\u001b[0mX\u001b[0m\u001b[1;33m,\u001b[0m \u001b[0my\u001b[0m\u001b[1;33m)\u001b[0m\u001b[1;33m\u001b[0m\u001b[1;33m\u001b[0m\u001b[0m\n\u001b[0m\u001b[0;32m    435\u001b[0m \u001b[1;33m\u001b[0m\u001b[0m\n\u001b[0;32m    436\u001b[0m             \u001b[0mself\u001b[0m\u001b[1;33m.\u001b[0m\u001b[0m_callback_container\u001b[0m\u001b[1;33m.\u001b[0m\u001b[0mon_batch_end\u001b[0m\u001b[1;33m(\u001b[0m\u001b[0mbatch_idx\u001b[0m\u001b[1;33m,\u001b[0m \u001b[0mbatch_logs\u001b[0m\u001b[1;33m)\u001b[0m\u001b[1;33m\u001b[0m\u001b[1;33m\u001b[0m\u001b[0m\n",
      "\u001b[1;32m~\\anaconda3\\lib\\site-packages\\pytorch_tabnet\\abstract_model.py\u001b[0m in \u001b[0;36m_train_batch\u001b[1;34m(self, X, y)\u001b[0m\n\u001b[0;32m    476\u001b[0m         \u001b[0mloss\u001b[0m\u001b[1;33m.\u001b[0m\u001b[0mbackward\u001b[0m\u001b[1;33m(\u001b[0m\u001b[1;33m)\u001b[0m\u001b[1;33m\u001b[0m\u001b[1;33m\u001b[0m\u001b[0m\n\u001b[0;32m    477\u001b[0m         \u001b[1;32mif\u001b[0m \u001b[0mself\u001b[0m\u001b[1;33m.\u001b[0m\u001b[0mclip_value\u001b[0m\u001b[1;33m:\u001b[0m\u001b[1;33m\u001b[0m\u001b[1;33m\u001b[0m\u001b[0m\n\u001b[1;32m--> 478\u001b[1;33m             \u001b[0mclip_grad_norm_\u001b[0m\u001b[1;33m(\u001b[0m\u001b[0mself\u001b[0m\u001b[1;33m.\u001b[0m\u001b[0mnetwork\u001b[0m\u001b[1;33m.\u001b[0m\u001b[0mparameters\u001b[0m\u001b[1;33m(\u001b[0m\u001b[1;33m)\u001b[0m\u001b[1;33m,\u001b[0m \u001b[0mself\u001b[0m\u001b[1;33m.\u001b[0m\u001b[0mclip_value\u001b[0m\u001b[1;33m)\u001b[0m\u001b[1;33m\u001b[0m\u001b[1;33m\u001b[0m\u001b[0m\n\u001b[0m\u001b[0;32m    479\u001b[0m         \u001b[0mself\u001b[0m\u001b[1;33m.\u001b[0m\u001b[0m_optimizer\u001b[0m\u001b[1;33m.\u001b[0m\u001b[0mstep\u001b[0m\u001b[1;33m(\u001b[0m\u001b[1;33m)\u001b[0m\u001b[1;33m\u001b[0m\u001b[1;33m\u001b[0m\u001b[0m\n\u001b[0;32m    480\u001b[0m \u001b[1;33m\u001b[0m\u001b[0m\n",
      "\u001b[1;32m~\\anaconda3\\lib\\site-packages\\torch\\nn\\utils\\clip_grad.py\u001b[0m in \u001b[0;36mclip_grad_norm_\u001b[1;34m(parameters, max_norm, norm_type)\u001b[0m\n\u001b[0;32m     34\u001b[0m         \u001b[0mtotal_norm\u001b[0m \u001b[1;33m=\u001b[0m \u001b[0mmax\u001b[0m\u001b[1;33m(\u001b[0m\u001b[0mp\u001b[0m\u001b[1;33m.\u001b[0m\u001b[0mgrad\u001b[0m\u001b[1;33m.\u001b[0m\u001b[0mdetach\u001b[0m\u001b[1;33m(\u001b[0m\u001b[1;33m)\u001b[0m\u001b[1;33m.\u001b[0m\u001b[0mabs\u001b[0m\u001b[1;33m(\u001b[0m\u001b[1;33m)\u001b[0m\u001b[1;33m.\u001b[0m\u001b[0mmax\u001b[0m\u001b[1;33m(\u001b[0m\u001b[1;33m)\u001b[0m\u001b[1;33m.\u001b[0m\u001b[0mto\u001b[0m\u001b[1;33m(\u001b[0m\u001b[0mdevice\u001b[0m\u001b[1;33m)\u001b[0m \u001b[1;32mfor\u001b[0m \u001b[0mp\u001b[0m \u001b[1;32min\u001b[0m \u001b[0mparameters\u001b[0m\u001b[1;33m)\u001b[0m\u001b[1;33m\u001b[0m\u001b[1;33m\u001b[0m\u001b[0m\n\u001b[0;32m     35\u001b[0m     \u001b[1;32melse\u001b[0m\u001b[1;33m:\u001b[0m\u001b[1;33m\u001b[0m\u001b[1;33m\u001b[0m\u001b[0m\n\u001b[1;32m---> 36\u001b[1;33m         \u001b[0mtotal_norm\u001b[0m \u001b[1;33m=\u001b[0m \u001b[0mtorch\u001b[0m\u001b[1;33m.\u001b[0m\u001b[0mnorm\u001b[0m\u001b[1;33m(\u001b[0m\u001b[0mtorch\u001b[0m\u001b[1;33m.\u001b[0m\u001b[0mstack\u001b[0m\u001b[1;33m(\u001b[0m\u001b[1;33m[\u001b[0m\u001b[0mtorch\u001b[0m\u001b[1;33m.\u001b[0m\u001b[0mnorm\u001b[0m\u001b[1;33m(\u001b[0m\u001b[0mp\u001b[0m\u001b[1;33m.\u001b[0m\u001b[0mgrad\u001b[0m\u001b[1;33m.\u001b[0m\u001b[0mdetach\u001b[0m\u001b[1;33m(\u001b[0m\u001b[1;33m)\u001b[0m\u001b[1;33m,\u001b[0m \u001b[0mnorm_type\u001b[0m\u001b[1;33m)\u001b[0m\u001b[1;33m.\u001b[0m\u001b[0mto\u001b[0m\u001b[1;33m(\u001b[0m\u001b[0mdevice\u001b[0m\u001b[1;33m)\u001b[0m \u001b[1;32mfor\u001b[0m \u001b[0mp\u001b[0m \u001b[1;32min\u001b[0m \u001b[0mparameters\u001b[0m\u001b[1;33m]\u001b[0m\u001b[1;33m)\u001b[0m\u001b[1;33m,\u001b[0m \u001b[0mnorm_type\u001b[0m\u001b[1;33m)\u001b[0m\u001b[1;33m\u001b[0m\u001b[1;33m\u001b[0m\u001b[0m\n\u001b[0m\u001b[0;32m     37\u001b[0m     \u001b[0mclip_coef\u001b[0m \u001b[1;33m=\u001b[0m \u001b[0mmax_norm\u001b[0m \u001b[1;33m/\u001b[0m \u001b[1;33m(\u001b[0m\u001b[0mtotal_norm\u001b[0m \u001b[1;33m+\u001b[0m \u001b[1;36m1e-6\u001b[0m\u001b[1;33m)\u001b[0m\u001b[1;33m\u001b[0m\u001b[1;33m\u001b[0m\u001b[0m\n\u001b[0;32m     38\u001b[0m     \u001b[1;32mif\u001b[0m \u001b[0mclip_coef\u001b[0m \u001b[1;33m<\u001b[0m \u001b[1;36m1\u001b[0m\u001b[1;33m:\u001b[0m\u001b[1;33m\u001b[0m\u001b[1;33m\u001b[0m\u001b[0m\n",
      "\u001b[1;32m~\\anaconda3\\lib\\site-packages\\torch\\nn\\utils\\clip_grad.py\u001b[0m in \u001b[0;36m<listcomp>\u001b[1;34m(.0)\u001b[0m\n\u001b[0;32m     34\u001b[0m         \u001b[0mtotal_norm\u001b[0m \u001b[1;33m=\u001b[0m \u001b[0mmax\u001b[0m\u001b[1;33m(\u001b[0m\u001b[0mp\u001b[0m\u001b[1;33m.\u001b[0m\u001b[0mgrad\u001b[0m\u001b[1;33m.\u001b[0m\u001b[0mdetach\u001b[0m\u001b[1;33m(\u001b[0m\u001b[1;33m)\u001b[0m\u001b[1;33m.\u001b[0m\u001b[0mabs\u001b[0m\u001b[1;33m(\u001b[0m\u001b[1;33m)\u001b[0m\u001b[1;33m.\u001b[0m\u001b[0mmax\u001b[0m\u001b[1;33m(\u001b[0m\u001b[1;33m)\u001b[0m\u001b[1;33m.\u001b[0m\u001b[0mto\u001b[0m\u001b[1;33m(\u001b[0m\u001b[0mdevice\u001b[0m\u001b[1;33m)\u001b[0m \u001b[1;32mfor\u001b[0m \u001b[0mp\u001b[0m \u001b[1;32min\u001b[0m \u001b[0mparameters\u001b[0m\u001b[1;33m)\u001b[0m\u001b[1;33m\u001b[0m\u001b[1;33m\u001b[0m\u001b[0m\n\u001b[0;32m     35\u001b[0m     \u001b[1;32melse\u001b[0m\u001b[1;33m:\u001b[0m\u001b[1;33m\u001b[0m\u001b[1;33m\u001b[0m\u001b[0m\n\u001b[1;32m---> 36\u001b[1;33m         \u001b[0mtotal_norm\u001b[0m \u001b[1;33m=\u001b[0m \u001b[0mtorch\u001b[0m\u001b[1;33m.\u001b[0m\u001b[0mnorm\u001b[0m\u001b[1;33m(\u001b[0m\u001b[0mtorch\u001b[0m\u001b[1;33m.\u001b[0m\u001b[0mstack\u001b[0m\u001b[1;33m(\u001b[0m\u001b[1;33m[\u001b[0m\u001b[0mtorch\u001b[0m\u001b[1;33m.\u001b[0m\u001b[0mnorm\u001b[0m\u001b[1;33m(\u001b[0m\u001b[0mp\u001b[0m\u001b[1;33m.\u001b[0m\u001b[0mgrad\u001b[0m\u001b[1;33m.\u001b[0m\u001b[0mdetach\u001b[0m\u001b[1;33m(\u001b[0m\u001b[1;33m)\u001b[0m\u001b[1;33m,\u001b[0m \u001b[0mnorm_type\u001b[0m\u001b[1;33m)\u001b[0m\u001b[1;33m.\u001b[0m\u001b[0mto\u001b[0m\u001b[1;33m(\u001b[0m\u001b[0mdevice\u001b[0m\u001b[1;33m)\u001b[0m \u001b[1;32mfor\u001b[0m \u001b[0mp\u001b[0m \u001b[1;32min\u001b[0m \u001b[0mparameters\u001b[0m\u001b[1;33m]\u001b[0m\u001b[1;33m)\u001b[0m\u001b[1;33m,\u001b[0m \u001b[0mnorm_type\u001b[0m\u001b[1;33m)\u001b[0m\u001b[1;33m\u001b[0m\u001b[1;33m\u001b[0m\u001b[0m\n\u001b[0m\u001b[0;32m     37\u001b[0m     \u001b[0mclip_coef\u001b[0m \u001b[1;33m=\u001b[0m \u001b[0mmax_norm\u001b[0m \u001b[1;33m/\u001b[0m \u001b[1;33m(\u001b[0m\u001b[0mtotal_norm\u001b[0m \u001b[1;33m+\u001b[0m \u001b[1;36m1e-6\u001b[0m\u001b[1;33m)\u001b[0m\u001b[1;33m\u001b[0m\u001b[1;33m\u001b[0m\u001b[0m\n\u001b[0;32m     38\u001b[0m     \u001b[1;32mif\u001b[0m \u001b[0mclip_coef\u001b[0m \u001b[1;33m<\u001b[0m \u001b[1;36m1\u001b[0m\u001b[1;33m:\u001b[0m\u001b[1;33m\u001b[0m\u001b[1;33m\u001b[0m\u001b[0m\n",
      "\u001b[1;31mKeyboardInterrupt\u001b[0m: "
     ]
    }
   ],
   "source": [
    "max_epochs = 300\n",
    "clf.fit(\n",
    "    X_train=train_x.values, y_train=train_y,\n",
    "    eval_set=[(train_x.values, train_y),(valid_x.values, valid_y)],\n",
    "    max_epochs=max_epochs,\n",
    "    patience=50, # please be patient ^^\n",
    "    batch_size=1024,\n",
    "    virtual_batch_size=128,\n",
    "    num_workers=1,\n",
    "    drop_last=False,\n",
    "    eval_metric=['logloss'],\n",
    ")"
   ]
  },
  {
   "cell_type": "code",
   "execution_count": 101,
   "metadata": {
    "collapsed": true
   },
   "outputs": [
    {
     "ename": "KeyError",
     "evalue": "0",
     "output_type": "error",
     "traceback": [
      "\u001b[1;31m---------------------------------------------------------------------------\u001b[0m",
      "\u001b[1;31mKeyError\u001b[0m                                  Traceback (most recent call last)",
      "\u001b[1;32m~\\anaconda3\\lib\\site-packages\\pandas\\core\\indexes\\base.py\u001b[0m in \u001b[0;36mget_loc\u001b[1;34m(self, key, method, tolerance)\u001b[0m\n\u001b[0;32m   3079\u001b[0m             \u001b[1;32mtry\u001b[0m\u001b[1;33m:\u001b[0m\u001b[1;33m\u001b[0m\u001b[1;33m\u001b[0m\u001b[0m\n\u001b[1;32m-> 3080\u001b[1;33m                 \u001b[1;32mreturn\u001b[0m \u001b[0mself\u001b[0m\u001b[1;33m.\u001b[0m\u001b[0m_engine\u001b[0m\u001b[1;33m.\u001b[0m\u001b[0mget_loc\u001b[0m\u001b[1;33m(\u001b[0m\u001b[0mcasted_key\u001b[0m\u001b[1;33m)\u001b[0m\u001b[1;33m\u001b[0m\u001b[1;33m\u001b[0m\u001b[0m\n\u001b[0m\u001b[0;32m   3081\u001b[0m             \u001b[1;32mexcept\u001b[0m \u001b[0mKeyError\u001b[0m \u001b[1;32mas\u001b[0m \u001b[0merr\u001b[0m\u001b[1;33m:\u001b[0m\u001b[1;33m\u001b[0m\u001b[1;33m\u001b[0m\u001b[0m\n",
      "\u001b[1;32mpandas\\_libs\\index.pyx\u001b[0m in \u001b[0;36mpandas._libs.index.IndexEngine.get_loc\u001b[1;34m()\u001b[0m\n",
      "\u001b[1;32mpandas\\_libs\\index.pyx\u001b[0m in \u001b[0;36mpandas._libs.index.IndexEngine.get_loc\u001b[1;34m()\u001b[0m\n",
      "\u001b[1;32mpandas\\_libs\\hashtable_class_helper.pxi\u001b[0m in \u001b[0;36mpandas._libs.hashtable.PyObjectHashTable.get_item\u001b[1;34m()\u001b[0m\n",
      "\u001b[1;32mpandas\\_libs\\hashtable_class_helper.pxi\u001b[0m in \u001b[0;36mpandas._libs.hashtable.PyObjectHashTable.get_item\u001b[1;34m()\u001b[0m\n",
      "\u001b[1;31mKeyError\u001b[0m: 0",
      "\nThe above exception was the direct cause of the following exception:\n",
      "\u001b[1;31mKeyError\u001b[0m                                  Traceback (most recent call last)",
      "\u001b[1;32m<ipython-input-101-6ea35f8049be>\u001b[0m in \u001b[0;36m<module>\u001b[1;34m\u001b[0m\n\u001b[1;32m----> 1\u001b[1;33m \u001b[0mpreds_valid\u001b[0m \u001b[1;33m=\u001b[0m \u001b[0mclf\u001b[0m\u001b[1;33m.\u001b[0m\u001b[0mpredict_proba\u001b[0m\u001b[1;33m(\u001b[0m\u001b[0mvalid_x\u001b[0m\u001b[1;33m)\u001b[0m\u001b[1;33m\u001b[0m\u001b[1;33m\u001b[0m\u001b[0m\n\u001b[0m",
      "\u001b[1;32m~\\anaconda3\\lib\\site-packages\\pytorch_tabnet\\multitask.py\u001b[0m in \u001b[0;36mpredict_proba\u001b[1;34m(self, X)\u001b[0m\n\u001b[0;32m    150\u001b[0m \u001b[1;33m\u001b[0m\u001b[0m\n\u001b[0;32m    151\u001b[0m         \u001b[0mresults\u001b[0m \u001b[1;33m=\u001b[0m \u001b[1;33m{\u001b[0m\u001b[1;33m}\u001b[0m\u001b[1;33m\u001b[0m\u001b[1;33m\u001b[0m\u001b[0m\n\u001b[1;32m--> 152\u001b[1;33m         \u001b[1;32mfor\u001b[0m \u001b[0mdata\u001b[0m \u001b[1;32min\u001b[0m \u001b[0mdataloader\u001b[0m\u001b[1;33m:\u001b[0m\u001b[1;33m\u001b[0m\u001b[1;33m\u001b[0m\u001b[0m\n\u001b[0m\u001b[0;32m    153\u001b[0m             \u001b[0mdata\u001b[0m \u001b[1;33m=\u001b[0m \u001b[0mdata\u001b[0m\u001b[1;33m.\u001b[0m\u001b[0mto\u001b[0m\u001b[1;33m(\u001b[0m\u001b[0mself\u001b[0m\u001b[1;33m.\u001b[0m\u001b[0mdevice\u001b[0m\u001b[1;33m)\u001b[0m\u001b[1;33m.\u001b[0m\u001b[0mfloat\u001b[0m\u001b[1;33m(\u001b[0m\u001b[1;33m)\u001b[0m\u001b[1;33m\u001b[0m\u001b[1;33m\u001b[0m\u001b[0m\n\u001b[0;32m    154\u001b[0m             \u001b[0moutput\u001b[0m\u001b[1;33m,\u001b[0m \u001b[0m_\u001b[0m \u001b[1;33m=\u001b[0m \u001b[0mself\u001b[0m\u001b[1;33m.\u001b[0m\u001b[0mnetwork\u001b[0m\u001b[1;33m(\u001b[0m\u001b[0mdata\u001b[0m\u001b[1;33m)\u001b[0m\u001b[1;33m\u001b[0m\u001b[1;33m\u001b[0m\u001b[0m\n",
      "\u001b[1;32m~\\anaconda3\\lib\\site-packages\\torch\\utils\\data\\dataloader.py\u001b[0m in \u001b[0;36m__next__\u001b[1;34m(self)\u001b[0m\n\u001b[0;32m    515\u001b[0m             \u001b[1;32mif\u001b[0m \u001b[0mself\u001b[0m\u001b[1;33m.\u001b[0m\u001b[0m_sampler_iter\u001b[0m \u001b[1;32mis\u001b[0m \u001b[1;32mNone\u001b[0m\u001b[1;33m:\u001b[0m\u001b[1;33m\u001b[0m\u001b[1;33m\u001b[0m\u001b[0m\n\u001b[0;32m    516\u001b[0m                 \u001b[0mself\u001b[0m\u001b[1;33m.\u001b[0m\u001b[0m_reset\u001b[0m\u001b[1;33m(\u001b[0m\u001b[1;33m)\u001b[0m\u001b[1;33m\u001b[0m\u001b[1;33m\u001b[0m\u001b[0m\n\u001b[1;32m--> 517\u001b[1;33m             \u001b[0mdata\u001b[0m \u001b[1;33m=\u001b[0m \u001b[0mself\u001b[0m\u001b[1;33m.\u001b[0m\u001b[0m_next_data\u001b[0m\u001b[1;33m(\u001b[0m\u001b[1;33m)\u001b[0m\u001b[1;33m\u001b[0m\u001b[1;33m\u001b[0m\u001b[0m\n\u001b[0m\u001b[0;32m    518\u001b[0m             \u001b[0mself\u001b[0m\u001b[1;33m.\u001b[0m\u001b[0m_num_yielded\u001b[0m \u001b[1;33m+=\u001b[0m \u001b[1;36m1\u001b[0m\u001b[1;33m\u001b[0m\u001b[1;33m\u001b[0m\u001b[0m\n\u001b[0;32m    519\u001b[0m             \u001b[1;32mif\u001b[0m \u001b[0mself\u001b[0m\u001b[1;33m.\u001b[0m\u001b[0m_dataset_kind\u001b[0m \u001b[1;33m==\u001b[0m \u001b[0m_DatasetKind\u001b[0m\u001b[1;33m.\u001b[0m\u001b[0mIterable\u001b[0m \u001b[1;32mand\u001b[0m\u001b[0;31m \u001b[0m\u001b[0;31m\\\u001b[0m\u001b[1;33m\u001b[0m\u001b[1;33m\u001b[0m\u001b[0m\n",
      "\u001b[1;32m~\\anaconda3\\lib\\site-packages\\torch\\utils\\data\\dataloader.py\u001b[0m in \u001b[0;36m_next_data\u001b[1;34m(self)\u001b[0m\n\u001b[0;32m    555\u001b[0m     \u001b[1;32mdef\u001b[0m \u001b[0m_next_data\u001b[0m\u001b[1;33m(\u001b[0m\u001b[0mself\u001b[0m\u001b[1;33m)\u001b[0m\u001b[1;33m:\u001b[0m\u001b[1;33m\u001b[0m\u001b[1;33m\u001b[0m\u001b[0m\n\u001b[0;32m    556\u001b[0m         \u001b[0mindex\u001b[0m \u001b[1;33m=\u001b[0m \u001b[0mself\u001b[0m\u001b[1;33m.\u001b[0m\u001b[0m_next_index\u001b[0m\u001b[1;33m(\u001b[0m\u001b[1;33m)\u001b[0m  \u001b[1;31m# may raise StopIteration\u001b[0m\u001b[1;33m\u001b[0m\u001b[1;33m\u001b[0m\u001b[0m\n\u001b[1;32m--> 557\u001b[1;33m         \u001b[0mdata\u001b[0m \u001b[1;33m=\u001b[0m \u001b[0mself\u001b[0m\u001b[1;33m.\u001b[0m\u001b[0m_dataset_fetcher\u001b[0m\u001b[1;33m.\u001b[0m\u001b[0mfetch\u001b[0m\u001b[1;33m(\u001b[0m\u001b[0mindex\u001b[0m\u001b[1;33m)\u001b[0m  \u001b[1;31m# may raise StopIteration\u001b[0m\u001b[1;33m\u001b[0m\u001b[1;33m\u001b[0m\u001b[0m\n\u001b[0m\u001b[0;32m    558\u001b[0m         \u001b[1;32mif\u001b[0m \u001b[0mself\u001b[0m\u001b[1;33m.\u001b[0m\u001b[0m_pin_memory\u001b[0m\u001b[1;33m:\u001b[0m\u001b[1;33m\u001b[0m\u001b[1;33m\u001b[0m\u001b[0m\n\u001b[0;32m    559\u001b[0m             \u001b[0mdata\u001b[0m \u001b[1;33m=\u001b[0m \u001b[0m_utils\u001b[0m\u001b[1;33m.\u001b[0m\u001b[0mpin_memory\u001b[0m\u001b[1;33m.\u001b[0m\u001b[0mpin_memory\u001b[0m\u001b[1;33m(\u001b[0m\u001b[0mdata\u001b[0m\u001b[1;33m)\u001b[0m\u001b[1;33m\u001b[0m\u001b[1;33m\u001b[0m\u001b[0m\n",
      "\u001b[1;32m~\\anaconda3\\lib\\site-packages\\torch\\utils\\data\\_utils\\fetch.py\u001b[0m in \u001b[0;36mfetch\u001b[1;34m(self, possibly_batched_index)\u001b[0m\n\u001b[0;32m     42\u001b[0m     \u001b[1;32mdef\u001b[0m \u001b[0mfetch\u001b[0m\u001b[1;33m(\u001b[0m\u001b[0mself\u001b[0m\u001b[1;33m,\u001b[0m \u001b[0mpossibly_batched_index\u001b[0m\u001b[1;33m)\u001b[0m\u001b[1;33m:\u001b[0m\u001b[1;33m\u001b[0m\u001b[1;33m\u001b[0m\u001b[0m\n\u001b[0;32m     43\u001b[0m         \u001b[1;32mif\u001b[0m \u001b[0mself\u001b[0m\u001b[1;33m.\u001b[0m\u001b[0mauto_collation\u001b[0m\u001b[1;33m:\u001b[0m\u001b[1;33m\u001b[0m\u001b[1;33m\u001b[0m\u001b[0m\n\u001b[1;32m---> 44\u001b[1;33m             \u001b[0mdata\u001b[0m \u001b[1;33m=\u001b[0m \u001b[1;33m[\u001b[0m\u001b[0mself\u001b[0m\u001b[1;33m.\u001b[0m\u001b[0mdataset\u001b[0m\u001b[1;33m[\u001b[0m\u001b[0midx\u001b[0m\u001b[1;33m]\u001b[0m \u001b[1;32mfor\u001b[0m \u001b[0midx\u001b[0m \u001b[1;32min\u001b[0m \u001b[0mpossibly_batched_index\u001b[0m\u001b[1;33m]\u001b[0m\u001b[1;33m\u001b[0m\u001b[1;33m\u001b[0m\u001b[0m\n\u001b[0m\u001b[0;32m     45\u001b[0m         \u001b[1;32melse\u001b[0m\u001b[1;33m:\u001b[0m\u001b[1;33m\u001b[0m\u001b[1;33m\u001b[0m\u001b[0m\n\u001b[0;32m     46\u001b[0m             \u001b[0mdata\u001b[0m \u001b[1;33m=\u001b[0m \u001b[0mself\u001b[0m\u001b[1;33m.\u001b[0m\u001b[0mdataset\u001b[0m\u001b[1;33m[\u001b[0m\u001b[0mpossibly_batched_index\u001b[0m\u001b[1;33m]\u001b[0m\u001b[1;33m\u001b[0m\u001b[1;33m\u001b[0m\u001b[0m\n",
      "\u001b[1;32m~\\anaconda3\\lib\\site-packages\\torch\\utils\\data\\_utils\\fetch.py\u001b[0m in \u001b[0;36m<listcomp>\u001b[1;34m(.0)\u001b[0m\n\u001b[0;32m     42\u001b[0m     \u001b[1;32mdef\u001b[0m \u001b[0mfetch\u001b[0m\u001b[1;33m(\u001b[0m\u001b[0mself\u001b[0m\u001b[1;33m,\u001b[0m \u001b[0mpossibly_batched_index\u001b[0m\u001b[1;33m)\u001b[0m\u001b[1;33m:\u001b[0m\u001b[1;33m\u001b[0m\u001b[1;33m\u001b[0m\u001b[0m\n\u001b[0;32m     43\u001b[0m         \u001b[1;32mif\u001b[0m \u001b[0mself\u001b[0m\u001b[1;33m.\u001b[0m\u001b[0mauto_collation\u001b[0m\u001b[1;33m:\u001b[0m\u001b[1;33m\u001b[0m\u001b[1;33m\u001b[0m\u001b[0m\n\u001b[1;32m---> 44\u001b[1;33m             \u001b[0mdata\u001b[0m \u001b[1;33m=\u001b[0m \u001b[1;33m[\u001b[0m\u001b[0mself\u001b[0m\u001b[1;33m.\u001b[0m\u001b[0mdataset\u001b[0m\u001b[1;33m[\u001b[0m\u001b[0midx\u001b[0m\u001b[1;33m]\u001b[0m \u001b[1;32mfor\u001b[0m \u001b[0midx\u001b[0m \u001b[1;32min\u001b[0m \u001b[0mpossibly_batched_index\u001b[0m\u001b[1;33m]\u001b[0m\u001b[1;33m\u001b[0m\u001b[1;33m\u001b[0m\u001b[0m\n\u001b[0m\u001b[0;32m     45\u001b[0m         \u001b[1;32melse\u001b[0m\u001b[1;33m:\u001b[0m\u001b[1;33m\u001b[0m\u001b[1;33m\u001b[0m\u001b[0m\n\u001b[0;32m     46\u001b[0m             \u001b[0mdata\u001b[0m \u001b[1;33m=\u001b[0m \u001b[0mself\u001b[0m\u001b[1;33m.\u001b[0m\u001b[0mdataset\u001b[0m\u001b[1;33m[\u001b[0m\u001b[0mpossibly_batched_index\u001b[0m\u001b[1;33m]\u001b[0m\u001b[1;33m\u001b[0m\u001b[1;33m\u001b[0m\u001b[0m\n",
      "\u001b[1;32m~\\anaconda3\\lib\\site-packages\\pytorch_tabnet\\utils.py\u001b[0m in \u001b[0;36m__getitem__\u001b[1;34m(self, index)\u001b[0m\n\u001b[0;32m     49\u001b[0m \u001b[1;33m\u001b[0m\u001b[0m\n\u001b[0;32m     50\u001b[0m     \u001b[1;32mdef\u001b[0m \u001b[0m__getitem__\u001b[0m\u001b[1;33m(\u001b[0m\u001b[0mself\u001b[0m\u001b[1;33m,\u001b[0m \u001b[0mindex\u001b[0m\u001b[1;33m)\u001b[0m\u001b[1;33m:\u001b[0m\u001b[1;33m\u001b[0m\u001b[1;33m\u001b[0m\u001b[0m\n\u001b[1;32m---> 51\u001b[1;33m         \u001b[0mx\u001b[0m \u001b[1;33m=\u001b[0m \u001b[0mself\u001b[0m\u001b[1;33m.\u001b[0m\u001b[0mx\u001b[0m\u001b[1;33m[\u001b[0m\u001b[0mindex\u001b[0m\u001b[1;33m]\u001b[0m\u001b[1;33m\u001b[0m\u001b[1;33m\u001b[0m\u001b[0m\n\u001b[0m\u001b[0;32m     52\u001b[0m         \u001b[1;32mreturn\u001b[0m \u001b[0mx\u001b[0m\u001b[1;33m\u001b[0m\u001b[1;33m\u001b[0m\u001b[0m\n\u001b[0;32m     53\u001b[0m \u001b[1;33m\u001b[0m\u001b[0m\n",
      "\u001b[1;32m~\\anaconda3\\lib\\site-packages\\pandas\\core\\frame.py\u001b[0m in \u001b[0;36m__getitem__\u001b[1;34m(self, key)\u001b[0m\n\u001b[0;32m   3022\u001b[0m             \u001b[1;32mif\u001b[0m \u001b[0mself\u001b[0m\u001b[1;33m.\u001b[0m\u001b[0mcolumns\u001b[0m\u001b[1;33m.\u001b[0m\u001b[0mnlevels\u001b[0m \u001b[1;33m>\u001b[0m \u001b[1;36m1\u001b[0m\u001b[1;33m:\u001b[0m\u001b[1;33m\u001b[0m\u001b[1;33m\u001b[0m\u001b[0m\n\u001b[0;32m   3023\u001b[0m                 \u001b[1;32mreturn\u001b[0m \u001b[0mself\u001b[0m\u001b[1;33m.\u001b[0m\u001b[0m_getitem_multilevel\u001b[0m\u001b[1;33m(\u001b[0m\u001b[0mkey\u001b[0m\u001b[1;33m)\u001b[0m\u001b[1;33m\u001b[0m\u001b[1;33m\u001b[0m\u001b[0m\n\u001b[1;32m-> 3024\u001b[1;33m             \u001b[0mindexer\u001b[0m \u001b[1;33m=\u001b[0m \u001b[0mself\u001b[0m\u001b[1;33m.\u001b[0m\u001b[0mcolumns\u001b[0m\u001b[1;33m.\u001b[0m\u001b[0mget_loc\u001b[0m\u001b[1;33m(\u001b[0m\u001b[0mkey\u001b[0m\u001b[1;33m)\u001b[0m\u001b[1;33m\u001b[0m\u001b[1;33m\u001b[0m\u001b[0m\n\u001b[0m\u001b[0;32m   3025\u001b[0m             \u001b[1;32mif\u001b[0m \u001b[0mis_integer\u001b[0m\u001b[1;33m(\u001b[0m\u001b[0mindexer\u001b[0m\u001b[1;33m)\u001b[0m\u001b[1;33m:\u001b[0m\u001b[1;33m\u001b[0m\u001b[1;33m\u001b[0m\u001b[0m\n\u001b[0;32m   3026\u001b[0m                 \u001b[0mindexer\u001b[0m \u001b[1;33m=\u001b[0m \u001b[1;33m[\u001b[0m\u001b[0mindexer\u001b[0m\u001b[1;33m]\u001b[0m\u001b[1;33m\u001b[0m\u001b[1;33m\u001b[0m\u001b[0m\n",
      "\u001b[1;32m~\\anaconda3\\lib\\site-packages\\pandas\\core\\indexes\\base.py\u001b[0m in \u001b[0;36mget_loc\u001b[1;34m(self, key, method, tolerance)\u001b[0m\n\u001b[0;32m   3080\u001b[0m                 \u001b[1;32mreturn\u001b[0m \u001b[0mself\u001b[0m\u001b[1;33m.\u001b[0m\u001b[0m_engine\u001b[0m\u001b[1;33m.\u001b[0m\u001b[0mget_loc\u001b[0m\u001b[1;33m(\u001b[0m\u001b[0mcasted_key\u001b[0m\u001b[1;33m)\u001b[0m\u001b[1;33m\u001b[0m\u001b[1;33m\u001b[0m\u001b[0m\n\u001b[0;32m   3081\u001b[0m             \u001b[1;32mexcept\u001b[0m \u001b[0mKeyError\u001b[0m \u001b[1;32mas\u001b[0m \u001b[0merr\u001b[0m\u001b[1;33m:\u001b[0m\u001b[1;33m\u001b[0m\u001b[1;33m\u001b[0m\u001b[0m\n\u001b[1;32m-> 3082\u001b[1;33m                 \u001b[1;32mraise\u001b[0m \u001b[0mKeyError\u001b[0m\u001b[1;33m(\u001b[0m\u001b[0mkey\u001b[0m\u001b[1;33m)\u001b[0m \u001b[1;32mfrom\u001b[0m \u001b[0merr\u001b[0m\u001b[1;33m\u001b[0m\u001b[1;33m\u001b[0m\u001b[0m\n\u001b[0m\u001b[0;32m   3083\u001b[0m \u001b[1;33m\u001b[0m\u001b[0m\n\u001b[0;32m   3084\u001b[0m         \u001b[1;32mif\u001b[0m \u001b[0mtolerance\u001b[0m \u001b[1;32mis\u001b[0m \u001b[1;32mnot\u001b[0m \u001b[1;32mNone\u001b[0m\u001b[1;33m:\u001b[0m\u001b[1;33m\u001b[0m\u001b[1;33m\u001b[0m\u001b[0m\n",
      "\u001b[1;31mKeyError\u001b[0m: 0"
     ]
    }
   ],
   "source": [
    "preds_valid = clf.predict_proba(valid_x) "
   ]
  },
  {
   "cell_type": "code",
   "execution_count": 104,
   "metadata": {},
   "outputs": [],
   "source": [
    "preds = clf.predict_proba(X_tst.values)"
   ]
  },
  {
   "cell_type": "code",
   "execution_count": 105,
   "metadata": {},
   "outputs": [
    {
     "data": {
      "text/plain": [
       "array([0.00000000e+00, 2.00849521e-07, 0.00000000e+00, 0.00000000e+00,\n",
       "       0.00000000e+00, 1.24661225e-08, 2.89296739e-02, 4.96195230e-05,\n",
       "       0.00000000e+00, 6.09123495e-03, 0.00000000e+00, 7.95918225e-03,\n",
       "       2.87692345e-05, 0.00000000e+00, 6.52308535e-03, 1.77970344e-02,\n",
       "       0.00000000e+00, 1.46755834e-04, 8.43464586e-05, 3.56562386e-03,\n",
       "       5.07747956e-02, 2.63306682e-03, 3.68186585e-01, 4.55488098e-03,\n",
       "       9.67713790e-05, 1.93876926e-03, 3.03110960e-05, 0.00000000e+00,\n",
       "       1.35227044e-02, 1.20155367e-04, 1.65185043e-02, 0.00000000e+00,\n",
       "       1.99645820e-02, 1.27087444e-02, 9.96006171e-04, 0.00000000e+00,\n",
       "       9.99052425e-03, 3.52421556e-02, 6.54490846e-02, 7.57587974e-04,\n",
       "       0.00000000e+00, 2.61295126e-01, 6.40433661e-02, 7.39197186e-07,\n",
       "       0.00000000e+00])"
      ]
     },
     "execution_count": 105,
     "metadata": {},
     "output_type": "execute_result"
    }
   ],
   "source": [
    "clf.feature_importances_"
   ]
  },
  {
   "cell_type": "code",
   "execution_count": 107,
   "metadata": {},
   "outputs": [
    {
     "data": {
      "text/plain": [
       "[array([[0.9184187 , 0.08158131],\n",
       "        [0.9077851 , 0.09221484],\n",
       "        [0.908599  , 0.09140091],\n",
       "        ...,\n",
       "        [0.91712284, 0.08287717],\n",
       "        [0.91068983, 0.08931015],\n",
       "        [0.8935914 , 0.10640858]], dtype=float32),\n",
       " array([[0.82641864, 0.17358135],\n",
       "        [0.82653093, 0.17346905],\n",
       "        [0.8144582 , 0.18554188],\n",
       "        ...,\n",
       "        [0.83056337, 0.16943662],\n",
       "        [0.82116115, 0.17883888],\n",
       "        [0.80011714, 0.19988288]], dtype=float32),\n",
       " array([[0.28532866, 0.7146714 ],\n",
       "        [0.2833449 , 0.71665514],\n",
       "        [0.2968669 , 0.7031331 ],\n",
       "        ...,\n",
       "        [0.27105832, 0.7289416 ],\n",
       "        [0.29076704, 0.709233  ],\n",
       "        [0.3025799 , 0.6974201 ]], dtype=float32)]"
      ]
     },
     "execution_count": 107,
     "metadata": {},
     "output_type": "execute_result"
    }
   ],
   "source": [
    "preds"
   ]
  },
  {
   "cell_type": "code",
   "execution_count": 106,
   "metadata": {},
   "outputs": [
    {
     "ename": "IndexError",
     "evalue": "index 2 is out of bounds for axis 0 with size 2",
     "output_type": "error",
     "traceback": [
      "\u001b[1;31m---------------------------------------------------------------------------\u001b[0m",
      "\u001b[1;31mIndexError\u001b[0m                                Traceback (most recent call last)",
      "\u001b[1;32m<ipython-input-106-1cb1b30caf9a>\u001b[0m in \u001b[0;36m<module>\u001b[1;34m\u001b[0m\n\u001b[0;32m      3\u001b[0m   \u001b[0mi\u001b[0m\u001b[1;33m.\u001b[0m\u001b[0mappend\u001b[0m\u001b[1;33m(\u001b[0m\u001b[0mpreds\u001b[0m\u001b[1;33m[\u001b[0m\u001b[1;36m0\u001b[0m\u001b[1;33m]\u001b[0m\u001b[1;33m[\u001b[0m\u001b[0mrow\u001b[0m\u001b[1;33m]\u001b[0m\u001b[1;33m[\u001b[0m\u001b[1;36m0\u001b[0m\u001b[1;33m]\u001b[0m\u001b[1;33m)\u001b[0m\u001b[1;33m\u001b[0m\u001b[1;33m\u001b[0m\u001b[0m\n\u001b[0;32m      4\u001b[0m   \u001b[0mj\u001b[0m\u001b[1;33m.\u001b[0m\u001b[0mappend\u001b[0m\u001b[1;33m(\u001b[0m\u001b[0mpreds\u001b[0m\u001b[1;33m[\u001b[0m\u001b[1;36m0\u001b[0m\u001b[1;33m]\u001b[0m\u001b[1;33m[\u001b[0m\u001b[0mrow\u001b[0m\u001b[1;33m]\u001b[0m\u001b[1;33m[\u001b[0m\u001b[1;36m1\u001b[0m\u001b[1;33m]\u001b[0m\u001b[1;33m)\u001b[0m\u001b[1;33m\u001b[0m\u001b[1;33m\u001b[0m\u001b[0m\n\u001b[1;32m----> 5\u001b[1;33m   \u001b[0mk\u001b[0m\u001b[1;33m.\u001b[0m\u001b[0mappend\u001b[0m\u001b[1;33m(\u001b[0m\u001b[0mpreds\u001b[0m\u001b[1;33m[\u001b[0m\u001b[1;36m0\u001b[0m\u001b[1;33m]\u001b[0m\u001b[1;33m[\u001b[0m\u001b[0mrow\u001b[0m\u001b[1;33m]\u001b[0m\u001b[1;33m[\u001b[0m\u001b[1;36m2\u001b[0m\u001b[1;33m]\u001b[0m\u001b[1;33m)\u001b[0m\u001b[1;33m\u001b[0m\u001b[1;33m\u001b[0m\u001b[0m\n\u001b[0m\u001b[0;32m      6\u001b[0m \u001b[1;33m\u001b[0m\u001b[0m\n\u001b[0;32m      7\u001b[0m \u001b[0mlen\u001b[0m\u001b[1;33m(\u001b[0m\u001b[0mi\u001b[0m\u001b[1;33m)\u001b[0m\u001b[1;33m,\u001b[0m \u001b[0mlen\u001b[0m\u001b[1;33m(\u001b[0m\u001b[0mj\u001b[0m\u001b[1;33m)\u001b[0m\u001b[1;33m,\u001b[0m \u001b[0mlen\u001b[0m\u001b[1;33m(\u001b[0m\u001b[0mk\u001b[0m\u001b[1;33m)\u001b[0m\u001b[1;33m\u001b[0m\u001b[1;33m\u001b[0m\u001b[0m\n",
      "\u001b[1;31mIndexError\u001b[0m: index 2 is out of bounds for axis 0 with size 2"
     ]
    }
   ],
   "source": [
    "i, j, k = [], [], []\n",
    "for row in range(10000):\n",
    "  i.append(preds[0][row][0])\n",
    "  j.append(preds[0][row][1])\n",
    "  k.append(preds[0][row][2])\n",
    "\n",
    "len(i), len(j), len(k)"
   ]
  },
  {
   "cell_type": "code",
   "execution_count": null,
   "metadata": {},
   "outputs": [],
   "source": [
    "sub['0'] = i\n",
    "sub['1'] = j\n",
    "sub['2'] = k\n",
    "sub.head(10)"
   ]
  },
  {
   "cell_type": "code",
   "execution_count": null,
   "metadata": {},
   "outputs": [],
   "source": [
    "submission.to_csv(\"submisison_tabnet.csv\",index=False)"
   ]
  },
  {
   "cell_type": "code",
   "execution_count": null,
   "metadata": {},
   "outputs": [],
   "source": [
    "prediction = pd.read_csv('submisison_tabnet.csv')"
   ]
  },
  {
   "cell_type": "code",
   "execution_count": null,
   "metadata": {},
   "outputs": [],
   "source": [
    "prediction"
   ]
  },
  {
   "cell_type": "code",
   "execution_count": null,
   "metadata": {},
   "outputs": [],
   "source": []
  },
  {
   "cell_type": "code",
   "execution_count": null,
   "metadata": {},
   "outputs": [],
   "source": []
  },
  {
   "cell_type": "code",
   "execution_count": null,
   "metadata": {},
   "outputs": [],
   "source": []
  },
  {
   "cell_type": "code",
   "execution_count": null,
   "metadata": {},
   "outputs": [],
   "source": []
  },
  {
   "cell_type": "code",
   "execution_count": null,
   "metadata": {},
   "outputs": [],
   "source": []
  },
  {
   "cell_type": "code",
   "execution_count": 9,
   "metadata": {},
   "outputs": [],
   "source": [
    "train = pd.read_csv('./open/train.csv')\n",
    "train = train.drop(['index'], axis=1)\n",
    "train.fillna('NAN', inplace=True) \n",
    "\n",
    "\n",
    "test = pd.read_csv('./open/test.csv')\n",
    "test = test.drop(['index'], axis=1)\n",
    "test.fillna('NAN', inplace=True)\n",
    "\n",
    "submission = pd.read_csv('./open/sample_submission.csv')"
   ]
  },
  {
   "cell_type": "code",
   "execution_count": 10,
   "metadata": {},
   "outputs": [
    {
     "data": {
      "text/plain": [
       "(36457, 19)"
      ]
     },
     "execution_count": 10,
     "metadata": {},
     "output_type": "execute_result"
    }
   ],
   "source": [
    "data=pd.concat([train, test], axis=0)\n",
    "data.shape"
   ]
  },
  {
   "cell_type": "code",
   "execution_count": 11,
   "metadata": {},
   "outputs": [],
   "source": [
    "# 나이 변환\n",
    "def days_to_age(x):\n",
    "    return (x*-1)/365\n",
    "data['DAYS_BIRTH'] = data['DAYS_BIRTH'].apply(days_to_age)"
   ]
  },
  {
   "cell_type": "code",
   "execution_count": 12,
   "metadata": {},
   "outputs": [],
   "source": [
    "# 마이너스 값 변환\n",
    "def minus(x):\n",
    "    return x * -1\n",
    "data['begin_month'] = data['begin_month'].apply(minus)"
   ]
  },
  {
   "cell_type": "code",
   "execution_count": 13,
   "metadata": {},
   "outputs": [],
   "source": [
    "data.loc[(data.DAYS_EMPLOYED)>=0,'DAYS_EMPLOYED'] = 0"
   ]
  },
  {
   "cell_type": "code",
   "execution_count": 14,
   "metadata": {},
   "outputs": [],
   "source": [
    "data['DAYS_EMPLOYED'] = data['DAYS_EMPLOYED'].apply(days_to_age)"
   ]
  },
  {
   "cell_type": "code",
   "execution_count": 15,
   "metadata": {},
   "outputs": [],
   "source": [
    "data.loc[data['child_num'] >= 2,'child_num']=2"
   ]
  },
  {
   "cell_type": "code",
   "execution_count": 16,
   "metadata": {},
   "outputs": [
    {
     "name": "stdout",
     "output_type": "stream",
     "text": [
      "(2.544, 18.18]      22460\n",
      "(18.18, 33.66]      11380\n",
      "(33.66, 49.14]       2099\n",
      "(49.14, 64.62]        274\n",
      "(64.62, 80.1]         165\n",
      "(80.1, 95.58]          58\n",
      "(95.58, 111.06]         4\n",
      "(111.06, 126.54]        3\n",
      "(126.54, 142.02]        6\n",
      "(142.02, 157.5]         8\n",
      "Name: income_total, dtype: int64\n"
     ]
    },
    {
     "data": {
      "text/plain": [
       "<AxesSubplot:ylabel='Frequency'>"
      ]
     },
     "execution_count": 16,
     "metadata": {},
     "output_type": "execute_result"
    },
    {
     "data": {
      "image/png": "[encoded data removed]",
      "text/plain": [
       "<Figure size 432x288 with 1 Axes>"
      ]
     },
     "metadata": {},
     "output_type": "display_data"
    }
   ],
   "source": [
    "data['income_total'] = data['income_total'].astype(object)\n",
    "data['income_total'] = data['income_total']/10000 \n",
    "print(data['income_total'].value_counts(bins=10,sort=False))\n",
    "data['income_total'].plot(kind='hist',bins=50,density=True)"
   ]
  },
  {
   "cell_type": "code",
   "execution_count": 17,
   "metadata": {},
   "outputs": [],
   "source": [
    "count, bin_dividers =np.histogram(data['income_total'], bins=7)\n",
    "bin_names=[int(i) for i in range(7) ]\n",
    "data['income_total']=pd.cut(x=data['income_total'], bins=bin_dividers, labels=bin_names, include_lowest=True)"
   ]
  },
  {
   "cell_type": "code",
   "execution_count": 18,
   "metadata": {},
   "outputs": [
    {
     "name": "stdout",
     "output_type": "stream",
     "text": [
      "gender :\n",
      "0    24430\n",
      "1    12027\n",
      "Name: gender, dtype: int64\n",
      "--------------\n",
      "Having a car or not : \n",
      "0    22614\n",
      "1    13843\n",
      "Name: car, dtype: int64\n",
      "--------------\n",
      "Having house reality or not: \n",
      "1    24506\n",
      "0    11951\n",
      "Name: reality, dtype: int64\n",
      "--------------\n",
      "Having a phone or not: \n",
      "0    25709\n",
      "1    10748\n",
      "Name: phone, dtype: int64\n",
      "--------------\n",
      "Having a email or not: \n",
      "0    33186\n",
      "1     3271\n",
      "Name: email, dtype: int64\n",
      "--------------\n",
      "Having a work phone or not: \n",
      "0    28235\n",
      "1     8222\n",
      "Name: work_phone, dtype: int64\n",
      "--------------\n"
     ]
    }
   ],
   "source": [
    "data['gender'] = data['gender'].replace(['F','M'],[0,1])\n",
    "print('gender :')\n",
    "print(data['gender'].value_counts())\n",
    "print('--------------')\n",
    "\n",
    "print('Having a car or not : ')\n",
    "data['car'] = data['car'].replace(['N','Y'],[0,1])\n",
    "print(data['car'].value_counts())\n",
    "print('--------------')\n",
    "\n",
    "print('Having house reality or not: ')\n",
    "data['reality'] = data['reality'].replace(['N','Y'],[0,1])\n",
    "print(data['reality'].value_counts())\n",
    "print('--------------')\n",
    "      \n",
    "print('Having a phone or not: ')\n",
    "print(data['phone'].value_counts())\n",
    "print('--------------')\n",
    "      \n",
    "\n",
    "print('Having a email or not: ')\n",
    "print(data['email'].value_counts())\n",
    "print('--------------')\n",
    "      \n",
    "\n",
    "print('Having a work phone or not: ')\n",
    "print(data['work_phone'].value_counts())\n",
    "print('--------------')"
   ]
  },
  {
   "cell_type": "code",
   "execution_count": 19,
   "metadata": {},
   "outputs": [],
   "source": [
    "from sklearn import preprocessing\n",
    "label_encoder=preprocessing.LabelEncoder()\n",
    "data['income_type']=label_encoder.fit_transform(data['income_type'])\n",
    "data['edu_type']=label_encoder.fit_transform(data['edu_type'])\n",
    "data['family_type']=label_encoder.fit_transform(data['family_type'])\n",
    "data['house_type']=label_encoder.fit_transform(data['house_type'])\n",
    "data['income_total']=label_encoder.fit_transform(data['income_total'])\n",
    "data['occyp_type']=label_encoder.fit_transform(data['occyp_type'])"
   ]
  },
  {
   "cell_type": "code",
   "execution_count": 20,
   "metadata": {},
   "outputs": [
    {
     "name": "stdout",
     "output_type": "stream",
     "text": [
      "<class 'pandas.core.frame.DataFrame'>\n",
      "Int64Index: 36457 entries, 0 to 9999\n",
      "Data columns (total 19 columns):\n",
      " #   Column         Non-Null Count  Dtype  \n",
      "---  ------         --------------  -----  \n",
      " 0   gender         36457 non-null  int64  \n",
      " 1   car            36457 non-null  int64  \n",
      " 2   reality        36457 non-null  int64  \n",
      " 3   child_num      36457 non-null  int64  \n",
      " 4   income_total   36457 non-null  int64  \n",
      " 5   income_type    36457 non-null  int32  \n",
      " 6   edu_type       36457 non-null  int32  \n",
      " 7   family_type    36457 non-null  int32  \n",
      " 8   house_type     36457 non-null  int32  \n",
      " 9   DAYS_BIRTH     36457 non-null  float64\n",
      " 10  DAYS_EMPLOYED  36457 non-null  float64\n",
      " 11  FLAG_MOBIL     36457 non-null  int64  \n",
      " 12  work_phone     36457 non-null  int64  \n",
      " 13  phone          36457 non-null  int64  \n",
      " 14  email          36457 non-null  int64  \n",
      " 15  occyp_type     36457 non-null  int32  \n",
      " 16  family_size    36457 non-null  float64\n",
      " 17  begin_month    36457 non-null  float64\n",
      " 18  credit         26457 non-null  float64\n",
      "dtypes: float64(5), int32(5), int64(9)\n",
      "memory usage: 4.9 MB\n"
     ]
    }
   ],
   "source": [
    "data.info()"
   ]
  },
  {
   "cell_type": "code",
   "execution_count": 21,
   "metadata": {},
   "outputs": [],
   "source": [
    "train=data[:len(data)-10000]\n",
    "test=data[len(data)-10000:]"
   ]
  },
  {
   "cell_type": "code",
   "execution_count": 22,
   "metadata": {},
   "outputs": [],
   "source": [
    "train_x=train.drop('credit', axis=1)\n",
    "train_y=train[['credit']]\n",
    "test_x=test.drop('credit', axis=1)"
   ]
  },
  {
   "cell_type": "code",
   "execution_count": 23,
   "metadata": {},
   "outputs": [],
   "source": [
    "np.random.seed(42)\n",
    "if \"Set\" not in train.columns:\n",
    "    train[\"Set\"] = np.random.choice([\"train\", \"valid\"], p =[.8, .2], size=(train.shape[0],))\n",
    "\n",
    "train_indices = train_x[train.Set==\"train\"].index\n",
    "valid_indices = train_x[train.Set==\"valid\"].index"
   ]
  },
  {
   "cell_type": "code",
   "execution_count": 24,
   "metadata": {},
   "outputs": [
    {
     "name": "stderr",
     "output_type": "stream",
     "text": [
      "  0%|                                                                                           | 0/18 [00:00<?, ?it/s]\n"
     ]
    },
    {
     "name": "stdout",
     "output_type": "stream",
     "text": [
      "gender 2\n"
     ]
    },
    {
     "ename": "IndexError",
     "evalue": "tuple index out of range",
     "output_type": "error",
     "traceback": [
      "\u001b[1;31m---------------------------------------------------------------------------\u001b[0m",
      "\u001b[1;31mIndexError\u001b[0m                                Traceback (most recent call last)",
      "\u001b[1;32m<ipython-input-24-a88bb2fc1361>\u001b[0m in \u001b[0;36m<module>\u001b[1;34m\u001b[0m\n\u001b[0;32m      9\u001b[0m         \u001b[0ml_enc\u001b[0m \u001b[1;33m=\u001b[0m \u001b[0mLabelEncoder\u001b[0m\u001b[1;33m(\u001b[0m\u001b[1;33m)\u001b[0m\u001b[1;33m\u001b[0m\u001b[1;33m\u001b[0m\u001b[0m\n\u001b[0;32m     10\u001b[0m         \u001b[0mtrain_x\u001b[0m\u001b[1;33m[\u001b[0m\u001b[0mcol\u001b[0m\u001b[1;33m]\u001b[0m \u001b[1;33m=\u001b[0m \u001b[0mtrain_x\u001b[0m\u001b[1;33m[\u001b[0m\u001b[0mcol\u001b[0m\u001b[1;33m]\u001b[0m\u001b[1;33m.\u001b[0m\u001b[0mfillna\u001b[0m\u001b[1;33m(\u001b[0m\u001b[1;34m\"NaN\"\u001b[0m\u001b[1;33m)\u001b[0m\u001b[1;33m\u001b[0m\u001b[1;33m\u001b[0m\u001b[0m\n\u001b[1;32m---> 11\u001b[1;33m         \u001b[0mtrain_x\u001b[0m\u001b[1;33m[\u001b[0m\u001b[0mcol\u001b[0m\u001b[1;33m]\u001b[0m \u001b[1;33m=\u001b[0m \u001b[0ml_enc\u001b[0m\u001b[1;33m.\u001b[0m\u001b[0mfit_transform\u001b[0m\u001b[1;33m(\u001b[0m\u001b[0mtrain_x\u001b[0m\u001b[1;33m[\u001b[0m\u001b[0mcol\u001b[0m\u001b[1;33m]\u001b[0m\u001b[1;33m.\u001b[0m\u001b[0mvalues\u001b[0m\u001b[1;33m)\u001b[0m\u001b[1;33m\u001b[0m\u001b[1;33m\u001b[0m\u001b[0m\n\u001b[0m\u001b[0;32m     12\u001b[0m         \u001b[1;32mtry\u001b[0m\u001b[1;33m:\u001b[0m\u001b[1;33m\u001b[0m\u001b[1;33m\u001b[0m\u001b[0m\n\u001b[0;32m     13\u001b[0m             \u001b[0mtest_x\u001b[0m\u001b[1;33m[\u001b[0m\u001b[0mcol\u001b[0m\u001b[1;33m]\u001b[0m \u001b[1;33m=\u001b[0m \u001b[0mtest_x\u001b[0m\u001b[1;33m[\u001b[0m\u001b[0mcol\u001b[0m\u001b[1;33m]\u001b[0m\u001b[1;33m.\u001b[0m\u001b[0mfillna\u001b[0m\u001b[1;33m(\u001b[0m\u001b[1;34m\"NaN\"\u001b[0m\u001b[1;33m)\u001b[0m\u001b[1;33m\u001b[0m\u001b[1;33m\u001b[0m\u001b[0m\n",
      "\u001b[1;32m~\\anaconda3\\lib\\site-packages\\kaggler\\preprocessing\\categorical.py\u001b[0m in \u001b[0;36mfit_transform\u001b[1;34m(self, X, y)\u001b[0m\n\u001b[0;32m    119\u001b[0m         \"\"\"\n\u001b[0;32m    120\u001b[0m \u001b[1;33m\u001b[0m\u001b[0m\n\u001b[1;32m--> 121\u001b[1;33m         \u001b[0mself\u001b[0m\u001b[1;33m.\u001b[0m\u001b[0mlabel_encoders\u001b[0m \u001b[1;33m=\u001b[0m \u001b[1;33m[\u001b[0m\u001b[1;32mNone\u001b[0m\u001b[1;33m]\u001b[0m \u001b[1;33m*\u001b[0m \u001b[0mX\u001b[0m\u001b[1;33m.\u001b[0m\u001b[0mshape\u001b[0m\u001b[1;33m[\u001b[0m\u001b[1;36m1\u001b[0m\u001b[1;33m]\u001b[0m\u001b[1;33m\u001b[0m\u001b[1;33m\u001b[0m\u001b[0m\n\u001b[0m\u001b[0;32m    122\u001b[0m         \u001b[0mself\u001b[0m\u001b[1;33m.\u001b[0m\u001b[0mlabel_maxes\u001b[0m \u001b[1;33m=\u001b[0m \u001b[1;33m[\u001b[0m\u001b[1;32mNone\u001b[0m\u001b[1;33m]\u001b[0m \u001b[1;33m*\u001b[0m \u001b[0mX\u001b[0m\u001b[1;33m.\u001b[0m\u001b[0mshape\u001b[0m\u001b[1;33m[\u001b[0m\u001b[1;36m1\u001b[0m\u001b[1;33m]\u001b[0m\u001b[1;33m\u001b[0m\u001b[1;33m\u001b[0m\u001b[0m\n\u001b[0;32m    123\u001b[0m \u001b[1;33m\u001b[0m\u001b[0m\n",
      "\u001b[1;31mIndexError\u001b[0m: tuple index out of range"
     ]
    }
   ],
   "source": [
    "nunique = train.nunique()\n",
    "types = train.dtypes\n",
    "\n",
    "categorical_columns = []\n",
    "categorical_dims =  {}\n",
    "for col in tqdm(train_x.columns):\n",
    "    if types[col] == 'object' or nunique[col] < 200:\n",
    "        print(col, train_x[col].nunique())\n",
    "        l_enc = LabelEncoder()\n",
    "        train_x[col] = train_x[col].fillna(\"NaN\")\n",
    "        train_x[col] = l_enc.fit_transform(train_x[col].values)\n",
    "        try:\n",
    "            test_x[col] = test_x[col].fillna(\"NaN\")\n",
    "            test_x[col] = l_enc.transform(test_x[col].values)\n",
    "        except:\n",
    "            print(f\"Column {col} does not exist in test set\")\n",
    "        categorical_columns.append(col)\n",
    "        categorical_dims[col] = len(l_enc.classes_)\n",
    "    else:\n",
    "        training_mean = train_x.loc[train_indices, col].mean()\n",
    "        train.fillna(training_mean, inplace=True)\n",
    "        test.fillna(training_mean, inplace=True)"
   ]
  },
  {
   "cell_type": "code",
   "execution_count": 25,
   "metadata": {},
   "outputs": [],
   "source": [
    "features = [ col for col in train_x.columns] \n",
    "\n",
    "cat_idxs = [ i for i, f in enumerate(features) if f in categorical_columns]\n",
    "\n",
    "cat_dims = [ categorical_dims[f] for i, f in enumerate(features) if f in categorical_columns]"
   ]
  },
  {
   "cell_type": "code",
   "execution_count": 26,
   "metadata": {},
   "outputs": [],
   "source": [
    "X_train = train_x[features].values[train_indices]\n",
    "y_train = train_y.values[train_indices]\n",
    "\n",
    "X_valid = train_x[features].values[valid_indices]\n",
    "y_valid = train_y.values[valid_indices]\n",
    "\n",
    "X_test = test_x[features].values"
   ]
  },
  {
   "cell_type": "code",
   "execution_count": 27,
   "metadata": {},
   "outputs": [
    {
     "data": {
      "text/plain": [
       "(21162, 1)"
      ]
     },
     "execution_count": 27,
     "metadata": {},
     "output_type": "execute_result"
    }
   ],
   "source": [
    "y_train.shape"
   ]
  },
  {
   "cell_type": "code",
   "execution_count": 31,
   "metadata": {},
   "outputs": [
    {
     "name": "stdout",
     "output_type": "stream",
     "text": [
      "Device used : cuda\n"
     ]
    }
   ],
   "source": [
    "clf = TabNetMultiTaskClassifier(n_steps=10,\n",
    "                                cat_idxs=cat_idxs,\n",
    "                                cat_dims=cat_dims,\n",
    "                                cat_emb_dim=1,\n",
    "                                optimizer_fn=torch.optim.Adam,\n",
    "                                optimizer_params=dict(lr=2e-2),\n",
    "                                scheduler_params={\"step_size\":50,\n",
    "                                                  \"gamma\":0.9},\n",
    "                                scheduler_fn=torch.optim.lr_scheduler.StepLR,\n",
    "                                mask_type='entmax',\n",
    "                                lambda_sparse=0\n",
    "                      )"
   ]
  },
  {
   "cell_type": "code",
   "execution_count": 32,
   "metadata": {},
   "outputs": [
    {
     "name": "stdout",
     "output_type": "stream",
     "text": [
      "epoch 0  | loss: 1.17452 | val_0_logloss: 1.64308 | val_1_logloss: 1.63053 |  0:00:14s\n",
      "epoch 1  | loss: 0.92306 | val_0_logloss: 1.21081 | val_1_logloss: 1.23865 |  0:00:25s\n",
      "epoch 2  | loss: 0.89149 | val_0_logloss: 0.99126 | val_1_logloss: 0.99743 |  0:00:38s\n",
      "epoch 3  | loss: 0.87843 | val_0_logloss: 0.89099 | val_1_logloss: 0.88887 |  0:00:50s\n",
      "epoch 4  | loss: 0.85262 | val_0_logloss: 0.8999  | val_1_logloss: 0.90133 |  0:01:02s\n",
      "epoch 5  | loss: 0.83605 | val_0_logloss: 0.89854 | val_1_logloss: 0.8985  |  0:01:15s\n",
      "epoch 6  | loss: 0.83619 | val_0_logloss: 0.88601 | val_1_logloss: 0.88949 |  0:01:27s\n",
      "epoch 7  | loss: 0.83111 | val_0_logloss: 0.87639 | val_1_logloss: 0.87923 |  0:01:39s\n",
      "epoch 8  | loss: 0.82582 | val_0_logloss: 0.84692 | val_1_logloss: 0.84857 |  0:01:51s\n"
     ]
    },
    {
     "ename": "KeyboardInterrupt",
     "evalue": "",
     "output_type": "error",
     "traceback": [
      "\u001b[1;31m---------------------------------------------------------------------------\u001b[0m",
      "\u001b[1;31mKeyboardInterrupt\u001b[0m                         Traceback (most recent call last)",
      "\u001b[1;32m<ipython-input-32-fcda7cc0558b>\u001b[0m in \u001b[0;36m<module>\u001b[1;34m\u001b[0m\n\u001b[0;32m      1\u001b[0m \u001b[0mmax_epochs\u001b[0m \u001b[1;33m=\u001b[0m \u001b[1;36m100\u001b[0m\u001b[1;33m\u001b[0m\u001b[1;33m\u001b[0m\u001b[0m\n\u001b[1;32m----> 2\u001b[1;33m clf.fit(\n\u001b[0m\u001b[0;32m      3\u001b[0m     \u001b[0mX_train\u001b[0m\u001b[1;33m=\u001b[0m\u001b[0mX_train\u001b[0m\u001b[1;33m,\u001b[0m \u001b[0my_train\u001b[0m\u001b[1;33m=\u001b[0m\u001b[0my_train\u001b[0m\u001b[1;33m,\u001b[0m\u001b[1;33m\u001b[0m\u001b[1;33m\u001b[0m\u001b[0m\n\u001b[0;32m      4\u001b[0m     \u001b[0meval_set\u001b[0m\u001b[1;33m=\u001b[0m\u001b[1;33m[\u001b[0m\u001b[1;33m(\u001b[0m\u001b[0mX_train\u001b[0m\u001b[1;33m,\u001b[0m \u001b[0my_train\u001b[0m\u001b[1;33m)\u001b[0m\u001b[1;33m,\u001b[0m\u001b[1;33m(\u001b[0m\u001b[0mX_valid\u001b[0m\u001b[1;33m,\u001b[0m \u001b[0my_valid\u001b[0m\u001b[1;33m)\u001b[0m\u001b[1;33m]\u001b[0m\u001b[1;33m,\u001b[0m\u001b[1;33m\u001b[0m\u001b[1;33m\u001b[0m\u001b[0m\n\u001b[0;32m      5\u001b[0m     \u001b[0mmax_epochs\u001b[0m\u001b[1;33m=\u001b[0m\u001b[0mmax_epochs\u001b[0m\u001b[1;33m,\u001b[0m\u001b[1;33m\u001b[0m\u001b[1;33m\u001b[0m\u001b[0m\n",
      "\u001b[1;32m~\\anaconda3\\lib\\site-packages\\pytorch_tabnet\\abstract_model.py\u001b[0m in \u001b[0;36mfit\u001b[1;34m(self, X_train, y_train, eval_set, eval_name, eval_metric, loss_fn, weights, max_epochs, patience, batch_size, virtual_batch_size, num_workers, drop_last, callbacks, pin_memory, from_unsupervised)\u001b[0m\n\u001b[0;32m    221\u001b[0m             \u001b[0mself\u001b[0m\u001b[1;33m.\u001b[0m\u001b[0m_callback_container\u001b[0m\u001b[1;33m.\u001b[0m\u001b[0mon_epoch_begin\u001b[0m\u001b[1;33m(\u001b[0m\u001b[0mepoch_idx\u001b[0m\u001b[1;33m)\u001b[0m\u001b[1;33m\u001b[0m\u001b[1;33m\u001b[0m\u001b[0m\n\u001b[0;32m    222\u001b[0m \u001b[1;33m\u001b[0m\u001b[0m\n\u001b[1;32m--> 223\u001b[1;33m             \u001b[0mself\u001b[0m\u001b[1;33m.\u001b[0m\u001b[0m_train_epoch\u001b[0m\u001b[1;33m(\u001b[0m\u001b[0mtrain_dataloader\u001b[0m\u001b[1;33m)\u001b[0m\u001b[1;33m\u001b[0m\u001b[1;33m\u001b[0m\u001b[0m\n\u001b[0m\u001b[0;32m    224\u001b[0m \u001b[1;33m\u001b[0m\u001b[0m\n\u001b[0;32m    225\u001b[0m             \u001b[1;31m# Apply predict epoch to all eval sets\u001b[0m\u001b[1;33m\u001b[0m\u001b[1;33m\u001b[0m\u001b[1;33m\u001b[0m\u001b[0m\n",
      "\u001b[1;32m~\\anaconda3\\lib\\site-packages\\pytorch_tabnet\\abstract_model.py\u001b[0m in \u001b[0;36m_train_epoch\u001b[1;34m(self, train_loader)\u001b[0m\n\u001b[0;32m    432\u001b[0m             \u001b[0mself\u001b[0m\u001b[1;33m.\u001b[0m\u001b[0m_callback_container\u001b[0m\u001b[1;33m.\u001b[0m\u001b[0mon_batch_begin\u001b[0m\u001b[1;33m(\u001b[0m\u001b[0mbatch_idx\u001b[0m\u001b[1;33m)\u001b[0m\u001b[1;33m\u001b[0m\u001b[1;33m\u001b[0m\u001b[0m\n\u001b[0;32m    433\u001b[0m \u001b[1;33m\u001b[0m\u001b[0m\n\u001b[1;32m--> 434\u001b[1;33m             \u001b[0mbatch_logs\u001b[0m \u001b[1;33m=\u001b[0m \u001b[0mself\u001b[0m\u001b[1;33m.\u001b[0m\u001b[0m_train_batch\u001b[0m\u001b[1;33m(\u001b[0m\u001b[0mX\u001b[0m\u001b[1;33m,\u001b[0m \u001b[0my\u001b[0m\u001b[1;33m)\u001b[0m\u001b[1;33m\u001b[0m\u001b[1;33m\u001b[0m\u001b[0m\n\u001b[0m\u001b[0;32m    435\u001b[0m \u001b[1;33m\u001b[0m\u001b[0m\n\u001b[0;32m    436\u001b[0m             \u001b[0mself\u001b[0m\u001b[1;33m.\u001b[0m\u001b[0m_callback_container\u001b[0m\u001b[1;33m.\u001b[0m\u001b[0mon_batch_end\u001b[0m\u001b[1;33m(\u001b[0m\u001b[0mbatch_idx\u001b[0m\u001b[1;33m,\u001b[0m \u001b[0mbatch_logs\u001b[0m\u001b[1;33m)\u001b[0m\u001b[1;33m\u001b[0m\u001b[1;33m\u001b[0m\u001b[0m\n",
      "\u001b[1;32m~\\anaconda3\\lib\\site-packages\\pytorch_tabnet\\abstract_model.py\u001b[0m in \u001b[0;36m_train_batch\u001b[1;34m(self, X, y)\u001b[0m\n\u001b[0;32m    467\u001b[0m             \u001b[0mparam\u001b[0m\u001b[1;33m.\u001b[0m\u001b[0mgrad\u001b[0m \u001b[1;33m=\u001b[0m \u001b[1;32mNone\u001b[0m\u001b[1;33m\u001b[0m\u001b[1;33m\u001b[0m\u001b[0m\n\u001b[0;32m    468\u001b[0m \u001b[1;33m\u001b[0m\u001b[0m\n\u001b[1;32m--> 469\u001b[1;33m         \u001b[0moutput\u001b[0m\u001b[1;33m,\u001b[0m \u001b[0mM_loss\u001b[0m \u001b[1;33m=\u001b[0m \u001b[0mself\u001b[0m\u001b[1;33m.\u001b[0m\u001b[0mnetwork\u001b[0m\u001b[1;33m(\u001b[0m\u001b[0mX\u001b[0m\u001b[1;33m)\u001b[0m\u001b[1;33m\u001b[0m\u001b[1;33m\u001b[0m\u001b[0m\n\u001b[0m\u001b[0;32m    470\u001b[0m \u001b[1;33m\u001b[0m\u001b[0m\n\u001b[0;32m    471\u001b[0m         \u001b[0mloss\u001b[0m \u001b[1;33m=\u001b[0m \u001b[0mself\u001b[0m\u001b[1;33m.\u001b[0m\u001b[0mcompute_loss\u001b[0m\u001b[1;33m(\u001b[0m\u001b[0moutput\u001b[0m\u001b[1;33m,\u001b[0m \u001b[0my\u001b[0m\u001b[1;33m)\u001b[0m\u001b[1;33m\u001b[0m\u001b[1;33m\u001b[0m\u001b[0m\n",
      "\u001b[1;32m~\\anaconda3\\lib\\site-packages\\torch\\nn\\modules\\module.py\u001b[0m in \u001b[0;36m_call_impl\u001b[1;34m(self, *input, **kwargs)\u001b[0m\n\u001b[0;32m    887\u001b[0m             \u001b[0mresult\u001b[0m \u001b[1;33m=\u001b[0m \u001b[0mself\u001b[0m\u001b[1;33m.\u001b[0m\u001b[0m_slow_forward\u001b[0m\u001b[1;33m(\u001b[0m\u001b[1;33m*\u001b[0m\u001b[0minput\u001b[0m\u001b[1;33m,\u001b[0m \u001b[1;33m**\u001b[0m\u001b[0mkwargs\u001b[0m\u001b[1;33m)\u001b[0m\u001b[1;33m\u001b[0m\u001b[1;33m\u001b[0m\u001b[0m\n\u001b[0;32m    888\u001b[0m         \u001b[1;32melse\u001b[0m\u001b[1;33m:\u001b[0m\u001b[1;33m\u001b[0m\u001b[1;33m\u001b[0m\u001b[0m\n\u001b[1;32m--> 889\u001b[1;33m             \u001b[0mresult\u001b[0m \u001b[1;33m=\u001b[0m \u001b[0mself\u001b[0m\u001b[1;33m.\u001b[0m\u001b[0mforward\u001b[0m\u001b[1;33m(\u001b[0m\u001b[1;33m*\u001b[0m\u001b[0minput\u001b[0m\u001b[1;33m,\u001b[0m \u001b[1;33m**\u001b[0m\u001b[0mkwargs\u001b[0m\u001b[1;33m)\u001b[0m\u001b[1;33m\u001b[0m\u001b[1;33m\u001b[0m\u001b[0m\n\u001b[0m\u001b[0;32m    890\u001b[0m         for hook in itertools.chain(\n\u001b[0;32m    891\u001b[0m                 \u001b[0m_global_forward_hooks\u001b[0m\u001b[1;33m.\u001b[0m\u001b[0mvalues\u001b[0m\u001b[1;33m(\u001b[0m\u001b[1;33m)\u001b[0m\u001b[1;33m,\u001b[0m\u001b[1;33m\u001b[0m\u001b[1;33m\u001b[0m\u001b[0m\n",
      "\u001b[1;32m~\\anaconda3\\lib\\site-packages\\pytorch_tabnet\\tab_network.py\u001b[0m in \u001b[0;36mforward\u001b[1;34m(self, x)\u001b[0m\n\u001b[0;32m    581\u001b[0m     \u001b[1;32mdef\u001b[0m \u001b[0mforward\u001b[0m\u001b[1;33m(\u001b[0m\u001b[0mself\u001b[0m\u001b[1;33m,\u001b[0m \u001b[0mx\u001b[0m\u001b[1;33m)\u001b[0m\u001b[1;33m:\u001b[0m\u001b[1;33m\u001b[0m\u001b[1;33m\u001b[0m\u001b[0m\n\u001b[0;32m    582\u001b[0m         \u001b[0mx\u001b[0m \u001b[1;33m=\u001b[0m \u001b[0mself\u001b[0m\u001b[1;33m.\u001b[0m\u001b[0membedder\u001b[0m\u001b[1;33m(\u001b[0m\u001b[0mx\u001b[0m\u001b[1;33m)\u001b[0m\u001b[1;33m\u001b[0m\u001b[1;33m\u001b[0m\u001b[0m\n\u001b[1;32m--> 583\u001b[1;33m         \u001b[1;32mreturn\u001b[0m \u001b[0mself\u001b[0m\u001b[1;33m.\u001b[0m\u001b[0mtabnet\u001b[0m\u001b[1;33m(\u001b[0m\u001b[0mx\u001b[0m\u001b[1;33m)\u001b[0m\u001b[1;33m\u001b[0m\u001b[1;33m\u001b[0m\u001b[0m\n\u001b[0m\u001b[0;32m    584\u001b[0m \u001b[1;33m\u001b[0m\u001b[0m\n\u001b[0;32m    585\u001b[0m     \u001b[1;32mdef\u001b[0m \u001b[0mforward_masks\u001b[0m\u001b[1;33m(\u001b[0m\u001b[0mself\u001b[0m\u001b[1;33m,\u001b[0m \u001b[0mx\u001b[0m\u001b[1;33m)\u001b[0m\u001b[1;33m:\u001b[0m\u001b[1;33m\u001b[0m\u001b[1;33m\u001b[0m\u001b[0m\n",
      "\u001b[1;32m~\\anaconda3\\lib\\site-packages\\torch\\nn\\modules\\module.py\u001b[0m in \u001b[0;36m_call_impl\u001b[1;34m(self, *input, **kwargs)\u001b[0m\n\u001b[0;32m    887\u001b[0m             \u001b[0mresult\u001b[0m \u001b[1;33m=\u001b[0m \u001b[0mself\u001b[0m\u001b[1;33m.\u001b[0m\u001b[0m_slow_forward\u001b[0m\u001b[1;33m(\u001b[0m\u001b[1;33m*\u001b[0m\u001b[0minput\u001b[0m\u001b[1;33m,\u001b[0m \u001b[1;33m**\u001b[0m\u001b[0mkwargs\u001b[0m\u001b[1;33m)\u001b[0m\u001b[1;33m\u001b[0m\u001b[1;33m\u001b[0m\u001b[0m\n\u001b[0;32m    888\u001b[0m         \u001b[1;32melse\u001b[0m\u001b[1;33m:\u001b[0m\u001b[1;33m\u001b[0m\u001b[1;33m\u001b[0m\u001b[0m\n\u001b[1;32m--> 889\u001b[1;33m             \u001b[0mresult\u001b[0m \u001b[1;33m=\u001b[0m \u001b[0mself\u001b[0m\u001b[1;33m.\u001b[0m\u001b[0mforward\u001b[0m\u001b[1;33m(\u001b[0m\u001b[1;33m*\u001b[0m\u001b[0minput\u001b[0m\u001b[1;33m,\u001b[0m \u001b[1;33m**\u001b[0m\u001b[0mkwargs\u001b[0m\u001b[1;33m)\u001b[0m\u001b[1;33m\u001b[0m\u001b[1;33m\u001b[0m\u001b[0m\n\u001b[0m\u001b[0;32m    890\u001b[0m         for hook in itertools.chain(\n\u001b[0;32m    891\u001b[0m                 \u001b[0m_global_forward_hooks\u001b[0m\u001b[1;33m.\u001b[0m\u001b[0mvalues\u001b[0m\u001b[1;33m(\u001b[0m\u001b[1;33m)\u001b[0m\u001b[1;33m,\u001b[0m\u001b[1;33m\u001b[0m\u001b[1;33m\u001b[0m\u001b[0m\n",
      "\u001b[1;32m~\\anaconda3\\lib\\site-packages\\pytorch_tabnet\\tab_network.py\u001b[0m in \u001b[0;36mforward\u001b[1;34m(self, x)\u001b[0m\n\u001b[0;32m    466\u001b[0m     \u001b[1;32mdef\u001b[0m \u001b[0mforward\u001b[0m\u001b[1;33m(\u001b[0m\u001b[0mself\u001b[0m\u001b[1;33m,\u001b[0m \u001b[0mx\u001b[0m\u001b[1;33m)\u001b[0m\u001b[1;33m:\u001b[0m\u001b[1;33m\u001b[0m\u001b[1;33m\u001b[0m\u001b[0m\n\u001b[0;32m    467\u001b[0m         \u001b[0mres\u001b[0m \u001b[1;33m=\u001b[0m \u001b[1;36m0\u001b[0m\u001b[1;33m\u001b[0m\u001b[1;33m\u001b[0m\u001b[0m\n\u001b[1;32m--> 468\u001b[1;33m         \u001b[0msteps_output\u001b[0m\u001b[1;33m,\u001b[0m \u001b[0mM_loss\u001b[0m \u001b[1;33m=\u001b[0m \u001b[0mself\u001b[0m\u001b[1;33m.\u001b[0m\u001b[0mencoder\u001b[0m\u001b[1;33m(\u001b[0m\u001b[0mx\u001b[0m\u001b[1;33m)\u001b[0m\u001b[1;33m\u001b[0m\u001b[1;33m\u001b[0m\u001b[0m\n\u001b[0m\u001b[0;32m    469\u001b[0m         \u001b[0mres\u001b[0m \u001b[1;33m=\u001b[0m \u001b[0mtorch\u001b[0m\u001b[1;33m.\u001b[0m\u001b[0msum\u001b[0m\u001b[1;33m(\u001b[0m\u001b[0mtorch\u001b[0m\u001b[1;33m.\u001b[0m\u001b[0mstack\u001b[0m\u001b[1;33m(\u001b[0m\u001b[0msteps_output\u001b[0m\u001b[1;33m,\u001b[0m \u001b[0mdim\u001b[0m\u001b[1;33m=\u001b[0m\u001b[1;36m0\u001b[0m\u001b[1;33m)\u001b[0m\u001b[1;33m,\u001b[0m \u001b[0mdim\u001b[0m\u001b[1;33m=\u001b[0m\u001b[1;36m0\u001b[0m\u001b[1;33m)\u001b[0m\u001b[1;33m\u001b[0m\u001b[1;33m\u001b[0m\u001b[0m\n\u001b[0;32m    470\u001b[0m \u001b[1;33m\u001b[0m\u001b[0m\n",
      "\u001b[1;32m~\\anaconda3\\lib\\site-packages\\torch\\nn\\modules\\module.py\u001b[0m in \u001b[0;36m_call_impl\u001b[1;34m(self, *input, **kwargs)\u001b[0m\n\u001b[0;32m    887\u001b[0m             \u001b[0mresult\u001b[0m \u001b[1;33m=\u001b[0m \u001b[0mself\u001b[0m\u001b[1;33m.\u001b[0m\u001b[0m_slow_forward\u001b[0m\u001b[1;33m(\u001b[0m\u001b[1;33m*\u001b[0m\u001b[0minput\u001b[0m\u001b[1;33m,\u001b[0m \u001b[1;33m**\u001b[0m\u001b[0mkwargs\u001b[0m\u001b[1;33m)\u001b[0m\u001b[1;33m\u001b[0m\u001b[1;33m\u001b[0m\u001b[0m\n\u001b[0;32m    888\u001b[0m         \u001b[1;32melse\u001b[0m\u001b[1;33m:\u001b[0m\u001b[1;33m\u001b[0m\u001b[1;33m\u001b[0m\u001b[0m\n\u001b[1;32m--> 889\u001b[1;33m             \u001b[0mresult\u001b[0m \u001b[1;33m=\u001b[0m \u001b[0mself\u001b[0m\u001b[1;33m.\u001b[0m\u001b[0mforward\u001b[0m\u001b[1;33m(\u001b[0m\u001b[1;33m*\u001b[0m\u001b[0minput\u001b[0m\u001b[1;33m,\u001b[0m \u001b[1;33m**\u001b[0m\u001b[0mkwargs\u001b[0m\u001b[1;33m)\u001b[0m\u001b[1;33m\u001b[0m\u001b[1;33m\u001b[0m\u001b[0m\n\u001b[0m\u001b[0;32m    890\u001b[0m         for hook in itertools.chain(\n\u001b[0;32m    891\u001b[0m                 \u001b[0m_global_forward_hooks\u001b[0m\u001b[1;33m.\u001b[0m\u001b[0mvalues\u001b[0m\u001b[1;33m(\u001b[0m\u001b[1;33m)\u001b[0m\u001b[1;33m,\u001b[0m\u001b[1;33m\u001b[0m\u001b[1;33m\u001b[0m\u001b[0m\n",
      "\u001b[1;32m~\\anaconda3\\lib\\site-packages\\pytorch_tabnet\\tab_network.py\u001b[0m in \u001b[0;36mforward\u001b[1;34m(self, x, prior)\u001b[0m\n\u001b[0;32m    166\u001b[0m             \u001b[1;31m# output\u001b[0m\u001b[1;33m\u001b[0m\u001b[1;33m\u001b[0m\u001b[1;33m\u001b[0m\u001b[0m\n\u001b[0;32m    167\u001b[0m             \u001b[0mmasked_x\u001b[0m \u001b[1;33m=\u001b[0m \u001b[0mtorch\u001b[0m\u001b[1;33m.\u001b[0m\u001b[0mmul\u001b[0m\u001b[1;33m(\u001b[0m\u001b[0mM\u001b[0m\u001b[1;33m,\u001b[0m \u001b[0mx\u001b[0m\u001b[1;33m)\u001b[0m\u001b[1;33m\u001b[0m\u001b[1;33m\u001b[0m\u001b[0m\n\u001b[1;32m--> 168\u001b[1;33m             \u001b[0mout\u001b[0m \u001b[1;33m=\u001b[0m \u001b[0mself\u001b[0m\u001b[1;33m.\u001b[0m\u001b[0mfeat_transformers\u001b[0m\u001b[1;33m[\u001b[0m\u001b[0mstep\u001b[0m\u001b[1;33m]\u001b[0m\u001b[1;33m(\u001b[0m\u001b[0mmasked_x\u001b[0m\u001b[1;33m)\u001b[0m\u001b[1;33m\u001b[0m\u001b[1;33m\u001b[0m\u001b[0m\n\u001b[0m\u001b[0;32m    169\u001b[0m             \u001b[0md\u001b[0m \u001b[1;33m=\u001b[0m \u001b[0mReLU\u001b[0m\u001b[1;33m(\u001b[0m\u001b[1;33m)\u001b[0m\u001b[1;33m(\u001b[0m\u001b[0mout\u001b[0m\u001b[1;33m[\u001b[0m\u001b[1;33m:\u001b[0m\u001b[1;33m,\u001b[0m \u001b[1;33m:\u001b[0m \u001b[0mself\u001b[0m\u001b[1;33m.\u001b[0m\u001b[0mn_d\u001b[0m\u001b[1;33m]\u001b[0m\u001b[1;33m)\u001b[0m\u001b[1;33m\u001b[0m\u001b[1;33m\u001b[0m\u001b[0m\n\u001b[0;32m    170\u001b[0m             \u001b[0msteps_output\u001b[0m\u001b[1;33m.\u001b[0m\u001b[0mappend\u001b[0m\u001b[1;33m(\u001b[0m\u001b[0md\u001b[0m\u001b[1;33m)\u001b[0m\u001b[1;33m\u001b[0m\u001b[1;33m\u001b[0m\u001b[0m\n",
      "\u001b[1;32m~\\anaconda3\\lib\\site-packages\\torch\\nn\\modules\\module.py\u001b[0m in \u001b[0;36m_call_impl\u001b[1;34m(self, *input, **kwargs)\u001b[0m\n\u001b[0;32m    887\u001b[0m             \u001b[0mresult\u001b[0m \u001b[1;33m=\u001b[0m \u001b[0mself\u001b[0m\u001b[1;33m.\u001b[0m\u001b[0m_slow_forward\u001b[0m\u001b[1;33m(\u001b[0m\u001b[1;33m*\u001b[0m\u001b[0minput\u001b[0m\u001b[1;33m,\u001b[0m \u001b[1;33m**\u001b[0m\u001b[0mkwargs\u001b[0m\u001b[1;33m)\u001b[0m\u001b[1;33m\u001b[0m\u001b[1;33m\u001b[0m\u001b[0m\n\u001b[0;32m    888\u001b[0m         \u001b[1;32melse\u001b[0m\u001b[1;33m:\u001b[0m\u001b[1;33m\u001b[0m\u001b[1;33m\u001b[0m\u001b[0m\n\u001b[1;32m--> 889\u001b[1;33m             \u001b[0mresult\u001b[0m \u001b[1;33m=\u001b[0m \u001b[0mself\u001b[0m\u001b[1;33m.\u001b[0m\u001b[0mforward\u001b[0m\u001b[1;33m(\u001b[0m\u001b[1;33m*\u001b[0m\u001b[0minput\u001b[0m\u001b[1;33m,\u001b[0m \u001b[1;33m**\u001b[0m\u001b[0mkwargs\u001b[0m\u001b[1;33m)\u001b[0m\u001b[1;33m\u001b[0m\u001b[1;33m\u001b[0m\u001b[0m\n\u001b[0m\u001b[0;32m    890\u001b[0m         for hook in itertools.chain(\n\u001b[0;32m    891\u001b[0m                 \u001b[0m_global_forward_hooks\u001b[0m\u001b[1;33m.\u001b[0m\u001b[0mvalues\u001b[0m\u001b[1;33m(\u001b[0m\u001b[1;33m)\u001b[0m\u001b[1;33m,\u001b[0m\u001b[1;33m\u001b[0m\u001b[1;33m\u001b[0m\u001b[0m\n",
      "\u001b[1;32m~\\anaconda3\\lib\\site-packages\\pytorch_tabnet\\tab_network.py\u001b[0m in \u001b[0;36mforward\u001b[1;34m(self, x)\u001b[0m\n\u001b[0;32m    701\u001b[0m \u001b[1;33m\u001b[0m\u001b[0m\n\u001b[0;32m    702\u001b[0m     \u001b[1;32mdef\u001b[0m \u001b[0mforward\u001b[0m\u001b[1;33m(\u001b[0m\u001b[0mself\u001b[0m\u001b[1;33m,\u001b[0m \u001b[0mx\u001b[0m\u001b[1;33m)\u001b[0m\u001b[1;33m:\u001b[0m\u001b[1;33m\u001b[0m\u001b[1;33m\u001b[0m\u001b[0m\n\u001b[1;32m--> 703\u001b[1;33m         \u001b[0mx\u001b[0m \u001b[1;33m=\u001b[0m \u001b[0mself\u001b[0m\u001b[1;33m.\u001b[0m\u001b[0mshared\u001b[0m\u001b[1;33m(\u001b[0m\u001b[0mx\u001b[0m\u001b[1;33m)\u001b[0m\u001b[1;33m\u001b[0m\u001b[1;33m\u001b[0m\u001b[0m\n\u001b[0m\u001b[0;32m    704\u001b[0m         \u001b[0mx\u001b[0m \u001b[1;33m=\u001b[0m \u001b[0mself\u001b[0m\u001b[1;33m.\u001b[0m\u001b[0mspecifics\u001b[0m\u001b[1;33m(\u001b[0m\u001b[0mx\u001b[0m\u001b[1;33m)\u001b[0m\u001b[1;33m\u001b[0m\u001b[1;33m\u001b[0m\u001b[0m\n\u001b[0;32m    705\u001b[0m         \u001b[1;32mreturn\u001b[0m \u001b[0mx\u001b[0m\u001b[1;33m\u001b[0m\u001b[1;33m\u001b[0m\u001b[0m\n",
      "\u001b[1;32m~\\anaconda3\\lib\\site-packages\\torch\\nn\\modules\\module.py\u001b[0m in \u001b[0;36m_call_impl\u001b[1;34m(self, *input, **kwargs)\u001b[0m\n\u001b[0;32m    887\u001b[0m             \u001b[0mresult\u001b[0m \u001b[1;33m=\u001b[0m \u001b[0mself\u001b[0m\u001b[1;33m.\u001b[0m\u001b[0m_slow_forward\u001b[0m\u001b[1;33m(\u001b[0m\u001b[1;33m*\u001b[0m\u001b[0minput\u001b[0m\u001b[1;33m,\u001b[0m \u001b[1;33m**\u001b[0m\u001b[0mkwargs\u001b[0m\u001b[1;33m)\u001b[0m\u001b[1;33m\u001b[0m\u001b[1;33m\u001b[0m\u001b[0m\n\u001b[0;32m    888\u001b[0m         \u001b[1;32melse\u001b[0m\u001b[1;33m:\u001b[0m\u001b[1;33m\u001b[0m\u001b[1;33m\u001b[0m\u001b[0m\n\u001b[1;32m--> 889\u001b[1;33m             \u001b[0mresult\u001b[0m \u001b[1;33m=\u001b[0m \u001b[0mself\u001b[0m\u001b[1;33m.\u001b[0m\u001b[0mforward\u001b[0m\u001b[1;33m(\u001b[0m\u001b[1;33m*\u001b[0m\u001b[0minput\u001b[0m\u001b[1;33m,\u001b[0m \u001b[1;33m**\u001b[0m\u001b[0mkwargs\u001b[0m\u001b[1;33m)\u001b[0m\u001b[1;33m\u001b[0m\u001b[1;33m\u001b[0m\u001b[0m\n\u001b[0m\u001b[0;32m    890\u001b[0m         for hook in itertools.chain(\n\u001b[0;32m    891\u001b[0m                 \u001b[0m_global_forward_hooks\u001b[0m\u001b[1;33m.\u001b[0m\u001b[0mvalues\u001b[0m\u001b[1;33m(\u001b[0m\u001b[1;33m)\u001b[0m\u001b[1;33m,\u001b[0m\u001b[1;33m\u001b[0m\u001b[1;33m\u001b[0m\u001b[0m\n",
      "\u001b[1;32m~\\anaconda3\\lib\\site-packages\\pytorch_tabnet\\tab_network.py\u001b[0m in \u001b[0;36mforward\u001b[1;34m(self, x)\u001b[0m\n\u001b[0;32m    738\u001b[0m         \u001b[0mscale\u001b[0m \u001b[1;33m=\u001b[0m \u001b[0mtorch\u001b[0m\u001b[1;33m.\u001b[0m\u001b[0msqrt\u001b[0m\u001b[1;33m(\u001b[0m\u001b[0mtorch\u001b[0m\u001b[1;33m.\u001b[0m\u001b[0mFloatTensor\u001b[0m\u001b[1;33m(\u001b[0m\u001b[1;33m[\u001b[0m\u001b[1;36m0.5\u001b[0m\u001b[1;33m]\u001b[0m\u001b[1;33m)\u001b[0m\u001b[1;33m.\u001b[0m\u001b[0mto\u001b[0m\u001b[1;33m(\u001b[0m\u001b[0mx\u001b[0m\u001b[1;33m.\u001b[0m\u001b[0mdevice\u001b[0m\u001b[1;33m)\u001b[0m\u001b[1;33m)\u001b[0m\u001b[1;33m\u001b[0m\u001b[1;33m\u001b[0m\u001b[0m\n\u001b[0;32m    739\u001b[0m         \u001b[1;32mif\u001b[0m \u001b[0mself\u001b[0m\u001b[1;33m.\u001b[0m\u001b[0mfirst\u001b[0m\u001b[1;33m:\u001b[0m  \u001b[1;31m# the first layer of the block has no scale multiplication\u001b[0m\u001b[1;33m\u001b[0m\u001b[1;33m\u001b[0m\u001b[0m\n\u001b[1;32m--> 740\u001b[1;33m             \u001b[0mx\u001b[0m \u001b[1;33m=\u001b[0m \u001b[0mself\u001b[0m\u001b[1;33m.\u001b[0m\u001b[0mglu_layers\u001b[0m\u001b[1;33m[\u001b[0m\u001b[1;36m0\u001b[0m\u001b[1;33m]\u001b[0m\u001b[1;33m(\u001b[0m\u001b[0mx\u001b[0m\u001b[1;33m)\u001b[0m\u001b[1;33m\u001b[0m\u001b[1;33m\u001b[0m\u001b[0m\n\u001b[0m\u001b[0;32m    741\u001b[0m             \u001b[0mlayers_left\u001b[0m \u001b[1;33m=\u001b[0m \u001b[0mrange\u001b[0m\u001b[1;33m(\u001b[0m\u001b[1;36m1\u001b[0m\u001b[1;33m,\u001b[0m \u001b[0mself\u001b[0m\u001b[1;33m.\u001b[0m\u001b[0mn_glu\u001b[0m\u001b[1;33m)\u001b[0m\u001b[1;33m\u001b[0m\u001b[1;33m\u001b[0m\u001b[0m\n\u001b[0;32m    742\u001b[0m         \u001b[1;32melse\u001b[0m\u001b[1;33m:\u001b[0m\u001b[1;33m\u001b[0m\u001b[1;33m\u001b[0m\u001b[0m\n",
      "\u001b[1;32m~\\anaconda3\\lib\\site-packages\\torch\\nn\\modules\\module.py\u001b[0m in \u001b[0;36m_call_impl\u001b[1;34m(self, *input, **kwargs)\u001b[0m\n\u001b[0;32m    887\u001b[0m             \u001b[0mresult\u001b[0m \u001b[1;33m=\u001b[0m \u001b[0mself\u001b[0m\u001b[1;33m.\u001b[0m\u001b[0m_slow_forward\u001b[0m\u001b[1;33m(\u001b[0m\u001b[1;33m*\u001b[0m\u001b[0minput\u001b[0m\u001b[1;33m,\u001b[0m \u001b[1;33m**\u001b[0m\u001b[0mkwargs\u001b[0m\u001b[1;33m)\u001b[0m\u001b[1;33m\u001b[0m\u001b[1;33m\u001b[0m\u001b[0m\n\u001b[0;32m    888\u001b[0m         \u001b[1;32melse\u001b[0m\u001b[1;33m:\u001b[0m\u001b[1;33m\u001b[0m\u001b[1;33m\u001b[0m\u001b[0m\n\u001b[1;32m--> 889\u001b[1;33m             \u001b[0mresult\u001b[0m \u001b[1;33m=\u001b[0m \u001b[0mself\u001b[0m\u001b[1;33m.\u001b[0m\u001b[0mforward\u001b[0m\u001b[1;33m(\u001b[0m\u001b[1;33m*\u001b[0m\u001b[0minput\u001b[0m\u001b[1;33m,\u001b[0m \u001b[1;33m**\u001b[0m\u001b[0mkwargs\u001b[0m\u001b[1;33m)\u001b[0m\u001b[1;33m\u001b[0m\u001b[1;33m\u001b[0m\u001b[0m\n\u001b[0m\u001b[0;32m    890\u001b[0m         for hook in itertools.chain(\n\u001b[0;32m    891\u001b[0m                 \u001b[0m_global_forward_hooks\u001b[0m\u001b[1;33m.\u001b[0m\u001b[0mvalues\u001b[0m\u001b[1;33m(\u001b[0m\u001b[1;33m)\u001b[0m\u001b[1;33m,\u001b[0m\u001b[1;33m\u001b[0m\u001b[1;33m\u001b[0m\u001b[0m\n",
      "\u001b[1;32m~\\anaconda3\\lib\\site-packages\\pytorch_tabnet\\tab_network.py\u001b[0m in \u001b[0;36mforward\u001b[1;34m(self, x)\u001b[0m\n\u001b[0;32m    768\u001b[0m     \u001b[1;32mdef\u001b[0m \u001b[0mforward\u001b[0m\u001b[1;33m(\u001b[0m\u001b[0mself\u001b[0m\u001b[1;33m,\u001b[0m \u001b[0mx\u001b[0m\u001b[1;33m)\u001b[0m\u001b[1;33m:\u001b[0m\u001b[1;33m\u001b[0m\u001b[1;33m\u001b[0m\u001b[0m\n\u001b[0;32m    769\u001b[0m         \u001b[0mx\u001b[0m \u001b[1;33m=\u001b[0m \u001b[0mself\u001b[0m\u001b[1;33m.\u001b[0m\u001b[0mfc\u001b[0m\u001b[1;33m(\u001b[0m\u001b[0mx\u001b[0m\u001b[1;33m)\u001b[0m\u001b[1;33m\u001b[0m\u001b[1;33m\u001b[0m\u001b[0m\n\u001b[1;32m--> 770\u001b[1;33m         \u001b[0mx\u001b[0m \u001b[1;33m=\u001b[0m \u001b[0mself\u001b[0m\u001b[1;33m.\u001b[0m\u001b[0mbn\u001b[0m\u001b[1;33m(\u001b[0m\u001b[0mx\u001b[0m\u001b[1;33m)\u001b[0m\u001b[1;33m\u001b[0m\u001b[1;33m\u001b[0m\u001b[0m\n\u001b[0m\u001b[0;32m    771\u001b[0m         \u001b[0mout\u001b[0m \u001b[1;33m=\u001b[0m \u001b[0mtorch\u001b[0m\u001b[1;33m.\u001b[0m\u001b[0mmul\u001b[0m\u001b[1;33m(\u001b[0m\u001b[0mx\u001b[0m\u001b[1;33m[\u001b[0m\u001b[1;33m:\u001b[0m\u001b[1;33m,\u001b[0m \u001b[1;33m:\u001b[0m \u001b[0mself\u001b[0m\u001b[1;33m.\u001b[0m\u001b[0moutput_dim\u001b[0m\u001b[1;33m]\u001b[0m\u001b[1;33m,\u001b[0m \u001b[0mtorch\u001b[0m\u001b[1;33m.\u001b[0m\u001b[0msigmoid\u001b[0m\u001b[1;33m(\u001b[0m\u001b[0mx\u001b[0m\u001b[1;33m[\u001b[0m\u001b[1;33m:\u001b[0m\u001b[1;33m,\u001b[0m \u001b[0mself\u001b[0m\u001b[1;33m.\u001b[0m\u001b[0moutput_dim\u001b[0m \u001b[1;33m:\u001b[0m\u001b[1;33m]\u001b[0m\u001b[1;33m)\u001b[0m\u001b[1;33m)\u001b[0m\u001b[1;33m\u001b[0m\u001b[1;33m\u001b[0m\u001b[0m\n\u001b[0;32m    772\u001b[0m         \u001b[1;32mreturn\u001b[0m \u001b[0mout\u001b[0m\u001b[1;33m\u001b[0m\u001b[1;33m\u001b[0m\u001b[0m\n",
      "\u001b[1;32m~\\anaconda3\\lib\\site-packages\\torch\\nn\\modules\\module.py\u001b[0m in \u001b[0;36m_call_impl\u001b[1;34m(self, *input, **kwargs)\u001b[0m\n\u001b[0;32m    887\u001b[0m             \u001b[0mresult\u001b[0m \u001b[1;33m=\u001b[0m \u001b[0mself\u001b[0m\u001b[1;33m.\u001b[0m\u001b[0m_slow_forward\u001b[0m\u001b[1;33m(\u001b[0m\u001b[1;33m*\u001b[0m\u001b[0minput\u001b[0m\u001b[1;33m,\u001b[0m \u001b[1;33m**\u001b[0m\u001b[0mkwargs\u001b[0m\u001b[1;33m)\u001b[0m\u001b[1;33m\u001b[0m\u001b[1;33m\u001b[0m\u001b[0m\n\u001b[0;32m    888\u001b[0m         \u001b[1;32melse\u001b[0m\u001b[1;33m:\u001b[0m\u001b[1;33m\u001b[0m\u001b[1;33m\u001b[0m\u001b[0m\n\u001b[1;32m--> 889\u001b[1;33m             \u001b[0mresult\u001b[0m \u001b[1;33m=\u001b[0m \u001b[0mself\u001b[0m\u001b[1;33m.\u001b[0m\u001b[0mforward\u001b[0m\u001b[1;33m(\u001b[0m\u001b[1;33m*\u001b[0m\u001b[0minput\u001b[0m\u001b[1;33m,\u001b[0m \u001b[1;33m**\u001b[0m\u001b[0mkwargs\u001b[0m\u001b[1;33m)\u001b[0m\u001b[1;33m\u001b[0m\u001b[1;33m\u001b[0m\u001b[0m\n\u001b[0m\u001b[0;32m    890\u001b[0m         for hook in itertools.chain(\n\u001b[0;32m    891\u001b[0m                 \u001b[0m_global_forward_hooks\u001b[0m\u001b[1;33m.\u001b[0m\u001b[0mvalues\u001b[0m\u001b[1;33m(\u001b[0m\u001b[1;33m)\u001b[0m\u001b[1;33m,\u001b[0m\u001b[1;33m\u001b[0m\u001b[1;33m\u001b[0m\u001b[0m\n",
      "\u001b[1;32m~\\anaconda3\\lib\\site-packages\\pytorch_tabnet\\tab_network.py\u001b[0m in \u001b[0;36mforward\u001b[1;34m(self, x)\u001b[0m\n\u001b[0;32m     34\u001b[0m     \u001b[1;32mdef\u001b[0m \u001b[0mforward\u001b[0m\u001b[1;33m(\u001b[0m\u001b[0mself\u001b[0m\u001b[1;33m,\u001b[0m \u001b[0mx\u001b[0m\u001b[1;33m)\u001b[0m\u001b[1;33m:\u001b[0m\u001b[1;33m\u001b[0m\u001b[1;33m\u001b[0m\u001b[0m\n\u001b[0;32m     35\u001b[0m         \u001b[0mchunks\u001b[0m \u001b[1;33m=\u001b[0m \u001b[0mx\u001b[0m\u001b[1;33m.\u001b[0m\u001b[0mchunk\u001b[0m\u001b[1;33m(\u001b[0m\u001b[0mint\u001b[0m\u001b[1;33m(\u001b[0m\u001b[0mnp\u001b[0m\u001b[1;33m.\u001b[0m\u001b[0mceil\u001b[0m\u001b[1;33m(\u001b[0m\u001b[0mx\u001b[0m\u001b[1;33m.\u001b[0m\u001b[0mshape\u001b[0m\u001b[1;33m[\u001b[0m\u001b[1;36m0\u001b[0m\u001b[1;33m]\u001b[0m \u001b[1;33m/\u001b[0m \u001b[0mself\u001b[0m\u001b[1;33m.\u001b[0m\u001b[0mvirtual_batch_size\u001b[0m\u001b[1;33m)\u001b[0m\u001b[1;33m)\u001b[0m\u001b[1;33m,\u001b[0m \u001b[1;36m0\u001b[0m\u001b[1;33m)\u001b[0m\u001b[1;33m\u001b[0m\u001b[1;33m\u001b[0m\u001b[0m\n\u001b[1;32m---> 36\u001b[1;33m         \u001b[0mres\u001b[0m \u001b[1;33m=\u001b[0m \u001b[1;33m[\u001b[0m\u001b[0mself\u001b[0m\u001b[1;33m.\u001b[0m\u001b[0mbn\u001b[0m\u001b[1;33m(\u001b[0m\u001b[0mx_\u001b[0m\u001b[1;33m)\u001b[0m \u001b[1;32mfor\u001b[0m \u001b[0mx_\u001b[0m \u001b[1;32min\u001b[0m \u001b[0mchunks\u001b[0m\u001b[1;33m]\u001b[0m\u001b[1;33m\u001b[0m\u001b[1;33m\u001b[0m\u001b[0m\n\u001b[0m\u001b[0;32m     37\u001b[0m \u001b[1;33m\u001b[0m\u001b[0m\n\u001b[0;32m     38\u001b[0m         \u001b[1;32mreturn\u001b[0m \u001b[0mtorch\u001b[0m\u001b[1;33m.\u001b[0m\u001b[0mcat\u001b[0m\u001b[1;33m(\u001b[0m\u001b[0mres\u001b[0m\u001b[1;33m,\u001b[0m \u001b[0mdim\u001b[0m\u001b[1;33m=\u001b[0m\u001b[1;36m0\u001b[0m\u001b[1;33m)\u001b[0m\u001b[1;33m\u001b[0m\u001b[1;33m\u001b[0m\u001b[0m\n",
      "\u001b[1;32m~\\anaconda3\\lib\\site-packages\\pytorch_tabnet\\tab_network.py\u001b[0m in \u001b[0;36m<listcomp>\u001b[1;34m(.0)\u001b[0m\n\u001b[0;32m     34\u001b[0m     \u001b[1;32mdef\u001b[0m \u001b[0mforward\u001b[0m\u001b[1;33m(\u001b[0m\u001b[0mself\u001b[0m\u001b[1;33m,\u001b[0m \u001b[0mx\u001b[0m\u001b[1;33m)\u001b[0m\u001b[1;33m:\u001b[0m\u001b[1;33m\u001b[0m\u001b[1;33m\u001b[0m\u001b[0m\n\u001b[0;32m     35\u001b[0m         \u001b[0mchunks\u001b[0m \u001b[1;33m=\u001b[0m \u001b[0mx\u001b[0m\u001b[1;33m.\u001b[0m\u001b[0mchunk\u001b[0m\u001b[1;33m(\u001b[0m\u001b[0mint\u001b[0m\u001b[1;33m(\u001b[0m\u001b[0mnp\u001b[0m\u001b[1;33m.\u001b[0m\u001b[0mceil\u001b[0m\u001b[1;33m(\u001b[0m\u001b[0mx\u001b[0m\u001b[1;33m.\u001b[0m\u001b[0mshape\u001b[0m\u001b[1;33m[\u001b[0m\u001b[1;36m0\u001b[0m\u001b[1;33m]\u001b[0m \u001b[1;33m/\u001b[0m \u001b[0mself\u001b[0m\u001b[1;33m.\u001b[0m\u001b[0mvirtual_batch_size\u001b[0m\u001b[1;33m)\u001b[0m\u001b[1;33m)\u001b[0m\u001b[1;33m,\u001b[0m \u001b[1;36m0\u001b[0m\u001b[1;33m)\u001b[0m\u001b[1;33m\u001b[0m\u001b[1;33m\u001b[0m\u001b[0m\n\u001b[1;32m---> 36\u001b[1;33m         \u001b[0mres\u001b[0m \u001b[1;33m=\u001b[0m \u001b[1;33m[\u001b[0m\u001b[0mself\u001b[0m\u001b[1;33m.\u001b[0m\u001b[0mbn\u001b[0m\u001b[1;33m(\u001b[0m\u001b[0mx_\u001b[0m\u001b[1;33m)\u001b[0m \u001b[1;32mfor\u001b[0m \u001b[0mx_\u001b[0m \u001b[1;32min\u001b[0m \u001b[0mchunks\u001b[0m\u001b[1;33m]\u001b[0m\u001b[1;33m\u001b[0m\u001b[1;33m\u001b[0m\u001b[0m\n\u001b[0m\u001b[0;32m     37\u001b[0m \u001b[1;33m\u001b[0m\u001b[0m\n\u001b[0;32m     38\u001b[0m         \u001b[1;32mreturn\u001b[0m \u001b[0mtorch\u001b[0m\u001b[1;33m.\u001b[0m\u001b[0mcat\u001b[0m\u001b[1;33m(\u001b[0m\u001b[0mres\u001b[0m\u001b[1;33m,\u001b[0m \u001b[0mdim\u001b[0m\u001b[1;33m=\u001b[0m\u001b[1;36m0\u001b[0m\u001b[1;33m)\u001b[0m\u001b[1;33m\u001b[0m\u001b[1;33m\u001b[0m\u001b[0m\n",
      "\u001b[1;32m~\\anaconda3\\lib\\site-packages\\torch\\nn\\modules\\module.py\u001b[0m in \u001b[0;36m_call_impl\u001b[1;34m(self, *input, **kwargs)\u001b[0m\n\u001b[0;32m    887\u001b[0m             \u001b[0mresult\u001b[0m \u001b[1;33m=\u001b[0m \u001b[0mself\u001b[0m\u001b[1;33m.\u001b[0m\u001b[0m_slow_forward\u001b[0m\u001b[1;33m(\u001b[0m\u001b[1;33m*\u001b[0m\u001b[0minput\u001b[0m\u001b[1;33m,\u001b[0m \u001b[1;33m**\u001b[0m\u001b[0mkwargs\u001b[0m\u001b[1;33m)\u001b[0m\u001b[1;33m\u001b[0m\u001b[1;33m\u001b[0m\u001b[0m\n\u001b[0;32m    888\u001b[0m         \u001b[1;32melse\u001b[0m\u001b[1;33m:\u001b[0m\u001b[1;33m\u001b[0m\u001b[1;33m\u001b[0m\u001b[0m\n\u001b[1;32m--> 889\u001b[1;33m             \u001b[0mresult\u001b[0m \u001b[1;33m=\u001b[0m \u001b[0mself\u001b[0m\u001b[1;33m.\u001b[0m\u001b[0mforward\u001b[0m\u001b[1;33m(\u001b[0m\u001b[1;33m*\u001b[0m\u001b[0minput\u001b[0m\u001b[1;33m,\u001b[0m \u001b[1;33m**\u001b[0m\u001b[0mkwargs\u001b[0m\u001b[1;33m)\u001b[0m\u001b[1;33m\u001b[0m\u001b[1;33m\u001b[0m\u001b[0m\n\u001b[0m\u001b[0;32m    890\u001b[0m         for hook in itertools.chain(\n\u001b[0;32m    891\u001b[0m                 \u001b[0m_global_forward_hooks\u001b[0m\u001b[1;33m.\u001b[0m\u001b[0mvalues\u001b[0m\u001b[1;33m(\u001b[0m\u001b[1;33m)\u001b[0m\u001b[1;33m,\u001b[0m\u001b[1;33m\u001b[0m\u001b[1;33m\u001b[0m\u001b[0m\n",
      "\u001b[1;32m~\\anaconda3\\lib\\site-packages\\torch\\nn\\modules\\batchnorm.py\u001b[0m in \u001b[0;36mforward\u001b[1;34m(self, input)\u001b[0m\n\u001b[0;32m    133\u001b[0m         \u001b[1;32massert\u001b[0m \u001b[0mself\u001b[0m\u001b[1;33m.\u001b[0m\u001b[0mrunning_mean\u001b[0m \u001b[1;32mis\u001b[0m \u001b[1;32mNone\u001b[0m \u001b[1;32mor\u001b[0m \u001b[0misinstance\u001b[0m\u001b[1;33m(\u001b[0m\u001b[0mself\u001b[0m\u001b[1;33m.\u001b[0m\u001b[0mrunning_mean\u001b[0m\u001b[1;33m,\u001b[0m \u001b[0mtorch\u001b[0m\u001b[1;33m.\u001b[0m\u001b[0mTensor\u001b[0m\u001b[1;33m)\u001b[0m\u001b[1;33m\u001b[0m\u001b[1;33m\u001b[0m\u001b[0m\n\u001b[0;32m    134\u001b[0m         \u001b[1;32massert\u001b[0m \u001b[0mself\u001b[0m\u001b[1;33m.\u001b[0m\u001b[0mrunning_var\u001b[0m \u001b[1;32mis\u001b[0m \u001b[1;32mNone\u001b[0m \u001b[1;32mor\u001b[0m \u001b[0misinstance\u001b[0m\u001b[1;33m(\u001b[0m\u001b[0mself\u001b[0m\u001b[1;33m.\u001b[0m\u001b[0mrunning_var\u001b[0m\u001b[1;33m,\u001b[0m \u001b[0mtorch\u001b[0m\u001b[1;33m.\u001b[0m\u001b[0mTensor\u001b[0m\u001b[1;33m)\u001b[0m\u001b[1;33m\u001b[0m\u001b[1;33m\u001b[0m\u001b[0m\n\u001b[1;32m--> 135\u001b[1;33m         return F.batch_norm(\n\u001b[0m\u001b[0;32m    136\u001b[0m             \u001b[0minput\u001b[0m\u001b[1;33m,\u001b[0m\u001b[1;33m\u001b[0m\u001b[1;33m\u001b[0m\u001b[0m\n\u001b[0;32m    137\u001b[0m             \u001b[1;31m# If buffers are not to be tracked, ensure that they won't be updated\u001b[0m\u001b[1;33m\u001b[0m\u001b[1;33m\u001b[0m\u001b[1;33m\u001b[0m\u001b[0m\n",
      "\u001b[1;32m~\\anaconda3\\lib\\site-packages\\torch\\nn\\functional.py\u001b[0m in \u001b[0;36mbatch_norm\u001b[1;34m(input, running_mean, running_var, weight, bias, training, momentum, eps)\u001b[0m\n\u001b[0;32m   2147\u001b[0m         \u001b[0m_verify_batch_size\u001b[0m\u001b[1;33m(\u001b[0m\u001b[0minput\u001b[0m\u001b[1;33m.\u001b[0m\u001b[0msize\u001b[0m\u001b[1;33m(\u001b[0m\u001b[1;33m)\u001b[0m\u001b[1;33m)\u001b[0m\u001b[1;33m\u001b[0m\u001b[1;33m\u001b[0m\u001b[0m\n\u001b[0;32m   2148\u001b[0m \u001b[1;33m\u001b[0m\u001b[0m\n\u001b[1;32m-> 2149\u001b[1;33m     return torch.batch_norm(\n\u001b[0m\u001b[0;32m   2150\u001b[0m         \u001b[0minput\u001b[0m\u001b[1;33m,\u001b[0m \u001b[0mweight\u001b[0m\u001b[1;33m,\u001b[0m \u001b[0mbias\u001b[0m\u001b[1;33m,\u001b[0m \u001b[0mrunning_mean\u001b[0m\u001b[1;33m,\u001b[0m \u001b[0mrunning_var\u001b[0m\u001b[1;33m,\u001b[0m \u001b[0mtraining\u001b[0m\u001b[1;33m,\u001b[0m \u001b[0mmomentum\u001b[0m\u001b[1;33m,\u001b[0m \u001b[0meps\u001b[0m\u001b[1;33m,\u001b[0m \u001b[0mtorch\u001b[0m\u001b[1;33m.\u001b[0m\u001b[0mbackends\u001b[0m\u001b[1;33m.\u001b[0m\u001b[0mcudnn\u001b[0m\u001b[1;33m.\u001b[0m\u001b[0menabled\u001b[0m\u001b[1;33m\u001b[0m\u001b[1;33m\u001b[0m\u001b[0m\n\u001b[0;32m   2151\u001b[0m     )\n",
      "\u001b[1;31mKeyboardInterrupt\u001b[0m: "
     ]
    }
   ],
   "source": [
    "max_epochs = 100\n",
    "clf.fit(\n",
    "    X_train=X_train, y_train=y_train,\n",
    "    eval_set=[(X_train, y_train),(X_valid, y_valid)],\n",
    "    max_epochs=max_epochs,\n",
    "    patience=50, # please be patient ^^\n",
    "    batch_size=1024,\n",
    "    virtual_batch_size=128,\n",
    "    num_workers=1,\n",
    "    drop_last=False,\n",
    "    eval_metric=['logloss'],\n",
    "    number_\n",
    "    \n",
    ")"
   ]
  },
  {
   "cell_type": "code",
   "execution_count": null,
   "metadata": {},
   "outputs": [],
   "source": []
  }
 ],
 "metadata": {
  "kernelspec": {
   "display_name": "Python 3",
   "language": "python",
   "name": "python3"
  },
  "language_info": {
   "codemirror_mode": {
    "name": "ipython",
    "version": 3
   },
   "file_extension": ".py",
   "mimetype": "text/x-python",
   "name": "python",
   "nbconvert_exporter": "python",
   "pygments_lexer": "ipython3",
   "version": "3.8.5"
  }
 },
 "nbformat": 4,
 "nbformat_minor": 4
}
