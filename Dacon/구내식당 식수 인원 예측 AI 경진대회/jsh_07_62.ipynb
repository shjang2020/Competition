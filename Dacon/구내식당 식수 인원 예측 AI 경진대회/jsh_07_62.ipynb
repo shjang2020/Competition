{
 "cells": [
  {
   "cell_type": "code",
   "execution_count": 331,
   "metadata": {},
   "outputs": [],
   "source": [
    "import pandas as pd\n",
    "import numpy as np\n",
    "import warnings\n",
    "warnings.filterwarnings('ignore')\n",
    "from konlpy.tag import Mecab\n",
    "from datetime import datetime, timedelta\n",
    "import matplotlib.pyplot as plt\n",
    "import seaborn as sns\n",
    "%matplotlib inline\n",
    "import matplotlib.font_manager as fm\n",
    "plt.rc('font', family=fm.FontProperties(fname=\"c:/Windows/Fonts/malgun.ttf\").get_name())"
   ]
  },
  {
   "cell_type": "code",
   "execution_count": 332,
   "metadata": {},
   "outputs": [],
   "source": [
    "train = pd.read_csv('train.csv')\n",
    "test = pd.read_csv('test.csv')\n",
    "submission = pd.read_csv('sample_submission.csv')"
   ]
  },
  {
   "cell_type": "markdown",
   "metadata": {},
   "source": [
    "### 1. 요일,일자, 년, 월, 일, 주 변환"
   ]
  },
  {
   "cell_type": "code",
   "execution_count": 334,
   "metadata": {},
   "outputs": [],
   "source": [
    "def transform_day_to_num(x) :\n",
    "    if x == '월' :\n",
    "        return 5\n",
    "    elif x == '화' :\n",
    "        return 4\n",
    "    elif x == '수' :\n",
    "        return 3\n",
    "    elif x == '목' :\n",
    "        return 2\n",
    "    else :\n",
    "        return 1        "
   ]
  },
  {
   "cell_type": "code",
   "execution_count": 335,
   "metadata": {},
   "outputs": [],
   "source": [
    "train['요일'] = train['요일'].apply(transform_day_to_num)\n",
    "test['요일'] = test['요일'].apply(transform_day_to_num)"
   ]
  },
  {
   "cell_type": "markdown",
   "metadata": {},
   "source": [
    "***"
   ]
  },
  {
   "cell_type": "code",
   "execution_count": 336,
   "metadata": {},
   "outputs": [],
   "source": [
    "train['일자'] = pd.to_datetime(train['일자'])\n",
    "test['일자'] = pd.to_datetime(test['일자'])"
   ]
  },
  {
   "cell_type": "code",
   "execution_count": 337,
   "metadata": {},
   "outputs": [],
   "source": [
    "train['년'] = train['일자'].dt.year\n",
    "test['년'] = test['일자'].dt.year"
   ]
  },
  {
   "cell_type": "code",
   "execution_count": 338,
   "metadata": {},
   "outputs": [],
   "source": [
    "train['월'] = train['일자'].dt.month\n",
    "test['월'] = test['일자'].dt.month"
   ]
  },
  {
   "cell_type": "code",
   "execution_count": 339,
   "metadata": {},
   "outputs": [],
   "source": [
    "train['일'] = train.일자.dt.day\n",
    "test['일'] = test.일자.dt.day"
   ]
  },
  {
   "cell_type": "code",
   "execution_count": 340,
   "metadata": {},
   "outputs": [],
   "source": [
    "train['주'] = train.일자.dt.week\n",
    "test['주'] = test.일자.dt.week"
   ]
  },
  {
   "cell_type": "markdown",
   "metadata": {},
   "source": [
    "### 2. 현본사소속재택근무자수를 이용한 코로나 단계"
   ]
  },
  {
   "cell_type": "code",
   "execution_count": 341,
   "metadata": {},
   "outputs": [],
   "source": [
    "def transform_corona(x) :\n",
    "    if x <1 :\n",
    "        return 3\n",
    "    elif x < 134:\n",
    "        return 2\n",
    "    elif x < 221 :\n",
    "        return 1\n",
    "    else :\n",
    "        return 0"
   ]
  },
  {
   "cell_type": "code",
   "execution_count": 342,
   "metadata": {},
   "outputs": [],
   "source": [
    "train['코로나단계']=train['현본사소속재택근무자수'].apply(transform_corona)\n",
    "test['코로나단계']=test['현본사소속재택근무자수'].apply(transform_corona)"
   ]
  },
  {
   "cell_type": "code",
   "execution_count": null,
   "metadata": {},
   "outputs": [],
   "source": []
  },
  {
   "cell_type": "markdown",
   "metadata": {},
   "source": [
    "### 3. 휴가 간 퍼센트를 수치로 하여 열 생성"
   ]
  },
  {
   "cell_type": "code",
   "execution_count": 350,
   "metadata": {},
   "outputs": [],
   "source": [
    "train['휴가비율']=(train.본사휴가자수/train.본사정원수)*100\n",
    "test['휴가비율']=(test.본사휴가자수/test.본사정원수)*100"
   ]
  },
  {
   "cell_type": "code",
   "execution_count": 351,
   "metadata": {},
   "outputs": [],
   "source": [
    "def transform_rest(x) :\n",
    "    if x <2.569236 :\n",
    "        return 0\n",
    "    elif x< 3.734756:\n",
    "        return 1\n",
    "    elif x< 6.562848:\n",
    "        return 2\n",
    "    else :\n",
    "        return 3"
   ]
  },
  {
   "cell_type": "code",
   "execution_count": 352,
   "metadata": {},
   "outputs": [],
   "source": [
    "train['휴가퍼센트']=train['휴가비율'].apply(transform_rest)\n",
    "test['휴가퍼센트']=test['휴가비율'].apply(transform_rest)"
   ]
  },
  {
   "cell_type": "markdown",
   "metadata": {},
   "source": [
    "### 4. 출장 간 퍼센트를 수치로 하여 열 생성"
   ]
  },
  {
   "cell_type": "code",
   "execution_count": 353,
   "metadata": {},
   "outputs": [],
   "source": [
    "train['출장비율']=(train.본사출장자수/train.본사정원수)*100\n",
    "test['출장비율']=(test.본사출장자수/test.본사정원수)*100"
   ]
  },
  {
   "cell_type": "code",
   "execution_count": 354,
   "metadata": {
    "scrolled": false
   },
   "outputs": [
    {
     "name": "stdout",
     "output_type": "stream",
     "text": [
      "25 %:  7.685325264750379\n",
      "50 %:  8.803353658536585\n",
      "75 %:  9.844372059355774\n"
     ]
    }
   ],
   "source": [
    "for i in np.arange(0.25,1,0.25):\n",
    "    print(int(i*100),'%: ',train.출장비율.quantile(q=i))"
   ]
  },
  {
   "cell_type": "code",
   "execution_count": 355,
   "metadata": {},
   "outputs": [],
   "source": [
    "def f1(x) :\n",
    "    if x <7.685325264750379 :\n",
    "        return 0\n",
    "    elif x< 8.803353658536585:\n",
    "        return 1\n",
    "    elif x< 9.844372059355774:\n",
    "        return 2\n",
    "    else :\n",
    "        return 3"
   ]
  },
  {
   "cell_type": "code",
   "execution_count": 356,
   "metadata": {},
   "outputs": [],
   "source": [
    "train['출장퍼센트']=train['출장비율'].apply(f1)\n",
    "test['출장퍼센트']=test['출장비율'].apply(f1)"
   ]
  },
  {
   "cell_type": "markdown",
   "metadata": {},
   "source": [
    "### 5. 공휴일을 직접 수작업으로 지정하고 원핫인코딩"
   ]
  },
  {
   "cell_type": "code",
   "execution_count": 362,
   "metadata": {
    "id": "uW9MMAsTnNa9"
   },
   "outputs": [],
   "source": [
    "train['공휴일전후'] = 0\n",
    "test['공휴일전후'] = 0"
   ]
  },
  {
   "cell_type": "code",
   "execution_count": 363,
   "metadata": {
    "id": "gHz3A6XutXTv"
   },
   "outputs": [],
   "source": [
    "train['공휴일전후'][17] = 1\n",
    "train['공휴일전후'][3] = 1\n",
    "train['공휴일전후'][62] = 1\n",
    "# train['공휴일전후'][67] = 1\n",
    "# train['공휴일전후'][82] = 1\n",
    "train['공휴일전후'][131] = 1\n",
    "# train['공휴일전후'][130] = 1\n",
    "train['공휴일전후'][152] = 1\n",
    "train['공휴일전후'][226] = 1\n",
    "train['공휴일전후'][221] = 1\n",
    "train['공휴일전후'][224] = 1\n",
    "# train['공휴일전후'][244] = 1\n",
    "train['공휴일전후'][245] = 1\n",
    "# train['공휴일전후'][267] = 1\n",
    "train['공휴일전후'][310] = 2\n",
    "train['공휴일전후'][311] = 1\n",
    "train['공휴일전후'][309] = 1\n",
    "train['공휴일전후'][330] = 1\n",
    "train['공휴일전후'][379] = 1\n",
    "train['공휴일전후'][467] = 1\n",
    "# train['공휴일전후'][469] = 1\n",
    "train['공휴일전후'][470] = 1\n",
    "train['공휴일전후'][502] = 2\n",
    "# train['공휴일전후'][501] = 1\n",
    "# train['공휴일전후'][511] = 1\n",
    "train['공휴일전후'][565] = 1\n",
    "train['공휴일전후'][623] = 1\n",
    "train['공휴일전후'][651] = 1\n",
    "# train['공휴일전후'][650] = 1\n",
    "train['공휴일전후'][705] = 1\n",
    "# train['공휴일전후'][707] = 1\n",
    "train['공휴일전후'][709] = 1\n",
    "# train['공휴일전후'][733] = 1\n",
    "# train['공휴일전후'][748] = 1\n",
    "# train['공휴일전후'][792] = 1\n",
    "train['공휴일전후'][815] = 1\n",
    "train['공휴일전후'][864] = 1\n",
    "# train['공휴일전후'][863] = 1\n",
    "train['공휴일전후'][950] = 1\n",
    "train['공휴일전후'][951] = 1\n",
    "train['공휴일전후'][953] = 1\n",
    "train['공휴일전후'][954] = 1\n",
    "train['공휴일전후'][955] = 1\n",
    "train['공휴일전후'][971] = 2\n",
    "# train['공휴일전후'][970] = 1\n",
    "# train['공휴일전후'][1037] = 1\n",
    "train['공휴일전후'][1038] = 1\n",
    "train['공휴일전후'][1099] = 1\n",
    "train['공휴일전후'][1129] = 1\n",
    "# train['공휴일전후'][1128] = 1\n",
    "train['공휴일전후'][1187] = 1\n",
    "# train['공휴일전후'][1186] = 1\n",
    "\n",
    "test['공휴일전후'][10] =2\n",
    "test['공휴일전후'][20] = 1"
   ]
  },
  {
   "cell_type": "markdown",
   "metadata": {
    "id": "rXANglvAhup2"
   },
   "source": [
    "**원핫인코딩**"
   ]
  },
  {
   "cell_type": "code",
   "execution_count": 364,
   "metadata": {
    "id": "c4c8KbnXhud3"
   },
   "outputs": [],
   "source": [
    "train = pd.get_dummies(train, columns=['공휴일전후'])\n",
    "test = pd.get_dummies(test, columns=['공휴일전후'])"
   ]
  },
  {
   "cell_type": "code",
   "execution_count": 365,
   "metadata": {
    "id": "UVhypUvU9bNw"
   },
   "outputs": [],
   "source": [
    "test['공휴일전후_0'][20] =1\n",
    "test['공휴일전후_1'][20] = 0"
   ]
  },
  {
   "cell_type": "markdown",
   "metadata": {},
   "source": [
    "### 6. 메뉴 토큰화하여 일반적인 계산으로 해준 것"
   ]
  },
  {
   "cell_type": "code",
   "execution_count": 366,
   "metadata": {},
   "outputs": [],
   "source": [
    "train['조식메뉴토큰'] = train['조식메뉴'].str.split(' ')\n",
    "train['중식메뉴토큰'] = train['중식메뉴'].str.split(' ')\n",
    "train['석식메뉴토큰'] = train['석식메뉴'].str.split(' ')\n",
    "\n",
    "test['조식메뉴토큰'] = test['조식메뉴'].str.split(' ')\n",
    "test['중식메뉴토큰'] = test['중식메뉴'].str.split(' ')\n",
    "test['석식메뉴토큰'] = test['석식메뉴'].str.split(' ')"
   ]
  },
  {
   "cell_type": "code",
   "execution_count": 367,
   "metadata": {},
   "outputs": [],
   "source": [
    "def get_menu_comp_cnt(data) :\n",
    "    menu_cnt = []\n",
    "    for token in data :\n",
    "        comp_cnt = 0\n",
    "        for text in token :\n",
    "            if (len(text) > 1) & (text.startswith(\"(\") != 1) :\n",
    "                comp_cnt += 1\n",
    "            else :\n",
    "                pass\n",
    "        menu_cnt.append(comp_cnt)\n",
    "    return menu_cnt"
   ]
  },
  {
   "cell_type": "code",
   "execution_count": 368,
   "metadata": {},
   "outputs": [],
   "source": [
    "train['조식메뉴수'] = get_menu_comp_cnt(train['조식메뉴토큰'])\n",
    "train['중식메뉴수'] = get_menu_comp_cnt(train['중식메뉴토큰'])\n",
    "train['석식메뉴수'] = get_menu_comp_cnt(train['석식메뉴토큰'])\n",
    "\n",
    "test['조식메뉴수'] = get_menu_comp_cnt(test['조식메뉴토큰'])\n",
    "test['중식메뉴수'] = get_menu_comp_cnt(test['중식메뉴토큰'])\n",
    "test['석식메뉴수'] = get_menu_comp_cnt(test['석식메뉴토큰'])"
   ]
  },
  {
   "cell_type": "code",
   "execution_count": 369,
   "metadata": {},
   "outputs": [],
   "source": [
    "def get_menu_nunique(data) :\n",
    "    menu_n_list = []\n",
    "    for token in data :\n",
    "        menu_n = 0\n",
    "        for text in token :\n",
    "            if  '/' in text  :\n",
    "                menu_nunique = text.count('/') + 1\n",
    "                menu_n += menu_nunique\n",
    "            else :\n",
    "                pass\n",
    "        menu_n_list.append(menu_n)\n",
    "    return menu_n_list"
   ]
  },
  {
   "cell_type": "code",
   "execution_count": 370,
   "metadata": {},
   "outputs": [],
   "source": [
    "train['석식선택메뉴'] = get_menu_nunique(train['석식메뉴토큰'])\n",
    "train['중식선택메뉴'] = get_menu_nunique(train['중식메뉴토큰'])\n",
    "train['조식선택메뉴'] = get_menu_nunique(train['조식메뉴토큰'])"
   ]
  },
  {
   "cell_type": "code",
   "execution_count": 371,
   "metadata": {},
   "outputs": [],
   "source": [
    "test['석식선택메뉴'] = get_menu_nunique(test['석식메뉴토큰'])\n",
    "test['중식선택메뉴'] = get_menu_nunique(test['중식메뉴토큰'])\n",
    "test['조식선택메뉴'] = get_menu_nunique(test['조식메뉴토큰'])"
   ]
  },
  {
   "cell_type": "markdown",
   "metadata": {},
   "source": [
    "***"
   ]
  },
  {
   "cell_type": "code",
   "execution_count": 372,
   "metadata": {},
   "outputs": [],
   "source": [
    "def get_food_embedding(x):\n",
    "    x_ = []\n",
    "    x = x.split(' ')\n",
    "    for i in x:\n",
    "        if '(' in i and ':' in i and ')' in i:\n",
    "            continue\n",
    "        if '/' in i:\n",
    "            x_.extend(i.split('/'))\n",
    "        else:\n",
    "            x_.append(i)\n",
    "    x_ = list(set(x_))\n",
    "    x_.remove('')\n",
    "    return x_\n",
    "\n",
    "train['중식메뉴_split'] = train['중식메뉴'].apply(lambda x: get_food_embedding(x))\n",
    "train['석식메뉴_split'] = train['석식메뉴'].apply(lambda x: get_food_embedding(x))"
   ]
  },
  {
   "cell_type": "code",
   "execution_count": 373,
   "metadata": {},
   "outputs": [],
   "source": [
    "test['중식메뉴_split'] = test['중식메뉴'].apply(lambda x: get_food_embedding(x))\n",
    "test['석식메뉴_split'] = test['석식메뉴'].apply(lambda x: get_food_embedding(x))"
   ]
  },
  {
   "cell_type": "code",
   "execution_count": null,
   "metadata": {},
   "outputs": [],
   "source": []
  },
  {
   "cell_type": "markdown",
   "metadata": {},
   "source": [
    "### 7. 출근한 인원 퍼센트"
   ]
  },
  {
   "cell_type": "code",
   "execution_count": 374,
   "metadata": {},
   "outputs": [],
   "source": [
    "train['출근'] = train['본사정원수']-(train['본사휴가자수']+train['본사출장자수']+train['현본사소속재택근무자수'])\n",
    "test['출근'] = test['본사정원수']-(test['본사휴가자수']+test['본사출장자수']+test['현본사소속재택근무자수'])"
   ]
  },
  {
   "cell_type": "code",
   "execution_count": 375,
   "metadata": {
    "scrolled": false
   },
   "outputs": [
    {
     "name": "stdout",
     "output_type": "stream",
     "text": [
      "25 %:  2281.0\n",
      "50 %:  2357.0\n",
      "75 %:  2461.0\n"
     ]
    }
   ],
   "source": [
    "for i in np.arange(0.25,1,0.25):\n",
    "    print(int(i*100),'%: ',train.출근.quantile(q=i))"
   ]
  },
  {
   "cell_type": "code",
   "execution_count": 376,
   "metadata": {},
   "outputs": [],
   "source": [
    "def f1(x) :\n",
    "    if x <2281.0 :\n",
    "        return 0\n",
    "    elif x< 2357.0:\n",
    "        return 1\n",
    "    elif x< 2461.0:\n",
    "        return 2\n",
    "    else :\n",
    "        return 3"
   ]
  },
  {
   "cell_type": "code",
   "execution_count": 377,
   "metadata": {},
   "outputs": [],
   "source": [
    "train['출근퍼센트']=train['출근'].apply(f1)\n",
    "test['출근퍼센트']=test['출근'].apply(f1)"
   ]
  },
  {
   "cell_type": "code",
   "execution_count": null,
   "metadata": {},
   "outputs": [],
   "source": []
  },
  {
   "cell_type": "markdown",
   "metadata": {},
   "source": [
    "### 8. 월을 이용하여 계절"
   ]
  },
  {
   "cell_type": "code",
   "execution_count": 379,
   "metadata": {},
   "outputs": [],
   "source": [
    "def transform_season(x) :\n",
    "    if 3<=x<=5 :\n",
    "        return '봄'\n",
    "    elif 6<=x<=8:\n",
    "        return '여름'\n",
    "    elif 9<=x<=11 :\n",
    "        return '가을'\n",
    "    else :\n",
    "        return '겨울'"
   ]
  },
  {
   "cell_type": "code",
   "execution_count": 380,
   "metadata": {},
   "outputs": [],
   "source": [
    "train['월_계절']=train['월'].apply(transform_season)\n",
    "test['월_계절']=test['월'].apply(transform_season)"
   ]
  },
  {
   "cell_type": "code",
   "execution_count": 381,
   "metadata": {},
   "outputs": [],
   "source": [
    "train = pd.concat([train, pd.get_dummies(train['월_계절'])], axis=1)\n",
    "test = pd.concat([test, pd.get_dummies(test['월_계절'])], axis=1)"
   ]
  },
  {
   "cell_type": "code",
   "execution_count": null,
   "metadata": {},
   "outputs": [],
   "source": []
  },
  {
   "cell_type": "markdown",
   "metadata": {},
   "source": [
    "### 9. 주를 이용한 계절"
   ]
  },
  {
   "cell_type": "code",
   "execution_count": 382,
   "metadata": {},
   "outputs": [],
   "source": [
    "def transform_week(x) :\n",
    "    if 9<=x<=22 :\n",
    "        return '주_봄'\n",
    "    elif 23<=x<=35:\n",
    "        return '주_여름'\n",
    "    elif 36<=x<=48 :\n",
    "        return '주_가을'\n",
    "    else :\n",
    "        return '주_겨울'"
   ]
  },
  {
   "cell_type": "code",
   "execution_count": 383,
   "metadata": {},
   "outputs": [],
   "source": [
    "train['주_계절']=train['주'].apply(transform_week)\n",
    "test['주_계절']=test['주'].apply(transform_week)"
   ]
  },
  {
   "cell_type": "code",
   "execution_count": 384,
   "metadata": {},
   "outputs": [],
   "source": [
    "train = pd.concat([train, pd.get_dummies(train['주_계절'])], axis=1)\n",
    "test = pd.concat([test, pd.get_dummies(test['주_계절'])], axis=1)"
   ]
  },
  {
   "cell_type": "code",
   "execution_count": 385,
   "metadata": {},
   "outputs": [],
   "source": [
    "test['주_가을']=0\n",
    "test['주_여름']=0\n",
    "test['가을']=0\n",
    "test['여름']=0"
   ]
  },
  {
   "cell_type": "code",
   "execution_count": null,
   "metadata": {},
   "outputs": [],
   "source": []
  },
  {
   "cell_type": "markdown",
   "metadata": {},
   "source": [
    "### 10. 월초, 월중, 월말을 만들기 위해 일자를 이용한 원핫인코딩"
   ]
  },
  {
   "cell_type": "code",
   "execution_count": 386,
   "metadata": {},
   "outputs": [],
   "source": [
    "def transform_day(x) :\n",
    "    if 1<=x<=10 :\n",
    "        return '초_일'\n",
    "    elif 11<=x<=20:\n",
    "        return '중_일'\n",
    "    else :\n",
    "        return '말_일'"
   ]
  },
  {
   "cell_type": "code",
   "execution_count": 387,
   "metadata": {},
   "outputs": [],
   "source": [
    "train['초중말일자']=train['일'].apply(transform_day)\n",
    "test['초중말일자']=test['일'].apply(transform_day)"
   ]
  },
  {
   "cell_type": "code",
   "execution_count": 388,
   "metadata": {},
   "outputs": [],
   "source": [
    "train = pd.concat([train, pd.get_dummies(train['초중말일자'])], axis=1)\n",
    "test = pd.concat([test, pd.get_dummies(test['초중말일자'])], axis=1)"
   ]
  },
  {
   "cell_type": "code",
   "execution_count": null,
   "metadata": {},
   "outputs": [],
   "source": []
  },
  {
   "cell_type": "markdown",
   "metadata": {},
   "source": [
    "### 중식, 석식에 영향을 끼칠 것 같은 피쳐만 셀렉션"
   ]
  },
  {
   "cell_type": "code",
   "execution_count": null,
   "metadata": {},
   "outputs": [],
   "source": [
    "X1 = train[['월','년','요일','출장퍼센트','휴가퍼센트','코로나단계','말_일','중_일','공휴일전후_0','초_일','중식메뉴수','공휴일전후_1','주_봄','봄','주_가을','가을','주_겨울','겨울','공휴일전후_2']]\n",
    "y1 = train.중식계\n",
    "target1 = test[X1.columns]"
   ]
  },
  {
   "cell_type": "code",
   "execution_count": 512,
   "metadata": {},
   "outputs": [],
   "source": [
    "X2 = train[['요일', '년', '월', '코로나단계', '휴가퍼센트', '출장퍼센트', '공휴일전후_0', '공휴일전후_1', '공휴일전후_2', '석식메뉴수', '출근퍼센트', '겨울', '봄', '주_겨울', '주_가을', '가을', '말_일', '초_일','본사시간외근무명령서승인건수']]\n",
    "y2 = train.석식계\n",
    "target2 = test[X2.columns]"
   ]
  },
  {
   "cell_type": "code",
   "execution_count": null,
   "metadata": {},
   "outputs": [],
   "source": []
  },
  {
   "cell_type": "markdown",
   "metadata": {},
   "source": [
    "## Modeling"
   ]
  },
  {
   "cell_type": "code",
   "execution_count": 389,
   "metadata": {},
   "outputs": [],
   "source": [
    "from lightgbm import LGBMRegressor\n",
    "from xgboost import XGBRFRegressor\n",
    "from sklearn.metrics import mean_absolute_error\n",
    "from sklearn.model_selection import TimeSeriesSplit, KFold\n",
    "from sklearn.ensemble import RandomForestRegressor, GradientBoostingRegressor, VotingRegressor\n",
    "from ngboost import NGBRegressor"
   ]
  },
  {
   "cell_type": "code",
   "execution_count": 390,
   "metadata": {},
   "outputs": [],
   "source": [
    "kf = KFold(n_splits = 15, random_state = 607, shuffle = True)"
   ]
  },
  {
   "cell_type": "markdown",
   "metadata": {},
   "source": [
    "### LGBM"
   ]
  },
  {
   "cell_type": "markdown",
   "metadata": {},
   "source": [
    "#### 중식"
   ]
  },
  {
   "cell_type": "code",
   "execution_count": 513,
   "metadata": {},
   "outputs": [],
   "source": [
    "lgbm = LGBMRegressor(random_state = 607, max_depth = 4, n_estimators = 20000, learning_rate = .01)"
   ]
  },
  {
   "cell_type": "code",
   "execution_count": 514,
   "metadata": {
    "collapsed": true
   },
   "outputs": [
    {
     "name": "stdout",
     "output_type": "stream",
     "text": [
      "Training until validation scores don't improve for 2000 rounds\n",
      "[2000]\ttraining's l1: 54.6452\ttraining's l2: 5288.38\tvalid_1's l1: 72.6131\tvalid_1's l2: 11142.3\n",
      "Early stopping, best iteration is:\n",
      "[288]\ttraining's l1: 74.8833\ttraining's l2: 9881.82\tvalid_1's l1: 73.358\tvalid_1's l2: 9498.24\n",
      "FOLD MAE = 73.35804953295423\n",
      "Training until validation scores don't improve for 2000 rounds\n",
      "[2000]\ttraining's l1: 56.1794\ttraining's l2: 5650.49\tvalid_1's l1: 68.2422\tvalid_1's l2: 7628.51\n",
      "[4000]\ttraining's l1: 51.7791\ttraining's l2: 4684.38\tvalid_1's l1: 68.0304\tvalid_1's l2: 7593.91\n",
      "[6000]\ttraining's l1: 48.2598\ttraining's l2: 4000.11\tvalid_1's l1: 69.2333\tvalid_1's l2: 7601.18\n",
      "Early stopping, best iteration is:\n",
      "[4377]\ttraining's l1: 50.8348\ttraining's l2: 4492.75\tvalid_1's l1: 67.2388\tvalid_1's l2: 7426.13\n",
      "FOLD MAE = 67.23879993610058\n",
      "Training until validation scores don't improve for 2000 rounds\n",
      "[2000]\ttraining's l1: 54.2706\ttraining's l2: 5306.97\tvalid_1's l1: 79.9451\tvalid_1's l2: 11683.1\n",
      "[4000]\ttraining's l1: 50.7362\ttraining's l2: 4577.88\tvalid_1's l1: 80.1368\tvalid_1's l2: 11491.6\n",
      "Early stopping, best iteration is:\n",
      "[2562]\ttraining's l1: 53.172\ttraining's l2: 5058.9\tvalid_1's l1: 79.2968\tvalid_1's l2: 11414.4\n",
      "FOLD MAE = 79.29678939349915\n",
      "Training until validation scores don't improve for 2000 rounds\n",
      "[2000]\ttraining's l1: 54.8371\ttraining's l2: 5367.83\tvalid_1's l1: 69.228\tvalid_1's l2: 8862.07\n",
      "Early stopping, best iteration is:\n",
      "[1761]\ttraining's l1: 55.5433\ttraining's l2: 5539.98\tvalid_1's l1: 68.6794\tvalid_1's l2: 8811.2\n",
      "FOLD MAE = 68.67938504245978\n",
      "Training until validation scores don't improve for 2000 rounds\n",
      "[2000]\ttraining's l1: 55.0449\ttraining's l2: 5399.93\tvalid_1's l1: 62.8651\tvalid_1's l2: 7109.71\n",
      "Early stopping, best iteration is:\n",
      "[1009]\ttraining's l1: 60.0243\ttraining's l2: 6484.09\tvalid_1's l1: 61.7596\tvalid_1's l2: 6916.26\n",
      "FOLD MAE = 61.759615493209296\n",
      "Training until validation scores don't improve for 2000 rounds\n",
      "[2000]\ttraining's l1: 54.7236\ttraining's l2: 5304.92\tvalid_1's l1: 76.4391\tvalid_1's l2: 10037.7\n",
      "Early stopping, best iteration is:\n",
      "[1359]\ttraining's l1: 57.1717\ttraining's l2: 5850.59\tvalid_1's l1: 74.4186\tvalid_1's l2: 9826.06\n",
      "FOLD MAE = 74.41861568825922\n",
      "Training until validation scores don't improve for 2000 rounds\n",
      "[2000]\ttraining's l1: 55.3597\ttraining's l2: 5482\tvalid_1's l1: 58.5932\tvalid_1's l2: 6174.83\n",
      "[4000]\ttraining's l1: 51.2012\ttraining's l2: 4621.51\tvalid_1's l1: 60.4997\tvalid_1's l2: 6470.99\n",
      "Early stopping, best iteration is:\n",
      "[2528]\ttraining's l1: 54.2849\ttraining's l2: 5232.09\tvalid_1's l1: 58.3492\tvalid_1's l2: 6075.13\n",
      "FOLD MAE = 58.34916591161518\n",
      "Training until validation scores don't improve for 2000 rounds\n",
      "[2000]\ttraining's l1: 54.9083\ttraining's l2: 5374.44\tvalid_1's l1: 63.6796\tvalid_1's l2: 7633.14\n",
      "[4000]\ttraining's l1: 50.7105\ttraining's l2: 4536.7\tvalid_1's l1: 63.6843\tvalid_1's l2: 7583.96\n",
      "[6000]\ttraining's l1: 47.729\ttraining's l2: 3958.96\tvalid_1's l1: 63.1435\tvalid_1's l2: 7529.33\n",
      "Early stopping, best iteration is:\n",
      "[5301]\ttraining's l1: 48.7808\ttraining's l2: 4138.78\tvalid_1's l1: 62.6725\tvalid_1's l2: 7474.69\n",
      "FOLD MAE = 62.6725285128402\n",
      "Training until validation scores don't improve for 2000 rounds\n",
      "[2000]\ttraining's l1: 55.4021\ttraining's l2: 5551.68\tvalid_1's l1: 74.4792\tvalid_1's l2: 10344.2\n",
      "[4000]\ttraining's l1: 51.2979\ttraining's l2: 4619.96\tvalid_1's l1: 72.7717\tvalid_1's l2: 10052.2\n",
      "Early stopping, best iteration is:\n",
      "[3867]\ttraining's l1: 51.483\ttraining's l2: 4654.93\tvalid_1's l1: 72.7111\tvalid_1's l2: 10068.6\n",
      "FOLD MAE = 72.71110682541716\n",
      "Training until validation scores don't improve for 2000 rounds\n",
      "[2000]\ttraining's l1: 55.4957\ttraining's l2: 5508.33\tvalid_1's l1: 78.0775\tvalid_1's l2: 10470.2\n",
      "Early stopping, best iteration is:\n",
      "[522]\ttraining's l1: 65.1903\ttraining's l2: 7612.4\tvalid_1's l1: 77.0958\tvalid_1's l2: 10893.4\n",
      "FOLD MAE = 77.09575963805457\n",
      "Training until validation scores don't improve for 2000 rounds\n",
      "[2000]\ttraining's l1: 54.0142\ttraining's l2: 5281.86\tvalid_1's l1: 81.8731\tvalid_1's l2: 13193.8\n",
      "[4000]\ttraining's l1: 49.9275\ttraining's l2: 4385.8\tvalid_1's l1: 80.6946\tvalid_1's l2: 12758.3\n",
      "[6000]\ttraining's l1: 47.3853\ttraining's l2: 3930.9\tvalid_1's l1: 82.3108\tvalid_1's l2: 12931.7\n",
      "Early stopping, best iteration is:\n",
      "[4099]\ttraining's l1: 49.6924\ttraining's l2: 4336.01\tvalid_1's l1: 80.6047\tvalid_1's l2: 12723.2\n",
      "FOLD MAE = 80.60467840344626\n",
      "Training until validation scores don't improve for 2000 rounds\n",
      "[2000]\ttraining's l1: 54.8973\ttraining's l2: 5317.27\tvalid_1's l1: 59.0594\tvalid_1's l2: 7172.04\n",
      "Early stopping, best iteration is:\n",
      "[1808]\ttraining's l1: 55.6032\ttraining's l2: 5484.39\tvalid_1's l1: 58.7061\tvalid_1's l2: 7054.84\n",
      "FOLD MAE = 58.706064827043996\n",
      "Training until validation scores don't improve for 2000 rounds\n",
      "[2000]\ttraining's l1: 55.7312\ttraining's l2: 5530.16\tvalid_1's l1: 65.8001\tvalid_1's l2: 7854.23\n",
      "Early stopping, best iteration is:\n",
      "[1142]\ttraining's l1: 59.1391\ttraining's l2: 6330.56\tvalid_1's l1: 64.7644\tvalid_1's l2: 8215.75\n",
      "FOLD MAE = 64.76443642353736\n",
      "Training until validation scores don't improve for 2000 rounds\n",
      "[2000]\ttraining's l1: 54.8874\ttraining's l2: 5368.55\tvalid_1's l1: 81.9475\tvalid_1's l2: 11835.9\n",
      "Early stopping, best iteration is:\n",
      "[566]\ttraining's l1: 63.4735\ttraining's l2: 7310.27\tvalid_1's l1: 79.7385\tvalid_1's l2: 11232.1\n",
      "FOLD MAE = 79.73851925708553\n",
      "Training until validation scores don't improve for 2000 rounds\n",
      "[2000]\ttraining's l1: 55.016\ttraining's l2: 5451.62\tvalid_1's l1: 68.8285\tvalid_1's l2: 7815.94\n",
      "Early stopping, best iteration is:\n",
      "[1241]\ttraining's l1: 57.8332\ttraining's l2: 6076.04\tvalid_1's l1: 68.7649\tvalid_1's l2: 7713.37\n",
      "FOLD MAE = 68.7649430396137\n",
      "\n",
      "LGBMRegressor MAE = 69.87723052834241\n"
     ]
    }
   ],
   "source": [
    "lgbm_pred_1 = np.zeros((target1.shape[0]))\n",
    "mae_list = []\n",
    "for tr_idx, val_idx in kf.split(X1):\n",
    "    tr_x, val_x = X1.iloc[tr_idx], X1.iloc[val_idx]\n",
    "    tr_y, val_y = y1.iloc[tr_idx], y1.iloc[val_idx]\n",
    "    lgbm.fit(tr_x, tr_y, eval_set = [(tr_x, tr_y), (val_x, val_y)], eval_metric = 'mean_absolute_error', early_stopping_rounds = 2000, verbose = 2000)\n",
    "    pred = lgbm.predict(val_x)\n",
    "    mae = mean_absolute_error(val_y, pred)\n",
    "    mae_list.append(mae)\n",
    "    print(f'FOLD MAE = {mae}')\n",
    "    sub_pred = lgbm.predict(target1) / 15\n",
    "    lgbm_pred_1 += sub_pred\n",
    "print(f'\\n{lgbm.__class__.__name__} MAE = {np.mean(mae_list)}')"
   ]
  },
  {
   "cell_type": "code",
   "execution_count": 516,
   "metadata": {},
   "outputs": [
    {
     "data": {
      "image/png": "[encoded data removed]",
      "text/plain": [
       "<Figure size 432x288 with 1 Axes>"
      ]
     },
     "metadata": {
      "needs_background": "light"
     },
     "output_type": "display_data"
    }
   ],
   "source": [
    "a=pd.DataFrame(data=lgbm.feature_importances_,index=X1.columns)\n",
    "a=a.sort_values(by=0,ascending=False)\n",
    "a.columns=['value']\n",
    "\n",
    "plt.bar(a.index, a.value)\n",
    "plt.xticks(fontsize=12, rotation='vertical') \n",
    "plt.show()"
   ]
  },
  {
   "cell_type": "markdown",
   "metadata": {},
   "source": [
    "#### 석식"
   ]
  },
  {
   "cell_type": "code",
   "execution_count": 517,
   "metadata": {
    "collapsed": true
   },
   "outputs": [
    {
     "name": "stdout",
     "output_type": "stream",
     "text": [
      "Training until validation scores don't improve for 2000 rounds\n",
      "[2000]\ttraining's l1: 33.7666\ttraining's l2: 2183.63\tvalid_1's l1: 53.3843\tvalid_1's l2: 5188.85\n",
      "Early stopping, best iteration is:\n",
      "[1062]\ttraining's l1: 36.634\ttraining's l2: 2619.48\tvalid_1's l1: 52.6661\tvalid_1's l2: 5018.79\n",
      "FOLD MAE = 52.66606674111978\n",
      "Training until validation scores don't improve for 2000 rounds\n",
      "[2000]\ttraining's l1: 33.6406\ttraining's l2: 2020.2\tvalid_1's l1: 49.6769\tvalid_1's l2: 8096.75\n",
      "Early stopping, best iteration is:\n",
      "[809]\ttraining's l1: 38.2948\ttraining's l2: 2653.8\tvalid_1's l1: 48.5952\tvalid_1's l2: 8142.31\n",
      "FOLD MAE = 48.59523398921298\n",
      "Training until validation scores don't improve for 2000 rounds\n",
      "[2000]\ttraining's l1: 34.4335\ttraining's l2: 2156.98\tvalid_1's l1: 50.6925\tvalid_1's l2: 5014.91\n",
      "Early stopping, best iteration is:\n",
      "[759]\ttraining's l1: 38.503\ttraining's l2: 2818.1\tvalid_1's l1: 50.7606\tvalid_1's l2: 4892.55\n",
      "FOLD MAE = 50.76061781244508\n",
      "Training until validation scores don't improve for 2000 rounds\n",
      "[2000]\ttraining's l1: 34.5359\ttraining's l2: 2251.6\tvalid_1's l1: 44.2863\tvalid_1's l2: 3229.44\n",
      "Early stopping, best iteration is:\n",
      "[977]\ttraining's l1: 37.5909\ttraining's l2: 2737.25\tvalid_1's l1: 43.8836\tvalid_1's l2: 3157.41\n",
      "FOLD MAE = 43.88357237981803\n",
      "Training until validation scores don't improve for 2000 rounds\n",
      "[2000]\ttraining's l1: 34.5153\ttraining's l2: 2257.6\tvalid_1's l1: 43.9857\tvalid_1's l2: 3449.56\n",
      "[4000]\ttraining's l1: 31.1026\ttraining's l2: 1794.68\tvalid_1's l1: 44.5032\tvalid_1's l2: 3424.94\n",
      "Early stopping, best iteration is:\n",
      "[2756]\ttraining's l1: 33.1456\ttraining's l2: 2052.07\tvalid_1's l1: 43.6392\tvalid_1's l2: 3379.49\n",
      "FOLD MAE = 43.63919594891683\n",
      "Training until validation scores don't improve for 2000 rounds\n",
      "[2000]\ttraining's l1: 33.4741\ttraining's l2: 2143.95\tvalid_1's l1: 42.9927\tvalid_1's l2: 4244.63\n",
      "Early stopping, best iteration is:\n",
      "[371]\ttraining's l1: 44.2516\ttraining's l2: 3692.42\tvalid_1's l1: 43.9916\tvalid_1's l2: 3743.78\n",
      "FOLD MAE = 43.9915959817546\n",
      "Training until validation scores don't improve for 2000 rounds\n",
      "[2000]\ttraining's l1: 34.6195\ttraining's l2: 2276.31\tvalid_1's l1: 43.2244\tvalid_1's l2: 3303.69\n",
      "Early stopping, best iteration is:\n",
      "[1160]\ttraining's l1: 36.9323\ttraining's l2: 2639.98\tvalid_1's l1: 42.5072\tvalid_1's l2: 3294\n",
      "FOLD MAE = 42.50724621684118\n",
      "Training until validation scores don't improve for 2000 rounds\n",
      "[2000]\ttraining's l1: 34.34\ttraining's l2: 2240.38\tvalid_1's l1: 41.2524\tvalid_1's l2: 2472.57\n",
      "[4000]\ttraining's l1: 31.3799\ttraining's l2: 1838.62\tvalid_1's l1: 41.8772\tvalid_1's l2: 2559.15\n",
      "Early stopping, best iteration is:\n",
      "[2465]\ttraining's l1: 33.4626\ttraining's l2: 2119.23\tvalid_1's l1: 40.8985\tvalid_1's l2: 2421.58\n",
      "FOLD MAE = 40.89846433619315\n",
      "Training until validation scores don't improve for 2000 rounds\n",
      "[2000]\ttraining's l1: 34.1468\ttraining's l2: 2210.67\tvalid_1's l1: 49.4497\tvalid_1's l2: 4175.87\n",
      "[4000]\ttraining's l1: 31.0216\ttraining's l2: 1773.58\tvalid_1's l1: 47.8739\tvalid_1's l2: 4054.7\n",
      "[6000]\ttraining's l1: 28.7487\ttraining's l2: 1516.22\tvalid_1's l1: 47.8059\tvalid_1's l2: 4136.26\n",
      "Early stopping, best iteration is:\n",
      "[4148]\ttraining's l1: 30.7943\ttraining's l2: 1747.29\tvalid_1's l1: 47.7001\tvalid_1's l2: 4037.4\n",
      "FOLD MAE = 47.70009452109777\n",
      "Training until validation scores don't improve for 2000 rounds\n",
      "[2000]\ttraining's l1: 34.5944\ttraining's l2: 2221.73\tvalid_1's l1: 46.7022\tvalid_1's l2: 4085.74\n",
      "Early stopping, best iteration is:\n",
      "[448]\ttraining's l1: 42.66\ttraining's l2: 3460.29\tvalid_1's l1: 46.4081\tvalid_1's l2: 4243.53\n",
      "FOLD MAE = 46.408127951621495\n",
      "Training until validation scores don't improve for 2000 rounds\n",
      "[2000]\ttraining's l1: 33.7507\ttraining's l2: 2127.25\tvalid_1's l1: 42.5147\tvalid_1's l2: 4455.18\n",
      "Early stopping, best iteration is:\n",
      "[829]\ttraining's l1: 38.838\ttraining's l2: 2865.13\tvalid_1's l1: 41.083\tvalid_1's l2: 4444.77\n",
      "FOLD MAE = 41.083033299953414\n",
      "Training until validation scores don't improve for 2000 rounds\n",
      "[2000]\ttraining's l1: 34.761\ttraining's l2: 2270.32\tvalid_1's l1: 46.1855\tvalid_1's l2: 4294.5\n",
      "Early stopping, best iteration is:\n",
      "[1520]\ttraining's l1: 35.983\ttraining's l2: 2456.84\tvalid_1's l1: 45.7868\tvalid_1's l2: 4301.37\n",
      "FOLD MAE = 45.786767012297226\n",
      "Training until validation scores don't improve for 2000 rounds\n",
      "[2000]\ttraining's l1: 34.3753\ttraining's l2: 2267.45\tvalid_1's l1: 43.5044\tvalid_1's l2: 2964.76\n",
      "[4000]\ttraining's l1: 31.0987\ttraining's l2: 1797.82\tvalid_1's l1: 42.064\tvalid_1's l2: 2877.81\n",
      "Early stopping, best iteration is:\n",
      "[3161]\ttraining's l1: 32.2661\ttraining's l2: 1943.32\tvalid_1's l1: 42.2328\tvalid_1's l2: 2843.05\n",
      "FOLD MAE = 42.23281494311671\n",
      "Training until validation scores don't improve for 2000 rounds\n",
      "[2000]\ttraining's l1: 33.936\ttraining's l2: 2180.9\tvalid_1's l1: 49.456\tvalid_1's l2: 4256.4\n",
      "Early stopping, best iteration is:\n",
      "[395]\ttraining's l1: 43.6178\ttraining's l2: 3612.64\tvalid_1's l1: 45.7361\tvalid_1's l2: 3529.24\n",
      "FOLD MAE = 45.73605687036513\n",
      "Training until validation scores don't improve for 2000 rounds\n",
      "[2000]\ttraining's l1: 35.3405\ttraining's l2: 2353.57\tvalid_1's l1: 37.7723\tvalid_1's l2: 2248.46\n",
      "Early stopping, best iteration is:\n",
      "[1383]\ttraining's l1: 36.7006\ttraining's l2: 2597.53\tvalid_1's l1: 36.9863\tvalid_1's l2: 2134.65\n",
      "FOLD MAE = 36.98629694740689\n",
      "\n",
      "LGBMRegressor MAE = 44.85834566347736\n"
     ]
    }
   ],
   "source": [
    "#### 중식lgbm_pred_2 = np.zeros((target1.shape[0]))\n",
    "mae_list = []\n",
    "for tr_idx, val_idx in kf.split(X2):\n",
    "    tr_x, val_x = X2.iloc[tr_idx], X2.iloc[val_idx]\n",
    "    tr_y, val_y = y2.iloc[tr_idx], y2.iloc[val_idx]\n",
    "    \n",
    "    lgbm.fit(tr_x, tr_y, eval_set = [(tr_x, tr_y), (val_x, val_y)], eval_metric = 'mean_absolute_error', early_stopping_rounds = 2000, verbose = 2000)\n",
    "    pred = lgbm.predict(val_x)\n",
    "    mae = mean_absolute_error(val_y, pred)\n",
    "    print(f'FOLD MAE = {mae}')\n",
    "    mae_list.append(mae)\n",
    "    sub_pred = lgbm.predict(target2) / 15\n",
    "    lgbm_pred_2 += sub_pred\n",
    "print(f'\\n{lgbm.__class__.__name__} MAE = {np.mean(mae_list)}')"
   ]
  },
  {
   "cell_type": "code",
   "execution_count": 519,
   "metadata": {},
   "outputs": [
    {
     "data": {
      "image/png": "[encoded data removed]",
      "text/plain": [
       "<Figure size 432x288 with 1 Axes>"
      ]
     },
     "metadata": {
      "needs_background": "light"
     },
     "output_type": "display_data"
    }
   ],
   "source": [
    "a=pd.DataFrame(data=lgbm.feature_importances_,index=X2.columns)\n",
    "a=a.sort_values(by=0,ascending=False)\n",
    "a.columns=['value']\n",
    "\n",
    "plt.bar(a.index, a.value)\n",
    "plt.xticks(fontsize=12, rotation='vertical') \n",
    "plt.show()"
   ]
  },
  {
   "cell_type": "code",
   "execution_count": 520,
   "metadata": {},
   "outputs": [],
   "source": [
    "submission['중식계'] = lgbm_pred_1\n",
    "submission['석식계'] = lgbm_pred_2"
   ]
  },
  {
   "cell_type": "code",
   "execution_count": 522,
   "metadata": {},
   "outputs": [],
   "source": [
    "submission.to_csv('lgbm_07.csv', index = False)"
   ]
  },
  {
   "cell_type": "code",
   "execution_count": null,
   "metadata": {},
   "outputs": [],
   "source": []
  },
  {
   "cell_type": "markdown",
   "metadata": {},
   "source": [
    "### NGB"
   ]
  },
  {
   "cell_type": "markdown",
   "metadata": {},
   "source": [
    "#### 중식"
   ]
  },
  {
   "cell_type": "code",
   "execution_count": 523,
   "metadata": {},
   "outputs": [],
   "source": [
    "ngb = NGBRegressor(n_estimators = 15000, verbose = 0, random_state = 607)"
   ]
  },
  {
   "cell_type": "code",
   "execution_count": 524,
   "metadata": {
    "collapsed": true
   },
   "outputs": [
    {
     "name": "stdout",
     "output_type": "stream",
     "text": [
      "FOLD MAE = 68.52939919670436\n",
      "FOLD MAE = 60.61060259616154\n",
      "FOLD MAE = 69.41053064986316\n",
      "FOLD MAE = 54.668099204498716\n",
      "FOLD MAE = 49.444953463857516\n",
      "FOLD MAE = 55.472850734370276\n",
      "FOLD MAE = 48.53444714166642\n",
      "FOLD MAE = 51.78807999756746\n",
      "FOLD MAE = 51.00210509203896\n",
      "FOLD MAE = 55.66699381176394\n",
      "FOLD MAE = 60.50610443674434\n",
      "FOLD MAE = 40.70761527556759\n",
      "FOLD MAE = 49.149894710069\n",
      "FOLD MAE = 60.16206974661795\n",
      "FOLD MAE = 54.54492195251173\n",
      "\n",
      "NGBRegressor MAE = 55.34657786733353\n"
     ]
    }
   ],
   "source": [
    "ngb_pred_1 = np.zeros((target1.shape[0]))\n",
    "mae_list = []\n",
    "for tr_idx, val_idx in kf.split(X1):\n",
    "    tr_x, val_x = X1.iloc[tr_idx], X1.iloc[val_idx]\n",
    "    tr_y, val_y = y1.iloc[tr_idx], y1.iloc[val_idx]\n",
    "    ngb.fit(tr_x, tr_y, val_x, val_y, early_stopping_rounds = 2000)\n",
    "    pred = ngb.predict(val_x)\n",
    "    mae = mean_absolute_error(val_y, pred)\n",
    "    mae_list.append(mae)\n",
    "    print(f'FOLD MAE = {mae}')\n",
    "    sub_pred = ngb.predict(target1) / 15\n",
    "    ngb_pred_1 += sub_pred\n",
    "print(f'\\n{ngb.__class__.__name__} MAE = {np.mean(mae_list)}')"
   ]
  },
  {
   "cell_type": "markdown",
   "metadata": {},
   "source": [
    "#### 석식"
   ]
  },
  {
   "cell_type": "code",
   "execution_count": 526,
   "metadata": {},
   "outputs": [],
   "source": [
    "ngb = NGBRegressor(n_estimators = 15000, verbose = 0, random_state = 607)"
   ]
  },
  {
   "cell_type": "code",
   "execution_count": 527,
   "metadata": {
    "collapsed": true
   },
   "outputs": [
    {
     "name": "stdout",
     "output_type": "stream",
     "text": [
      "FOLD MAE = 53.620089388824255\n",
      "FOLD MAE = 35.84246453190883\n",
      "FOLD MAE = 35.593520177703475\n",
      "FOLD MAE = 30.408097722400782\n",
      "FOLD MAE = 30.38624363557233\n",
      "FOLD MAE = 27.471863461923533\n",
      "FOLD MAE = 28.23868160639055\n",
      "FOLD MAE = 27.307321354338264\n",
      "FOLD MAE = 28.266087482216772\n",
      "FOLD MAE = 28.596641791728644\n",
      "FOLD MAE = 27.49812351402219\n",
      "FOLD MAE = 27.04181848865856\n",
      "FOLD MAE = 23.080510653325188\n",
      "FOLD MAE = 29.087625053996657\n",
      "FOLD MAE = 22.761600460323756\n",
      "\n",
      "NGBRegressor MAE = 30.346712621555586\n"
     ]
    }
   ],
   "source": [
    "ngb_pred_2 = np.zeros((target2.shape[0]))\n",
    "mae_list = []\n",
    "for tr_idx, val_idx in kf.split(X2):\n",
    "    tr_x, val_x = X2.iloc[tr_idx], X2.iloc[val_idx]\n",
    "    tr_y, val_y = y2.iloc[tr_idx], y2.iloc[val_idx]\n",
    "    ngb.fit(tr_x, tr_y, val_x, val_y, early_stopping_rounds = 2000)\n",
    "    pred = ngb.predict(val_x)\n",
    "    mae = mean_absolute_error(val_y, pred)\n",
    "    mae_list.append(mae)\n",
    "    print(f'FOLD MAE = {mae}')\n",
    "    sub_pred = ngb.predict(target2) / 15\n",
    "    ngb_pred_2 += sub_pred\n",
    "print(f'\\n{ngb.__class__.__name__} MAE = {np.mean(mae_list)}')"
   ]
  },
  {
   "cell_type": "code",
   "execution_count": 529,
   "metadata": {},
   "outputs": [],
   "source": [
    "submission['중식계'] = ngb_pred_1\n",
    "submission['석식계'] = ngb_pred_2"
   ]
  },
  {
   "cell_type": "code",
   "execution_count": 530,
   "metadata": {},
   "outputs": [],
   "source": [
    "submission.to_csv('nbg_07.csv', index = False)"
   ]
  },
  {
   "cell_type": "code",
   "execution_count": null,
   "metadata": {},
   "outputs": [],
   "source": []
  },
  {
   "cell_type": "markdown",
   "metadata": {},
   "source": [
    "### 앙상블"
   ]
  },
  {
   "cell_type": "code",
   "execution_count": 531,
   "metadata": {},
   "outputs": [],
   "source": [
    "nbg=pd.read_csv('nbg_07.csv')\n",
    "lgbm=pd.read_csv('lgbm_07.csv')\n",
    "\n",
    "ensemble=nbg.copy()\n",
    "ensemble['중식계']=nbg['중식계']*0.3+lgbm['중식계']*0.7\n",
    "ensemble['석식계']=nbg['석식계']*0.3+lgbm['석식계']*0.7"
   ]
  },
  {
   "cell_type": "code",
   "execution_count": 546,
   "metadata": {
    "scrolled": true
   },
   "outputs": [
    {
     "data": {
      "text/html": [
       "<div>\n",
       "<style scoped>\n",
       "    .dataframe tbody tr th:only-of-type {\n",
       "        vertical-align: middle;\n",
       "    }\n",
       "\n",
       "    .dataframe tbody tr th {\n",
       "        vertical-align: top;\n",
       "    }\n",
       "\n",
       "    .dataframe thead th {\n",
       "        text-align: right;\n",
       "    }\n",
       "</style>\n",
       "<table border=\"1\" class=\"dataframe\">\n",
       "  <thead>\n",
       "    <tr style=\"text-align: right;\">\n",
       "      <th></th>\n",
       "      <th>일자</th>\n",
       "      <th>중식계</th>\n",
       "      <th>석식계</th>\n",
       "    </tr>\n",
       "  </thead>\n",
       "  <tbody>\n",
       "    <tr>\n",
       "      <th>0</th>\n",
       "      <td>2021-01-27</td>\n",
       "      <td>974.849875</td>\n",
       "      <td>292.509755</td>\n",
       "    </tr>\n",
       "    <tr>\n",
       "      <th>1</th>\n",
       "      <td>2021-01-28</td>\n",
       "      <td>932.584555</td>\n",
       "      <td>398.912877</td>\n",
       "    </tr>\n",
       "    <tr>\n",
       "      <th>2</th>\n",
       "      <td>2021-01-29</td>\n",
       "      <td>624.559373</td>\n",
       "      <td>261.433374</td>\n",
       "    </tr>\n",
       "    <tr>\n",
       "      <th>3</th>\n",
       "      <td>2021-02-01</td>\n",
       "      <td>1356.530572</td>\n",
       "      <td>525.461233</td>\n",
       "    </tr>\n",
       "    <tr>\n",
       "      <th>4</th>\n",
       "      <td>2021-02-02</td>\n",
       "      <td>1094.644289</td>\n",
       "      <td>466.315394</td>\n",
       "    </tr>\n",
       "  </tbody>\n",
       "</table>\n",
       "</div>"
      ],
      "text/plain": [
       "           일자          중식계         석식계\n",
       "0  2021-01-27   974.849875  292.509755\n",
       "1  2021-01-28   932.584555  398.912877\n",
       "2  2021-01-29   624.559373  261.433374\n",
       "3  2021-02-01  1356.530572  525.461233\n",
       "4  2021-02-02  1094.644289  466.315394"
      ]
     },
     "execution_count": 546,
     "metadata": {},
     "output_type": "execute_result"
    }
   ],
   "source": [
    "ensemble.head()"
   ]
  },
  {
   "cell_type": "markdown",
   "metadata": {},
   "source": [
    "### 1번째 서브미션"
   ]
  },
  {
   "cell_type": "code",
   "execution_count": 547,
   "metadata": {},
   "outputs": [],
   "source": [
    "ensemble.to_csv('ensemble_07.csv', index = False)"
   ]
  }
 ],
 "metadata": {
  "kernelspec": {
   "display_name": "Python 3",
   "language": "python",
   "name": "python3"
  },
  "language_info": {
   "codemirror_mode": {
    "name": "ipython",
    "version": 3
   },
   "file_extension": ".py",
   "mimetype": "text/x-python",
   "name": "python",
   "nbconvert_exporter": "python",
   "pygments_lexer": "ipython3",
   "version": "3.8.5"
  }
 },
 "nbformat": 4,
 "nbformat_minor": 4
}
