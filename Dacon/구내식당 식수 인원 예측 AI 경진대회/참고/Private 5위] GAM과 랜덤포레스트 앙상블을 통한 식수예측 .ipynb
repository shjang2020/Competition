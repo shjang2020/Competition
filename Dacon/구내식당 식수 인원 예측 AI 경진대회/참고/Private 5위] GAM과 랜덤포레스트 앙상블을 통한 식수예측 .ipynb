{
 "cells": [
  {
   "cell_type": "code",
   "execution_count": 4,
   "metadata": {
    "id": "_raSfuBhGX_N"
   },
   "outputs": [],
   "source": [
    "#warning 숨기기\n",
    "import warnings\n",
    "warnings.filterwarnings('ignore')"
   ]
  },
  {
   "cell_type": "code",
   "execution_count": null,
   "metadata": {
    "id": "_pClO4NeHzub"
   },
   "outputs": [],
   "source": [
    "##나눔 글꼴 설치\n",
    "#!sudo apt-get install -y fonts-nanum\n",
    "#!sudo fc-cache -fv\n",
    "#!rm ~/.cache/matplotlib -rf\n",
    "#\n",
    "##설치후 상단에서 런타임 - 런타임 다시 시작"
   ]
  },
  {
   "cell_type": "code",
   "execution_count": 5,
   "metadata": {
    "id": "gUpyfw0HH0VK"
   },
   "outputs": [],
   "source": [
    "# matplotlib을 사용하는 모든 plot에 나눔 글꼴 적용\n",
    "import matplotlib.pyplot as plt\n",
    "\n",
    "plt.rc('font', family='NanumBarunGothic') "
   ]
  },
  {
   "cell_type": "code",
   "execution_count": 6,
   "metadata": {
    "id": "yF5CmUXrQhi0"
   },
   "outputs": [],
   "source": [
    "import pandas as pd\n",
    "from statsmodels.tsa.arima_model import ARIMA\n",
    "import statsmodels.api as sm\n",
    "import pandas as pd\n",
    "import numpy as np\n",
    "import math\n",
    "import matplotlib.pyplot as plt"
   ]
  },
  {
   "cell_type": "markdown",
   "metadata": {
    "id": "GEQAx_bekfvN"
   },
   "source": [
    "# 1. 데이터 전처리"
   ]
  },
  {
   "cell_type": "markdown",
   "metadata": {
    "id": "V9POFEYGQkS-"
   },
   "source": [
    "데이터 불러오기"
   ]
  },
  {
   "cell_type": "code",
   "execution_count": 74,
   "metadata": {
    "id": "2j7wCeASkfvO"
   },
   "outputs": [],
   "source": [
    "train=pd.read_csv('./data/train.csv')\n",
    "test=pd.read_csv('./data/test.csv')\n",
    "data=pd.concat([train, test], axis=0)"
   ]
  },
  {
   "cell_type": "code",
   "execution_count": 75,
   "metadata": {
    "id": "pe2BEUDtXHxy"
   },
   "outputs": [],
   "source": [
    "data = data.reset_index(drop=True)"
   ]
  },
  {
   "cell_type": "markdown",
   "metadata": {
    "id": "ddURefKtSA_4"
   },
   "source": [
    "### 2.1 기존 변수 활용"
   ]
  },
  {
   "cell_type": "markdown",
   "metadata": {
    "id": "XNg4loELkfvO"
   },
   "source": [
    "일자 관련 변수: 년도, 월, 일, 요일\n",
    "\n",
    "\n"
   ]
  },
  {
   "cell_type": "code",
   "execution_count": 76,
   "metadata": {
    "id": "QG29c1sfkfvP"
   },
   "outputs": [],
   "source": [
    "year=[]\n",
    "for i in range(len(data['일자'])) :\n",
    "  year.append(data.iloc[i,0][0:4])\n",
    "data['year']=year"
   ]
  },
  {
   "cell_type": "code",
   "execution_count": 77,
   "metadata": {
    "id": "2vnKHw5rkfvQ"
   },
   "outputs": [],
   "source": [
    "mon=[]\n",
    "for i in range(len(data['일자'])) :\n",
    "  mon.append(data.iloc[i,0][5:7])\n",
    "data['월']=mon"
   ]
  },
  {
   "cell_type": "code",
   "execution_count": 78,
   "metadata": {
    "id": "-SQZnM4TkfvQ"
   },
   "outputs": [],
   "source": [
    "date=[]\n",
    "for i in range(len(data['일자'])) :\n",
    "  date.append(data.iloc[i,0][8:10])\n",
    "data['date']=date"
   ]
  },
  {
   "cell_type": "code",
   "execution_count": 79,
   "metadata": {
    "id": "ZZEf6ZIykfvR"
   },
   "outputs": [],
   "source": [
    "yoil=[]\n",
    "for i in range(len(data)) : \n",
    "  if data.iloc[i,1]=='월' : yoil.append(0)\n",
    "  if data.iloc[i,1]=='화' : yoil.append(1)\n",
    "  if data.iloc[i,1]=='수' : yoil.append(2)\n",
    "  if data.iloc[i,1]=='목' : yoil.append(3)\n",
    "  if data.iloc[i,1]=='금' : yoil.append(4)\n",
    "data['요일']=yoil"
   ]
  },
  {
   "cell_type": "code",
   "execution_count": 80,
   "metadata": {
    "id": "gokD2rZbkfvR"
   },
   "outputs": [],
   "source": [
    "# 랜덤포레스트에서 categorical로 처리하기 위해 데이터 형변환\n",
    "data['date']=data['date'].astype(int)\n",
    "data['월']=data['월'].astype(int)\n",
    "data['year']=data['year'].astype(int)"
   ]
  },
  {
   "cell_type": "code",
   "execution_count": 81,
   "metadata": {
    "id": "I6HqglNWkfvS"
   },
   "outputs": [],
   "source": [
    "#필요한 컬럼 선택\n",
    "data=data[['일자','year', '월', 'date', '요일', '본사정원수', '본사휴가자수', '본사출장자수', '본사시간외근무명령서승인건수', '현본사소속재택근무자수', '조식메뉴', '중식메뉴', '석식메뉴', '중식계', '석식계']]\n"
   ]
  },
  {
   "cell_type": "markdown",
   "metadata": {
    "id": "fu-YcpZXSXPe"
   },
   "source": [
    "공휴일 관련 변수(Under, Over, Holiday, Vacation)\n",
    "\n",
    ":공휴일이나 명절에 따라 식수 인원이 변할 수 있다고 판단되어,\n",
    "총 휴일의 길이나, 휴일이 언제 시작되는지에 따라 수기로 표기함.\n",
    "\n",
    "규칙: \n",
    "- (주말포함) 3일 이상 휴일인 경우 vacation, 그 외에는 holiday로 표기\n",
    "- 해당 휴일까지 남은 기간은 –n 일로, 지난 기간은 +n일로 표기\n",
    "- 휴일이 시작 / 끝나는 주에 한정하여 표기.\n",
    "- 단, 월요일 하루만 휴가인 경우, 그 전 주까지 기간을 표기.\n",
    "- Holiday 또는 vacation에 -1이 표기되어 있을 경우 Under에 1, 그 외의 경우는 Over에 1 표기.\n",
    "- 위의 경우에 해당하지 않는 경우, Under, over, Holiday, Vacation에 0으로 표기. "
   ]
  },
  {
   "cell_type": "code",
   "execution_count": 82,
   "metadata": {
    "id": "F6SQ2wlxSS7e"
   },
   "outputs": [],
   "source": [
    "k=pd.read_csv('./data/공휴일 정리.csv', encoding='cp949')\n",
    "k=k.fillna(0)\n",
    "data['under']=k['under']\n",
    "data['over']=k['over']\n",
    "data['holiday']=k['holiday']\n",
    "data['vacation']=k['vacation']"
   ]
  },
  {
   "cell_type": "markdown",
   "metadata": {
    "id": "7nZkXoyTSq7v"
   },
   "source": [
    "문화의날 변수"
   ]
  },
  {
   "cell_type": "code",
   "execution_count": 83,
   "metadata": {
    "id": "SwWvi8GSHdoe"
   },
   "outputs": [],
   "source": [
    "munhwa=[]\n",
    "for i in range(len(data)) : \n",
    "  if len(data.loc[i,'석식메뉴']) < 25 : \n",
    "    munhwa.append(1)  \n",
    "  else : munhwa.append(0)\n",
    "data['zerodinner']=munhwa"
   ]
  },
  {
   "cell_type": "markdown",
   "metadata": {
    "id": "kibZdw8QJUAS"
   },
   "source": [
    "메뉴 관련 변수"
   ]
  },
  {
   "cell_type": "code",
   "execution_count": 84,
   "metadata": {
    "id": "xzZKS4MCH0Yd"
   },
   "outputs": [],
   "source": [
    "menu=pd.read_csv('./data/LH 반찬 메뉴정리.csv', encoding='cp949')\n",
    "menu=menu.drop(['비고1','비고2','Unnamed: 24','Din_비고1','석식메뉴','Din_비고2','Din_비고2','석식메뉴.1'], axis=1)\n",
    "menu=menu.fillna(0)\n",
    "menu=menu.rename(columns={'Date' : '일자'})\n",
    "data=pd.merge(data,menu, on='일자', how='left')\n"
   ]
  },
  {
   "cell_type": "markdown",
   "metadata": {
    "id": "4OPSN3uLkfvT"
   },
   "source": [
    "### 신규 데이터 추가"
   ]
  },
  {
   "cell_type": "markdown",
   "metadata": {
    "id": "MwDpzeAWHvuM"
   },
   "source": [
    "부동산, LH 미디어, 코로나 확진자 수, 공휴일, 문화의 날, 불쾌지수, 강수량 데이터 추가\n",
    "* 부동산_미디어지수 : 전 날 부동산 뉴스 건수 (출처 : 빅카인즈)\n",
    "* LH_미디어지수 : 전 날 LH 뉴스 건수 (출처 : 빅카인즈, https://www.bigkinds.or.kr/v2/news/index.do)\n",
    "\n",
    "ex. 2016년 2월 1일 란에는 1월 31일 자 뉴스 건수\n",
    "\n",
    "* 코로나 : 코로나 확진자 수, test set -> 전 날까지의 확진자 수를 바탕으로 ARIMA 모델 이용하여 예측\n",
    "\n",
    "(출처 : https://ourworldindata.org/coronavirus#testing-for-covid-19)\n",
    "\n",
    "\n",
    "*   문화의 날 : 석식계가 0인 경우에 1, 그 외는 0으로 표기.\n",
    "\n",
    "\n",
    "* 불쾌지수 : train set -> 과거 일기 기록, test set -> 전 날 일기예보\n",
    "\n",
    "(출처 : 기상자료개방포털, https://data.kma.go.kr/climate/RankState/selectRankStatisticsDivisionList.do?pgmNo=179\n",
    "머니투데이 https://search.mt.co.kr/?srchFd=TOTAL&range=TOTAL&category=TOTAL&reSrchFlag=&preKwd=&search_type=m&mode=&code=&kwd=%B3%BB%C0%CF+%B3%AF%BE%BE\n",
    "연합뉴스 https://www.yna.co.kr/search/index?query=%EB%82%B4%EC%9D%BC%EB%82%A0%EC%94%A8&from=20210126&to=20210408&period=diy\n",
    "종합 기후변화감시정보 http://www.climate.go.kr/home/09_monitoring/vapor/relativehumidity)\n",
    "\n",
    "\n",
    "* 강수량 데이터 : train set -> 과거 강수 기록, test set -> 전 날 일기예보 \n",
    "\n",
    "(출처 : 기상자료개방포털, https://data.kma.go.kr/climate/RankState/selectRankStatisticsDivisionList.do?pgmNo=179\n",
    "머니투데이 https://search.mt.co.kr/?srchFd=TOTAL&range=TOTAL&category=TOTAL&reSrchFlag=&preKwd=&search_type=m&mode=&code=&kwd=%B3%BB%C0%CF+%B3%AF%BE%BE\n",
    "연합뉴스 https://www.yna.co.kr/search/index?query=%EB%82%B4%EC%9D%BC%EB%82%A0%EC%94%A8&from=20210126&to=20210408&period=diy)"
   ]
  },
  {
   "cell_type": "markdown",
   "metadata": {
    "id": "0BZRmzisS_rX"
   },
   "source": [
    "뉴스에서 '부동산' 언급된 횟수"
   ]
  },
  {
   "cell_type": "code",
   "execution_count": 85,
   "metadata": {
    "id": "KHPP7UMT2UxK"
   },
   "outputs": [],
   "source": [
    "realty=pd.read_csv('./data/부동산 뉴스 검색량.csv')[['date','부동산']]\n",
    "realty=realty.rename(columns={'date' : '일자','부동산' : '부동산_미디어지수'})\n",
    "realty['일자']=pd.to_datetime(realty['일자'],format='%Y%m%d')\n",
    "realty['일자']=realty['일자'].astype(str)\n",
    "data=pd.merge(data, realty, on='일자', how='left')\n",
    "value=data[['부동산_미디어지수']]\n",
    "value= pd.concat([pd.DataFrame({'부동산_미디어지수':[0]}),value], axis=0).reset_index(drop=True)\n",
    "data[['부동산_미디어지수']] = value[:1255]\n",
    "data.loc[0,'부동산_미디어지수']=realty.loc[0,'부동산_미디어지수']"
   ]
  },
  {
   "cell_type": "markdown",
   "metadata": {
    "id": "IAS1eLpXTGlz"
   },
   "source": [
    "뉴스에서 'LH' 언급된 횟수"
   ]
  },
  {
   "cell_type": "code",
   "execution_count": 86,
   "metadata": {
    "id": "LapRgTqiYzHU"
   },
   "outputs": [],
   "source": [
    "LH=pd.read_csv('./data/LH 뉴스 검색량.csv')[['date','LH']]\n",
    "LH=LH.rename(columns={'date' : '일자','LH' : 'LH_미디어지수'})\n",
    "LH['일자']=pd.to_datetime(LH['일자'],format='%Y%m%d')\n",
    "LH['일자']=LH['일자'].astype(str)\n",
    "data=pd.merge(data, LH, on='일자', how='left')\n",
    "value=data[['LH_미디어지수']]\n",
    "value= pd.concat([pd.DataFrame({'LH_미디어지수':[0]}),value], axis=0).reset_index(drop=True)\n",
    "data[['LH_미디어지수']] = value[:1255]\n",
    "data.loc[0,'LH_미디어지수']=LH.loc[0,'LH_미디어지수']"
   ]
  },
  {
   "cell_type": "markdown",
   "metadata": {
    "id": "aOF072l4TIZR"
   },
   "source": [
    "코로나 확진자 수 예측값"
   ]
  },
  {
   "cell_type": "code",
   "execution_count": 87,
   "metadata": {
    "id": "Tqeeql2ByzhV"
   },
   "outputs": [],
   "source": [
    "covid=pd.read_csv('./data/전세계 코로나 확진자 수.csv', encoding='cp949')\n",
    "covid_kor=covid.loc[covid.location=='South Korea'][['date','new_cases']]\n",
    "covid_kor=covid_kor.rename(columns={'date' : '일자','new_cases' : 'corona'})\n",
    "covid_kor['일자']= pd.to_datetime(covid_kor['일자'],format='%Y-%m-%d')\n",
    "covid_train=covid_kor.loc[covid_kor.일자 < '2021-01-27' ]\n",
    "covid_test=covid_kor.loc[(covid_kor.일자 >= '2021-01-27') & (covid_kor.일자 <= '2021-04-10') ]\n",
    "covid_pred=covid_test['일자']\n",
    "\n",
    "covid_train=covid_train.fillna(0)"
   ]
  },
  {
   "cell_type": "code",
   "execution_count": 68,
   "metadata": {
    "id": "91wCxa1v6N8_"
   },
   "outputs": [],
   "source": [
    "corona_pridiction=[]\n",
    "for i in range(len(covid_test)) :\n",
    "  covid_train=covid_kor.loc[ 87832 : 88203+ i, ['일자','corona'] ]\n",
    "  covid_train=covid_train.fillna(0)\n",
    "  #auto = auto_arima(covid_train['corona']).order\n",
    "  model = ARIMA(covid_train['corona'].values, order=(1,0,6)) #4191\n",
    "  fit_model = model.fit(trend='c', full_output=True, disp=True)\n",
    "  forcast = fit_model.forecast(steps=1)\n",
    "  corona_pridiction.append(forcast[0].tolist()[0])"
   ]
  },
  {
   "cell_type": "code",
   "execution_count": 88,
   "metadata": {
    "id": "iwNWRUco6N52"
   },
   "outputs": [],
   "source": [
    "covid_test['corona'] = corona_pridiction\n",
    "covid_train = covid_train.reset_index(drop=True)\n",
    "covid_test = covid_test.reset_index(drop=True)\n",
    "covid = pd.concat([covid_train, covid_test], axis=0 ,ignore_index=True).reset_index(drop=True)\n",
    "covid['일자'] = covid['일자'].astype('str')\n",
    "data = pd.merge(data, covid, how='left', on='일자')\n",
    "data['corona'] = data['corona'].fillna(0)\n",
    "data = data.reset_index(drop=True)"
   ]
  },
  {
   "cell_type": "markdown",
   "metadata": {
    "id": "2UPjwficTMIi"
   },
   "source": [
    "불쾌지수와 강수량\n",
    "\n",
    ": 불쾌지수 계산에 필요한 온도, 습도, 강수량은 전 날 예보를 통해 수기로 입력\n",
    "습도는 비가 올 경우 월 평균에서 +20%, 맑은 날일 경우 -20%로 예측\n",
    "\n",
    "(1월 평균 : 61.2, 2월 평균 : 62, 3월 평균 : 62, 4월 평균 : 61.7) "
   ]
  },
  {
   "cell_type": "code",
   "execution_count": 89,
   "metadata": {
    "id": "8DkEMD_3tNdo"
   },
   "outputs": [],
   "source": [
    "temp=pd.read_csv('./data/16년부터 21년까지 기온.csv', encoding='cp949')\n",
    "humid=pd.read_csv('./data/16년부터 21년까지 습도.csv', encoding='cp949')\n",
    "angry=[]\n",
    "for i in range(len(temp)):\n",
    "  t=temp.iloc[i,3]\n",
    "  rh=humid.iloc[i,3]\n",
    "  angindex=9/5*t-0.55*(1-rh/100)*(9/5*t-26)+32\n",
    "  angry.append(angindex)\n",
    "temp['불쾌지수']=angry\n",
    "temp=temp.rename(columns={'일시' : '일자'})\n",
    "data=pd.merge(data,temp.iloc[:,[2,9]], on='일자', how='left')\n",
    "\n",
    "\n",
    "rain=pd.read_csv('./data/16년부터 21년도 강수량.csv', encoding='cp949')\n",
    "rain=rain.rename(columns={'일시' : '일자', '강수량(mm)' : 'rain'})\n",
    "rain=rain.iloc[:,[2,3]]\n",
    "rain=rain.fillna(0)\n",
    "data=pd.merge(data,rain, on='일자', how='left')\n",
    "test_humid=data.loc[data['중식계'].isna(),'불쾌지수']\n",
    "data.loc[data['중식계'].isna(),'불쾌지수']=0\n",
    "data.loc[data['중식계'].isna(),'rain']=0"
   ]
  },
  {
   "cell_type": "code",
   "execution_count": 90,
   "metadata": {
    "id": "jCsQq3Z20ywF"
   },
   "outputs": [],
   "source": [
    "temp_test=pd.DataFrame({'temp':[5, 4.5, -2.5,9,0.5,0.5,4.5,3.5,1.5,1.5,4.5,9.5,2.5,-2,-1,3.5,14.5,4.5,5.5,7,8.5,6.5,5,8.5,11.5,8,9,10,9.5,10,10.5,13.5,10.5,11.5,11,8,9.5,10.5,13.5,14.5,15.5,14.5,13.5,13.5,16,16.5,13,14.5,14,11]})\n",
    "rain_test=pd.DataFrame({'rain':[0,0,0,17.5,0,0,0,0,0,0,0,0,0,0,0,0,0,0,0,5,5,20,0,12.5,0,0,0,0,0,25,0,5,0,0,0,0,0,0,0,0,0,0,0,1,0,0,0,0,0,0]})\n",
    "humid_test=pd.DataFrame({'humid':[63.1,63.1,43.1,82,42,62,62,62,42,42,42,62,62,62,62,42,42,42,62,82,82,82,42,82,62,42,62,42,62,82,62,82,42,42,42,42,42,42,42,42,42,42,42,61.7,61.7,41.7,61.7,41.7,41.7,41.7]})\n",
    "angry_test=[]\n",
    "for i in range(len(temp_test)):\n",
    "  t=temp_test.iloc[i,0]\n",
    "  rh=humid_test.iloc[i,0]\n",
    "  angindex=9/5*t-0.55*(1-rh/100)*(9/5*t-26)+32\n",
    "  angry_test.append(angindex)\n",
    "temp_test['불쾌지수']=angry_test\n",
    "data.loc[data['중식계'].isna(),'불쾌지수']=angry_test\n",
    "data.loc[data['중식계'].isna(),'rain']=np.array(rain_test['rain'])\n"
   ]
  },
  {
   "cell_type": "markdown",
   "metadata": {
    "id": "e7dOZ10EOwtI"
   },
   "source": [
    "### 변수 변환"
   ]
  },
  {
   "cell_type": "code",
   "execution_count": 91,
   "metadata": {
    "id": "9WofxDHnaF9n"
   },
   "outputs": [],
   "source": [
    "train = data.loc[~data['중식계'].isna(),]\n",
    "test = data.loc[data['중식계'].isna(),]"
   ]
  },
  {
   "cell_type": "code",
   "execution_count": 92,
   "metadata": {
    "id": "0HqaU-jTGBS6"
   },
   "outputs": [],
   "source": [
    "start_data=data\n",
    "start_trian=train"
   ]
  },
  {
   "cell_type": "code",
   "execution_count": 93,
   "metadata": {
    "id": "St0OpelUFm6x"
   },
   "outputs": [],
   "source": [
    "def scailing(x,xs) :\n",
    "  re=[]\n",
    "  ave=xs.mean()\n",
    "  sig=xs.std()\n",
    "  for i in range(len(x)) :\n",
    "    re.append((x.iloc[i]-ave)/sig)\n",
    "  return(re)"
   ]
  },
  {
   "cell_type": "code",
   "execution_count": 94,
   "metadata": {
    "id": "bReTC2hLZO_6"
   },
   "outputs": [],
   "source": [
    "def zerone(x) :\n",
    "  re=[]\n",
    "  for i in range(len(x)) :\n",
    "    if x[i]==0 : re.append(0) \n",
    "    else : re.append(1)\n",
    "  return(re)"
   ]
  },
  {
   "cell_type": "markdown",
   "metadata": {
    "id": "O_hXTguOTwIg"
   },
   "source": [
    "log 변환"
   ]
  },
  {
   "cell_type": "code",
   "execution_count": 95,
   "metadata": {
    "colab": {
     "base_uri": "https://localhost:8080/",
     "height": 282
    },
    "id": "5UmlrwGLwDSW",
    "outputId": "969c0468-bddc-4c54-cf47-e4ebee6b6ebb"
   },
   "outputs": [
    {
     "name": "stderr",
     "output_type": "stream",
     "text": [
      "findfont: Font family ['NanumBarunGothic'] not found. Falling back to DejaVu Sans.\n"
     ]
    },
    {
     "data": {
      "image/png": "[encoded data removed]",
      "text/plain": [
       "<Figure size 432x288 with 1 Axes>"
      ]
     },
     "metadata": {
      "needs_background": "light"
     },
     "output_type": "display_data"
    }
   ],
   "source": [
    "data['본사정원수']=scailing(data['본사정원수'],start_trian['본사정원수'])\n",
    "\n",
    "y=data['본사휴가자수']\n",
    "ylog=[]\n",
    "for i in range(len(y)) :\n",
    "  ylog.append(math.log(y.iloc[i]))\n",
    "data['본사휴가자수']=ylog\n",
    "data['본사휴가자수']=scailing(data['본사휴가자수'],start_trian['본사휴가자수'])\n",
    "data['본사출장자수']=scailing(data['본사출장자수'],start_trian['본사출장자수'])\n",
    "data['본사시간외근무명령서승인건수']=scailing(data['본사시간외근무명령서승인건수'],start_trian['본사시간외근무명령서승인건수'])\n",
    "\n",
    "y=data['부동산_미디어지수']\n",
    "ylog=[]\n",
    "for i in range(len(y)) :\n",
    "  ylog.append(math.log(y.iloc[i]))\n",
    "data['부동산_미디어지수']=ylog\n",
    "\n",
    "y=data['LH_미디어지수']\n",
    "ylog=[]\n",
    "for i in range(len(y)) :\n",
    "  ylog.append(math.log(y.iloc[i]))\n",
    "data['LH_미디어지수']=ylog\n",
    "data['LH_미디어지수'].hist()\n",
    "\n",
    "y=data['rain']\n",
    "ylog=[]\n",
    "for i in range(len(y)) :\n",
    "  ylog.append(math.log(y.iloc[i]+1))\n",
    "data['rain']=ylog\n",
    "data['rain'].hist()\n",
    "\n",
    "y=data['corona']\n",
    "ylog=[]\n",
    "for i in range(len(y)) :\n",
    "  ylog.append(math.log(y.iloc[i]+1))\n",
    "data['corona']=ylog\n"
   ]
  },
  {
   "cell_type": "markdown",
   "metadata": {
    "id": "87X30wCMT8Ta"
   },
   "source": [
    "Scaling - Standardization"
   ]
  },
  {
   "cell_type": "code",
   "execution_count": 96,
   "metadata": {
    "id": "Yl1RuRHKT3ap"
   },
   "outputs": [],
   "source": [
    "data['부동산_미디어지수']=scailing(data['부동산_미디어지수'],start_trian['부동산_미디어지수'])\n",
    "data['LH_미디어지수']=scailing(data['LH_미디어지수'],start_trian['LH_미디어지수'])\n",
    "data['불쾌지수']=scailing(data['불쾌지수'],start_trian['불쾌지수'])\n",
    "data['rain']=scailing(data['rain'],start_trian['rain'])\n",
    "data['corona']=scailing(data['corona'],start_trian['corona'])"
   ]
  },
  {
   "cell_type": "markdown",
   "metadata": {
    "id": "SLp3SbSRUNzh"
   },
   "source": [
    "zeroone"
   ]
  },
  {
   "cell_type": "code",
   "execution_count": 97,
   "metadata": {
    "id": "MAc1CJHbSCN-"
   },
   "outputs": [],
   "source": [
    "data['현본사소속재택근무자수']=zerone(data['현본사소속재택근무자수'])"
   ]
  },
  {
   "cell_type": "code",
   "execution_count": 98,
   "metadata": {
    "id": "LO_i9WT7drN_"
   },
   "outputs": [],
   "source": [
    "train = data.loc[~data['중식계'].isna(),]\n",
    "test = data.loc[data['중식계'].isna(),]\n",
    "train_Y_lunch = train.loc[:,'중식계']\n",
    "train_Y_dinner = train.loc[:,'석식계']\n",
    "train_X = train.drop(['중식계','석식계','일자','조식메뉴','중식메뉴','석식메뉴','Beef_Fork2', 'Chicken_Duck2', 'Seafood2', 'etc_Gredient2', 'Fried2', 'Basak_Fried2', 'Steamed2', 'Grilled2', 'etc_method2','Din_Beef_Fork2', 'Din_Chicken_Duck2', 'Din_Seafood2', 'Din_etc_Gredient2', 'Din_Fried2', 'Din_Basak_Fried2', 'Din_Steamed2', 'Din_Grilled2', 'Din_etc_method2'],axis=1)\n",
    "test_X = test.drop(['중식계','석식계','일자','조식메뉴','중식메뉴','석식메뉴','Beef_Fork2', 'Chicken_Duck2', 'Seafood2', 'etc_Gredient2', 'Fried2', 'Basak_Fried2', 'Steamed2', 'Grilled2', 'etc_method2','Din_Beef_Fork2', 'Din_Chicken_Duck2', 'Din_Seafood2', 'Din_etc_Gredient2', 'Din_Fried2', 'Din_Basak_Fried2', 'Din_Steamed2', 'Din_Grilled2', 'Din_etc_method2'],axis=1)"
   ]
  },
  {
   "cell_type": "markdown",
   "metadata": {
    "id": "gkjm9DllLhtj"
   },
   "source": [
    "# 시각화"
   ]
  },
  {
   "cell_type": "code",
   "execution_count": 99,
   "metadata": {
    "colab": {
     "base_uri": "https://localhost:8080/",
     "height": 283
    },
    "id": "OOK1YkY-Qu33",
    "outputId": "e775df12-c6b7-4cc6-eeeb-0af1ca74d0ab"
   },
   "outputs": [
    {
     "data": {
      "text/plain": [
       "<AxesSubplot:>"
      ]
     },
     "execution_count": 99,
     "metadata": {},
     "output_type": "execute_result"
    },
    {
     "data": {
      "image/png": "[encoded data removed]",
      "text/plain": [
       "<Figure size 432x288 with 1 Axes>"
      ]
     },
     "metadata": {
      "needs_background": "light"
     },
     "output_type": "display_data"
    }
   ],
   "source": [
    "train['중식계'].hist()"
   ]
  },
  {
   "cell_type": "code",
   "execution_count": 100,
   "metadata": {
    "colab": {
     "base_uri": "https://localhost:8080/",
     "height": 283
    },
    "id": "uR6_tHDNRgDG",
    "outputId": "b3fedd3d-493f-4dfd-c99b-276027c5a4ec"
   },
   "outputs": [
    {
     "data": {
      "text/plain": [
       "<AxesSubplot:>"
      ]
     },
     "execution_count": 100,
     "metadata": {},
     "output_type": "execute_result"
    },
    {
     "data": {
      "image/png": "[encoded data removed]",
      "text/plain": [
       "<Figure size 432x288 with 1 Axes>"
      ]
     },
     "metadata": {
      "needs_background": "light"
     },
     "output_type": "display_data"
    }
   ],
   "source": [
    "train['석식계'].hist()"
   ]
  },
  {
   "cell_type": "code",
   "execution_count": 102,
   "metadata": {
    "colab": {
     "base_uri": "https://localhost:8080/"
    },
    "id": "xzJZJlXQtQXE",
    "outputId": "3af7d16f-825b-4b9f-f460-0ad9bdea32d1"
   },
   "outputs": [
    {
     "name": "stdout",
     "output_type": "stream",
     "text": [
      "Collecting pygam\n",
      "  Downloading pygam-0.8.0-py2.py3-none-any.whl (1.8 MB)\n",
      "Collecting progressbar2\n",
      "  Downloading progressbar2-3.53.1-py2.py3-none-any.whl (25 kB)\n",
      "Requirement already satisfied: numpy in c:\\users\\maxk2\\anaconda3\\lib\\site-packages (from pygam) (1.20.1)\n",
      "Requirement already satisfied: future in c:\\users\\maxk2\\anaconda3\\lib\\site-packages (from pygam) (0.18.2)\n",
      "Requirement already satisfied: scipy in c:\\users\\maxk2\\anaconda3\\lib\\site-packages (from pygam) (1.6.2)\n",
      "Requirement already satisfied: six in c:\\users\\maxk2\\anaconda3\\lib\\site-packages (from progressbar2->pygam) (1.15.0)\n",
      "Collecting python-utils>=2.3.0\n",
      "  Downloading python_utils-2.5.6-py2.py3-none-any.whl (12 kB)\n",
      "Installing collected packages: python-utils, progressbar2, pygam\n",
      "Successfully installed progressbar2-3.53.1 pygam-0.8.0 python-utils-2.5.6\n"
     ]
    }
   ],
   "source": [
    "!pip install pygam\n",
    "from pygam import LinearGAM, s, f"
   ]
  },
  {
   "cell_type": "code",
   "execution_count": 104,
   "metadata": {
    "id": "s6Br13hXcq52"
   },
   "outputs": [],
   "source": [
    "gam = LinearGAM(s(0)).fit(train_X, train_Y_lunch) "
   ]
  },
  {
   "cell_type": "code",
   "execution_count": 105,
   "metadata": {
    "colab": {
     "base_uri": "https://localhost:8080/",
     "height": 280
    },
    "id": "8xhgZivpcq53",
    "outputId": "0951383d-5c26-426e-f40a-6addc4329633"
   },
   "outputs": [
    {
     "name": "stderr",
     "output_type": "stream",
     "text": [
      "findfont: Font family ['NanumBarunGothic'] not found. Falling back to DejaVu Sans.\n"
     ]
    },
    {
     "data": {
      "image/png": "[encoded data removed]",
      "text/plain": [
       "<Figure size 432x288 with 1 Axes>"
      ]
     },
     "metadata": {
      "needs_background": "light"
     },
     "output_type": "display_data"
    }
   ],
   "source": [
    "for i, term in enumerate(gam.terms):\n",
    "    if term.isintercept:\n",
    "        continue\n",
    "\n",
    "    XX = gam.generate_X_grid(term=i)\n",
    "    pdep, confi = gam.partial_dependence(term=i, X=XX, width=0.95)\n",
    "\n",
    "    plt.figure()\n",
    "    plt.plot(XX[:, term.feature], pdep)\n",
    "    plt.plot(XX[:, term.feature], confi, c='r', ls='--')\n",
    "    plt.title(repr(term))\n",
    "    plt.show()"
   ]
  },
  {
   "cell_type": "code",
   "execution_count": 106,
   "metadata": {
    "id": "oNeUN4lLci8G"
   },
   "outputs": [],
   "source": [
    "gam = LinearGAM(s(1)).fit(train_X, train_Y_lunch) "
   ]
  },
  {
   "cell_type": "code",
   "execution_count": 107,
   "metadata": {
    "colab": {
     "base_uri": "https://localhost:8080/",
     "height": 280
    },
    "id": "Ahl9jK0Uci8I",
    "outputId": "c74ab75d-1dfc-4632-8cbe-5e9c850f3604"
   },
   "outputs": [
    {
     "data": {
      "image/png": "[encoded data removed]",
      "text/plain": [
       "<Figure size 432x288 with 1 Axes>"
      ]
     },
     "metadata": {
      "needs_background": "light"
     },
     "output_type": "display_data"
    }
   ],
   "source": [
    "for i, term in enumerate(gam.terms):\n",
    "    if term.isintercept:\n",
    "        continue\n",
    "\n",
    "    XX = gam.generate_X_grid(term=i)\n",
    "    pdep, confi = gam.partial_dependence(term=i, X=XX, width=0.95)\n",
    "\n",
    "    plt.figure()\n",
    "    plt.plot(XX[:, term.feature], pdep)\n",
    "    plt.plot(XX[:, term.feature], confi, c='r', ls='--')\n",
    "    plt.title(repr(term))\n",
    "    plt.show()"
   ]
  },
  {
   "cell_type": "code",
   "execution_count": 108,
   "metadata": {
    "id": "ZBDH75YBchfx"
   },
   "outputs": [],
   "source": [
    "gam = LinearGAM(s(0)).fit(train_X, train_Y_dinner) "
   ]
  },
  {
   "cell_type": "code",
   "execution_count": 109,
   "metadata": {
    "colab": {
     "base_uri": "https://localhost:8080/",
     "height": 280
    },
    "id": "LRBtFjQFchgO",
    "outputId": "08b9c6b1-0a86-4984-c4d7-a88a71997ac1"
   },
   "outputs": [
    {
     "data": {
      "image/png": "[encoded data removed]",
      "text/plain": [
       "<Figure size 432x288 with 1 Axes>"
      ]
     },
     "metadata": {
      "needs_background": "light"
     },
     "output_type": "display_data"
    }
   ],
   "source": [
    "for i, term in enumerate(gam.terms):\n",
    "    if term.isintercept:\n",
    "        continue\n",
    "\n",
    "    XX = gam.generate_X_grid(term=i)\n",
    "    pdep, confi = gam.partial_dependence(term=i, X=XX, width=0.95)\n",
    "\n",
    "    plt.figure()\n",
    "    plt.plot(XX[:, term.feature], pdep)\n",
    "    plt.plot(XX[:, term.feature], confi, c='r', ls='--')\n",
    "    plt.title(repr(term))\n",
    "    plt.show()"
   ]
  },
  {
   "cell_type": "code",
   "execution_count": 110,
   "metadata": {
    "id": "hZtr2SF-rHjg"
   },
   "outputs": [],
   "source": [
    "gam = LinearGAM(s(1)).fit(train_X, train_Y_dinner) "
   ]
  },
  {
   "cell_type": "code",
   "execution_count": 111,
   "metadata": {
    "colab": {
     "base_uri": "https://localhost:8080/",
     "height": 280
    },
    "id": "la7tDVtrBI29",
    "outputId": "f50304ae-896b-4dcc-feda-62e95d4e6f9f"
   },
   "outputs": [
    {
     "data": {
      "image/png": "[encoded data removed]",
      "text/plain": [
       "<Figure size 432x288 with 1 Axes>"
      ]
     },
     "metadata": {
      "needs_background": "light"
     },
     "output_type": "display_data"
    }
   ],
   "source": [
    "for i, term in enumerate(gam.terms):\n",
    "    if term.isintercept:\n",
    "        continue\n",
    "\n",
    "    XX = gam.generate_X_grid(term=i)\n",
    "    pdep, confi = gam.partial_dependence(term=i, X=XX, width=0.95)\n",
    "\n",
    "    plt.figure()\n",
    "    plt.plot(XX[:, term.feature], pdep)\n",
    "    plt.plot(XX[:, term.feature], confi, c='r', ls='--')\n",
    "    plt.title(repr(term))\n",
    "    plt.show()"
   ]
  },
  {
   "cell_type": "code",
   "execution_count": 112,
   "metadata": {
    "colab": {
     "base_uri": "https://localhost:8080/",
     "height": 279
    },
    "id": "uz-OLNdyMklE",
    "outputId": "38853069-1236-406e-908c-a003d09a7447"
   },
   "outputs": [
    {
     "data": {
      "image/png": "[encoded data removed]",
      "text/plain": [
       "<Figure size 432x288 with 1 Axes>"
      ]
     },
     "metadata": {
      "needs_background": "light"
     },
     "output_type": "display_data"
    }
   ],
   "source": [
    "import matplotlib.pyplot as plt\n",
    "import seaborn as sns\n",
    "sns.boxplot(x=\"요일\", y=\"중식계\", data=train)\n",
    "plt.show()"
   ]
  },
  {
   "cell_type": "code",
   "execution_count": 113,
   "metadata": {
    "colab": {
     "base_uri": "https://localhost:8080/",
     "height": 279
    },
    "id": "RKaBnExyN9s1",
    "outputId": "660c275a-a566-4a08-be78-5cb3308761e9"
   },
   "outputs": [
    {
     "data": {
      "image/png": "[encoded data removed]",
      "text/plain": [
       "<Figure size 432x288 with 1 Axes>"
      ]
     },
     "metadata": {
      "needs_background": "light"
     },
     "output_type": "display_data"
    }
   ],
   "source": [
    "sns.boxplot(x=\"요일\", y=\"석식계\", data=train)\n",
    "plt.show()"
   ]
  },
  {
   "cell_type": "code",
   "execution_count": 114,
   "metadata": {
    "colab": {
     "base_uri": "https://localhost:8080/",
     "height": 1000
    },
    "id": "kr8H0j7ThNTo",
    "outputId": "bff16e84-d3a5-41cf-8284-45654ded6ed7"
   },
   "outputs": [
    {
     "data": {
      "text/html": [
       "<div>\n",
       "<style scoped>\n",
       "    .dataframe tbody tr th:only-of-type {\n",
       "        vertical-align: middle;\n",
       "    }\n",
       "\n",
       "    .dataframe tbody tr th {\n",
       "        vertical-align: top;\n",
       "    }\n",
       "\n",
       "    .dataframe thead th {\n",
       "        text-align: right;\n",
       "    }\n",
       "</style>\n",
       "<table border=\"1\" class=\"dataframe\">\n",
       "  <thead>\n",
       "    <tr style=\"text-align: right;\">\n",
       "      <th></th>\n",
       "      <th>중식계</th>\n",
       "      <th>석식계</th>\n",
       "    </tr>\n",
       "  </thead>\n",
       "  <tbody>\n",
       "    <tr>\n",
       "      <th>year</th>\n",
       "      <td>-0.078804</td>\n",
       "      <td>-0.194792</td>\n",
       "    </tr>\n",
       "    <tr>\n",
       "      <th>월</th>\n",
       "      <td>-0.154664</td>\n",
       "      <td>-0.127142</td>\n",
       "    </tr>\n",
       "    <tr>\n",
       "      <th>date</th>\n",
       "      <td>-0.097392</td>\n",
       "      <td>-0.185565</td>\n",
       "    </tr>\n",
       "    <tr>\n",
       "      <th>요일</th>\n",
       "      <td>-0.731563</td>\n",
       "      <td>-0.312112</td>\n",
       "    </tr>\n",
       "    <tr>\n",
       "      <th>본사정원수</th>\n",
       "      <td>-0.115529</td>\n",
       "      <td>-0.173852</td>\n",
       "    </tr>\n",
       "    <tr>\n",
       "      <th>본사휴가자수</th>\n",
       "      <td>-0.381265</td>\n",
       "      <td>-0.291379</td>\n",
       "    </tr>\n",
       "    <tr>\n",
       "      <th>본사출장자수</th>\n",
       "      <td>-0.512680</td>\n",
       "      <td>-0.188164</td>\n",
       "    </tr>\n",
       "    <tr>\n",
       "      <th>본사시간외근무명령서승인건수</th>\n",
       "      <td>0.535611</td>\n",
       "      <td>0.571168</td>\n",
       "    </tr>\n",
       "    <tr>\n",
       "      <th>현본사소속재택근무자수</th>\n",
       "      <td>0.000747</td>\n",
       "      <td>-0.111750</td>\n",
       "    </tr>\n",
       "    <tr>\n",
       "      <th>중식계</th>\n",
       "      <td>1.000000</td>\n",
       "      <td>0.508287</td>\n",
       "    </tr>\n",
       "    <tr>\n",
       "      <th>석식계</th>\n",
       "      <td>0.508287</td>\n",
       "      <td>1.000000</td>\n",
       "    </tr>\n",
       "    <tr>\n",
       "      <th>under</th>\n",
       "      <td>-0.201105</td>\n",
       "      <td>-0.285327</td>\n",
       "    </tr>\n",
       "    <tr>\n",
       "      <th>over</th>\n",
       "      <td>0.120967</td>\n",
       "      <td>0.110287</td>\n",
       "    </tr>\n",
       "    <tr>\n",
       "      <th>holiday</th>\n",
       "      <td>-0.099227</td>\n",
       "      <td>0.015038</td>\n",
       "    </tr>\n",
       "    <tr>\n",
       "      <th>vacation</th>\n",
       "      <td>-0.044751</td>\n",
       "      <td>0.075818</td>\n",
       "    </tr>\n",
       "    <tr>\n",
       "      <th>zerodinner</th>\n",
       "      <td>-0.037876</td>\n",
       "      <td>-0.616197</td>\n",
       "    </tr>\n",
       "    <tr>\n",
       "      <th>special_밥</th>\n",
       "      <td>-0.054265</td>\n",
       "      <td>0.003655</td>\n",
       "    </tr>\n",
       "    <tr>\n",
       "      <th>spicy</th>\n",
       "      <td>0.030499</td>\n",
       "      <td>0.019370</td>\n",
       "    </tr>\n",
       "    <tr>\n",
       "      <th>protein</th>\n",
       "      <td>0.027048</td>\n",
       "      <td>-0.006987</td>\n",
       "    </tr>\n",
       "    <tr>\n",
       "      <th>Beef_Fork1</th>\n",
       "      <td>0.158983</td>\n",
       "      <td>0.070151</td>\n",
       "    </tr>\n",
       "    <tr>\n",
       "      <th>Chicken_Duck1</th>\n",
       "      <td>-0.016745</td>\n",
       "      <td>-0.009990</td>\n",
       "    </tr>\n",
       "    <tr>\n",
       "      <th>Seafood1</th>\n",
       "      <td>-0.134868</td>\n",
       "      <td>-0.024404</td>\n",
       "    </tr>\n",
       "    <tr>\n",
       "      <th>etc_Gredient1</th>\n",
       "      <td>-0.042883</td>\n",
       "      <td>-0.123373</td>\n",
       "    </tr>\n",
       "    <tr>\n",
       "      <th>Fried1</th>\n",
       "      <td>0.287400</td>\n",
       "      <td>0.217961</td>\n",
       "    </tr>\n",
       "    <tr>\n",
       "      <th>Basak_Fried1</th>\n",
       "      <td>-0.133151</td>\n",
       "      <td>-0.206184</td>\n",
       "    </tr>\n",
       "    <tr>\n",
       "      <th>Steamed1</th>\n",
       "      <td>-0.137828</td>\n",
       "      <td>0.037381</td>\n",
       "    </tr>\n",
       "    <tr>\n",
       "      <th>Grilled1</th>\n",
       "      <td>-0.055829</td>\n",
       "      <td>-0.045438</td>\n",
       "    </tr>\n",
       "    <tr>\n",
       "      <th>etc_method1</th>\n",
       "      <td>-0.030864</td>\n",
       "      <td>-0.094716</td>\n",
       "    </tr>\n",
       "    <tr>\n",
       "      <th>Beef_Fork2</th>\n",
       "      <td>-0.040953</td>\n",
       "      <td>-0.028493</td>\n",
       "    </tr>\n",
       "    <tr>\n",
       "      <th>Chicken_Duck2</th>\n",
       "      <td>0.006631</td>\n",
       "      <td>-0.010312</td>\n",
       "    </tr>\n",
       "    <tr>\n",
       "      <th>Seafood2</th>\n",
       "      <td>0.025907</td>\n",
       "      <td>0.022637</td>\n",
       "    </tr>\n",
       "    <tr>\n",
       "      <th>etc_Gredient2</th>\n",
       "      <td>0.027460</td>\n",
       "      <td>0.020063</td>\n",
       "    </tr>\n",
       "    <tr>\n",
       "      <th>Fried2</th>\n",
       "      <td>-0.061868</td>\n",
       "      <td>-0.031319</td>\n",
       "    </tr>\n",
       "    <tr>\n",
       "      <th>Basak_Fried2</th>\n",
       "      <td>-0.028596</td>\n",
       "      <td>-0.016454</td>\n",
       "    </tr>\n",
       "    <tr>\n",
       "      <th>Steamed2</th>\n",
       "      <td>0.033876</td>\n",
       "      <td>0.000265</td>\n",
       "    </tr>\n",
       "    <tr>\n",
       "      <th>Grilled2</th>\n",
       "      <td>-0.047633</td>\n",
       "      <td>0.032851</td>\n",
       "    </tr>\n",
       "    <tr>\n",
       "      <th>etc_method2</th>\n",
       "      <td>0.059347</td>\n",
       "      <td>0.002942</td>\n",
       "    </tr>\n",
       "    <tr>\n",
       "      <th>Din_Beef_Fork1</th>\n",
       "      <td>-0.000511</td>\n",
       "      <td>0.088249</td>\n",
       "    </tr>\n",
       "    <tr>\n",
       "      <th>Din_Chicken_Duck1</th>\n",
       "      <td>0.011184</td>\n",
       "      <td>0.045367</td>\n",
       "    </tr>\n",
       "    <tr>\n",
       "      <th>Din_Seafood1</th>\n",
       "      <td>0.059201</td>\n",
       "      <td>0.049576</td>\n",
       "    </tr>\n",
       "    <tr>\n",
       "      <th>Din_etc_Gredient1</th>\n",
       "      <td>-0.046195</td>\n",
       "      <td>0.111445</td>\n",
       "    </tr>\n",
       "    <tr>\n",
       "      <th>Din_Fried1</th>\n",
       "      <td>0.022312</td>\n",
       "      <td>0.015031</td>\n",
       "    </tr>\n",
       "    <tr>\n",
       "      <th>Din_Basak_Fried1</th>\n",
       "      <td>-0.052622</td>\n",
       "      <td>0.088066</td>\n",
       "    </tr>\n",
       "    <tr>\n",
       "      <th>Din_Steamed1</th>\n",
       "      <td>0.050777</td>\n",
       "      <td>0.032056</td>\n",
       "    </tr>\n",
       "    <tr>\n",
       "      <th>Din_Grilled1</th>\n",
       "      <td>0.063046</td>\n",
       "      <td>0.048791</td>\n",
       "    </tr>\n",
       "    <tr>\n",
       "      <th>Din_etc_method1</th>\n",
       "      <td>-0.057214</td>\n",
       "      <td>0.110950</td>\n",
       "    </tr>\n",
       "    <tr>\n",
       "      <th>Din_Beef_Fork2</th>\n",
       "      <td>0.022982</td>\n",
       "      <td>0.059855</td>\n",
       "    </tr>\n",
       "    <tr>\n",
       "      <th>Din_Chicken_Duck2</th>\n",
       "      <td>-0.014646</td>\n",
       "      <td>0.029725</td>\n",
       "    </tr>\n",
       "    <tr>\n",
       "      <th>Din_Seafood2</th>\n",
       "      <td>0.021872</td>\n",
       "      <td>0.054074</td>\n",
       "    </tr>\n",
       "    <tr>\n",
       "      <th>Din_etc_Gredient2</th>\n",
       "      <td>-0.018976</td>\n",
       "      <td>0.122185</td>\n",
       "    </tr>\n",
       "    <tr>\n",
       "      <th>Din_Fried2</th>\n",
       "      <td>0.006170</td>\n",
       "      <td>0.029442</td>\n",
       "    </tr>\n",
       "    <tr>\n",
       "      <th>Din_Basak_Fried2</th>\n",
       "      <td>0.006118</td>\n",
       "      <td>0.081096</td>\n",
       "    </tr>\n",
       "    <tr>\n",
       "      <th>Din_Steamed2</th>\n",
       "      <td>0.010246</td>\n",
       "      <td>-0.020883</td>\n",
       "    </tr>\n",
       "    <tr>\n",
       "      <th>Din_Grilled2</th>\n",
       "      <td>0.017416</td>\n",
       "      <td>0.027428</td>\n",
       "    </tr>\n",
       "    <tr>\n",
       "      <th>Din_etc_method2</th>\n",
       "      <td>-0.010790</td>\n",
       "      <td>0.163605</td>\n",
       "    </tr>\n",
       "    <tr>\n",
       "      <th>부동산_미디어지수</th>\n",
       "      <td>-0.237330</td>\n",
       "      <td>-0.208897</td>\n",
       "    </tr>\n",
       "    <tr>\n",
       "      <th>LH_미디어지수</th>\n",
       "      <td>-0.348239</td>\n",
       "      <td>-0.165975</td>\n",
       "    </tr>\n",
       "    <tr>\n",
       "      <th>corona</th>\n",
       "      <td>0.037180</td>\n",
       "      <td>-0.093507</td>\n",
       "    </tr>\n",
       "    <tr>\n",
       "      <th>불쾌지수</th>\n",
       "      <td>-0.095374</td>\n",
       "      <td>0.007316</td>\n",
       "    </tr>\n",
       "    <tr>\n",
       "      <th>rain</th>\n",
       "      <td>0.086469</td>\n",
       "      <td>0.013534</td>\n",
       "    </tr>\n",
       "  </tbody>\n",
       "</table>\n",
       "</div>"
      ],
      "text/plain": [
       "                        중식계       석식계\n",
       "year              -0.078804 -0.194792\n",
       "월                 -0.154664 -0.127142\n",
       "date              -0.097392 -0.185565\n",
       "요일                -0.731563 -0.312112\n",
       "본사정원수             -0.115529 -0.173852\n",
       "본사휴가자수            -0.381265 -0.291379\n",
       "본사출장자수            -0.512680 -0.188164\n",
       "본사시간외근무명령서승인건수     0.535611  0.571168\n",
       "현본사소속재택근무자수        0.000747 -0.111750\n",
       "중식계                1.000000  0.508287\n",
       "석식계                0.508287  1.000000\n",
       "under             -0.201105 -0.285327\n",
       "over               0.120967  0.110287\n",
       "holiday           -0.099227  0.015038\n",
       "vacation          -0.044751  0.075818\n",
       "zerodinner        -0.037876 -0.616197\n",
       "special_밥         -0.054265  0.003655\n",
       "spicy              0.030499  0.019370\n",
       "protein            0.027048 -0.006987\n",
       "Beef_Fork1         0.158983  0.070151\n",
       "Chicken_Duck1     -0.016745 -0.009990\n",
       "Seafood1          -0.134868 -0.024404\n",
       "etc_Gredient1     -0.042883 -0.123373\n",
       "Fried1             0.287400  0.217961\n",
       "Basak_Fried1      -0.133151 -0.206184\n",
       "Steamed1          -0.137828  0.037381\n",
       "Grilled1          -0.055829 -0.045438\n",
       "etc_method1       -0.030864 -0.094716\n",
       "Beef_Fork2        -0.040953 -0.028493\n",
       "Chicken_Duck2      0.006631 -0.010312\n",
       "Seafood2           0.025907  0.022637\n",
       "etc_Gredient2      0.027460  0.020063\n",
       "Fried2            -0.061868 -0.031319\n",
       "Basak_Fried2      -0.028596 -0.016454\n",
       "Steamed2           0.033876  0.000265\n",
       "Grilled2          -0.047633  0.032851\n",
       "etc_method2        0.059347  0.002942\n",
       "Din_Beef_Fork1    -0.000511  0.088249\n",
       "Din_Chicken_Duck1  0.011184  0.045367\n",
       "Din_Seafood1       0.059201  0.049576\n",
       "Din_etc_Gredient1 -0.046195  0.111445\n",
       "Din_Fried1         0.022312  0.015031\n",
       "Din_Basak_Fried1  -0.052622  0.088066\n",
       "Din_Steamed1       0.050777  0.032056\n",
       "Din_Grilled1       0.063046  0.048791\n",
       "Din_etc_method1   -0.057214  0.110950\n",
       "Din_Beef_Fork2     0.022982  0.059855\n",
       "Din_Chicken_Duck2 -0.014646  0.029725\n",
       "Din_Seafood2       0.021872  0.054074\n",
       "Din_etc_Gredient2 -0.018976  0.122185\n",
       "Din_Fried2         0.006170  0.029442\n",
       "Din_Basak_Fried2   0.006118  0.081096\n",
       "Din_Steamed2       0.010246 -0.020883\n",
       "Din_Grilled2       0.017416  0.027428\n",
       "Din_etc_method2   -0.010790  0.163605\n",
       "부동산_미디어지수         -0.237330 -0.208897\n",
       "LH_미디어지수          -0.348239 -0.165975\n",
       "corona             0.037180 -0.093507\n",
       "불쾌지수              -0.095374  0.007316\n",
       "rain               0.086469  0.013534"
      ]
     },
     "execution_count": 114,
     "metadata": {},
     "output_type": "execute_result"
    }
   ],
   "source": [
    "train.corr()[['중식계','석식계']]"
   ]
  },
  {
   "cell_type": "markdown",
   "metadata": {
    "id": "jtQeN5qIqXRk"
   },
   "source": [
    "# GAM 모델1"
   ]
  },
  {
   "cell_type": "code",
   "execution_count": 117,
   "metadata": {
    "id": "HRjo2Mirt0ac"
   },
   "outputs": [],
   "source": [
    "data=data[['일자','요일', '본사정원수', '본사휴가자수', '본사출장자수', '본사시간외근무명령서승인건수', '현본사소속재택근무자수', '조식메뉴', '중식메뉴', '석식메뉴', '중식계', '석식계','부동산_미디어지수', 'LH_미디어지수', 'corona', 'under', 'over', 'holiday',\n",
    "       'vacation', 'zerodinner', '불쾌지수', 'rain', 'special_밥', 'spicy',\n",
    "       'protein', 'Beef_Fork1', 'Chicken_Duck1', 'Seafood1', 'etc_Gredient1',\n",
    "       'Fried1', 'Basak_Fried1', 'Steamed1', 'Grilled1', 'etc_method1',\n",
    "       'Beef_Fork2', 'Chicken_Duck2', 'Seafood2', 'etc_Gredient2', 'Fried2',\n",
    "       'Basak_Fried2', 'Steamed2', 'Grilled2', 'etc_method2', 'Din_Beef_Fork1',\n",
    "       'Din_Chicken_Duck1', 'Din_Seafood1', 'Din_etc_Gredient1', 'Din_Fried1',\n",
    "       'Din_Basak_Fried1', 'Din_Steamed1', 'Din_Grilled1', 'Din_etc_method1',\n",
    "       'Din_Beef_Fork2', 'Din_Chicken_Duck2', 'Din_Seafood2',\n",
    "       'Din_etc_Gredient2', 'Din_Fried2', 'Din_Basak_Fried2', 'Din_Steamed2',\n",
    "       'Din_Grilled2', 'Din_etc_method2','월', 'date','year']]"
   ]
  },
  {
   "cell_type": "code",
   "execution_count": 118,
   "metadata": {
    "id": "guAnAVQXuX5t"
   },
   "outputs": [],
   "source": [
    "train = data.loc[~data['중식계'].isna(),]\n",
    "test = data.loc[data['중식계'].isna(),]\n",
    "train_Y_lunch = train.loc[:,'중식계']\n",
    "train_Y_dinner = train.loc[:,'석식계']\n",
    "train_X = train.drop(['중식계','석식계','일자','조식메뉴','중식메뉴','석식메뉴','Beef_Fork2', 'Chicken_Duck2', 'Seafood2', 'etc_Gredient2', 'Fried2', 'Basak_Fried2', 'Steamed2', 'Grilled2', 'etc_method2','Din_Beef_Fork2', 'Din_Chicken_Duck2', 'Din_Seafood2', 'Din_etc_Gredient2', 'Din_Fried2', 'Din_Basak_Fried2', 'Din_Steamed2', 'Din_Grilled2', 'Din_etc_method2'],axis=1)\n",
    "test_X = test.drop(['중식계','석식계','일자','조식메뉴','중식메뉴','석식메뉴','Beef_Fork2', 'Chicken_Duck2', 'Seafood2', 'etc_Gredient2', 'Fried2', 'Basak_Fried2', 'Steamed2', 'Grilled2', 'etc_method2','Din_Beef_Fork2', 'Din_Chicken_Duck2', 'Din_Seafood2', 'Din_etc_Gredient2', 'Din_Fried2', 'Din_Basak_Fried2', 'Din_Steamed2', 'Din_Grilled2', 'Din_etc_method2'],axis=1)"
   ]
  },
  {
   "cell_type": "code",
   "execution_count": 120,
   "metadata": {
    "id": "A5ro4h1dMwyZ"
   },
   "outputs": [],
   "source": [
    "gam = LinearGAM(s(0) + s(1) + s(2) + s(3) + s(4) + s(5) + s(7)+s(11)+s(12)+s(15)+f(16)+s(37)+s(38)+f(39)).fit(train_X, train_Y_lunch) #+ s(8)"
   ]
  },
  {
   "cell_type": "code",
   "execution_count": 121,
   "metadata": {
    "colab": {
     "base_uri": "https://localhost:8080/"
    },
    "id": "kVmxdtdetAnI",
    "outputId": "dd3f591b-673e-4af5-c75c-5ac07b6644f1"
   },
   "outputs": [
    {
     "name": "stdout",
     "output_type": "stream",
     "text": [
      "LinearGAM                                                                                                 \n",
      "=============================================== ==========================================================\n",
      "Distribution:                        NormalDist Effective DoF:                                     117.858\n",
      "Link Function:                     IdentityLink Log Likelihood:                                -11708.2521\n",
      "Number of Samples:                         1205 AIC:                                              23654.22\n",
      "                                                AICc:                                           23680.4767\n",
      "                                                GCV:                                             8014.2594\n",
      "                                                Scale:                                           6616.9185\n",
      "                                                Pseudo R-Squared:                                   0.8639\n",
      "==========================================================================================================\n",
      "Feature Function                  Lambda               Rank         EDoF         P > x        Sig. Code   \n",
      "================================= ==================== ============ ============ ============ ============\n",
      "s(0)                              [0.6]                20           7.3          1.11e-16     ***         \n",
      "s(1)                              [0.6]                20           12.1         1.56e-13     ***         \n",
      "s(2)                              [0.6]                20           12.4         1.11e-16     ***         \n",
      "s(3)                              [0.6]                20           10.8         1.11e-16     ***         \n",
      "s(4)                              [0.6]                20           12.2         1.17e-10     ***         \n",
      "s(5)                              [0.6]                20           1.6          4.96e-01                 \n",
      "s(7)                              [0.6]                20           10.8         5.51e-05     ***         \n",
      "s(11)                             [0.6]                20           6.1          1.62e-06     ***         \n",
      "s(12)                             [0.6]                20           8.7          1.60e-07     ***         \n",
      "s(15)                             [0.6]                20           10.3         2.69e-05     ***         \n",
      "f(16)                             [0.6]                2            0.9          8.67e-01                 \n",
      "s(37)                             [0.6]                20           8.8          1.11e-16     ***         \n",
      "s(38)                             [0.6]                20           12.1         9.69e-01                 \n",
      "f(39)                             [0.6]                6            3.7          9.00e-03     **          \n",
      "intercept                                              1            0.0          1.11e-16     ***         \n",
      "==========================================================================================================\n",
      "Significance codes:  0 '***' 0.001 '**' 0.01 '*' 0.05 '.' 0.1 ' ' 1\n",
      "\n",
      "WARNING: Fitting splines and a linear function to a feature introduces a model identifiability problem\n",
      "         which can cause p-values to appear significant when they are not.\n",
      "\n",
      "WARNING: p-values calculated in this manner behave correctly for un-penalized models or models with\n",
      "         known smoothing parameters, but when smoothing parameters have been estimated, the p-values\n",
      "         are typically lower than they should be, meaning that the tests reject the null too readily.\n"
     ]
    }
   ],
   "source": [
    "gam.summary()"
   ]
  },
  {
   "cell_type": "code",
   "execution_count": 122,
   "metadata": {
    "id": "Vnjq075BzUyO"
   },
   "outputs": [],
   "source": [
    "lams=[0.6]*10"
   ]
  },
  {
   "cell_type": "code",
   "execution_count": 123,
   "metadata": {
    "id": "wPg2gK8fvhEb"
   },
   "outputs": [],
   "source": [
    "gam = LinearGAM(s(0) + s(1) + s(2) + s(3) + s(4)+s(11)+s(12)+s(15)+s(37)+f(39),lam=lams).fit(train_X, train_Y_lunch) # + s(8)"
   ]
  },
  {
   "cell_type": "code",
   "execution_count": 124,
   "metadata": {
    "colab": {
     "base_uri": "https://localhost:8080/"
    },
    "id": "sQUYAUmVvjBf",
    "outputId": "a4a3b013-7224-4f8a-eafd-0e8740685b6f"
   },
   "outputs": [
    {
     "name": "stdout",
     "output_type": "stream",
     "text": [
      "LinearGAM                                                                                                 \n",
      "=============================================== ==========================================================\n",
      "Distribution:                        NormalDist Effective DoF:                                     91.0152\n",
      "Link Function:                     IdentityLink Log Likelihood:                                -11732.8897\n",
      "Number of Samples:                         1205 AIC:                                            23649.8099\n",
      "                                                AICc:                                           23665.2037\n",
      "                                                GCV:                                             7807.3501\n",
      "                                                Scale:                                              6753.6\n",
      "                                                Pseudo R-Squared:                                   0.8576\n",
      "==========================================================================================================\n",
      "Feature Function                  Lambda               Rank         EDoF         P > x        Sig. Code   \n",
      "================================= ==================== ============ ============ ============ ============\n",
      "s(0)                              [0.6]                20           6.7          1.11e-16     ***         \n",
      "s(1)                              [0.6]                20           11.8         3.22e-15     ***         \n",
      "s(2)                              [0.6]                20           12.3         1.11e-16     ***         \n",
      "s(3)                              [0.6]                20           10.6         1.11e-16     ***         \n",
      "s(4)                              [0.6]                20           11.8         1.41e-12     ***         \n",
      "s(11)                             [0.6]                20           6.0          4.35e-07     ***         \n",
      "s(12)                             [0.6]                20           8.6          1.07e-09     ***         \n",
      "s(15)                             [0.6]                20           10.5         1.75e-05     ***         \n",
      "s(37)                             [0.6]                20           8.9          1.11e-16     ***         \n",
      "f(39)                             [0.6]                6            3.9          1.94e-04     ***         \n",
      "intercept                                              1            0.0          1.11e-16     ***         \n",
      "==========================================================================================================\n",
      "Significance codes:  0 '***' 0.001 '**' 0.01 '*' 0.05 '.' 0.1 ' ' 1\n",
      "\n",
      "WARNING: Fitting splines and a linear function to a feature introduces a model identifiability problem\n",
      "         which can cause p-values to appear significant when they are not.\n",
      "\n",
      "WARNING: p-values calculated in this manner behave correctly for un-penalized models or models with\n",
      "         known smoothing parameters, but when smoothing parameters have been estimated, the p-values\n",
      "         are typically lower than they should be, meaning that the tests reject the null too readily.\n"
     ]
    }
   ],
   "source": [
    "gam.summary()"
   ]
  },
  {
   "cell_type": "code",
   "execution_count": 125,
   "metadata": {
    "id": "9VycT4s2wQUa"
   },
   "outputs": [],
   "source": [
    "y_lunch=gam.predict(test_X)"
   ]
  },
  {
   "cell_type": "code",
   "execution_count": 126,
   "metadata": {
    "id": "Eo6UHImV2LWJ"
   },
   "outputs": [],
   "source": [
    "model_dinner = LinearGAM(s(0) + s(1) + s(2) + s(3) + s(4) +s(11)+s(12)+f(13)+s(37)+f(39)).fit(train_X, train_Y_dinner) #+ s(8)"
   ]
  },
  {
   "cell_type": "code",
   "execution_count": 127,
   "metadata": {
    "colab": {
     "base_uri": "https://localhost:8080/"
    },
    "id": "88aLdOFn6BS6",
    "outputId": "31d5193b-bd84-46c5-cb79-856ea9a94328"
   },
   "outputs": [
    {
     "name": "stdout",
     "output_type": "stream",
     "text": [
      "LinearGAM                                                                                                 \n",
      "=============================================== ==========================================================\n",
      "Distribution:                        NormalDist Effective DoF:                                     81.1693\n",
      "Link Function:                     IdentityLink Log Likelihood:                                -11031.1091\n",
      "Number of Samples:                         1205 AIC:                                            22226.5569\n",
      "                                                AICc:                                           22238.7405\n",
      "                                                GCV:                                             4288.7614\n",
      "                                                Scale:                                           3772.0927\n",
      "                                                Pseudo R-Squared:                                   0.8182\n",
      "==========================================================================================================\n",
      "Feature Function                  Lambda               Rank         EDoF         P > x        Sig. Code   \n",
      "================================= ==================== ============ ============ ============ ============\n",
      "s(0)                              [0.6]                20           6.6          8.99e-13     ***         \n",
      "s(1)                              [0.6]                20           11.7         2.32e-02     *           \n",
      "s(2)                              [0.6]                20           12.2         1.11e-16     ***         \n",
      "s(3)                              [0.6]                20           10.6         5.36e-11     ***         \n",
      "s(4)                              [0.6]                20           11.8         1.11e-16     ***         \n",
      "s(11)                             [0.6]                20           5.9          1.89e-01                 \n",
      "s(12)                             [0.6]                20           8.6          1.21e-08     ***         \n",
      "f(13)                             [0.6]                2            1.0          1.11e-16     ***         \n",
      "s(37)                             [0.6]                20           8.9          1.11e-16     ***         \n",
      "f(39)                             [0.6]                6            3.9          1.11e-16     ***         \n",
      "intercept                                              1            0.0          1.11e-16     ***         \n",
      "==========================================================================================================\n",
      "Significance codes:  0 '***' 0.001 '**' 0.01 '*' 0.05 '.' 0.1 ' ' 1\n",
      "\n",
      "WARNING: Fitting splines and a linear function to a feature introduces a model identifiability problem\n",
      "         which can cause p-values to appear significant when they are not.\n",
      "\n",
      "WARNING: p-values calculated in this manner behave correctly for un-penalized models or models with\n",
      "         known smoothing parameters, but when smoothing parameters have been estimated, the p-values\n",
      "         are typically lower than they should be, meaning that the tests reject the null too readily.\n"
     ]
    }
   ],
   "source": [
    "model_dinner.summary()"
   ]
  },
  {
   "cell_type": "code",
   "execution_count": 128,
   "metadata": {
    "id": "ZG0lbRbZ6Iow"
   },
   "outputs": [],
   "source": [
    "y_dinner=model_dinner.predict(test_X)"
   ]
  },
  {
   "cell_type": "code",
   "execution_count": 129,
   "metadata": {
    "id": "F5Grb_ZWZ4cp"
   },
   "outputs": [],
   "source": [
    "gam1 = pd.DataFrame({'중식계': y_lunch+26, '석식계':y_dinner+15})"
   ]
  },
  {
   "cell_type": "code",
   "execution_count": 130,
   "metadata": {
    "colab": {
     "base_uri": "https://localhost:8080/",
     "height": 282
    },
    "id": "CeeZ4SDDxjJL",
    "outputId": "81f1f4d7-9b50-4c6b-e829-fb59178c2af3"
   },
   "outputs": [
    {
     "data": {
      "text/plain": [
       "[<matplotlib.lines.Line2D at 0x24d2f469748>]"
      ]
     },
     "execution_count": 130,
     "metadata": {},
     "output_type": "execute_result"
    },
    {
     "data": {
      "image/png": "[encoded data removed]",
      "text/plain": [
       "<Figure size 432x288 with 1 Axes>"
      ]
     },
     "metadata": {
      "needs_background": "light"
     },
     "output_type": "display_data"
    }
   ],
   "source": [
    "plt.plot(range(len(gam1['중식계'])),gam1['중식계']) "
   ]
  },
  {
   "cell_type": "code",
   "execution_count": 131,
   "metadata": {
    "colab": {
     "base_uri": "https://localhost:8080/",
     "height": 282
    },
    "id": "0EK8vqQVx_Ot",
    "outputId": "26336a23-d0cf-4adb-a585-97bb800846a5"
   },
   "outputs": [
    {
     "data": {
      "text/plain": [
       "[<matplotlib.lines.Line2D at 0x24d2f37c888>]"
      ]
     },
     "execution_count": 131,
     "metadata": {},
     "output_type": "execute_result"
    },
    {
     "data": {
      "image/png": "[encoded data removed]",
      "text/plain": [
       "<Figure size 432x288 with 1 Axes>"
      ]
     },
     "metadata": {
      "needs_background": "light"
     },
     "output_type": "display_data"
    }
   ],
   "source": [
    "plt.plot(range(len(gam1['석식계'])),gam1['석식계'])"
   ]
  },
  {
   "cell_type": "markdown",
   "metadata": {
    "id": "NyJ6jH8dIF4q"
   },
   "source": [
    "# GAM 모델2 : Penalty 변동"
   ]
  },
  {
   "cell_type": "code",
   "execution_count": 132,
   "metadata": {
    "id": "Z4rEi0RHIN6O"
   },
   "outputs": [],
   "source": [
    "lams = [11] * 10 \n",
    "gam = LinearGAM(s(0) + s(1) + s(2) + s(3) + s(4) +s(11)+s(12)+s(15)+s(37)+f(39),lam=lams).fit(train_X, train_Y_lunch) #+ s(8)"
   ]
  },
  {
   "cell_type": "code",
   "execution_count": 133,
   "metadata": {
    "colab": {
     "base_uri": "https://localhost:8080/"
    },
    "id": "WdhKj-JSIN6P",
    "outputId": "575f7549-ab64-41f1-8acb-89bc07d5e35b"
   },
   "outputs": [
    {
     "name": "stdout",
     "output_type": "stream",
     "text": [
      "LinearGAM                                                                                                 \n",
      "=============================================== ==========================================================\n",
      "Distribution:                        NormalDist Effective DoF:                                     61.0189\n",
      "Link Function:                     IdentityLink Log Likelihood:                                -11786.1109\n",
      "Number of Samples:                         1205 AIC:                                            23696.2595\n",
      "                                                AICc:                                           23703.1044\n",
      "                                                GCV:                                             7762.7917\n",
      "                                                Scale:                                           7058.5796\n",
      "                                                Pseudo R-Squared:                                   0.8472\n",
      "==========================================================================================================\n",
      "Feature Function                  Lambda               Rank         EDoF         P > x        Sig. Code   \n",
      "================================= ==================== ============ ============ ============ ============\n",
      "s(0)                              [11]                 20           6.0          1.11e-16     ***         \n",
      "s(1)                              [11]                 20           9.0          3.33e-16     ***         \n",
      "s(2)                              [11]                 20           7.5          1.11e-16     ***         \n",
      "s(3)                              [11]                 20           6.3          1.11e-16     ***         \n",
      "s(4)                              [11]                 20           7.0          5.55e-16     ***         \n",
      "s(11)                             [11]                 20           4.8          8.05e-08     ***         \n",
      "s(12)                             [11]                 20           5.5          3.59e-11     ***         \n",
      "s(15)                             [11]                 20           6.0          1.13e-05     ***         \n",
      "s(37)                             [11]                 20           6.0          1.11e-16     ***         \n",
      "f(39)                             [11]                 6            2.8          8.68e-07     ***         \n",
      "intercept                                              1            0.0          1.11e-16     ***         \n",
      "==========================================================================================================\n",
      "Significance codes:  0 '***' 0.001 '**' 0.01 '*' 0.05 '.' 0.1 ' ' 1\n",
      "\n",
      "WARNING: Fitting splines and a linear function to a feature introduces a model identifiability problem\n",
      "         which can cause p-values to appear significant when they are not.\n",
      "\n",
      "WARNING: p-values calculated in this manner behave correctly for un-penalized models or models with\n",
      "         known smoothing parameters, but when smoothing parameters have been estimated, the p-values\n",
      "         are typically lower than they should be, meaning that the tests reject the null too readily.\n"
     ]
    }
   ],
   "source": [
    "gam.summary()"
   ]
  },
  {
   "cell_type": "code",
   "execution_count": 134,
   "metadata": {
    "id": "5x-SiSJgIN6Q"
   },
   "outputs": [],
   "source": [
    "y_lunch=gam.predict(test_X)"
   ]
  },
  {
   "cell_type": "code",
   "execution_count": 135,
   "metadata": {
    "id": "U39TwEiQIgBE"
   },
   "outputs": [],
   "source": [
    "lams = [1.5]*10"
   ]
  },
  {
   "cell_type": "code",
   "execution_count": 136,
   "metadata": {
    "colab": {
     "base_uri": "https://localhost:8080/"
    },
    "id": "kcWkimuyIgBG",
    "outputId": "da308a15-be01-4ed5-c5d5-5b9916dde8fc"
   },
   "outputs": [
    {
     "name": "stdout",
     "output_type": "stream",
     "text": [
      "LinearGAM                                                                                                 \n",
      "=============================================== ==========================================================\n",
      "Distribution:                        NormalDist Effective DoF:                                     73.8542\n",
      "Link Function:                     IdentityLink Log Likelihood:                                -11037.7984\n",
      "Number of Samples:                         1205 AIC:                                            22225.3052\n",
      "                                                AICc:                                           22235.3624\n",
      "                                                GCV:                                              4260.374\n",
      "                                                Scale:                                           3793.0905\n",
      "                                                Pseudo R-Squared:                                    0.816\n",
      "==========================================================================================================\n",
      "Feature Function                  Lambda               Rank         EDoF         P > x        Sig. Code   \n",
      "================================= ==================== ============ ============ ============ ============\n",
      "s(0)                              [1.5]                20           6.4          5.36e-13     ***         \n",
      "s(1)                              [1.5]                20           10.9         2.16e-02     *           \n",
      "s(2)                              [1.5]                20           10.7         1.11e-16     ***         \n",
      "s(3)                              [1.5]                20           9.2          4.85e-11     ***         \n",
      "s(4)                              [1.5]                20           10.2         1.11e-16     ***         \n",
      "s(11)                             [1.5]                20           5.7          1.85e-01                 \n",
      "s(12)                             [1.5]                20           7.8          7.82e-09     ***         \n",
      "f(13)                             [1.5]                2            1.0          1.11e-16     ***         \n",
      "s(37)                             [1.5]                20           8.3          1.11e-16     ***         \n",
      "f(39)                             [1.5]                6            3.7          1.11e-16     ***         \n",
      "intercept                                              1            0.0          1.11e-16     ***         \n",
      "==========================================================================================================\n",
      "Significance codes:  0 '***' 0.001 '**' 0.01 '*' 0.05 '.' 0.1 ' ' 1\n",
      "\n",
      "WARNING: Fitting splines and a linear function to a feature introduces a model identifiability problem\n",
      "         which can cause p-values to appear significant when they are not.\n",
      "\n",
      "WARNING: p-values calculated in this manner behave correctly for un-penalized models or models with\n",
      "         known smoothing parameters, but when smoothing parameters have been estimated, the p-values\n",
      "         are typically lower than they should be, meaning that the tests reject the null too readily.\n"
     ]
    }
   ],
   "source": [
    "model_dinner = LinearGAM(s(0) + s(1) + s(2) + s(3) + s(4) +s(11)+s(12)+f(13)+s(37)+f(39),lam=lams).fit(train_X, train_Y_dinner)#+ s(8)\n",
    "model_dinner.summary()"
   ]
  },
  {
   "cell_type": "code",
   "execution_count": 137,
   "metadata": {
    "id": "RWxVW9iUIgBH"
   },
   "outputs": [],
   "source": [
    "y_dinner=model_dinner.predict(test_X)"
   ]
  },
  {
   "cell_type": "code",
   "execution_count": 138,
   "metadata": {
    "id": "Yngoj_YSvopJ"
   },
   "outputs": [],
   "source": [
    "gam2= pd.DataFrame({'중식계':y_lunch+20, '석식계':y_dinner+10})"
   ]
  },
  {
   "cell_type": "code",
   "execution_count": 139,
   "metadata": {
    "colab": {
     "base_uri": "https://localhost:8080/",
     "height": 282
    },
    "id": "nxvgwqWfvopK",
    "outputId": "d408f475-aa47-45c2-8b01-bd848865b240"
   },
   "outputs": [
    {
     "data": {
      "text/plain": [
       "[<matplotlib.lines.Line2D at 0x24d2de3e2c8>]"
      ]
     },
     "execution_count": 139,
     "metadata": {},
     "output_type": "execute_result"
    },
    {
     "data": {
      "image/png": "[encoded data removed]",
      "text/plain": [
       "<Figure size 432x288 with 1 Axes>"
      ]
     },
     "metadata": {
      "needs_background": "light"
     },
     "output_type": "display_data"
    }
   ],
   "source": [
    "plt.plot(range(len(gam2['중식계'])),gam2['중식계'])"
   ]
  },
  {
   "cell_type": "code",
   "execution_count": 140,
   "metadata": {
    "colab": {
     "base_uri": "https://localhost:8080/",
     "height": 282
    },
    "id": "gDA1eoFtvopN",
    "outputId": "51507946-4135-4fc1-fb7c-243f1da9c03d"
   },
   "outputs": [
    {
     "data": {
      "text/plain": [
       "[<matplotlib.lines.Line2D at 0x24d2d9f1148>]"
      ]
     },
     "execution_count": 140,
     "metadata": {},
     "output_type": "execute_result"
    },
    {
     "data": {
      "image/png": "[encoded data removed]",
      "text/plain": [
       "<Figure size 432x288 with 1 Axes>"
      ]
     },
     "metadata": {
      "needs_background": "light"
     },
     "output_type": "display_data"
    }
   ],
   "source": [
    "plt.plot(range(len(gam2['석식계'])),gam2['석식계'])"
   ]
  },
  {
   "cell_type": "markdown",
   "metadata": {
    "id": "MvkDaU1nukj3"
   },
   "source": [
    "# Random Forest Model 1 - 메뉴 없이"
   ]
  },
  {
   "cell_type": "code",
   "execution_count": 141,
   "metadata": {
    "id": "_9lTE8dTvGRB"
   },
   "outputs": [],
   "source": [
    "from sklearn.datasets import load_wine\n",
    "from sklearn.model_selection import train_test_split\n",
    "from sklearn import ensemble\n",
    "from sklearn.metrics import mean_squared_error\n",
    "import pandas as pd\n",
    "from sklearn.ensemble import RandomForestRegressor\n",
    "import numpy as np\n",
    "import matplotlib.pyplot as plot"
   ]
  },
  {
   "cell_type": "code",
   "execution_count": 142,
   "metadata": {
    "id": "No_W3450uiJa"
   },
   "outputs": [],
   "source": [
    "data1 = data[['요일', '본사정원수', '본사휴가자수', '본사출장자수', '본사시간외근무명령서승인건수', '현본사소속재택근무자수', '월', '불쾌지수','부동산_미디어지수', 'LH_미디어지수', 'under', 'over', 'holiday', 'vacation', 'zerodinner','중식계','석식계','일자','rain']]"
   ]
  },
  {
   "cell_type": "code",
   "execution_count": 143,
   "metadata": {
    "id": "YUxcvNcsDisp"
   },
   "outputs": [],
   "source": [
    "train = data1.loc[~data1['중식계'].isna(),]\n",
    "test = data1.loc[data1['중식계'].isna(),]\n",
    "train_Y_lunch = train.loc[:,'중식계']\n",
    "train_Y_dinner = train.loc[:,'석식계']\n",
    "train_X = train.drop(['중식계','석식계','일자'],axis=1)\n",
    "\n",
    "test_X = test.drop(['중식계','석식계','일자'],axis=1)"
   ]
  },
  {
   "cell_type": "code",
   "execution_count": 144,
   "metadata": {
    "colab": {
     "base_uri": "https://localhost:8080/"
    },
    "id": "kCfoJGS6du6W",
    "outputId": "17f39a79-5db1-41af-97ae-775a76ea98b0"
   },
   "outputs": [
    {
     "data": {
      "text/plain": [
       "RandomForestRegressor(max_depth=7, n_estimators=110, random_state=535)"
      ]
     },
     "execution_count": 144,
     "metadata": {},
     "output_type": "execute_result"
    }
   ],
   "source": [
    "rf_model_lunch = RandomForestRegressor(random_state=535,n_estimators=110,max_depth=7)\n",
    "rf_model_lunch.fit(train_X, train_Y_lunch)"
   ]
  },
  {
   "cell_type": "markdown",
   "metadata": {},
   "source": [
    "예측구간에 식수인원의 증가로 인해 점심식수인원의 평균을 맞추기 위해 80을 추가함"
   ]
  },
  {
   "cell_type": "code",
   "execution_count": 145,
   "metadata": {
    "id": "UdIzhAyMdu-m"
   },
   "outputs": [],
   "source": [
    "rf_1_lunch = rf_model_lunch.predict(test_X)+80"
   ]
  },
  {
   "cell_type": "code",
   "execution_count": 146,
   "metadata": {
    "colab": {
     "base_uri": "https://localhost:8080/"
    },
    "id": "yCafv0lFdvBd",
    "outputId": "48796233-1ffd-46aa-cb80-a8c5f5728b01"
   },
   "outputs": [
    {
     "data": {
      "text/plain": [
       "RandomForestRegressor(random_state=665)"
      ]
     },
     "execution_count": 146,
     "metadata": {},
     "output_type": "execute_result"
    }
   ],
   "source": [
    "rf_model_dinner = RandomForestRegressor(random_state=665)\n",
    "rf_model_dinner.fit(train_X, train_Y_dinner)"
   ]
  },
  {
   "cell_type": "markdown",
   "metadata": {},
   "source": [
    "예측구간에 식수인원의 증가로 인해 저녁식수인원의 평균을 맞추기 위해 20을 추가함"
   ]
  },
  {
   "cell_type": "code",
   "execution_count": 147,
   "metadata": {
    "id": "BziT3mWHdvEi"
   },
   "outputs": [],
   "source": [
    "rf_1_dinner = rf_model_dinner.predict(test_X)+20"
   ]
  },
  {
   "cell_type": "code",
   "execution_count": 148,
   "metadata": {
    "id": "7Smtwem0vSHe"
   },
   "outputs": [],
   "source": [
    "rf1 = pd.DataFrame({'중식계':rf_1_lunch, '석식계':rf_1_dinner})"
   ]
  },
  {
   "cell_type": "markdown",
   "metadata": {
    "id": "_NewdvwTvAP6"
   },
   "source": [
    "# Random Forest model 2 - 메뉴포함"
   ]
  },
  {
   "cell_type": "code",
   "execution_count": 149,
   "metadata": {
    "id": "oTbYLm1qurkz"
   },
   "outputs": [],
   "source": [
    "data2 = data[['요일', '본사정원수', '본사휴가자수', '본사출장자수', '본사시간외근무명령서승인건수', '현본사소속재택근무자수', '월',\n",
    "       '부동산_미디어지수', 'LH_미디어지수', 'under', 'over', 'zerodinner','불쾌지수',\n",
    "       'special_밥', 'spicy', 'protein', 'Beef_Fork1', 'Chicken_Duck1',\n",
    "       'Seafood1', 'etc_Gredient1', 'Fried1', 'Basak_Fried1', 'Steamed1',\n",
    "       'Grilled1', 'etc_method1', 'Beef_Fork2', 'Chicken_Duck2', 'Seafood2',\n",
    "       'etc_Gredient2', 'Fried2', 'Basak_Fried2', 'Steamed2', 'Grilled2',\n",
    "       'etc_method2', 'Din_Beef_Fork1', 'Din_Chicken_Duck1', 'Din_Seafood1',\n",
    "       'Din_etc_Gredient1', 'Din_Fried1', 'Din_Basak_Fried1', 'Din_Steamed1',\n",
    "       'Din_Grilled1', 'Din_etc_method1', 'Din_Beef_Fork2',\n",
    "       'Din_Chicken_Duck2', 'Din_Seafood2', 'Din_etc_Gredient2', 'Din_Fried2',\n",
    "       'Din_Basak_Fried2', 'Din_Steamed2', 'Din_Grilled2', 'Din_etc_method2','중식계','석식계','일자','rain','corona']] #rain, "
   ]
  },
  {
   "cell_type": "code",
   "execution_count": 150,
   "metadata": {
    "id": "o_mvZzCCvKuV"
   },
   "outputs": [],
   "source": [
    "train = data2.loc[~data2['중식계'].isna(),]\n",
    "test = data2.loc[data2['중식계'].isna(),]\n",
    "train_Y_lunch = train.loc[:,'중식계']\n",
    "train_Y_dinner = train.loc[:,'석식계']\n",
    "train_X = train.drop(['중식계','석식계','일자'],axis=1)\n",
    "\n",
    "test_X = test.drop(['중식계','석식계','일자'],axis=1)"
   ]
  },
  {
   "cell_type": "code",
   "execution_count": 151,
   "metadata": {
    "colab": {
     "base_uri": "https://localhost:8080/"
    },
    "id": "DrBnbXb2vKuV",
    "outputId": "ab846d66-1ecc-4f87-f331-d3a6ab00e9d2"
   },
   "outputs": [
    {
     "data": {
      "text/plain": [
       "RandomForestRegressor(random_state=615)"
      ]
     },
     "execution_count": 151,
     "metadata": {},
     "output_type": "execute_result"
    }
   ],
   "source": [
    "rf_model_lunch = RandomForestRegressor(random_state=615)\n",
    "rf_model_lunch.fit(train_X, train_Y_lunch)"
   ]
  },
  {
   "cell_type": "markdown",
   "metadata": {},
   "source": [
    "예측구간에 식수인원의 증가로 인해 점심식수인원의 평균을 맞추기 위해 80을 추가함"
   ]
  },
  {
   "cell_type": "code",
   "execution_count": 152,
   "metadata": {
    "id": "liBqVEMLvKuW"
   },
   "outputs": [],
   "source": [
    "rf_2_lunch = rf_model_lunch.predict(test_X)+80"
   ]
  },
  {
   "cell_type": "code",
   "execution_count": 153,
   "metadata": {
    "colab": {
     "base_uri": "https://localhost:8080/"
    },
    "id": "EUcGH2knvKuW",
    "outputId": "ee4e776d-c651-49e9-9f58-3be4e8061274"
   },
   "outputs": [
    {
     "data": {
      "text/plain": [
       "RandomForestRegressor(random_state=405)"
      ]
     },
     "execution_count": 153,
     "metadata": {},
     "output_type": "execute_result"
    }
   ],
   "source": [
    "rf_model_dinner = RandomForestRegressor(random_state=405)\n",
    "rf_model_dinner.fit(train_X, train_Y_dinner)"
   ]
  },
  {
   "cell_type": "markdown",
   "metadata": {},
   "source": [
    "예측구간에 식수인원의 증가로 인해 저녁식수인원의 평균을 맞추기 위해 20을 추가함"
   ]
  },
  {
   "cell_type": "code",
   "execution_count": 154,
   "metadata": {
    "id": "TOt_VgnNvKuX"
   },
   "outputs": [],
   "source": [
    "rf_2_dinner = rf_model_dinner.predict(test_X)+20"
   ]
  },
  {
   "cell_type": "code",
   "execution_count": 155,
   "metadata": {
    "id": "kifmgYlNurmw"
   },
   "outputs": [],
   "source": [
    "rf2 = pd.DataFrame({'중식계':rf_2_lunch, '석식계':rf_2_dinner})"
   ]
  },
  {
   "cell_type": "markdown",
   "metadata": {
    "id": "_VbZPL_cvlJO"
   },
   "source": [
    "# 앙상블"
   ]
  },
  {
   "cell_type": "code",
   "execution_count": 156,
   "metadata": {
    "id": "-1g--8HZurtB"
   },
   "outputs": [],
   "source": [
    "lunch_final = (rf2['중식계']+gam1['중식계']+gam2['중식계'])/3\n",
    "dinner_final = (gam1['석식계']+gam2['석식계']+rf1['석식계']+rf2['석식계'])/4"
   ]
  },
  {
   "cell_type": "code",
   "execution_count": 157,
   "metadata": {
    "id": "TSxnTRKHvtsD"
   },
   "outputs": [],
   "source": [
    "submit = pd.DataFrame({'중식계':lunch_final, '석식계':dinner_final})"
   ]
  },
  {
   "cell_type": "code",
   "execution_count": 158,
   "metadata": {
    "id": "2EzKaiSkvzMr"
   },
   "outputs": [],
   "source": [
    "submit.to_csv(\"submission_file_가마우지.csv\")"
   ]
  },
  {
   "cell_type": "code",
   "execution_count": null,
   "metadata": {},
   "outputs": [],
   "source": []
  }
 ],
 "metadata": {
  "colab": {
   "collapsed_sections": [
    "e7dOZ10EOwtI",
    "jtQeN5qIqXRk",
    "NyJ6jH8dIF4q"
   ],
   "name": "시각화부터 데이터셋 정리까지.ipynb",
   "provenance": []
  },
  "kernelspec": {
   "display_name": "Python 3",
   "language": "python",
   "name": "python3"
  },
  "language_info": {
   "codemirror_mode": {
    "name": "ipython",
    "version": 3
   },
   "file_extension": ".py",
   "mimetype": "text/x-python",
   "name": "python",
   "nbconvert_exporter": "python",
   "pygments_lexer": "ipython3",
   "version": "3.8.5"
  }
 },
 "nbformat": 4,
 "nbformat_minor": 1
}
