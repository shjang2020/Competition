{
 "cells": [
  {
   "cell_type": "code",
   "execution_count": 2,
   "metadata": {},
   "outputs": [],
   "source": [
    "import pandas as pd\n",
    "import numpy as np\n",
    "import warnings\n",
    "warnings.filterwarnings('ignore')\n",
    "from konlpy.tag import Mecab\n",
    "from datetime import datetime, timedelta\n",
    "import matplotlib.pyplot as plt\n",
    "import seaborn as sns\n",
    "from tqdm.notebook import tqdm\n",
    "import re\n",
    "%matplotlib inline\n",
    "import matplotlib.font_manager as fm\n",
    "plt.rc('font', family=fm.FontProperties(fname=\"c:/Windows/Fonts/malgun.ttf\").get_name())"
   ]
  },
  {
   "cell_type": "code",
   "execution_count": 3,
   "metadata": {},
   "outputs": [],
   "source": [
    "train = pd.read_csv('train.csv')\n",
    "test = pd.read_csv('test.csv')\n",
    "submission = pd.read_csv('sample_submission.csv')"
   ]
  },
  {
   "cell_type": "markdown",
   "metadata": {},
   "source": [
    "### 메뉴를 이용한 정보"
   ]
  },
  {
   "cell_type": "code",
   "execution_count": 6,
   "metadata": {},
   "outputs": [],
   "source": [
    "#### 띄어쓰기 및 오타 수정\n",
    "train.at[1142, '중식메뉴'] = '쌀밥/곤드레밥/찰현미밥 된장찌개 돼지고추장불고기 버섯잡채 삼색물만두무침 겉절이김치/양념장 견과류샐러드*요거트D '\n",
    "train['중식메뉴'] = train['중식메뉴'].str.replace('삽겹', '삼겹')"
   ]
  },
  {
   "cell_type": "markdown",
   "metadata": {},
   "source": [
    "#### 공공데이터??"
   ]
  },
  {
   "cell_type": "markdown",
   "metadata": {},
   "source": [
    "http://koreanfood.rda.go.kr/kfi/mgnNewmealinfoMealquery/list#;\n",
    "직접 손으로 수작업"
   ]
  },
  {
   "cell_type": "code",
   "execution_count": 7,
   "metadata": {},
   "outputs": [],
   "source": [
    "recipe1 = pd.read_csv('레시피+기본정보_20210712.csv', encoding='cp949')\n",
    "recipe2 = pd.read_csv('레시피+재료정보_20210712.csv', encoding='cp949')\n",
    "\n",
    "category = pd.read_excel('대분류중분류.xlsx')"
   ]
  },
  {
   "cell_type": "code",
   "execution_count": 8,
   "metadata": {},
   "outputs": [],
   "source": [
    "recipe1 = recipe1.iloc[:, :-2]"
   ]
  },
  {
   "cell_type": "code",
   "execution_count": 11,
   "metadata": {},
   "outputs": [],
   "source": [
    "def get_food_embedding(x):\n",
    "    x_ = []\n",
    "    x = x.split(' ')\n",
    "    for i in x:\n",
    "        if '(' in i and ':' in i and ')' in i:\n",
    "            continue\n",
    "        elif '/' in i:\n",
    "            x_.extend(i.split('/'))\n",
    "        elif '*' in i:\n",
    "            x_.extend(i.split('*'))\n",
    "        else:\n",
    "            x_.append(i)\n",
    "    x_ = list(set(x_))\n",
    "    x_.remove('')\n",
    "    return x_"
   ]
  },
  {
   "cell_type": "code",
   "execution_count": 12,
   "metadata": {},
   "outputs": [],
   "source": [
    "train['조식메뉴_split'] = train['조식메뉴'].apply(lambda x: get_food_embedding(x))\n",
    "train['중식메뉴_split'] = train['중식메뉴'].apply(lambda x: get_food_embedding(x))\n",
    "train['석식메뉴_split'] = train['석식메뉴'].apply(lambda x: get_food_embedding(x))\n",
    "\n",
    "test['조식메뉴_split'] = test['조식메뉴'].apply(lambda x: get_food_embedding(x))\n",
    "test['중식메뉴_split'] = test['중식메뉴'].apply(lambda x: get_food_embedding(x))\n",
    "test['석식메뉴_split'] = test['석식메뉴'].apply(lambda x: get_food_embedding(x))"
   ]
  },
  {
   "cell_type": "code",
   "execution_count": 13,
   "metadata": {},
   "outputs": [],
   "source": [
    "regex = \"\\(.*\\)|\\s-\\s.*\"\n",
    "category['소분류'] = category['소분류'].apply(lambda x : re.sub(regex, '', x))"
   ]
  },
  {
   "cell_type": "markdown",
   "metadata": {},
   "source": [
    "#### 크게 종류를 나눔"
   ]
  },
  {
   "cell_type": "code",
   "execution_count": 14,
   "metadata": {},
   "outputs": [],
   "source": [
    "밥_list = list(category[category['대분류'] == '밥류']['소분류'])\n",
    "과자빵_list = list(category[category['대분류'] == '과자 및 빵류']['소분류'])\n",
    "면만두_list = list(category[category['대분류'] == '면 및 만두류']['소분류'])\n",
    "죽_list = list(category[category['대분류'] == '죽류']['소분류'])\n",
    "국_list = list(category[category['대분류'] == '국(탕)류']['소분류'])\n",
    "찌개_list = list(category[category['대분류'] == '찌개류']['소분류'])\n",
    "찜_list = list(category[category['대분류'] == '찜류']['소분류'])\n",
    "구이_list = list(category[category['대분류'] == '구이류']['소분류'])\n",
    "전_list = list(category[category['대분류'] == '전류']['소분류'])\n",
    "볶음_list = list(category[category['대분류'] == '볶음류']['소분류'])\n",
    "조림_list = list(category[category['대분류'] == '조림류']['소분류'])\n",
    "튀김_list = list(category[category['대분류'] == '튀김류']['소분류'])\n",
    "무침_list = list(category[category['대분류'] == '무침류']['소분류'])\n",
    "김치_list = list(category[category['대분류'] == '김치류']['소분류'])\n",
    "회_list = list(category[category['대분류'] == '회류']['소분류'])\n",
    "젓갈_list = list(category[category['대분류'] == '젓갈류']['소분류'])\n",
    "절임_list = list(category[category['대분류'] == '절임류']['소분류'])\n",
    "장_list = list(category[category['대분류'] == '장류']['소분류'])\n",
    "우유_list = list(category[category['대분류'] == '우유 및 유제품류']['소분류'])\n",
    "음료_list = list(category[category['대분류'] == '음료류']['소분류'])\n",
    "떡_list = list(category[category['대분류'] == '떡류']['소분류'])\n",
    "원재료_list = list(category[category['대분류'] == '원재료']['소분류'])\n",
    "주류_list = list(category[category['대분류'] == '주류']['소분류'])"
   ]
  },
  {
   "cell_type": "code",
   "execution_count": null,
   "metadata": {},
   "outputs": [],
   "source": []
  },
  {
   "cell_type": "code",
   "execution_count": 15,
   "metadata": {},
   "outputs": [],
   "source": [
    "num=[]\n",
    "for t in range(train.shape[0]):\n",
    "    for i in range(len(train['중식메뉴_split'][t])):\n",
    "        token = train['중식메뉴_split'][t][i]\n",
    "        if  token.endswith('주') or token in 주류_list:\n",
    "            print(token)\n",
    "            num.append(token)"
   ]
  },
  {
   "cell_type": "code",
   "execution_count": 16,
   "metadata": {},
   "outputs": [],
   "source": [
    "num=pd.DataFrame(num)\n",
    "num=pd.DataFrame(num.value_counts().index.values)\n",
    "num=pd.DataFrame(num[0].apply(lambda x: x[0]))"
   ]
  },
  {
   "cell_type": "markdown",
   "metadata": {},
   "source": [
    "#### 일반적으로 인기가 많은 메뉴, 자주 나오지 않는 메뉴 등은 가중치를 크게 해줌"
   ]
  },
  {
   "cell_type": "code",
   "execution_count": 18,
   "metadata": {},
   "outputs": [],
   "source": [
    "def get_Dae(data, col) :\n",
    "    \n",
    "    recipe_df = pd.DataFrame(np.zeros((data.shape[0], 25)), \n",
    "                          columns = ['밥류', '과자 및 빵류', '면 및 만두류', '죽류', '국(탕)류', '찌개류', '찜류', '구이류',\n",
    "       '전류', '볶음류', '조림류', '튀김류', '무침류', '김치류', '회류', '젓갈류', '절임류', '장류',\n",
    "       '우유 및 유제품류', '음료류', '떡류', '원재료', '주류', '드레싱류', '조리_기타'])\n",
    "\n",
    "    for t in range(data.shape[0]):\n",
    "        for i in range(len(data[col][t])):\n",
    "            token = data[col][t][i]\n",
    "            if '덮밥' in token or '비빔밥' in token or '볶음밥' in token:\n",
    "                recipe_df.at[t,'밥류'] +=3\n",
    "            elif  token.endswith('밥') or '밥' in token or token in 밥_list:\n",
    "                recipe_df.at[t, '밥류'] += 1 \n",
    "                \n",
    "            elif token.endswith('과자') or token in 과자빵_list:\n",
    "                recipe_df.at[t, '과자 및 빵류'] += 3\n",
    "                \n",
    "            elif token.endswith('면') or token.endswith('만두') or '면' in token or '만두' in token or token in 면만두_list:\n",
    "                recipe_df.at[t, '면 및 만두류'] += 4\n",
    "                \n",
    "            elif token.endswith('죽') or token in 죽_list or '죽' in token:\n",
    "                recipe_df.at[t, '죽류'] += 2\n",
    "                \n",
    "            elif token.endswith('구이') or token in 구이_list or '구이' in token or token.endswith('데리야끼') or token.endswith('립') or\\\n",
    "                '함박' in token or '그라탕' in token or token.endswith('갈비') or '주물럭' in token or '스테이크' in token or token.endswith('구이') or '불고기' in token or '구이' in token:\n",
    "                recipe_df.at[t, '구이류'] += 5\n",
    "                \n",
    "            elif token.endswith('국') or token.endswith('탕') or token in 국_list:\n",
    "                if '만두' in token or '해물' in token or '도토리묵' in token or '냉국' in token or '사골' in token or '고기' in token or '해장' in token or token=='육개장'  or '수제비' in token or '옹심이' in token or '삼계탕' in token or '닭볶' in token or '전복' in token or '나주곰탕' in token or '감자탕' in token or '갈비' in token or '등뼈탕' in token or '들깨' in token or '홍합' in token or '새우' in token:\n",
    "                    recipe_df.at[t, '국(탕)류'] += 4\n",
    "                else:\n",
    "                    recipe_df.at[t, '국(탕)류'] += 2\n",
    "                    \n",
    "            elif token.endswith('찌개') or token in 찌개_list:\n",
    "                if '차돌' in token or '갈비' in token or '고기' in token or '돼지' in token: \n",
    "                    recipe_df.at[t, '찌개류'] += 4\n",
    "                else:\n",
    "                    recipe_df.at[t, '찌개류'] += 2\n",
    "                \n",
    "            elif token.endswith('찜') or token in 찜_list or '찜' in token or '보쌈' in token or '수육' in token or '김치말이' in token:\n",
    "                if '브로컬리들깨찜' in token or  '꽈리고추찜' in token or  '깻잎찜' in token or  '가지찜' in token or  '청경채찜' in token or '호박잎쌈' in token:\n",
    "                    recipe_df.at[t, '찜류'] += 2\n",
    "                else:\n",
    "                    recipe_df.at[t, '찜류'] += 4\n",
    "                \n",
    "            elif token.endswith('전') or token in 전_list or '전병' in token:\n",
    "                recipe_df.at[t, '전류'] += 3\n",
    "                \n",
    "            elif token.endswith('볶음') or token in 볶음_list or '볶음' in token or token == '깐풍연근' or \\\n",
    "                '고추잡채' in token or '궁보계정' in token or '산슬' in token or token.endswith('잡채') or '마파두부' in token or '두루치기' in token or '닭갈비' in token:\n",
    "                if '미역줄기볶음' in token or '마늘쫑볶음' in token or '카레감자채볶음' in token or '모둠버섯볶음' in token or '고구마순볶음' in token or '콩나물볶음' in token or '버섯볶음' in token or '멸치' in token or '가지볶음' in token or '애기새송이버섯볶음' in token or '파프리카감자채볶음' in token or '호박새우젓볶음' in token or '청경채새송이볶음' in token or '오이볶음' in token or '호박채나물볶음' in token or '도라지볶음' in token or '도라지나물볶음' in token or '고춧잎볶음' in token or '고구마줄기볶음' in token or '감자볶음' in token or '새송이버섯볶음' in token or '가지볶음' in token or '브로콜리버섯볶음' in token or '명엽채볶음' in token or '매운호박볶음' in token or '머위대들깨볶음' in token or '멸치볶음' in token:\n",
    "                    recipe_df.at[t, '볶음류'] += 1\n",
    "                else:\n",
    "                    recipe_df.at[t, '볶음류'] += 3\n",
    "                \n",
    "            elif token.endswith('조림') or token in 조림_list or '조림' in token or '오향장육' in token or '동파육' in token:\n",
    "                if '땅콩조림' in token or '연근조림' in token or '견과류조림' in token or '연근땅콩조림' in token or '새송이버섯조림' in token or '우엉조림' in token or '시래기조림' in token or '검정콩조림' in token or '꽈리고추어묵조림' in token or '단호박장조림' in token or '감자조림' in token or '견과류연근조림' in token or '고추장감자조림' in token or '꽈리고추감자조림' in token or '콩조림' in token:\n",
    "                    recipe_df.at[t, '조림류'] += 1\n",
    "                else:\n",
    "                    recipe_df.at[t, '조림류'] += 3\n",
    "            elif token.endswith('튀김') or token.endswith('치킨') or token.endswith('탕수육') or '치킨' in token or '탕수' in token or token in 튀김_list or\\\n",
    "                '튀김' in token or '통닭' in token or token.endswith('새우') or '강정' in token or '미트볼' in token or '프리타타' in token or '카츠' in token or '깐풍' in token or\\\n",
    "                token.endswith('고로케') or '유린기' in token or '탕수' in token or token.endswith('닭') or '너겟' in token or\\\n",
    "                token.endswith('강정') or '가스' in token or '까스' in token or '핑거' in token or '텐더' in token or '커틀렛' in token or '커틀릿' in token:\n",
    "                recipe_df.at[t, '튀김류'] += 5\n",
    "                \n",
    "            elif token.endswith('무침') or token in 무침_list or '무침' in token or '파채' in token or token.endswith('샐러드') or '양장피' in token\\\n",
    "            or '범벅' in token or token.endswith('채'):\n",
    "                recipe_df.at[t, '무침류'] += 1\n",
    "                \n",
    "            elif token.endswith('김치') or token in 김치_list or '겉절이' in token:\n",
    "                recipe_df.at[t, '김치류'] += 1\n",
    "                \n",
    "            elif token.endswith('회') or token in 회_list:\n",
    "                recipe_df.at[t, '회류'] += 1\n",
    "                \n",
    "            elif token.endswith('젓갈') or token in 젓갈_list or '젓갈' in token:\n",
    "                recipe_df.at[t, '젓갈류'] += 1\n",
    "                \n",
    "            elif token.endswith('절임') or token in 절임_list or '절임' in token:\n",
    "                recipe_df.at[t, '절임류'] += 1\n",
    "                \n",
    "            elif token.endswith('장') or token in 장_list:\n",
    "                recipe_df.at[t, '장류'] += 1\n",
    "                \n",
    "            elif token.endswith('우유') or token in 우유_list:\n",
    "                recipe_df.at[t, '우유 및 유제품류'] += 1\n",
    "                \n",
    "            elif token.endswith('음료') or token in 음료_list or '요구르트' in token:\n",
    "                recipe_df.at[t, '음료류'] += 1\n",
    "                \n",
    "            elif token.endswith('떡') or token in 떡_list:\n",
    "                recipe_df.at[t, '떡류'] += 2\n",
    "                \n",
    "            elif token in 원재료_list or token == '연두부' or token.endswith('김') or '생' in token or token.endswith('쌈'):\n",
    "                recipe_df.at[t, '원재료'] += 1\n",
    "                \n",
    "            elif token.endswith('주') or token in 주류_list:\n",
    "                recipe_df.at[t, '주류'] += 1\n",
    "                \n",
    "            elif token.endswith('드레싱') or 'D' in token or '소스' in token:\n",
    "                recipe_df.at[t, '드레싱류'] += 1\n",
    "                \n",
    "            else :\n",
    "                recipe_df.at[t, '조리_기타'] += 1\n",
    "            \n",
    "    return recipe_df"
   ]
  },
  {
   "cell_type": "code",
   "execution_count": 19,
   "metadata": {},
   "outputs": [],
   "source": [
    "train_조식=get_Dae(train, '조식메뉴_split')\n",
    "train_중식=get_Dae(train, '중식메뉴_split')\n",
    "train_석식=get_Dae(train, '석식메뉴_split')"
   ]
  },
  {
   "cell_type": "code",
   "execution_count": 20,
   "metadata": {},
   "outputs": [],
   "source": [
    "test_조식=get_Dae(test, '조식메뉴_split')\n",
    "test_중식=get_Dae(test, '중식메뉴_split')\n",
    "test_석식=get_Dae(test, '석식메뉴_split')"
   ]
  },
  {
   "cell_type": "markdown",
   "metadata": {},
   "source": [
    "#### 가중치가 각각 다르기 때문에 그 날의 식단의 점수를 합한 총점수 열을 만들어 줌"
   ]
  },
  {
   "cell_type": "code",
   "execution_count": 21,
   "metadata": {},
   "outputs": [],
   "source": [
    "train_조식['조식점수']=train_조식.sum(axis=1)\n",
    "train_중식['중식점수']=train_중식.sum(axis=1)\n",
    "train_석식['석식점수']=train_석식.sum(axis=1)\n",
    "test_조식['조식점수']=test_조식.sum(axis=1)\n",
    "test_중식['중식점수']=test_중식.sum(axis=1)\n",
    "test_석식['석식점수']=test_석식.sum(axis=1)"
   ]
  },
  {
   "cell_type": "markdown",
   "metadata": {},
   "source": [
    "***"
   ]
  },
  {
   "cell_type": "markdown",
   "metadata": {},
   "source": [
    "#### 날짜를 이용한 열"
   ]
  },
  {
   "cell_type": "code",
   "execution_count": 22,
   "metadata": {},
   "outputs": [],
   "source": [
    "train['일자'] = pd.to_datetime(train['일자'])\n",
    "train['년'] = train['일자'].dt.year\n",
    "train['월'] = train['일자'].dt.month\n",
    "train['일'] = train['일자'].dt.day\n",
    "train['주'] = train['일자'].dt.week\n",
    "train['요일'] = train['일자'].dt.weekday\n",
    "\n",
    "test['일자'] = pd.to_datetime(test['일자'])\n",
    "test['년'] = test['일자'].dt.year\n",
    "test['월'] = test['일자'].dt.month\n",
    "test['일'] = test['일자'].dt.day\n",
    "test['주'] = test['일자'].dt.week\n",
    "test['요일'] = test['일자'].dt.weekday"
   ]
  },
  {
   "cell_type": "markdown",
   "metadata": {},
   "source": [
    "#### 출근인원 및 휴가, 출장, 야근, 재택의 비율을 구한 열"
   ]
  },
  {
   "cell_type": "code",
   "execution_count": 23,
   "metadata": {},
   "outputs": [],
   "source": [
    "train['출근'] = train['본사정원수']-(train['본사휴가자수']+train['본사출장자수']+train['현본사소속재택근무자수'])\n",
    "\n",
    "train['휴가비율'] = train['본사휴가자수']/train['본사정원수']\n",
    "train['출장비율'] = train['본사출장자수']/train['본사정원수']\n",
    "train['야근비율'] = train['본사시간외근무명령서승인건수']/train['출근']\n",
    "train['재택비율'] = train['현본사소속재택근무자수']/train['본사정원수']\n",
    "\n",
    "test['출근'] = test['본사정원수']-(test['본사휴가자수']+test['본사출장자수']+test['현본사소속재택근무자수'])\n",
    "\n",
    "test['휴가비율'] = test['본사휴가자수']/test['본사정원수']\n",
    "test['출장비율'] = test['본사출장자수']/test['본사정원수']\n",
    "test['야근비율'] = test['본사시간외근무명령서승인건수']/test['출근']\n",
    "test['재택비율'] = test['현본사소속재택근무자수']/test['본사정원수']"
   ]
  },
  {
   "cell_type": "markdown",
   "metadata": {},
   "source": [
    "#### 계절"
   ]
  },
  {
   "cell_type": "code",
   "execution_count": 24,
   "metadata": {},
   "outputs": [],
   "source": [
    "def f1(x):\n",
    "    if 3 <= x <= 5 :\n",
    "        return('봄')\n",
    "    elif 6 <= x <= 8 :\n",
    "        return('여름')\n",
    "    elif 9 <= x <= 11 :\n",
    "        return('가을')\n",
    "    else :\n",
    "        return('겨울')"
   ]
  },
  {
   "cell_type": "code",
   "execution_count": 25,
   "metadata": {},
   "outputs": [],
   "source": [
    "train['계절']=train.월.apply(f1)\n",
    "test['계절']=test.월.apply(f1)"
   ]
  },
  {
   "cell_type": "markdown",
   "metadata": {},
   "source": [
    "#### 연도 별 [재택, 야근, 출장, 휴가 수]  (평균, 최댓값, 최솟값)"
   ]
  },
  {
   "cell_type": "code",
   "execution_count": 26,
   "metadata": {},
   "outputs": [],
   "source": [
    "train=pd.merge(train, train.groupby('년')['현본사소속재택근무자수'].agg([('재택근무자_년평균','mean'),('재택근무자_년최대','max'),('재택근무자_년최소','min')]).reset_index(), how='left',on='년')\n",
    "test=pd.merge(test, test.groupby('년')['현본사소속재택근무자수'].agg([('재택근무자_년평균','mean'),('재택근무자_년최대','max'),('재택근무자_년최소','min')]).reset_index(), how='left',on='년')\n",
    "\n",
    "train=pd.merge(train, train.groupby('년')['본사시간외근무명령서승인건수'].agg([('야간근무자_년평균','mean'),('야간근무자_년최대','max'),('야간근무자_년최소','min')]).reset_index(), how='left',on='년')\n",
    "test=pd.merge(test, test.groupby('년')['본사시간외근무명령서승인건수'].agg([('야간근무자_년평균','mean'),('야간근무자_년최대','max'),('야간근무자_년최소','min')]).reset_index(), how='left',on='년')\n",
    "\n",
    "train=pd.merge(train, train.groupby('년')['본사출장자수'].agg([('출장근무자_년평균','mean'),('출장근무자_년최대','max'),('출장근무자_년최소','min')]).reset_index(), how='left',on='년')\n",
    "test=pd.merge(test, test.groupby('년')['본사출장자수'].agg([('출장근무자_년평균','mean'),('출장근무자_년최대','max'),('출장근무자_년최소','min')]).reset_index(), how='left',on='년')\n",
    "\n",
    "train=pd.merge(train, train.groupby('년')['본사휴가자수'].agg([('휴가자_년평균','mean'),('휴가자_년최대','max'),('휴가자_년최소','min')]).reset_index(), how='left',on='년')\n",
    "test=pd.merge(test, test.groupby('년')['본사휴가자수'].agg([('휴가자_년평균','mean'),('휴가자_년최대','max'),('휴가자_년최소','min')]).reset_index(), how='left',on='년')"
   ]
  },
  {
   "cell_type": "markdown",
   "metadata": {},
   "source": [
    "#### 월 별 [재택, 야근, 출장, 휴가 수]  (평균, 최댓값, 최솟값)"
   ]
  },
  {
   "cell_type": "code",
   "execution_count": 27,
   "metadata": {},
   "outputs": [],
   "source": [
    "train=pd.merge(train, train.groupby('월')['현본사소속재택근무자수'].agg([('재택근무자_월평균','mean'),('재택근무자_월최대','max'),('재택근무자_월최소','min')]).reset_index(), how='left',on='월')\n",
    "test=pd.merge(test, test.groupby('월')['현본사소속재택근무자수'].agg([('재택근무자_월평균','mean'),('재택근무자_월최대','max'),('재택근무자_월최소','min')]).reset_index(), how='left',on='월')\n",
    "\n",
    "train=pd.merge(train, train.groupby('월')['본사시간외근무명령서승인건수'].agg([('야간근무자_월평균','mean'),('야간근무자_월최대','max'),('야간근무자_월최소','min')]).reset_index(), how='left',on='월')\n",
    "test=pd.merge(test, test.groupby('월')['본사시간외근무명령서승인건수'].agg([('야간근무자_월평균','mean'),('야간근무자_월최대','max'),('야간근무자_월최소','min')]).reset_index(), how='left',on='월')\n",
    "\n",
    "train=pd.merge(train, train.groupby('월')['본사출장자수'].agg([('출장근무자_월평균','mean'),('출장근무자_월최대','max'),('출장근무자_월최소','min')]).reset_index(), how='left',on='월')\n",
    "test=pd.merge(test, test.groupby('월')['본사출장자수'].agg([('출장근무자_월평균','mean'),('출장근무자_월최대','max'),('출장근무자_월최소','min')]).reset_index(), how='left',on='월')\n",
    "\n",
    "train=pd.merge(train, train.groupby('월')['본사휴가자수'].agg([('휴가자_월평균','mean'),('휴가자_월최대','max'),('휴가자_월최소','min')]).reset_index(), how='left',on='월')\n",
    "test=pd.merge(test, test.groupby('월')['본사휴가자수'].agg([('휴가자_월평균','mean'),('휴가자_월최대','max'),('휴가자_월최소','min')]).reset_index(), how='left',on='월')"
   ]
  },
  {
   "cell_type": "markdown",
   "metadata": {},
   "source": [
    "#### 일 별 [재택, 야근, 출장, 휴가 수]  (평균, 최댓값, 최솟값)"
   ]
  },
  {
   "cell_type": "code",
   "execution_count": 28,
   "metadata": {},
   "outputs": [],
   "source": [
    "#### 연도 별 재택근무자 수(평균, 최댓값, 최솟값)train=pd.merge(train, train.groupby('일')['현본사소속재택근무자수'].agg([('재택근무자_일평균','mean'),('재택근무자_일최대','max'),('재택근무자_일최소','min')]).reset_index(), how='left',on='일')\n",
    "test=pd.merge(test, test.groupby('일')['현본사소속재택근무자수'].agg([('재택근무자_일평균','mean'),('재택근무자_일최대','max'),('재택근무자_일최소','min')]).reset_index(), how='left',on='일')\n",
    "\n",
    "train=pd.merge(train, train.groupby('일')['본사시간외근무명령서승인건수'].agg([('야간근무자_일평균','mean'),('야간근무자_일최대','max'),('야간근무자_일최소','min')]).reset_index(), how='left',on='일')\n",
    "test=pd.merge(test, test.groupby('일')['본사시간외근무명령서승인건수'].agg([('야간근무자_일평균','mean'),('야간근무자_일최대','max'),('야간근무자_일최소','min')]).reset_index(), how='left',on='일')\n",
    "\n",
    "train=pd.merge(train, train.groupby('일')['본사출장자수'].agg([('출장근무자_일평균','mean'),('출장근무자_일최대','max'),('출장근무자_일최소','min')]).reset_index(), how='left',on='일')\n",
    "test=pd.merge(test, test.groupby('일')['본사출장자수'].agg([('출장근무자_일평균','mean'),('출장근무자_일최대','max'),('출장근무자_일최소','min')]).reset_index(), how='left',on='일')\n",
    "\n",
    "train=pd.merge(train, train.groupby('일')['본사휴가자수'].agg([('휴가자_일평균','mean'),('휴가자_일최대','max'),('휴가자_일최소','min')]).reset_index(), how='left',on='일')\n",
    "test=pd.merge(test, test.groupby('일')['본사휴가자수'].agg([('휴가자_일평균','mean'),('휴가자_일최대','max'),('휴가자_일최소','min')]).reset_index(), how='left',on='일')"
   ]
  },
  {
   "cell_type": "markdown",
   "metadata": {},
   "source": [
    "#### 주 별 [재택, 야근, 출장, 휴가 수]  (평균, 최댓값, 최솟값)"
   ]
  },
  {
   "cell_type": "code",
   "execution_count": 29,
   "metadata": {},
   "outputs": [],
   "source": [
    "#### 연도 별 재택근무자 수(평균, 최댓값, 최솟값)train=pd.merge(train, train.groupby('주')['현본사소속재택근무자수'].agg([('재택근무자_주평균','mean'),('재택근무자_주최대','max'),('재택근무자_주최소','min')]).reset_index(), how='left',on='주')\n",
    "test=pd.merge(test, test.groupby('주')['현본사소속재택근무자수'].agg([('재택근무자_주평균','mean'),('재택근무자_주최대','max'),('재택근무자_주최소','min')]).reset_index(), how='left',on='주')\n",
    "\n",
    "train=pd.merge(train, train.groupby('주')['본사시간외근무명령서승인건수'].agg([('야간근무자_주평균','mean'),('야간근무자_주최대','max'),('야간근무자_주최소','min')]).reset_index(), how='left',on='주')\n",
    "test=pd.merge(test, test.groupby('주')['본사시간외근무명령서승인건수'].agg([('야간근무자_주평균','mean'),('야간근무자_주최대','max'),('야간근무자_주최소','min')]).reset_index(), how='left',on='주')\n",
    "\n",
    "train=pd.merge(train, train.groupby('주')['본사출장자수'].agg([('출장근무자_주평균','mean'),('출장근무자_주최대','max'),('출장근무자_주최소','min')]).reset_index(), how='left',on='주')\n",
    "test=pd.merge(test, test.groupby('주')['본사출장자수'].agg([('출장근무자_주평균','mean'),('출장근무자_주최대','max'),('출장근무자_주최소','min')]).reset_index(), how='left',on='주')\n",
    "\n",
    "train=pd.merge(train, train.groupby('주')['본사휴가자수'].agg([('휴가자_주평균','mean'),('휴가자_주최대','max'),('휴가자_주최소','min')]).reset_index(), how='left',on='주')\n",
    "test=pd.merge(test, test.groupby('주')['본사휴가자수'].agg([('휴가자_주평균','mean'),('휴가자_주최대','max'),('휴가자_주최소','min')]).reset_index(), how='left',on='주')"
   ]
  },
  {
   "cell_type": "markdown",
   "metadata": {},
   "source": [
    "#### 요일 별 [재택, 야근, 출장, 휴가 수]  (평균, 최댓값, 최솟값)"
   ]
  },
  {
   "cell_type": "code",
   "execution_count": 30,
   "metadata": {},
   "outputs": [],
   "source": [
    "#### 연도 별 재택근무자 수(평균, 최댓값, 최솟값)train=pd.merge(train, train.groupby('요일')['현본사소속재택근무자수'].agg([('재택근무자_요일평균','mean'),('재택근무자_요일최대','max'),('재택근무자_요일최소','min')]).reset_index(), how='left',on='요일')\n",
    "test=pd.merge(test, test.groupby('요일')['현본사소속재택근무자수'].agg([('재택근무자_요일평균','mean'),('재택근무자_요일최대','max'),('재택근무자_요일최소','min')]).reset_index(), how='left',on='요일')\n",
    "\n",
    "train=pd.merge(train, train.groupby('요일')['본사시간외근무명령서승인건수'].agg([('야간근무자_요일평균','mean'),('야간근무자_요일최대','max'),('야간근무자_요일최소','min')]).reset_index(), how='left',on='요일')\n",
    "test=pd.merge(test, test.groupby('요일')['본사시간외근무명령서승인건수'].agg([('야간근무자_요일평균','mean'),('야간근무자_요일최대','max'),('야간근무자_요일최소','min')]).reset_index(), how='left',on='요일')\n",
    "\n",
    "train=pd.merge(train, train.groupby('요일')['본사출장자수'].agg([('출장근무자_요일평균','mean'),('출장근무자_요일최대','max'),('출장근무자_요일최소','min')]).reset_index(), how='left',on='요일')\n",
    "test=pd.merge(test, test.groupby('요일')['본사출장자수'].agg([('출장근무자_요일평균','mean'),('출장근무자_요일최대','max'),('출장근무자_요일최소','min')]).reset_index(), how='left',on='요일')\n",
    "\n",
    "train=pd.merge(train, train.groupby('요일')['본사휴가자수'].agg([('휴가자_요일평균','mean'),('휴가자_요일최대','max'),('휴가자_요일최소','min')]).reset_index(), how='left',on='요일')\n",
    "test=pd.merge(test, test.groupby('요일')['본사휴가자수'].agg([('휴가자_요일평균','mean'),('휴가자_요일최대','max'),('휴가자_요일최소','min')]).reset_index(), how='left',on='요일')"
   ]
  },
  {
   "cell_type": "markdown",
   "metadata": {},
   "source": [
    "#### 계절 별 [재택, 야근, 출장, 휴가 수]  (평균, 최댓값, 최솟값)"
   ]
  },
  {
   "cell_type": "code",
   "execution_count": 31,
   "metadata": {},
   "outputs": [],
   "source": [
    "#### 연도 별 재택근무자 수(평균, 최댓값, 최솟값)train=pd.merge(train, train.groupby('계절')['현본사소속재택근무자수'].agg([('재택근무자_계절평균','mean'),('재택근무자_계절최대','max'),('재택근무자_계절최소','min')]).reset_index(), how='left',on='계절')\n",
    "test=pd.merge(test, test.groupby('계절')['현본사소속재택근무자수'].agg([('재택근무자_계절평균','mean'),('재택근무자_계절최대','max'),('재택근무자_계절최소','min')]).reset_index(), how='left',on='계절')\n",
    "\n",
    "train=pd.merge(train, train.groupby('계절')['본사시간외근무명령서승인건수'].agg([('야간근무자_계절평균','mean'),('야간근무자_계절최대','max'),('야간근무자_계절최소','min')]).reset_index(), how='left',on='계절')\n",
    "test=pd.merge(test, test.groupby('계절')['본사시간외근무명령서승인건수'].agg([('야간근무자_계절평균','mean'),('야간근무자_계절최대','max'),('야간근무자_계절최소','min')]).reset_index(), how='left',on='계절')\n",
    "\n",
    "train=pd.merge(train, train.groupby('계절')['본사출장자수'].agg([('출장근무자_계절평균','mean'),('출장근무자_계절최대','max'),('출장근무자_계절최소','min')]).reset_index(), how='left',on='계절')\n",
    "test=pd.merge(test, test.groupby('계절')['본사출장자수'].agg([('출장근무자_계절평균','mean'),('출장근무자_계절최대','max'),('출장근무자_계절최소','min')]).reset_index(), how='left',on='계절')\n",
    "\n",
    "train=pd.merge(train, train.groupby('계절')['본사휴가자수'].agg([('휴가자_계절평균','mean'),('휴가자_계절최대','max'),('휴가자_계절최소','min')]).reset_index(), how='left',on='계절')\n",
    "test=pd.merge(test, test.groupby('계절')['본사휴가자수'].agg([('휴가자_계절평균','mean'),('휴가자_계절최대','max'),('휴가자_계절최소','min')]).reset_index(), how='left',on='계절')"
   ]
  },
  {
   "cell_type": "markdown",
   "metadata": {},
   "source": [
    "#### 요일 별 중식계, 석식계 평균 넣기"
   ]
  },
  {
   "cell_type": "code",
   "execution_count": 32,
   "metadata": {},
   "outputs": [],
   "source": [
    "train_1=train.copy()"
   ]
  },
  {
   "cell_type": "code",
   "execution_count": 33,
   "metadata": {},
   "outputs": [],
   "source": [
    "mean=train_1['중식계'].mean()\n",
    "agg=train_1.groupby('요일')['중식계'].agg(['count','mean'])\n",
    "counts=agg['count']\n",
    "means=agg['mean']\n",
    "weight=80\n",
    "smooth=(counts*means+weight*mean)/(counts+weight)\n",
    "train['요일_중식계']=train['요일'].map(smooth)\n",
    "test['요일_중식계']=test['요일'].map(smooth)"
   ]
  },
  {
   "cell_type": "code",
   "execution_count": 34,
   "metadata": {},
   "outputs": [],
   "source": [
    "mean=train_1['석식계'].mean()\n",
    "agg=train_1.groupby('요일')['석식계'].agg(['count','mean'])\n",
    "counts=agg['count']\n",
    "means=agg['mean']\n",
    "weight=80\n",
    "smooth=(counts*means+weight*mean)/(counts+weight)\n",
    "train['요일_석식계']=train['요일'].map(smooth)\n",
    "test['요일_석식계']=test['요일'].map(smooth)"
   ]
  },
  {
   "cell_type": "markdown",
   "metadata": {},
   "source": [
    "#### 계절 별 중식계, 석식계 평균 넣기"
   ]
  },
  {
   "cell_type": "code",
   "execution_count": 35,
   "metadata": {},
   "outputs": [],
   "source": [
    "mean=train_1['중식계'].mean()\n",
    "agg=train_1.groupby('계절')['중식계'].agg(['count','mean'])\n",
    "counts=agg['count']\n",
    "means=agg['mean']\n",
    "weight=80\n",
    "smooth=(counts*means+weight*mean)/(counts+weight)\n",
    "train['계절_중식계']=train['계절'].map(smooth)\n",
    "test['계절_중식계']=test['계절'].map(smooth)"
   ]
  },
  {
   "cell_type": "code",
   "execution_count": 36,
   "metadata": {},
   "outputs": [],
   "source": [
    "mean=train_1['석식계'].mean()\n",
    "agg=train_1.groupby('계절')['석식계'].agg(['count','mean'])\n",
    "counts=agg['count']\n",
    "means=agg['mean']\n",
    "weight=80\n",
    "smooth=(counts*means+weight*mean)/(counts+weight)\n",
    "train['계절_석식계']=train['계절'].map(smooth)\n",
    "test['계절_석식계']=test['계절'].map(smooth)"
   ]
  },
  {
   "cell_type": "code",
   "execution_count": null,
   "metadata": {},
   "outputs": [],
   "source": []
  },
  {
   "cell_type": "markdown",
   "metadata": {},
   "source": [
    "### feature selection"
   ]
  },
  {
   "cell_type": "code",
   "execution_count": 37,
   "metadata": {},
   "outputs": [],
   "source": [
    "select_columns=test.columns[(test.dtypes== 'int64') + (test.dtypes== 'float64')]"
   ]
  },
  {
   "cell_type": "markdown",
   "metadata": {},
   "source": [
    "#### 원 데이터는 과적합으로 보여 제외시킨 후 진행"
   ]
  },
  {
   "cell_type": "code",
   "execution_count": 38,
   "metadata": {
    "scrolled": true
   },
   "outputs": [],
   "source": [
    "select_columns=select_columns.drop(['본사정원수', '본사휴가자수', '본사출장자수', '본사시간외근무명령서승인건수', '현본사소속재택근무자수','일'])"
   ]
  },
  {
   "cell_type": "code",
   "execution_count": 39,
   "metadata": {},
   "outputs": [],
   "source": [
    "train_점심=pd.concat([train[select_columns],train_중식],axis=1)\n",
    "test_점심=pd.concat([test[select_columns],test_중식],axis=1)\n",
    "train_저녁 = pd.concat([train[select_columns],train_석식],axis=1)\n",
    "test_저녁 = pd.concat([test[select_columns],test_석식],axis=1)"
   ]
  },
  {
   "cell_type": "code",
   "execution_count": 40,
   "metadata": {},
   "outputs": [],
   "source": [
    "X1 = train_점심\n",
    "y1 = train.중식계\n",
    "target1 = test_점심"
   ]
  },
  {
   "cell_type": "code",
   "execution_count": 41,
   "metadata": {},
   "outputs": [],
   "source": [
    "X2 = train_저녁\n",
    "y2 = train.석식계\n",
    "target2 = test_저녁"
   ]
  },
  {
   "cell_type": "code",
   "execution_count": 42,
   "metadata": {},
   "outputs": [],
   "source": [
    "from lightgbm import LGBMRegressor\n",
    "from tqdm import tqdm, tqdm_notebook\n",
    "from sklearn.model_selection import cross_val_score\n",
    "import random\n",
    "\n",
    "from sklearn.feature_selection import RFE\n",
    "from sklearn.feature_selection import SelectPercentile"
   ]
  },
  {
   "cell_type": "code",
   "execution_count": 43,
   "metadata": {
    "collapsed": true
   },
   "outputs": [
    {
     "name": "stderr",
     "output_type": "stream",
     "text": [
      "100%|██████████████████████████████████████████████████████████████████████████████████| 95/95 [00:53<00:00,  1.77it/s]"
     ]
    },
    {
     "name": "stdout",
     "output_type": "stream",
     "text": [
      "(39, -79.35438519561515)\n"
     ]
    },
    {
     "name": "stderr",
     "output_type": "stream",
     "text": [
      "\n"
     ]
    },
    {
     "data": {
      "image/png": "[encoded data removed]",
      "text/plain": [
       "<Figure size 432x288 with 1 Axes>"
      ]
     },
     "metadata": {
      "needs_background": "light"
     },
     "output_type": "display_data"
    }
   ],
   "source": [
    "# 사용할 모델 설정 (속도가 빠른 모델 사용 권장)\n",
    "model = LGBMRegressor(random_state=0)\n",
    "\n",
    "# 각 특성과 타깃(class) 사이에 유의한 통계적 관계가 있는지 계산하여 특성을 선택하는 방법 \n",
    "cv_scores = []\n",
    "for p in tqdm(range(5,100,1)):\n",
    "    X_new = SelectPercentile(percentile=p).fit_transform(X1, y1)    #SelectPercentile: 지정된 비율만큼 특성을 선택한다.\n",
    "    cv_score = cross_val_score(model, X_new, y1, scoring='neg_mean_absolute_error', cv=5).mean()\n",
    "    cv_scores.append((p,cv_score))\n",
    "\n",
    "# Print the best percentile\n",
    "best_score = cv_scores[np.argmax([score for _, score in cv_scores])]\n",
    "print(best_score)\n",
    "\n",
    "# Plot the performance change with p\n",
    "plt.plot([k for k, _ in cv_scores], [score for _, score in cv_scores])\n",
    "plt.xlabel('Percent of features')\n",
    "plt.grid()"
   ]
  },
  {
   "cell_type": "code",
   "execution_count": 44,
   "metadata": {},
   "outputs": [],
   "source": [
    "# 과적합을 피하기 위해 최적의 p값 주변의 값을 선택하는게 더 나은 결과를 얻을 수 있다. \n",
    "fs = SelectPercentile(percentile=best_score[0]).fit(X1, y1)\n",
    "X1_select = fs.transform(X1)\n",
    "target1_select = fs.transform(target1)"
   ]
  },
  {
   "cell_type": "code",
   "execution_count": 45,
   "metadata": {
    "scrolled": false
   },
   "outputs": [
    {
     "name": "stdout",
     "output_type": "stream",
     "text": [
      "(1205, 43)\n",
      "['요일', '출근', '휴가비율', '출장비율', '야근비율', '재택비율', '재택근무자_년평균', '재택근무자_년최대', '재택근무자_년최소', '야간근무자_년평균', '출장근무자_년평균', '휴가자_년평균', '야간근무자_일최대', '출장근무자_일최대', '야간근무자_주평균', '출장근무자_주평균', '출장근무자_주최대', '휴가자_주평균', '휴가자_주최대', '재택근무자_요일평균', '재택근무자_요일최대', '야간근무자_요일평균', '야간근무자_요일최대', '야간근무자_요일최소', '출장근무자_요일평균', '출장근무자_요일최대', '출장근무자_요일최소', '휴가자_요일평균', '휴가자_요일최소', '요일_중식계', '요일_석식계', '면 및 만두류', '국(탕)류', '찌개류', '전류', '볶음류', '김치류', '회류', '젓갈류', '음료류', '원재료', '조리_기타', '중식점수']\n"
     ]
    }
   ],
   "source": [
    "print(X1_select.shape)\n",
    "print(X1.columns[fs.get_support()].tolist()) #get_support: 선택한 특성을 불린값으로 보여줘서 어떤 특성을 선택했는지 알 수 있다."
   ]
  },
  {
   "cell_type": "markdown",
   "metadata": {},
   "source": [
    "#### 셀렉션 진행 후 상관관계가 높은 변수를 제외하여 피쳐를 정함"
   ]
  },
  {
   "cell_type": "code",
   "execution_count": 49,
   "metadata": {},
   "outputs": [],
   "source": [
    "X1 = train_점심[['요일', '출근', '휴가비율', '출장비율', '야근비율', '재택비율', '재택근무자_년평균', '재택근무자_년최대', '재택근무자_년최소', '야간근무자_년평균', '출장근무자_년평균', '휴가자_년평균', '야간근무자_일최대', '출장근무자_일최대', '야간근무자_주평균', '출장근무자_주평균', '출장근무자_주최대', '휴가자_주평균', '휴가자_주최대', '재택근무자_요일평균', '재택근무자_요일최대', '야간근무자_요일평균', '야간근무자_요일최대', '야간근무자_요일최소', '출장근무자_요일평균', '출장근무자_요일최대', '출장근무자_요일최소', '휴가자_요일평균', '휴가자_요일최소', '요일_중식계', '요일_석식계', '면 및 만두류', '국(탕)류', '찌개류', '전류', '볶음류', '김치류', '회류', '젓갈류', '음료류', '원재료', '조리_기타', '중식점수']]\n",
    "y1 = train.중식계\n",
    "target1 = test_점심[X1.columns]"
   ]
  },
  {
   "cell_type": "code",
   "execution_count": null,
   "metadata": {},
   "outputs": [],
   "source": []
  },
  {
   "cell_type": "code",
   "execution_count": 46,
   "metadata": {},
   "outputs": [
    {
     "name": "stderr",
     "output_type": "stream",
     "text": [
      "100%|██████████████████████████████████████████████████████████████████████████████████| 95/95 [00:38<00:00,  2.46it/s]"
     ]
    },
    {
     "name": "stdout",
     "output_type": "stream",
     "text": [
      "(71, -56.66545518016203)\n"
     ]
    },
    {
     "name": "stderr",
     "output_type": "stream",
     "text": [
      "\n"
     ]
    },
    {
     "data": {
      "image/png": "[encoded data removed]",
      "text/plain": [
       "<Figure size 432x288 with 1 Axes>"
      ]
     },
     "metadata": {
      "needs_background": "light"
     },
     "output_type": "display_data"
    }
   ],
   "source": [
    "# 사용할 모델 설정 (속도가 빠른 모델 사용 권장)\n",
    "model = LGBMRegressor(random_state=0)\n",
    "\n",
    "# 각 특성과 타깃(class) 사이에 유의한 통계적 관계가 있는지 계산하여 특성을 선택하는 방법 \n",
    "cv_scores = []\n",
    "for p in tqdm(range(5,100,1)):\n",
    "    X_new = SelectPercentile(percentile=p).fit_transform(X2, y2)    #SelectPercentile: 지정된 비율만큼 특성을 선택한다.\n",
    "    cv_score = cross_val_score(model, X_new, y2, scoring='neg_mean_absolute_error', cv=5).mean()\n",
    "    cv_scores.append((p,cv_score))\n",
    "\n",
    "# Print the best percentile\n",
    "best_score = cv_scores[np.argmax([score for _, score in cv_scores])]\n",
    "print(best_score)\n",
    "\n",
    "# Plot the performance change with p\n",
    "plt.plot([k for k, _ in cv_scores], [score for _, score in cv_scores])\n",
    "plt.xlabel('Percent of features')\n",
    "plt.grid()"
   ]
  },
  {
   "cell_type": "code",
   "execution_count": 51,
   "metadata": {},
   "outputs": [],
   "source": [
    "# 과적합을 피하기 위해 최적의 p값 주변의 값을 선택하는게 더 나은 결과를 얻을 수 있다. \n",
    "fs = SelectPercentile(percentile=best_score[0]).fit(X2, y2)\n",
    "X2_select = fs.transform(X2)\n",
    "target2_select = fs.transform(target2)"
   ]
  },
  {
   "cell_type": "code",
   "execution_count": 52,
   "metadata": {},
   "outputs": [
    {
     "name": "stdout",
     "output_type": "stream",
     "text": [
      "(1205, 79)\n",
      "['요일', '년', '월', '주', '출근', '휴가비율', '출장비율', '야근비율', '재택비율', '재택근무자_년평균', '재택근무자_년최대', '재택근무자_년최소', '야간근무자_년평균', '야간근무자_년최대', '출장근무자_년평균', '출장근무자_년최대', '출장근무자_년최소', '휴가자_년평균', '휴가자_년최대', '휴가자_년최소', '재택근무자_월평균', '야간근무자_월평균', '야간근무자_월최대', '출장근무자_월최대', '휴가자_월평균', '휴가자_월최대', '휴가자_월최소', '재택근무자_일평균', '야간근무자_일평균', '야간근무자_일최대', '출장근무자_일최소', '휴가자_일최소', '재택근무자_주평균', '야간근무자_주평균', '야간근무자_주최대', '휴가자_주평균', '휴가자_주최대', '휴가자_주최소', '재택근무자_요일평균', '재택근무자_요일최대', '야간근무자_요일평균', '야간근무자_요일최대', '야간근무자_요일최소', '출장근무자_요일평균', '출장근무자_요일최대', '출장근무자_요일최소', '휴가자_요일평균', '휴가자_요일최대', '휴가자_요일최소', '재택근무자_계절평균', '재택근무자_계절최대', '야간근무자_계절평균', '야간근무자_계절최대', '출장근무자_계절평균', '출장근무자_계절최대', '출장근무자_계절최소', '휴가자_계절평균', '휴가자_계절최대', '휴가자_계절최소', '요일_중식계', '요일_석식계', '계절_중식계', '계절_석식계', '밥류', '국(탕)류', '찌개류', '찜류', '구이류', '전류', '볶음류', '조림류', '튀김류', '무침류', '김치류', '장류', '우유 및 유제품류', '떡류', '원재료', '석식점수']\n"
     ]
    }
   ],
   "source": [
    "print(X2_select.shape)\n",
    "print(X2.columns[fs.get_support()].tolist()) #get_support: 선택한 특성을 불린값으로 보여줘서 어떤 특성을 선택했는지 알 수 있다."
   ]
  },
  {
   "cell_type": "markdown",
   "metadata": {},
   "source": [
    "#### 셀렉션 진행 후 상관관계가 높은 변수를 제외하여 피쳐를 정함"
   ]
  },
  {
   "cell_type": "code",
   "execution_count": 53,
   "metadata": {},
   "outputs": [],
   "source": [
    "X2 = train_저녁[['요일', '년', '월', '주', '출근', '휴가비율', '출장비율', '야근비율', '재택비율', '재택근무자_년평균', '재택근무자_년최대', '재택근무자_년최소', '야간근무자_년평균', '야간근무자_년최대', '출장근무자_년평균', '출장근무자_년최대', '출장근무자_년최소', '휴가자_년평균', '휴가자_년최대', '휴가자_년최소', '재택근무자_월평균', '야간근무자_월평균', '야간근무자_월최대', '출장근무자_월최대', '휴가자_월평균', '휴가자_월최대', '휴가자_월최소', '재택근무자_일평균', '야간근무자_일평균', '야간근무자_일최대', '출장근무자_일최소', '휴가자_일최소', '재택근무자_주평균', '야간근무자_주평균', '야간근무자_주최대', '휴가자_주평균', '휴가자_주최대', '휴가자_주최소', '재택근무자_요일평균', '재택근무자_요일최대', '야간근무자_요일평균', '야간근무자_요일최대', '야간근무자_요일최소', '출장근무자_요일평균', '출장근무자_요일최대', '출장근무자_요일최소', '휴가자_요일평균', '휴가자_요일최대', '휴가자_요일최소', '재택근무자_계절평균', '재택근무자_계절최대', '야간근무자_계절평균', '야간근무자_계절최대', '출장근무자_계절평균', '출장근무자_계절최대', '출장근무자_계절최소', '휴가자_계절평균', '휴가자_계절최대', '휴가자_계절최소', '요일_중식계', '요일_석식계', '계절_중식계', '계절_석식계', '밥류', '국(탕)류', '찌개류', '찜류', '구이류', '전류', '볶음류', '조림류', '튀김류', '무침류', '김치류', '장류', '우유 및 유제품류', '떡류', '원재료', '석식점수']]\n",
    "y2 = train.석식계\n",
    "target2 = test_저녁[X2.columns]"
   ]
  },
  {
   "cell_type": "code",
   "execution_count": null,
   "metadata": {},
   "outputs": [],
   "source": []
  },
  {
   "cell_type": "markdown",
   "metadata": {},
   "source": [
    "***"
   ]
  },
  {
   "cell_type": "markdown",
   "metadata": {},
   "source": [
    "## Modeling"
   ]
  },
  {
   "cell_type": "code",
   "execution_count": 54,
   "metadata": {},
   "outputs": [],
   "source": [
    "from lightgbm import LGBMRegressor\n",
    "from xgboost import XGBRFRegressor\n",
    "from sklearn.metrics import mean_absolute_error\n",
    "from sklearn.model_selection import TimeSeriesSplit, KFold\n",
    "from sklearn.ensemble import RandomForestRegressor, GradientBoostingRegressor, VotingRegressor\n",
    "from ngboost import NGBRegressor"
   ]
  },
  {
   "cell_type": "markdown",
   "metadata": {},
   "source": [
    "### LGBM"
   ]
  },
  {
   "cell_type": "markdown",
   "metadata": {},
   "source": [
    "#### 중식"
   ]
  },
  {
   "cell_type": "code",
   "execution_count": 55,
   "metadata": {},
   "outputs": [],
   "source": [
    "kf = KFold(n_splits = 15, random_state = 607, shuffle = True)"
   ]
  },
  {
   "cell_type": "code",
   "execution_count": 56,
   "metadata": {},
   "outputs": [],
   "source": [
    "lgbm = LGBMRegressor(random_state = 607, max_depth = 4, n_estimators = 20000, learning_rate = .01)"
   ]
  },
  {
   "cell_type": "code",
   "execution_count": 57,
   "metadata": {
    "collapsed": true
   },
   "outputs": [
    {
     "name": "stdout",
     "output_type": "stream",
     "text": [
      "Training until validation scores don't improve for 2000 rounds\n",
      "[2000]\ttraining's l1: 39.0524\ttraining's l2: 2663.5\tvalid_1's l1: 62.2652\tvalid_1's l2: 6673.96\n",
      "Early stopping, best iteration is:\n",
      "[1539]\ttraining's l1: 42.8359\ttraining's l2: 3218.45\tvalid_1's l1: 61.5201\tvalid_1's l2: 6702.38\n",
      "FOLD MAE = 61.52006182022204\n",
      "Training until validation scores don't improve for 2000 rounds\n",
      "[2000]\ttraining's l1: 37.426\ttraining's l2: 2467.98\tvalid_1's l1: 59.2325\tvalid_1's l2: 5809.28\n",
      "Early stopping, best iteration is:\n",
      "[1503]\ttraining's l1: 41.6575\ttraining's l2: 3066.61\tvalid_1's l1: 58.9235\tvalid_1's l2: 5749.6\n",
      "FOLD MAE = 58.92346366696711\n",
      "Training until validation scores don't improve for 2000 rounds\n",
      "[2000]\ttraining's l1: 38.3687\ttraining's l2: 2586.53\tvalid_1's l1: 74.3732\tvalid_1's l2: 10136.7\n",
      "Early stopping, best iteration is:\n",
      "[1605]\ttraining's l1: 40.901\ttraining's l2: 2943.6\tvalid_1's l1: 74.5094\tvalid_1's l2: 10071.9\n",
      "FOLD MAE = 74.50940711251782\n",
      "Training until validation scores don't improve for 2000 rounds\n",
      "[2000]\ttraining's l1: 37.7792\ttraining's l2: 2574.47\tvalid_1's l1: 65.6034\tvalid_1's l2: 7492.4\n",
      "[4000]\ttraining's l1: 27.0669\ttraining's l2: 1326.84\tvalid_1's l1: 65.9969\tvalid_1's l2: 7546.02\n",
      "Early stopping, best iteration is:\n",
      "[2836]\ttraining's l1: 31.9184\ttraining's l2: 1829.82\tvalid_1's l1: 65.354\tvalid_1's l2: 7348.85\n",
      "FOLD MAE = 65.35400245503534\n",
      "Training until validation scores don't improve for 2000 rounds\n",
      "[2000]\ttraining's l1: 36.9665\ttraining's l2: 2428.04\tvalid_1's l1: 62.0048\tvalid_1's l2: 6191.32\n",
      "Early stopping, best iteration is:\n",
      "[929]\ttraining's l1: 48.1904\ttraining's l2: 4124.03\tvalid_1's l1: 58.6079\tvalid_1's l2: 5768.02\n",
      "FOLD MAE = 58.60789521477079\n",
      "Training until validation scores don't improve for 2000 rounds\n",
      "[2000]\ttraining's l1: 36.5389\ttraining's l2: 2364.99\tvalid_1's l1: 68.1962\tvalid_1's l2: 9306.67\n",
      "[4000]\ttraining's l1: 26.0496\ttraining's l2: 1200.58\tvalid_1's l1: 65.2951\tvalid_1's l2: 8674.19\n",
      "[6000]\ttraining's l1: 19.9659\ttraining's l2: 702.573\tvalid_1's l1: 65.7021\tvalid_1's l2: 8682.23\n",
      "Early stopping, best iteration is:\n",
      "[4586]\ttraining's l1: 23.9499\ttraining's l2: 1010.02\tvalid_1's l1: 65.0169\tvalid_1's l2: 8604.61\n",
      "FOLD MAE = 65.01690060106175\n",
      "Training until validation scores don't improve for 2000 rounds\n",
      "[2000]\ttraining's l1: 38.3436\ttraining's l2: 2610.44\tvalid_1's l1: 65.8296\tvalid_1's l2: 7675.93\n",
      "Early stopping, best iteration is:\n",
      "[1603]\ttraining's l1: 41.5656\ttraining's l2: 3071.83\tvalid_1's l1: 65.6004\tvalid_1's l2: 7593.61\n",
      "FOLD MAE = 65.60041696168003\n",
      "Training until validation scores don't improve for 2000 rounds\n",
      "[2000]\ttraining's l1: 36.8669\ttraining's l2: 2415.63\tvalid_1's l1: 68.6397\tvalid_1's l2: 8187.06\n",
      "Early stopping, best iteration is:\n",
      "[1279]\ttraining's l1: 43.2798\ttraining's l2: 3333.66\tvalid_1's l1: 68.185\tvalid_1's l2: 8003.87\n",
      "FOLD MAE = 68.18497080443392\n",
      "Training until validation scores don't improve for 2000 rounds\n",
      "[2000]\ttraining's l1: 39.2065\ttraining's l2: 2757.17\tvalid_1's l1: 71.818\tvalid_1's l2: 9593.12\n",
      "[4000]\ttraining's l1: 28.4931\ttraining's l2: 1441.38\tvalid_1's l1: 68.6148\tvalid_1's l2: 8708.3\n",
      "[6000]\ttraining's l1: 21.1666\ttraining's l2: 805.799\tvalid_1's l1: 68.23\tvalid_1's l2: 8591.25\n",
      "Early stopping, best iteration is:\n",
      "[5095]\ttraining's l1: 23.9561\ttraining's l2: 1022.99\tvalid_1's l1: 67.7494\tvalid_1's l2: 8534.47\n",
      "FOLD MAE = 67.74937691968572\n",
      "Training until validation scores don't improve for 2000 rounds\n",
      "[2000]\ttraining's l1: 38.5193\ttraining's l2: 2633.2\tvalid_1's l1: 61.557\tvalid_1's l2: 6644.05\n",
      "[4000]\ttraining's l1: 26.7772\ttraining's l2: 1262.33\tvalid_1's l1: 61.4682\tvalid_1's l2: 6704.21\n",
      "Early stopping, best iteration is:\n",
      "[2768]\ttraining's l1: 33.022\ttraining's l2: 1929.84\tvalid_1's l1: 60.7246\tvalid_1's l2: 6532.36\n",
      "FOLD MAE = 60.7246021825736\n",
      "Training until validation scores don't improve for 2000 rounds\n",
      "[2000]\ttraining's l1: 36.5295\ttraining's l2: 2386.75\tvalid_1's l1: 86.7077\tvalid_1's l2: 13022.3\n",
      "Early stopping, best iteration is:\n",
      "[1839]\ttraining's l1: 37.5979\ttraining's l2: 2525.68\tvalid_1's l1: 86.4226\tvalid_1's l2: 13015.6\n",
      "FOLD MAE = 86.42262190997704\n",
      "Training until validation scores don't improve for 2000 rounds\n",
      "[2000]\ttraining's l1: 38.2261\ttraining's l2: 2577.07\tvalid_1's l1: 60.9304\tvalid_1's l2: 7486.95\n",
      "Early stopping, best iteration is:\n",
      "[1734]\ttraining's l1: 40.6079\ttraining's l2: 2905.96\tvalid_1's l1: 60.8672\tvalid_1's l2: 7381.51\n",
      "FOLD MAE = 60.8672268434279\n",
      "Training until validation scores don't improve for 2000 rounds\n",
      "[2000]\ttraining's l1: 38.0301\ttraining's l2: 2568.09\tvalid_1's l1: 63.3646\tvalid_1's l2: 7230.54\n",
      "[4000]\ttraining's l1: 27.913\ttraining's l2: 1374.59\tvalid_1's l1: 66.495\tvalid_1's l2: 7691.48\n",
      "Early stopping, best iteration is:\n",
      "[2265]\ttraining's l1: 35.9488\ttraining's l2: 2299.07\tvalid_1's l1: 62.871\tvalid_1's l2: 7152.92\n",
      "FOLD MAE = 62.87103602707909\n",
      "Training until validation scores don't improve for 2000 rounds\n",
      "[2000]\ttraining's l1: 37.4399\ttraining's l2: 2472.4\tvalid_1's l1: 74.323\tvalid_1's l2: 9401.93\n",
      "Early stopping, best iteration is:\n",
      "[1481]\ttraining's l1: 41.7754\ttraining's l2: 3097.14\tvalid_1's l1: 73.5047\tvalid_1's l2: 9364.72\n",
      "FOLD MAE = 73.5047325422479\n",
      "Training until validation scores don't improve for 2000 rounds\n",
      "[2000]\ttraining's l1: 37.4792\ttraining's l2: 2502.05\tvalid_1's l1: 63.3214\tvalid_1's l2: 6297.34\n",
      "Early stopping, best iteration is:\n",
      "[1651]\ttraining's l1: 40.3791\ttraining's l2: 2907.99\tvalid_1's l1: 63.4515\tvalid_1's l2: 6240.12\n",
      "FOLD MAE = 63.45146275670961\n",
      "\n",
      "LGBMRegressor MAE = 66.22054518789264\n"
     ]
    }
   ],
   "source": [
    "lgbm_pred_1 = np.zeros((target1.shape[0]))\n",
    "mae_list = []\n",
    "for tr_idx, val_idx in kf.split(X1):\n",
    "    tr_x, val_x = X1.iloc[tr_idx], X1.iloc[val_idx]\n",
    "    tr_y, val_y = y1.iloc[tr_idx], y1.iloc[val_idx]\n",
    "    lgbm.fit(tr_x, tr_y, eval_set = [(tr_x, tr_y), (val_x, val_y)], eval_metric = 'mean_absolute_error', early_stopping_rounds = 2000, verbose = 2000)\n",
    "    pred = lgbm.predict(val_x)\n",
    "    mae = mean_absolute_error(val_y, pred)\n",
    "    mae_list.append(mae)\n",
    "    print(f'FOLD MAE = {mae}')\n",
    "    sub_pred = lgbm.predict(target1) / 15\n",
    "    lgbm_pred_1 += sub_pred\n",
    "print(f'\\n{lgbm.__class__.__name__} MAE = {np.mean(mae_list)}')"
   ]
  },
  {
   "cell_type": "code",
   "execution_count": 59,
   "metadata": {},
   "outputs": [
    {
     "data": {
      "image/png": "[encoded data removed]",
      "text/plain": [
       "<Figure size 432x288 with 1 Axes>"
      ]
     },
     "metadata": {
      "needs_background": "light"
     },
     "output_type": "display_data"
    }
   ],
   "source": [
    "a=pd.DataFrame(data=lgbm.feature_importances_,index=X1.columns)\n",
    "a=a.sort_values(by=0,ascending=False)\n",
    "a.columns=['value']\n",
    "\n",
    "plt.bar(a.index, a.value)\n",
    "plt.xticks(fontsize=12, rotation='vertical') \n",
    "plt.show()"
   ]
  },
  {
   "cell_type": "markdown",
   "metadata": {},
   "source": [
    "#### 석식"
   ]
  },
  {
   "cell_type": "code",
   "execution_count": 60,
   "metadata": {
    "scrolled": true
   },
   "outputs": [
    {
     "name": "stdout",
     "output_type": "stream",
     "text": [
      "Training until validation scores don't improve for 2000 rounds\n",
      "[2000]\ttraining's l1: 24.1249\ttraining's l2: 1113.51\tvalid_1's l1: 50.8954\tvalid_1's l2: 5019.18\n",
      "Early stopping, best iteration is:\n",
      "[1232]\ttraining's l1: 28.8751\ttraining's l2: 1595.2\tvalid_1's l1: 50.6795\tvalid_1's l2: 4898\n",
      "FOLD MAE = 50.679493231575975\n",
      "Training until validation scores don't improve for 2000 rounds\n",
      "[2000]\ttraining's l1: 22.8621\ttraining's l2: 912.924\tvalid_1's l1: 51.8244\tvalid_1's l2: 8097.56\n",
      "Early stopping, best iteration is:\n",
      "[1208]\ttraining's l1: 28.1868\ttraining's l2: 1406.83\tvalid_1's l1: 51.1363\tvalid_1's l2: 7961.77\n",
      "FOLD MAE = 51.13626095817595\n",
      "Training until validation scores don't improve for 2000 rounds\n",
      "[2000]\ttraining's l1: 23.9261\ttraining's l2: 1043.72\tvalid_1's l1: 50.5497\tvalid_1's l2: 5187.06\n",
      "[4000]\ttraining's l1: 18.2643\ttraining's l2: 594.396\tvalid_1's l1: 49.5709\tvalid_1's l2: 5239.91\n",
      "Early stopping, best iteration is:\n",
      "[2787]\ttraining's l1: 21.2154\ttraining's l2: 806.142\tvalid_1's l1: 49.5693\tvalid_1's l2: 5097.27\n",
      "FOLD MAE = 49.5693030847618\n",
      "Training until validation scores don't improve for 2000 rounds\n",
      "[2000]\ttraining's l1: 22.8624\ttraining's l2: 1009.6\tvalid_1's l1: 42.0639\tvalid_1's l2: 2747.66\n",
      "Early stopping, best iteration is:\n",
      "[1432]\ttraining's l1: 26.4849\ttraining's l2: 1359.6\tvalid_1's l1: 41.8123\tvalid_1's l2: 2807.12\n",
      "FOLD MAE = 41.8123329309442\n",
      "Training until validation scores don't improve for 2000 rounds\n",
      "[2000]\ttraining's l1: 23.5997\ttraining's l2: 1057.36\tvalid_1's l1: 44.7319\tvalid_1's l2: 3461.86\n",
      "Early stopping, best iteration is:\n",
      "[1794]\ttraining's l1: 24.7718\ttraining's l2: 1161.73\tvalid_1's l1: 44.489\tvalid_1's l2: 3415.63\n",
      "FOLD MAE = 44.48902637621788\n",
      "Training until validation scores don't improve for 2000 rounds\n",
      "[2000]\ttraining's l1: 23.4327\ttraining's l2: 1047.19\tvalid_1's l1: 36.9406\tvalid_1's l2: 2306.95\n",
      "Early stopping, best iteration is:\n",
      "[843]\ttraining's l1: 32.5129\ttraining's l2: 2007.82\tvalid_1's l1: 37.3924\tvalid_1's l2: 2155.58\n",
      "FOLD MAE = 37.39237492007642\n",
      "Training until validation scores don't improve for 2000 rounds\n",
      "[2000]\ttraining's l1: 23.2147\ttraining's l2: 1029.14\tvalid_1's l1: 45.174\tvalid_1's l2: 4092.82\n",
      "[4000]\ttraining's l1: 16.617\ttraining's l2: 512.411\tvalid_1's l1: 45.4222\tvalid_1's l2: 4057.56\n",
      "Early stopping, best iteration is:\n",
      "[2810]\ttraining's l1: 20.1561\ttraining's l2: 769.509\tvalid_1's l1: 45.0794\tvalid_1's l2: 4108.27\n",
      "FOLD MAE = 45.07936956288431\n",
      "Training until validation scores don't improve for 2000 rounds\n",
      "[2000]\ttraining's l1: 23.0133\ttraining's l2: 1008.8\tvalid_1's l1: 40.1536\tvalid_1's l2: 2342.76\n",
      "Early stopping, best iteration is:\n",
      "[1623]\ttraining's l1: 25.477\ttraining's l2: 1249.68\tvalid_1's l1: 39.9911\tvalid_1's l2: 2350.75\n",
      "FOLD MAE = 39.99111065298905\n",
      "Training until validation scores don't improve for 2000 rounds\n",
      "[2000]\ttraining's l1: 23.8596\ttraining's l2: 1099.82\tvalid_1's l1: 50.403\tvalid_1's l2: 4209.83\n",
      "Early stopping, best iteration is:\n",
      "[554]\ttraining's l1: 36.9213\ttraining's l2: 2605.81\tvalid_1's l1: 47.6632\tvalid_1's l2: 3976.69\n",
      "FOLD MAE = 47.66322552946445\n",
      "Training until validation scores don't improve for 2000 rounds\n",
      "[2000]\ttraining's l1: 25.0363\ttraining's l2: 1203.08\tvalid_1's l1: 45.0554\tvalid_1's l2: 4638.98\n",
      "Early stopping, best iteration is:\n",
      "[1187]\ttraining's l1: 29.6856\ttraining's l2: 1668.86\tvalid_1's l1: 44.7204\tvalid_1's l2: 4685.24\n",
      "FOLD MAE = 44.720420655746615\n",
      "Training until validation scores don't improve for 2000 rounds\n",
      "[2000]\ttraining's l1: 23.1141\ttraining's l2: 996.8\tvalid_1's l1: 43.0014\tvalid_1's l2: 4536.39\n",
      "Early stopping, best iteration is:\n",
      "[807]\ttraining's l1: 32.6258\ttraining's l2: 2016.37\tvalid_1's l1: 42.197\tvalid_1's l2: 4764.83\n",
      "FOLD MAE = 42.19702614581629\n",
      "Training until validation scores don't improve for 2000 rounds\n",
      "[2000]\ttraining's l1: 23.2852\ttraining's l2: 1004.75\tvalid_1's l1: 40.8685\tvalid_1's l2: 3386.4\n",
      "Early stopping, best iteration is:\n",
      "[868]\ttraining's l1: 32.4215\ttraining's l2: 2008.6\tvalid_1's l1: 40.6394\tvalid_1's l2: 3216.45\n",
      "FOLD MAE = 40.63936511272871\n",
      "Training until validation scores don't improve for 2000 rounds\n",
      "[2000]\ttraining's l1: 24.2436\ttraining's l2: 1137.1\tvalid_1's l1: 49.3233\tvalid_1's l2: 4226.26\n",
      "Early stopping, best iteration is:\n",
      "[1141]\ttraining's l1: 28.9706\ttraining's l2: 1626.28\tvalid_1's l1: 48.6337\tvalid_1's l2: 4154.85\n",
      "FOLD MAE = 48.6337232499136\n",
      "Training until validation scores don't improve for 2000 rounds\n",
      "[2000]\ttraining's l1: 23.453\ttraining's l2: 1045.37\tvalid_1's l1: 44.6021\tvalid_1's l2: 3410.6\n",
      "Early stopping, best iteration is:\n",
      "[673]\ttraining's l1: 34.5485\ttraining's l2: 2287.69\tvalid_1's l1: 43.7615\tvalid_1's l2: 3338.98\n",
      "FOLD MAE = 43.76152098401565\n",
      "Training until validation scores don't improve for 2000 rounds\n",
      "[2000]\ttraining's l1: 23.7513\ttraining's l2: 1091.28\tvalid_1's l1: 40.2197\tvalid_1's l2: 2485.36\n",
      "Early stopping, best iteration is:\n",
      "[438]\ttraining's l1: 39.2205\ttraining's l2: 2961.88\tvalid_1's l1: 38.3022\tvalid_1's l2: 2385.79\n",
      "FOLD MAE = 38.302200654132704\n",
      "\n",
      "LGBMRegressor MAE = 44.4044502699629\n"
     ]
    }
   ],
   "source": [
    "lgbm_pred_2 = np.zeros((target1.shape[0]))\n",
    "mae_list = []\n",
    "for tr_idx, val_idx in kf.split(X2):\n",
    "    tr_x, val_x = X2.iloc[tr_idx], X2.iloc[val_idx]\n",
    "    tr_y, val_y = y2.iloc[tr_idx], y2.iloc[val_idx]\n",
    "    \n",
    "    lgbm.fit(tr_x, tr_y, eval_set = [(tr_x, tr_y), (val_x, val_y)], eval_metric = 'mean_absolute_error', early_stopping_rounds = 2000, verbose = 2000)\n",
    "    pred = lgbm.predict(val_x)\n",
    "    mae = mean_absolute_error(val_y, pred)\n",
    "    print(f'FOLD MAE = {mae}')\n",
    "    mae_list.append(mae)\n",
    "    sub_pred = lgbm.predict(target2) / 15\n",
    "    lgbm_pred_2 += sub_pred\n",
    "print(f'\\n{lgbm.__class__.__name__} MAE = {np.mean(mae_list)}')"
   ]
  },
  {
   "cell_type": "code",
   "execution_count": 62,
   "metadata": {
    "scrolled": false
   },
   "outputs": [
    {
     "data": {
      "image/png": "[encoded data removed]",
      "text/plain": [
       "<Figure size 432x288 with 1 Axes>"
      ]
     },
     "metadata": {
      "needs_background": "light"
     },
     "output_type": "display_data"
    }
   ],
   "source": [
    "a=pd.DataFrame(data=lgbm.feature_importances_,index=X2.columns)\n",
    "a=a.sort_values(by=0,ascending=False)\n",
    "a.columns=['value']\n",
    "\n",
    "plt.bar(a.index, a.value)\n",
    "plt.xticks(fontsize=12, rotation='vertical') \n",
    "plt.show()"
   ]
  },
  {
   "cell_type": "code",
   "execution_count": 64,
   "metadata": {},
   "outputs": [],
   "source": [
    "submission['중식계'] = lgbm_pred_1\n",
    "submission['석식계'] = lgbm_pred_2"
   ]
  },
  {
   "cell_type": "code",
   "execution_count": 66,
   "metadata": {},
   "outputs": [],
   "source": [
    "submission.to_csv('lgbm_08.csv', index = False)"
   ]
  },
  {
   "cell_type": "markdown",
   "metadata": {},
   "source": [
    "### NGB"
   ]
  },
  {
   "cell_type": "markdown",
   "metadata": {},
   "source": [
    "#### 중식"
   ]
  },
  {
   "cell_type": "code",
   "execution_count": 67,
   "metadata": {},
   "outputs": [],
   "source": [
    "ngb = NGBRegressor(n_estimators = 15000, verbose = 0, random_state = 607)"
   ]
  },
  {
   "cell_type": "code",
   "execution_count": 68,
   "metadata": {
    "scrolled": true
   },
   "outputs": [
    {
     "name": "stdout",
     "output_type": "stream",
     "text": [
      "FOLD MAE = 62.02856843411788\n",
      "FOLD MAE = 42.0771724368723\n",
      "FOLD MAE = 37.876487946148565\n",
      "FOLD MAE = 34.56435533758038\n",
      "FOLD MAE = 31.439926324938337\n",
      "FOLD MAE = 29.639203217666044\n",
      "FOLD MAE = 25.654118910604996\n",
      "FOLD MAE = 29.403258562450638\n",
      "FOLD MAE = 21.789496860883094\n",
      "FOLD MAE = 24.82518586377185\n",
      "FOLD MAE = 25.412493320655052\n",
      "FOLD MAE = 22.24819031605616\n",
      "FOLD MAE = 23.41051075860916\n",
      "FOLD MAE = 20.72201775107469\n",
      "FOLD MAE = 18.397728287508905\n",
      "\n",
      "NGBRegressor MAE = 29.965914288595872\n"
     ]
    }
   ],
   "source": [
    "ngb_pred_1 = np.zeros((target1.shape[0]))\n",
    "mae_list = []\n",
    "for tr_idx, val_idx in kf.split(X1):\n",
    "    tr_x, val_x = X1.iloc[tr_idx], X1.iloc[val_idx]\n",
    "    tr_y, val_y = y1.iloc[tr_idx], y1.iloc[val_idx]\n",
    "    ngb.fit(tr_x, tr_y, val_x, val_y, early_stopping_rounds = 2000)\n",
    "    pred = ngb.predict(val_x)\n",
    "    mae = mean_absolute_error(val_y, pred)\n",
    "    mae_list.append(mae)\n",
    "    print(f'FOLD MAE = {mae}')\n",
    "    sub_pred = ngb.predict(target1) / 15\n",
    "    ngb_pred_1 += sub_pred\n",
    "print(f'\\n{ngb.__class__.__name__} MAE = {np.mean(mae_list)}')"
   ]
  },
  {
   "cell_type": "markdown",
   "metadata": {},
   "source": [
    "#### 석식"
   ]
  },
  {
   "cell_type": "code",
   "execution_count": 70,
   "metadata": {},
   "outputs": [],
   "source": [
    "ngb = NGBRegressor(n_estimators = 15000, verbose = 0, random_state = 607)"
   ]
  },
  {
   "cell_type": "code",
   "execution_count": 71,
   "metadata": {
    "scrolled": false
   },
   "outputs": [
    {
     "name": "stdout",
     "output_type": "stream",
     "text": [
      "FOLD MAE = 49.67898723282697\n",
      "FOLD MAE = 26.210698660275128\n",
      "FOLD MAE = 23.166593644974718\n",
      "FOLD MAE = 18.111956657521986\n",
      "FOLD MAE = 18.912338214326763\n",
      "FOLD MAE = 19.628239023225284\n",
      "FOLD MAE = 18.90783257858593\n",
      "FOLD MAE = 15.407114119003129\n",
      "FOLD MAE = 16.316514926258613\n",
      "FOLD MAE = 17.32365636717872\n",
      "FOLD MAE = 13.02013722398431\n",
      "FOLD MAE = 13.708105744324218\n",
      "FOLD MAE = 14.085017037509733\n",
      "FOLD MAE = 15.882781524228449\n",
      "FOLD MAE = 11.766280077025675\n",
      "\n",
      "NGBRegressor MAE = 19.47508353541664\n"
     ]
    }
   ],
   "source": [
    "ngb_pred_2 = np.zeros((target2.shape[0]))\n",
    "mae_list = []\n",
    "for tr_idx, val_idx in kf.split(X2):\n",
    "    tr_x, val_x = X2.iloc[tr_idx], X2.iloc[val_idx]\n",
    "    tr_y, val_y = y2.iloc[tr_idx], y2.iloc[val_idx]\n",
    "    ngb.fit(tr_x, tr_y, val_x, val_y, early_stopping_rounds = 2000)\n",
    "    pred = ngb.predict(val_x)\n",
    "    mae = mean_absolute_error(val_y, pred)\n",
    "    mae_list.append(mae)\n",
    "    print(f'FOLD MAE = {mae}')\n",
    "    sub_pred = ngb.predict(target2) / 15\n",
    "    ngb_pred_2 += sub_pred\n",
    "print(f'\\n{ngb.__class__.__name__} MAE = {np.mean(mae_list)}')"
   ]
  },
  {
   "cell_type": "code",
   "execution_count": 73,
   "metadata": {},
   "outputs": [],
   "source": [
    "submission['중식계'] = ngb_pred_1\n",
    "submission['석식계'] = ngb_pred_2"
   ]
  },
  {
   "cell_type": "code",
   "execution_count": 74,
   "metadata": {},
   "outputs": [],
   "source": [
    "submission.to_csv('nbg_08.csv', index = False)"
   ]
  },
  {
   "cell_type": "markdown",
   "metadata": {},
   "source": [
    "### 앙상블"
   ]
  },
  {
   "cell_type": "code",
   "execution_count": 75,
   "metadata": {},
   "outputs": [],
   "source": [
    "nbg=pd.read_csv('nbg_08.csv')\n",
    "lgbm=pd.read_csv('lgbm_08.csv')\n",
    "\n",
    "ensemble=nbg.copy()\n",
    "ensemble['중식계']=nbg['중식계']*0.5+lgbm['중식계']*0.5\n",
    "ensemble['석식계']=nbg['석식계']*0.5+lgbm['석식계']*0.5"
   ]
  },
  {
   "cell_type": "markdown",
   "metadata": {},
   "source": [
    "### 2번째 서브미션"
   ]
  },
  {
   "cell_type": "code",
   "execution_count": 84,
   "metadata": {},
   "outputs": [],
   "source": [
    "ensemble.to_csv('ensemble_08.csv', index = False)"
   ]
  }
 ],
 "metadata": {
  "kernelspec": {
   "display_name": "Python 3",
   "language": "python",
   "name": "python3"
  },
  "language_info": {
   "codemirror_mode": {
    "name": "ipython",
    "version": 3
   },
   "file_extension": ".py",
   "mimetype": "text/x-python",
   "name": "python",
   "nbconvert_exporter": "python",
   "pygments_lexer": "ipython3",
   "version": "3.8.5"
  }
 },
 "nbformat": 4,
 "nbformat_minor": 4
}
