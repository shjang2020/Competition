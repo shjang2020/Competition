{
 "cells": [
  {
   "cell_type": "markdown",
   "metadata": {},
   "source": [
    "## Import"
   ]
  },
  {
   "cell_type": "code",
   "execution_count": 13,
   "metadata": {
    "collapsed": true,
    "jupyter": {
     "outputs_hidden": true
    }
   },
   "outputs": [
    {
     "name": "stdout",
     "output_type": "stream",
     "text": [
      "Defaulting to user installation because normal site-packages is not writeable\n",
      "Looking in indexes: https://pypi.org/simple, https://pypi.ngc.nvidia.com\n",
      "Collecting timm\n",
      "  Downloading timm-0.6.12-py3-none-any.whl (549 kB)\n",
      "\u001b[K     |████████████████████████████████| 549 kB 11.2 MB/s eta 0:00:01\n",
      "\u001b[?25hCollecting huggingface-hub\n",
      "  Downloading huggingface_hub-0.12.1-py3-none-any.whl (190 kB)\n",
      "\u001b[K     |████████████████████████████████| 190 kB 22.5 MB/s eta 0:00:01\n",
      "\u001b[?25hRequirement already satisfied: torch>=1.7 in /usr/local/lib/python3.8/dist-packages (from timm) (1.9.0+cu111)\n",
      "Requirement already satisfied: pyyaml in /usr/local/lib/python3.8/dist-packages (from timm) (5.3.1)\n",
      "Requirement already satisfied: torchvision in /usr/local/lib/python3.8/dist-packages (from timm) (0.10.0+cu111)\n",
      "Requirement already satisfied: typing-extensions in /usr/local/lib/python3.8/dist-packages (from torch>=1.7->timm) (3.7.4.1)\n",
      "Requirement already satisfied: tqdm>=4.42.1 in /usr/local/lib/python3.8/dist-packages (from huggingface-hub->timm) (4.55.1)\n",
      "Collecting typing-extensions\n",
      "  Downloading typing_extensions-4.5.0-py3-none-any.whl (27 kB)\n",
      "Collecting packaging>=20.9\n",
      "  Downloading packaging-23.0-py3-none-any.whl (42 kB)\n",
      "\u001b[K     |████████████████████████████████| 42 kB 42.7 MB/s eta 0:00:01\n",
      "\u001b[?25hRequirement already satisfied: requests in /usr/local/lib/python3.8/dist-packages (from huggingface-hub->timm) (2.25.1)\n",
      "Requirement already satisfied: filelock in /usr/local/lib/python3.8/dist-packages (from huggingface-hub->timm) (3.0.12)\n",
      "Requirement already satisfied: chardet<5,>=3.0.2 in /usr/local/lib/python3.8/dist-packages (from requests->huggingface-hub->timm) (3.0.4)\n",
      "Requirement already satisfied: idna<3,>=2.5 in /usr/local/lib/python3.8/dist-packages (from requests->huggingface-hub->timm) (2.9)\n",
      "Requirement already satisfied: certifi>=2017.4.17 in /usr/local/lib/python3.8/dist-packages (from requests->huggingface-hub->timm) (2019.11.28)\n",
      "Requirement already satisfied: urllib3<1.27,>=1.21.1 in /usr/local/lib/python3.8/dist-packages (from requests->huggingface-hub->timm) (1.26.5)\n",
      "Requirement already satisfied: numpy in /usr/local/lib/python3.8/dist-packages (from torchvision->timm) (1.19.4)\n",
      "Requirement already satisfied: pillow>=5.3.0 in /usr/local/lib/python3.8/dist-packages (from torchvision->timm) (6.2.2)\n",
      "Installing collected packages: typing-extensions, packaging, huggingface-hub, timm\n",
      "\u001b[33m  WARNING: The script huggingface-cli is installed in '/home/work/.local/bin' which is not on PATH.\n",
      "  Consider adding this directory to PATH or, if you prefer to suppress this warning, use --no-warn-script-location.\n",
      "  NOTE: The current PATH contains path(s) starting with `~`, which may not be expanded by all applications.\u001b[0m\n",
      "\u001b[31mERROR: pip's dependency resolver does not currently take into account all the packages that are installed. This behaviour is the source of the following dependency conflicts.\n",
      "tensorflow 2.4.0 requires typing-extensions~=3.7.4, but you have typing-extensions 4.5.0 which is incompatible.\n",
      "apache-beam 2.24.0 requires typing-extensions<3.8.0,>=3.7.0, but you have typing-extensions 4.5.0 which is incompatible.\u001b[0m\n",
      "Successfully installed huggingface-hub-0.12.1 packaging-23.0 timm-0.6.12 typing-extensions-4.5.0\n",
      "\u001b[33mWARNING: You are using pip version 21.1.2; however, version 23.0.1 is available.\n",
      "You should consider upgrading via the '/usr/bin/python3 -m pip install --upgrade pip' command.\u001b[0m\n"
     ]
    }
   ],
   "source": [
    "!pip install timm"
   ]
  },
  {
   "cell_type": "code",
   "execution_count": 1,
   "metadata": {},
   "outputs": [],
   "source": [
    "import os\n",
    "from collections import defaultdict\n",
    "from tqdm.notebook import tqdm\n",
    "import pandas as pd\n",
    "\n",
    "from tqdm.notebook import tqdm\n",
    "from sklearn.model_selection import train_test_split\n",
    "import numpy as np\n",
    "\n",
    "import torch\n",
    "import torch.nn as nn\n",
    "import torch.optim as optim\n",
    "from torch.utils.data import Dataset\n",
    "from torchvision import datasets, models, transforms\n",
    "\n",
    "from PIL import Image\n",
    "import cv2\n",
    "\n",
    "from sklearn.metrics import f1_score, accuracy_score\n",
    "import random"
   ]
  },
  {
   "cell_type": "code",
   "execution_count": 2,
   "metadata": {},
   "outputs": [],
   "source": [
    "label_mapper = defaultdict(list)"
   ]
  },
  {
   "cell_type": "code",
   "execution_count": 3,
   "metadata": {},
   "outputs": [],
   "source": [
    "# def without_split(path, name, func=lambda x: x):\n",
    "#     global label_mapper\n",
    "#     for folder in tqdm(os.listdir(path)):\n",
    "#         # path/folder\n",
    "#         if func(folder):\n",
    "#             # path/folder = temp\n",
    "#             temp = os.path.join(path, folder)\n",
    "#             # path/folder/file\n",
    "#             for filename in os.listdir(temp):\n",
    "#                 # path/folder/file -> label_mapper[folder_name]으로 저장\n",
    "#                 label_mapper[f\"{folder}_{name}\"].append(os.path.join(temp, filename))\n",
    "\n",
    "# def with_split(path, name, func=lambda x: x):\n",
    "#     global label_mapper\n",
    "#     for folder2 in tqdm(os.listdir(path)):\n",
    "#         # path/folder2\n",
    "#         if func(folder2):\n",
    "#             # path/folder2/folder\n",
    "#             for folder in os.listdir(os.path.join(path, folder2)):\n",
    "#                 # path/folder2/folder = temp\n",
    "#                 temp = os.path.join(path, folder2, folder)\n",
    "#                 # path/folder2/folder/file\n",
    "#                 for filename in os.listdir(temp):\n",
    "#                     # path/folder2/folder/file -> label_mapper[folder_name]으로 저장\n",
    "#                     label_mapper[f\"{folder}_{name}\"].append(os.path.join(temp, filename))"
   ]
  },
  {
   "cell_type": "code",
   "execution_count": 4,
   "metadata": {},
   "outputs": [],
   "source": [
    "df = pd.read_csv('./train.csv')"
   ]
  },
  {
   "cell_type": "code",
   "execution_count": 5,
   "metadata": {},
   "outputs": [],
   "source": [
    "df['crash_ego'] = df['label'].apply(lambda x: 0 if x==0 else 1 if x<=6 else 2)\n",
    "df['timing'] = df['label'].apply(lambda x: 1 if x in [1,3,5,7,9,11] else 2 if x in [2,4,6,8,10,12] else 0)\n",
    "df['weather'] = df['label'].apply(lambda x: 1 if x in [1,2,7,8] else 2 if x in [3,4,9,10] else 3 if x in [5,6,11,12] else 0)"
   ]
  },
  {
   "cell_type": "code",
   "execution_count": 6,
   "metadata": {},
   "outputs": [
    {
     "data": {
      "text/plain": [
       "defaultdict(list, {})"
      ]
     },
     "execution_count": 6,
     "metadata": {},
     "output_type": "execute_result"
    }
   ],
   "source": [
    "label_mapper"
   ]
  },
  {
   "cell_type": "code",
   "execution_count": 7,
   "metadata": {},
   "outputs": [],
   "source": [
    "df['image_path'] = df.sample_id.apply(lambda x: 'train_cap/'+x+'.jpg')"
   ]
  },
  {
   "cell_type": "code",
   "execution_count": 8,
   "metadata": {},
   "outputs": [],
   "source": [
    "for i in df.weather.unique():\n",
    "    for a in df[df.weather==i].image_path:\n",
    "        label_mapper[f'weather_{i}'].append(a)"
   ]
  },
  {
   "cell_type": "code",
   "execution_count": 9,
   "metadata": {},
   "outputs": [],
   "source": [
    "# label_mapper[f\"{folder}_{name}\"].append(os.path.join(path/folder/filename))"
   ]
  },
  {
   "cell_type": "code",
   "execution_count": 10,
   "metadata": {},
   "outputs": [
    {
     "data": {
      "application/vnd.jupyter.widget-view+json": {
       "model_id": "80176ba74e7e486581cebe25a34132dc",
       "version_major": 2,
       "version_minor": 0
      },
      "text/plain": [
       "  0%|          | 0/4 [00:00<?, ?it/s]"
      ]
     },
     "metadata": {},
     "output_type": "display_data"
    }
   ],
   "source": [
    "data = []\n",
    "n = 0\n",
    "for i, key in enumerate(tqdm(label_mapper)):\n",
    "    for sub in label_mapper[key]:\n",
    "        for p in [\"jpg\", \"jpeg\", \"png\"]:\n",
    "            if sub.endswith(p):\n",
    "                data.append([sub, i])\n",
    "                break\n",
    "        else:\n",
    "            n += 1"
   ]
  },
  {
   "cell_type": "code",
   "execution_count": 11,
   "metadata": {},
   "outputs": [],
   "source": [
    "train_df, valid_df = train_test_split(data, test_size=0.2, random_state=42, shuffle=True)"
   ]
  },
  {
   "cell_type": "code",
   "execution_count": 12,
   "metadata": {},
   "outputs": [],
   "source": [
    "import timm\n",
    "\n",
    "model = timm.create_model('convnext_tiny', pretrained=True,\n",
    "                          num_classes=len(label_mapper), in_chans=3).cuda()\n",
    "for x in model.parameters(): x.requires_grad = True"
   ]
  },
  {
   "cell_type": "markdown",
   "metadata": {},
   "source": [
    "## Fixed RandomSeed"
   ]
  },
  {
   "cell_type": "code",
   "execution_count": 13,
   "metadata": {},
   "outputs": [],
   "source": [
    "def set_seed():\n",
    "    random.seed(42)\n",
    "    np.random.seed(42)\n",
    "    torch.manual_seed(42)\n",
    "    torch.cuda.manual_seed(42)"
   ]
  },
  {
   "cell_type": "code",
   "execution_count": 19,
   "metadata": {},
   "outputs": [],
   "source": [
    "class AccidentDataset(Dataset):\n",
    "    def __init__(self, data_prep, transform=None):\n",
    "        self.data_prep = data_prep\n",
    "        self.transform = transforms.Compose([transforms.ToTensor(),\n",
    "                                             transforms.Normalize((0.485, 0.456, 0.406),\n",
    "                                                                  (0.229, 0.224, 0.225))])\n",
    "        self.size = (224, 224)\n",
    "\n",
    "    def __getitem__(self, idx):\n",
    "        try:\n",
    "            path, label = self.data_prep[idx][0], self.data_prep[idx][1]\n",
    "            image = Image.open(path)\n",
    "            image = image.convert(mode='RGB').resize(self.size)\n",
    "            if self.transform:\n",
    "                image = self.transform(image)\n",
    "            return True, image, torch.tensor(label).long()\n",
    "        except:\n",
    "            return False, torch.randn(3, 224, 224), torch.tensor(-1).long()\n",
    "    \n",
    "    def __len__(self):\n",
    "        return len(self.data_prep)"
   ]
  },
  {
   "cell_type": "code",
   "execution_count": 20,
   "metadata": {},
   "outputs": [],
   "source": [
    "set_seed()\n",
    "\n",
    "train_dataset = AccidentDataset(train_df)\n",
    "valid_dataset = AccidentDataset(valid_df)"
   ]
  },
  {
   "cell_type": "code",
   "execution_count": 21,
   "metadata": {},
   "outputs": [],
   "source": [
    "set_seed()\n",
    "\n",
    "train_loader = torch.utils.data.DataLoader(dataset=train_dataset, batch_size=32, \n",
    "                                           pin_memory=True, num_workers=2)\n",
    "\n",
    "valid_loader = torch.utils.data.DataLoader(dataset=valid_dataset, batch_size=32,\n",
    "                                           pin_memory=True, num_workers=2)"
   ]
  },
  {
   "cell_type": "code",
   "execution_count": 22,
   "metadata": {},
   "outputs": [],
   "source": [
    "def train(model, criterion, optimizer, train_dataloader, test_dataloader, num_epoch=10, path=\"/content/\", score_function=lambda x: x):\n",
    "    val_acc_log = []\n",
    "    \n",
    "    for epoch in tqdm(range(num_epoch)):\n",
    "        model.train()\n",
    "        pbar = tqdm(train_dataloader)\n",
    "        for flag, imgs, labels in pbar:\n",
    "            ################################\n",
    "            imgs = torch.stack([imgs[i] for i in range(len(flag))\n",
    "                                if flag[i]])\n",
    "            labels = torch.stack([labels[i] for i in range(len(flag))\n",
    "                                  if flag[i]])\n",
    "            if len(labels):\n",
    "                optimizer.zero_grad()\n",
    "                imgs = imgs.cuda()\n",
    "                labels = labels.cuda()\n",
    "                y_pred = model(imgs)\n",
    "                loss = criterion(y_pred, labels)\n",
    "                pbar.set_description(str(np.round(loss.cpu().detach().numpy(), decimals=6)))\n",
    "                loss.backward()\n",
    "                optimizer.step()\n",
    "        \n",
    "        full_path = os.path.join(path, f\"{model.__class__.__name__}_epoch_{epoch + 1}.pth\")\n",
    "        torch.save(model.state_dict(), full_path)\n",
    "        print(f\"Model saved to: {full_path}\")\n",
    "\n",
    "        val_pred = []\n",
    "        val_true = []\n",
    "        model.eval()\n",
    "        with torch.no_grad():\n",
    "            for flag, imgs, labels in tqdm(test_dataloader):\n",
    "                imgs = torch.stack([imgs[i] for i in range(len(flag))\n",
    "                                    if flag[i]])\n",
    "                labels = torch.stack([labels[i] for i in range(len(flag))\n",
    "                                      if flag[i]])\n",
    "                if len(labels):\n",
    "                    imgs = imgs.cuda()\n",
    "                    labels = labels.cuda()\n",
    "\n",
    "                    pred = model(imgs)\n",
    "                    val_pred.extend(pred.argmax(1).cpu().detach().numpy())\n",
    "                    val_true.extend(labels.cpu().detach().numpy())\n",
    "\n",
    "        val_acc_log.append(score_function(np.array(val_true), np.array(val_pred)))\n",
    "        print('Epoch', epoch + 1, f'Val {score_function.__name__}:', val_acc_log[-1])\n",
    "    return val_acc_log"
   ]
  },
  {
   "cell_type": "code",
   "execution_count": 24,
   "metadata": {},
   "outputs": [
    {
     "data": {
      "application/vnd.jupyter.widget-view+json": {
       "model_id": "70804f53697d47fc8fb8b4b94eb9cecb",
       "version_major": 2,
       "version_minor": 0
      },
      "text/plain": [
       "  0%|          | 0/10 [00:00<?, ?it/s]"
      ]
     },
     "metadata": {},
     "output_type": "display_data"
    },
    {
     "data": {
      "application/vnd.jupyter.widget-view+json": {
       "model_id": "313938e2145645ffb4ca2c14a40d7de7",
       "version_major": 2,
       "version_minor": 0
      },
      "text/plain": [
       "  0%|          | 0/68 [00:00<?, ?it/s]"
      ]
     },
     "metadata": {},
     "output_type": "display_data"
    },
    {
     "name": "stdout",
     "output_type": "stream",
     "text": [
      "Model saved to: model/ConvNeXt_epoch_1.pth\n"
     ]
    },
    {
     "data": {
      "application/vnd.jupyter.widget-view+json": {
       "model_id": "fb5f40b00b16492cbf622bbe60e67b6c",
       "version_major": 2,
       "version_minor": 0
      },
      "text/plain": [
       "  0%|          | 0/17 [00:00<?, ?it/s]"
      ]
     },
     "metadata": {},
     "output_type": "display_data"
    },
    {
     "name": "stdout",
     "output_type": "stream",
     "text": [
      "Epoch 1 Val accuracy_score: 0.6574074074074074\n"
     ]
    },
    {
     "data": {
      "application/vnd.jupyter.widget-view+json": {
       "model_id": "87c181c54123499eaa58b4409621b5a7",
       "version_major": 2,
       "version_minor": 0
      },
      "text/plain": [
       "  0%|          | 0/68 [00:00<?, ?it/s]"
      ]
     },
     "metadata": {},
     "output_type": "display_data"
    },
    {
     "name": "stdout",
     "output_type": "stream",
     "text": [
      "Model saved to: model/ConvNeXt_epoch_2.pth\n"
     ]
    },
    {
     "data": {
      "application/vnd.jupyter.widget-view+json": {
       "model_id": "89a76e4228f344ca9504c46a0694bee4",
       "version_major": 2,
       "version_minor": 0
      },
      "text/plain": [
       "  0%|          | 0/17 [00:00<?, ?it/s]"
      ]
     },
     "metadata": {},
     "output_type": "display_data"
    },
    {
     "name": "stdout",
     "output_type": "stream",
     "text": [
      "Epoch 2 Val accuracy_score: 0.6574074074074074\n"
     ]
    },
    {
     "data": {
      "application/vnd.jupyter.widget-view+json": {
       "model_id": "5f5b18701f664656ac1f43c85d80d294",
       "version_major": 2,
       "version_minor": 0
      },
      "text/plain": [
       "  0%|          | 0/68 [00:00<?, ?it/s]"
      ]
     },
     "metadata": {},
     "output_type": "display_data"
    },
    {
     "name": "stdout",
     "output_type": "stream",
     "text": [
      "Model saved to: model/ConvNeXt_epoch_3.pth\n"
     ]
    },
    {
     "data": {
      "application/vnd.jupyter.widget-view+json": {
       "model_id": "ff06ec9e8e264d34bb3fd374971631a6",
       "version_major": 2,
       "version_minor": 0
      },
      "text/plain": [
       "  0%|          | 0/17 [00:00<?, ?it/s]"
      ]
     },
     "metadata": {},
     "output_type": "display_data"
    },
    {
     "name": "stdout",
     "output_type": "stream",
     "text": [
      "Epoch 3 Val accuracy_score: 0.6574074074074074\n"
     ]
    },
    {
     "data": {
      "application/vnd.jupyter.widget-view+json": {
       "model_id": "0fa2968f2fcc4a05950c4330205836eb",
       "version_major": 2,
       "version_minor": 0
      },
      "text/plain": [
       "  0%|          | 0/68 [00:00<?, ?it/s]"
      ]
     },
     "metadata": {},
     "output_type": "display_data"
    },
    {
     "name": "stdout",
     "output_type": "stream",
     "text": [
      "Model saved to: model/ConvNeXt_epoch_4.pth\n"
     ]
    },
    {
     "data": {
      "application/vnd.jupyter.widget-view+json": {
       "model_id": "794f4f476d8d42858eddac480b96bb6c",
       "version_major": 2,
       "version_minor": 0
      },
      "text/plain": [
       "  0%|          | 0/17 [00:00<?, ?it/s]"
      ]
     },
     "metadata": {},
     "output_type": "display_data"
    },
    {
     "name": "stdout",
     "output_type": "stream",
     "text": [
      "Epoch 4 Val accuracy_score: 0.6574074074074074\n"
     ]
    },
    {
     "data": {
      "application/vnd.jupyter.widget-view+json": {
       "model_id": "422b8319452e4296990adc77fafcac62",
       "version_major": 2,
       "version_minor": 0
      },
      "text/plain": [
       "  0%|          | 0/68 [00:00<?, ?it/s]"
      ]
     },
     "metadata": {},
     "output_type": "display_data"
    },
    {
     "name": "stdout",
     "output_type": "stream",
     "text": [
      "Model saved to: model/ConvNeXt_epoch_5.pth\n"
     ]
    },
    {
     "data": {
      "application/vnd.jupyter.widget-view+json": {
       "model_id": "d01a25a660224721a59af45bcd879339",
       "version_major": 2,
       "version_minor": 0
      },
      "text/plain": [
       "  0%|          | 0/17 [00:00<?, ?it/s]"
      ]
     },
     "metadata": {},
     "output_type": "display_data"
    },
    {
     "name": "stdout",
     "output_type": "stream",
     "text": [
      "Epoch 5 Val accuracy_score: 0.6574074074074074\n"
     ]
    },
    {
     "data": {
      "application/vnd.jupyter.widget-view+json": {
       "model_id": "0d3949f9076f42f3964cffff5b3dea60",
       "version_major": 2,
       "version_minor": 0
      },
      "text/plain": [
       "  0%|          | 0/68 [00:00<?, ?it/s]"
      ]
     },
     "metadata": {},
     "output_type": "display_data"
    },
    {
     "name": "stdout",
     "output_type": "stream",
     "text": [
      "Model saved to: model/ConvNeXt_epoch_6.pth\n"
     ]
    },
    {
     "data": {
      "application/vnd.jupyter.widget-view+json": {
       "model_id": "e3774de874ca46168e03fd30e00dbe08",
       "version_major": 2,
       "version_minor": 0
      },
      "text/plain": [
       "  0%|          | 0/17 [00:00<?, ?it/s]"
      ]
     },
     "metadata": {},
     "output_type": "display_data"
    },
    {
     "name": "stdout",
     "output_type": "stream",
     "text": [
      "Epoch 6 Val accuracy_score: 0.6574074074074074\n"
     ]
    },
    {
     "data": {
      "application/vnd.jupyter.widget-view+json": {
       "model_id": "076a8ddce30d4b1f8fe864a5887b0ed3",
       "version_major": 2,
       "version_minor": 0
      },
      "text/plain": [
       "  0%|          | 0/68 [00:00<?, ?it/s]"
      ]
     },
     "metadata": {},
     "output_type": "display_data"
    },
    {
     "name": "stdout",
     "output_type": "stream",
     "text": [
      "Model saved to: model/ConvNeXt_epoch_7.pth\n"
     ]
    },
    {
     "data": {
      "application/vnd.jupyter.widget-view+json": {
       "model_id": "5380480523da4d0cab1aca7952a48821",
       "version_major": 2,
       "version_minor": 0
      },
      "text/plain": [
       "  0%|          | 0/17 [00:00<?, ?it/s]"
      ]
     },
     "metadata": {},
     "output_type": "display_data"
    },
    {
     "name": "stdout",
     "output_type": "stream",
     "text": [
      "Epoch 7 Val accuracy_score: 0.6574074074074074\n"
     ]
    },
    {
     "data": {
      "application/vnd.jupyter.widget-view+json": {
       "model_id": "fdfa66c5020b471393514416144f7dd8",
       "version_major": 2,
       "version_minor": 0
      },
      "text/plain": [
       "  0%|          | 0/68 [00:00<?, ?it/s]"
      ]
     },
     "metadata": {},
     "output_type": "display_data"
    },
    {
     "name": "stdout",
     "output_type": "stream",
     "text": [
      "Model saved to: model/ConvNeXt_epoch_8.pth\n"
     ]
    },
    {
     "data": {
      "application/vnd.jupyter.widget-view+json": {
       "model_id": "a15b15d6b3164ca48659fe12a9d7bd65",
       "version_major": 2,
       "version_minor": 0
      },
      "text/plain": [
       "  0%|          | 0/17 [00:00<?, ?it/s]"
      ]
     },
     "metadata": {},
     "output_type": "display_data"
    },
    {
     "name": "stdout",
     "output_type": "stream",
     "text": [
      "Epoch 8 Val accuracy_score: 0.6574074074074074\n"
     ]
    },
    {
     "data": {
      "application/vnd.jupyter.widget-view+json": {
       "model_id": "d29a765822394f95a58d86a7780b7749",
       "version_major": 2,
       "version_minor": 0
      },
      "text/plain": [
       "  0%|          | 0/68 [00:00<?, ?it/s]"
      ]
     },
     "metadata": {},
     "output_type": "display_data"
    },
    {
     "name": "stdout",
     "output_type": "stream",
     "text": [
      "Model saved to: model/ConvNeXt_epoch_9.pth\n"
     ]
    },
    {
     "data": {
      "application/vnd.jupyter.widget-view+json": {
       "model_id": "b27845dc394140c383a92e973bdacade",
       "version_major": 2,
       "version_minor": 0
      },
      "text/plain": [
       "  0%|          | 0/17 [00:00<?, ?it/s]"
      ]
     },
     "metadata": {},
     "output_type": "display_data"
    },
    {
     "name": "stdout",
     "output_type": "stream",
     "text": [
      "Epoch 9 Val accuracy_score: 0.6574074074074074\n"
     ]
    },
    {
     "data": {
      "application/vnd.jupyter.widget-view+json": {
       "model_id": "dbdb86a2e8db46cfac4193ca0bfc93a8",
       "version_major": 2,
       "version_minor": 0
      },
      "text/plain": [
       "  0%|          | 0/68 [00:00<?, ?it/s]"
      ]
     },
     "metadata": {},
     "output_type": "display_data"
    },
    {
     "name": "stdout",
     "output_type": "stream",
     "text": [
      "Model saved to: model/ConvNeXt_epoch_10.pth\n"
     ]
    },
    {
     "data": {
      "application/vnd.jupyter.widget-view+json": {
       "model_id": "6d754383c3554f6783c6e29c873b4d3a",
       "version_major": 2,
       "version_minor": 0
      },
      "text/plain": [
       "  0%|          | 0/17 [00:00<?, ?it/s]"
      ]
     },
     "metadata": {},
     "output_type": "display_data"
    },
    {
     "name": "stdout",
     "output_type": "stream",
     "text": [
      "Epoch 10 Val accuracy_score: 0.6574074074074074\n"
     ]
    }
   ],
   "source": [
    "set_seed()\n",
    "\n",
    "criterion = torch.nn.CrossEntropyLoss()\n",
    "optimizer = torch.optim.AdamW(model.parameters(), lr=0.003)\n",
    "val_acc_log = train(model, criterion, optimizer, train_loader, valid_loader, num_epoch=10, score_function=accuracy_score, path=\"model/\")"
   ]
  },
  {
   "cell_type": "code",
   "execution_count": null,
   "metadata": {},
   "outputs": [],
   "source": []
  },
  {
   "cell_type": "code",
   "execution_count": null,
   "metadata": {},
   "outputs": [],
   "source": []
  },
  {
   "cell_type": "code",
   "execution_count": null,
   "metadata": {},
   "outputs": [],
   "source": []
  },
  {
   "cell_type": "markdown",
   "metadata": {},
   "source": [
    "## Data Load"
   ]
  },
  {
   "cell_type": "code",
   "execution_count": 46,
   "metadata": {},
   "outputs": [],
   "source": [
    "class_names = sorted(df['weather'].unique())\n",
    "n_classes = len(class_names)"
   ]
  },
  {
   "cell_type": "code",
   "execution_count": 52,
   "metadata": {},
   "outputs": [],
   "source": [
    "class_dis = list(df['weather'].value_counts().values)"
   ]
  },
  {
   "cell_type": "markdown",
   "metadata": {},
   "source": [
    "#### Image Classification(Recognition)_CustomDataset"
   ]
  },
  {
   "cell_type": "code",
   "execution_count": 56,
   "metadata": {},
   "outputs": [],
   "source": [
    "root_path = 'train_cap/'"
   ]
  },
  {
   "cell_type": "code",
   "execution_count": 57,
   "metadata": {},
   "outputs": [
    {
     "name": "stdout",
     "output_type": "stream",
     "text": [
      "Found 0 images belonging to 0 classes.\n",
      "Found 0 images belonging to 0 classes.\n"
     ]
    }
   ],
   "source": [
    "# Initialize DataGenerator\n",
    "train_gen = IDG(rescale=1./255, horizontal_flip=True, rotation_range=20, validation_split=0.2)\n",
    "\n",
    "# Load Data\n",
    "train_ds = train_gen.flow_from_directory(root_path, target_size=(256,256), class_mode=\"binary\", subset='training', shuffle=True, batch_size=32)\n",
    "valid_ds = train_gen.flow_from_directory(root_path, target_size=(256,256), class_mode=\"binary\", subset='validation', shuffle=True, batch_size=32)"
   ]
  },
  {
   "cell_type": "code",
   "execution_count": 12,
   "metadata": {},
   "outputs": [],
   "source": [
    "data = list()\n",
    "for n, i in enumerate(sorted(os.listdir('train_cap'))):\n",
    "    image = 'train_cap/' + i\n",
    "    weather = df.loc[n, 'weather']\n",
    "    timing = df.loc[n, 'timing']\n",
    "    data.append((weather, timing, image))\n",
    "    \n",
    "data = pd.DataFrame(data, columns = ['weather','timing','image_path'])\n",
    "\n",
    "unique_wea= data['weather'].unique()\n",
    "unique_tim= data['timing'].unique()"
   ]
  },
  {
   "cell_type": "code",
   "execution_count": 13,
   "metadata": {},
   "outputs": [],
   "source": [
    "def process_image(img):\n",
    "    try:\n",
    "        pic = cv2.imread(img)\n",
    "        pic = cv2.cvtColor(pic, cv2.COLOR_BGR2RGB)\n",
    "        pic = cv2.resize(pic, (256, 256), interpolation=cv2.INTER_AREA)\n",
    "        pic = np.array(pic, dtype=np.float32)\n",
    "        return pic\n",
    "    except:\n",
    "        return np.zeros(shape=(256, 256, 3), dtype=np.float32)"
   ]
  },
  {
   "cell_type": "code",
   "execution_count": 14,
   "metadata": {},
   "outputs": [
    {
     "data": {
      "text/plain": [
       "(2698, 256, 256, 3)"
      ]
     },
     "execution_count": 14,
     "metadata": {},
     "output_type": "execute_result"
    }
   ],
   "source": [
    "list_of_paths = data[\"image_path\"].to_numpy()\n",
    "images = [process_image(path) for path in list_of_paths]\n",
    "images = np.array(images, dtype=np.float32)\n",
    "images.shape"
   ]
  },
  {
   "cell_type": "code",
   "execution_count": 24,
   "metadata": {},
   "outputs": [],
   "source": [
    "unique_wea = list(unique_wea) # Use for indexing the labels - (\"hail\", 0), (\"rainbow\", 1)\n",
    "wea = data[\"weather\"].to_numpy()"
   ]
  },
  {
   "cell_type": "code",
   "execution_count": 26,
   "metadata": {},
   "outputs": [],
   "source": [
    "unique_tim = list(unique_tim) # Use for indexing the labels - (\"hail\", 0), (\"rainbow\", 1)\n",
    "tim = data[\"timing\"].to_numpy()"
   ]
  },
  {
   "cell_type": "markdown",
   "metadata": {},
   "source": [
    "#### Split into train and test"
   ]
  },
  {
   "cell_type": "code",
   "execution_count": 28,
   "metadata": {},
   "outputs": [],
   "source": [
    "images_train_wea, images_test_wea, labels_train_wea, labels_test_wea = train_test_split(images, wea, test_size=0.2)\n",
    "\n",
    "images_train_tim, images_test_tim, labels_train_tim, labels_test_tim = train_test_split(images, tim, test_size=0.2)"
   ]
  },
  {
   "cell_type": "code",
   "execution_count": 29,
   "metadata": {},
   "outputs": [],
   "source": [
    "images_train_wea = torch.from_numpy(images_train_wea).permute(0, 3, 1, 2)\n",
    "images_test_wea = torch.from_numpy(images_test_wea).permute(0, 3, 1, 2)\n",
    "labels_train_wea = torch.from_numpy(labels_train_wea)\n",
    "labels_test_wea = torch.from_numpy(labels_test_wea)\n",
    "\n",
    "images_train_tim = torch.from_numpy(images_train_tim).permute(0, 3, 1, 2)\n",
    "images_test_tim = torch.from_numpy(images_test_tim).permute(0, 3, 1, 2)\n",
    "labels_train_tim = torch.from_numpy(labels_train_tim)\n",
    "labels_test_tim = torch.from_numpy(labels_test_tim)"
   ]
  },
  {
   "cell_type": "code",
   "execution_count": 30,
   "metadata": {},
   "outputs": [],
   "source": [
    "del images\n",
    "_ = gc.collect()"
   ]
  },
  {
   "cell_type": "code",
   "execution_count": 31,
   "metadata": {},
   "outputs": [],
   "source": [
    "# Hyperparams Configuration.\n",
    "args = {\n",
    "    'epoch_num': 150,     \n",
    "    'lr': 1e-3,           # Learning Rate\n",
    "    'weight_decay': 1e-3, # L2 Penalty\n",
    "    'batch_size': 32\n",
    "}"
   ]
  },
  {
   "cell_type": "code",
   "execution_count": 32,
   "metadata": {},
   "outputs": [
    {
     "name": "stdout",
     "output_type": "stream",
     "text": [
      "cuda\n"
     ]
    }
   ],
   "source": [
    "if torch.cuda.is_available():\n",
    "    args[\"device\"] = torch.device(\"cuda\")\n",
    "else:\n",
    "    args[\"device\"] = torch.device(\"cpu\")\n",
    "    \n",
    "print(args[\"device\"])"
   ]
  },
  {
   "cell_type": "markdown",
   "metadata": {},
   "source": [
    "### Dataloader"
   ]
  },
  {
   "cell_type": "code",
   "execution_count": 33,
   "metadata": {},
   "outputs": [],
   "source": [
    "class ImagesLabelsDataset(Dataset):\n",
    "    def __init__(self, images_array, labels_array, scaler_feat=None, scaler_label=None):\n",
    "\n",
    "        self.labels = labels_array\n",
    "        self.images = images_array\n",
    "        \n",
    "    def __getitem__(self, idx):\n",
    "\n",
    "        sample = self.images[idx]\n",
    "        label  = self.labels[idx]\n",
    "\n",
    "        return sample, label\n",
    "\n",
    "    def __len__(self):\n",
    "        return len(self.labels)"
   ]
  },
  {
   "cell_type": "code",
   "execution_count": 34,
   "metadata": {},
   "outputs": [],
   "source": [
    "# - Dataset first - #\n",
    "train_set_wea = ImagesLabelsDataset(images_train_wea, labels_train_wea)\n",
    "test_set_wea = ImagesLabelsDataset(images_test_wea, labels_test_wea)\n",
    "\n",
    "# - Dataloader - #\n",
    "train_loader_wea = DataLoader(train_set_wea, args['batch_size'], shuffle=True)\n",
    "test_loader_wea = DataLoader(test_set_wea, args['batch_size'], shuffle=False)"
   ]
  },
  {
   "cell_type": "code",
   "execution_count": 35,
   "metadata": {},
   "outputs": [],
   "source": [
    "# - Dataset first - #\n",
    "train_set_tim = ImagesLabelsDataset(images_train_tim, labels_train_tim)\n",
    "test_set_tim = ImagesLabelsDataset(images_test_tim, labels_test_tim)\n",
    "\n",
    "# - Dataloader - #\n",
    "train_loader_tim = DataLoader(train_set_tim, args['batch_size'], shuffle=True)\n",
    "test_loader_tim = DataLoader(test_set_tim, args['batch_size'], shuffle=False)"
   ]
  },
  {
   "cell_type": "code",
   "execution_count": 36,
   "metadata": {},
   "outputs": [],
   "source": [
    "class ConvolutionalModel(nn.Module):\n",
    "    def __init__(self, output_size):\n",
    "        super().__init__()\n",
    "        self.net = nn.Sequential(\n",
    "            ## ConvBlock 1\n",
    "            nn.Conv2d(3, 6, kernel_size=4, stride=1, padding=0),        \n",
    "            # Input: (b, 3, 256, 256) || Output: (b, 6, 250, 250)\n",
    "            nn.BatchNorm2d(6),\n",
    "            nn.Tanh(),\n",
    "            nn.AvgPool2d(kernel_size=5, stride=5, padding=0),           \n",
    "            # Input: (b, 6, 250, 250) || Output: (b, 6, 50, 50)\n",
    "\n",
    "            ## ConvBlock 2\n",
    "            nn.Conv2d(6, 16, kernel_size=5, stride=1, padding=0),       \n",
    "            # Input: (b, 6, 50, 50) || Output: (b, 16, 46, 46)\n",
    "            nn.BatchNorm2d(16),\n",
    "            nn.Tanh(),\n",
    "            nn.AvgPool2d(kernel_size=2, stride=2, padding=0),           \n",
    "            # Input: (b, 16, 46, 46) || Output: (b, 16, 23, 23)\n",
    "\n",
    "            ## ConvBlock 3\n",
    "            nn.Conv2d(16, 32, kernel_size=8, stride=1, padding=0),     \n",
    "            # Input: (b, 16, 23, 23) || Output: (b, 32, 16, 16)\n",
    "            nn.BatchNorm2d(32),\n",
    "            nn.Tanh(),\n",
    "            nn.AvgPool2d(kernel_size=4, stride=4, padding=0),           \n",
    "            # Input: (b, 32, 16, 16) || Output: (b, 32, 4, 4)\n",
    "\n",
    "            ## ConvBlock 4\n",
    "            nn.Conv2d(32, 120, kernel_size=4, stride=1, padding=0),     \n",
    "            # Input: (b, 32, 4, 4) || Output: (b, 120, 1, 1)\n",
    "            nn.BatchNorm2d(120),\n",
    "            nn.Tanh(),\n",
    "            nn.Flatten(),  # flat to a vector                \n",
    "            # Input: (b, 120, 1, 1) || Output: (b, 120*1*1) = (b, 120)\n",
    "            \n",
    "            nn.Dropout(p=0.32), # Avoid Overfitting\n",
    "            ## DenseBlock\n",
    "            nn.Linear(120, 84),                                         \n",
    "            # Input: (b, 120) || Output: (b, 84)\n",
    "            nn.Tanh(),\n",
    "            nn.Linear(84, output_size)                                \n",
    "            # Input: (b, 84) || Output: (b, 10)\n",
    "        )\n",
    "        \n",
    "    def forward(self, X):\n",
    "        output = self.net(X)\n",
    "        return output"
   ]
  },
  {
   "cell_type": "code",
   "execution_count": 37,
   "metadata": {},
   "outputs": [],
   "source": [
    "net_wea = ConvolutionalModel(len(unique_wea)).to(args[\"device\"])\n",
    "net_tim = ConvolutionalModel(len(unique_tim)).to(args[\"device\"])"
   ]
  },
  {
   "cell_type": "markdown",
   "metadata": {},
   "source": [
    "### Training"
   ]
  },
  {
   "cell_type": "code",
   "execution_count": 38,
   "metadata": {},
   "outputs": [],
   "source": [
    "criterion_wea = nn.CrossEntropyLoss().to(args['device'])\n",
    "optimizer_wea = torch.optim.Adam(net_wea.parameters(), lr=args['lr'], weight_decay=args['weight_decay'])\n",
    "\n",
    "criterion_tim = nn.CrossEntropyLoss().to(args['device'])\n",
    "optimizer_tim = torch.optim.Adam(net_tim.parameters(), lr=args['lr'], weight_decay=args['weight_decay'])"
   ]
  },
  {
   "cell_type": "code",
   "execution_count": 39,
   "metadata": {},
   "outputs": [],
   "source": [
    "def train(train_loader, net, epoch, criterion, optimizer):\n",
    "    net.train()\n",
    "    start = time.time()\n",
    "    \n",
    "    epoch_loss = list()\n",
    "    pred_list, label_list = np.array([]), np.array([])\n",
    "    \n",
    "    for batch in train_loader:\n",
    "        image, label = batch\n",
    "        \n",
    "        # GPU Casting\n",
    "        image = image.to(args[\"device\"])\n",
    "        label = label.to(args[\"device\"])\n",
    "        \n",
    "        # Forward\n",
    "        pred_label = net(image)\n",
    "        loss = criterion(pred_label, label)\n",
    "        epoch_loss.append(loss.cpu().data)\n",
    "        \n",
    "        _, pred = torch.max(pred_label, axis=1)\n",
    "        pred_list = np.append(pred_list, pred.cpu().numpy())\n",
    "        label_list = np.append(label_list, label.cpu().numpy())\n",
    "        \n",
    "        # Backpropagation\n",
    "        optimizer.zero_grad()\n",
    "        loss.backward()\n",
    "        optimizer.step()\n",
    "        \n",
    "    epoch_loss = np.asarray(epoch_loss)\n",
    "    epoch_acc = accuracy_score(label_list, pred_list)\n",
    "    end = time.time()\n",
    "    \n",
    "    print(\"## -- Training -- ##\")\n",
    "    print(\"Epoch: %d || Loss: %.3f +/- %.3f || Accuracy:  %.2f || Time: %.2f\" % (epoch, epoch_loss.mean(),\n",
    "                                                                                epoch_loss.std(), epoch_acc, end-start))\n",
    "    \n",
    "    return epoch_loss.mean()"
   ]
  },
  {
   "cell_type": "code",
   "execution_count": 40,
   "metadata": {},
   "outputs": [],
   "source": [
    "def validate(test_loader, net, epoch, criterion):\n",
    "    net.eval()\n",
    "    start = time.time()\n",
    "    \n",
    "    epoch_loss = list()\n",
    "    pred_list, label_list = np.array([]), np.array([])\n",
    "    \n",
    "    with torch.no_grad():\n",
    "        for batch in test_loader:\n",
    "            image, label = batch\n",
    "            \n",
    "            # Casting to GPU\n",
    "            image = image.to(args[\"device\"])\n",
    "            label = label.to(args[\"device\"])\n",
    "            \n",
    "            # Forward\n",
    "            pred_label = net(image)\n",
    "            loss = criterion(pred_label, label)\n",
    "            epoch_loss.append(loss.cpu().data)\n",
    "            \n",
    "            _, pred = torch.max(pred_label, axis=1)\n",
    "            pred_list = np.append(pred_list, pred.cpu().numpy())\n",
    "            label_list = np.append(label_list, label.cpu().numpy())\n",
    "        \n",
    "    # Transforming to NumPy Array\n",
    "    epoch_loss = np.asarray(epoch_loss)\n",
    "    epoch_acc = accuracy_score(label_list, pred_list)\n",
    "    end = time.time()\n",
    "\n",
    "    print(\"*** Validate ***\")\n",
    "    print(\"Epoch: %d || Loss: %.3f +/- %.3f || Accuracy:  %.2f || Time: %.2f\\n\" % (epoch, epoch_loss.mean(), epoch_loss.std(), epoch_acc, end-start))\n",
    "        \n",
    "    return epoch_loss.mean()"
   ]
  },
  {
   "cell_type": "code",
   "execution_count": 42,
   "metadata": {
    "collapsed": true,
    "jupyter": {
     "outputs_hidden": true
    }
   },
   "outputs": [
    {
     "name": "stdout",
     "output_type": "stream",
     "text": [
      "## -- Training -- ##\n",
      "Epoch: 0 || Loss: 1.048 +/- 0.203 || Accuracy:  0.67 || Time: 28.71\n",
      "*** Validate ***\n",
      "Epoch: 0 || Loss: 0.777 +/- 0.144 || Accuracy:  0.78 || Time: 6.70\n",
      "\n",
      "## -- Training -- ##\n",
      "Epoch: 1 || Loss: 0.722 +/- 0.143 || Accuracy:  0.78 || Time: 6.38\n",
      "*** Validate ***\n",
      "Epoch: 1 || Loss: 0.695 +/- 0.204 || Accuracy:  0.76 || Time: 1.77\n",
      "\n",
      "## -- Training -- ##\n",
      "Epoch: 2 || Loss: 0.632 +/- 0.162 || Accuracy:  0.78 || Time: 6.22\n",
      "*** Validate ***\n",
      "Epoch: 2 || Loss: 0.661 +/- 0.235 || Accuracy:  0.78 || Time: 2.28\n",
      "\n",
      "## -- Training -- ##\n",
      "Epoch: 3 || Loss: 0.607 +/- 0.141 || Accuracy:  0.79 || Time: 5.78\n",
      "*** Validate ***\n",
      "Epoch: 3 || Loss: 0.905 +/- 0.203 || Accuracy:  0.64 || Time: 0.37\n",
      "\n",
      "## -- Training -- ##\n",
      "Epoch: 4 || Loss: 0.589 +/- 0.195 || Accuracy:  0.80 || Time: 5.98\n",
      "*** Validate ***\n",
      "Epoch: 4 || Loss: 0.563 +/- 0.181 || Accuracy:  0.80 || Time: 0.87\n",
      "\n",
      "## -- Training -- ##\n",
      "Epoch: 5 || Loss: 0.580 +/- 0.162 || Accuracy:  0.79 || Time: 6.48\n",
      "*** Validate ***\n",
      "Epoch: 5 || Loss: 0.639 +/- 0.163 || Accuracy:  0.75 || Time: 0.79\n",
      "\n",
      "## -- Training -- ##\n",
      "Epoch: 6 || Loss: 0.553 +/- 0.158 || Accuracy:  0.81 || Time: 6.54\n",
      "*** Validate ***\n",
      "Epoch: 6 || Loss: 0.583 +/- 0.218 || Accuracy:  0.81 || Time: 0.62\n",
      "\n",
      "## -- Training -- ##\n",
      "Epoch: 7 || Loss: 0.541 +/- 0.141 || Accuracy:  0.81 || Time: 5.10\n",
      "*** Validate ***\n",
      "Epoch: 7 || Loss: 0.667 +/- 0.215 || Accuracy:  0.75 || Time: 1.01\n",
      "\n",
      "## -- Training -- ##\n",
      "Epoch: 8 || Loss: 0.534 +/- 0.151 || Accuracy:  0.82 || Time: 7.13\n",
      "*** Validate ***\n",
      "Epoch: 8 || Loss: 0.572 +/- 0.243 || Accuracy:  0.81 || Time: 2.23\n",
      "\n",
      "## -- Training -- ##\n",
      "Epoch: 9 || Loss: 0.514 +/- 0.139 || Accuracy:  0.82 || Time: 8.00\n",
      "*** Validate ***\n",
      "Epoch: 9 || Loss: 0.566 +/- 0.242 || Accuracy:  0.83 || Time: 1.88\n",
      "\n",
      "## -- Training -- ##\n",
      "Epoch: 10 || Loss: 0.522 +/- 0.156 || Accuracy:  0.82 || Time: 7.11\n",
      "*** Validate ***\n",
      "Epoch: 10 || Loss: 0.629 +/- 0.251 || Accuracy:  0.78 || Time: 1.30\n",
      "\n",
      "## -- Training -- ##\n",
      "Epoch: 11 || Loss: 0.516 +/- 0.157 || Accuracy:  0.82 || Time: 6.53\n",
      "*** Validate ***\n",
      "Epoch: 11 || Loss: 0.800 +/- 0.308 || Accuracy:  0.74 || Time: 2.14\n",
      "\n",
      "## -- Training -- ##\n",
      "Epoch: 12 || Loss: 0.505 +/- 0.156 || Accuracy:  0.82 || Time: 7.16\n",
      "*** Validate ***\n",
      "Epoch: 12 || Loss: 0.746 +/- 0.293 || Accuracy:  0.75 || Time: 1.28\n",
      "\n",
      "## -- Training -- ##\n",
      "Epoch: 13 || Loss: 0.489 +/- 0.125 || Accuracy:  0.82 || Time: 7.16\n",
      "*** Validate ***\n",
      "Epoch: 13 || Loss: 0.640 +/- 0.261 || Accuracy:  0.79 || Time: 0.80\n",
      "\n",
      "## -- Training -- ##\n",
      "Epoch: 14 || Loss: 0.477 +/- 0.129 || Accuracy:  0.83 || Time: 6.79\n",
      "*** Validate ***\n",
      "Epoch: 14 || Loss: 0.812 +/- 0.204 || Accuracy:  0.70 || Time: 0.61\n",
      "\n",
      "## -- Training -- ##\n",
      "Epoch: 15 || Loss: 0.481 +/- 0.148 || Accuracy:  0.83 || Time: 7.36\n",
      "*** Validate ***\n",
      "Epoch: 15 || Loss: 0.513 +/- 0.190 || Accuracy:  0.81 || Time: 0.92\n",
      "\n",
      "## -- Training -- ##\n",
      "Epoch: 16 || Loss: 0.471 +/- 0.113 || Accuracy:  0.83 || Time: 7.12\n",
      "*** Validate ***\n",
      "Epoch: 16 || Loss: 0.837 +/- 0.170 || Accuracy:  0.69 || Time: 2.27\n",
      "\n",
      "## -- Training -- ##\n",
      "Epoch: 17 || Loss: 0.443 +/- 0.149 || Accuracy:  0.83 || Time: 7.99\n",
      "*** Validate ***\n",
      "Epoch: 17 || Loss: 0.597 +/- 0.203 || Accuracy:  0.79 || Time: 2.07\n",
      "\n",
      "## -- Training -- ##\n",
      "Epoch: 18 || Loss: 0.437 +/- 0.139 || Accuracy:  0.85 || Time: 6.52\n",
      "*** Validate ***\n",
      "Epoch: 18 || Loss: 0.606 +/- 0.232 || Accuracy:  0.79 || Time: 0.15\n",
      "\n",
      "## -- Training -- ##\n",
      "Epoch: 19 || Loss: 0.436 +/- 0.143 || Accuracy:  0.85 || Time: 7.23\n",
      "*** Validate ***\n",
      "Epoch: 19 || Loss: 0.506 +/- 0.170 || Accuracy:  0.82 || Time: 1.77\n",
      "\n",
      "## -- Training -- ##\n",
      "Epoch: 20 || Loss: 0.434 +/- 0.181 || Accuracy:  0.84 || Time: 8.46\n",
      "*** Validate ***\n",
      "Epoch: 20 || Loss: 0.517 +/- 0.226 || Accuracy:  0.83 || Time: 1.32\n",
      "\n",
      "## -- Training -- ##\n",
      "Epoch: 21 || Loss: 0.436 +/- 0.149 || Accuracy:  0.85 || Time: 5.17\n",
      "*** Validate ***\n",
      "Epoch: 21 || Loss: 0.574 +/- 0.143 || Accuracy:  0.79 || Time: 0.15\n",
      "\n",
      "## -- Training -- ##\n",
      "Epoch: 22 || Loss: 0.415 +/- 0.138 || Accuracy:  0.85 || Time: 6.76\n",
      "*** Validate ***\n",
      "Epoch: 22 || Loss: 0.530 +/- 0.185 || Accuracy:  0.80 || Time: 1.58\n",
      "\n",
      "## -- Training -- ##\n",
      "Epoch: 23 || Loss: 0.411 +/- 0.141 || Accuracy:  0.85 || Time: 9.18\n",
      "*** Validate ***\n",
      "Epoch: 23 || Loss: 0.660 +/- 0.142 || Accuracy:  0.76 || Time: 1.58\n",
      "\n",
      "## -- Training -- ##\n",
      "Epoch: 24 || Loss: 0.401 +/- 0.161 || Accuracy:  0.86 || Time: 8.51\n",
      "*** Validate ***\n",
      "Epoch: 24 || Loss: 0.645 +/- 0.304 || Accuracy:  0.79 || Time: 0.14\n",
      "\n",
      "## -- Training -- ##\n",
      "Epoch: 25 || Loss: 0.424 +/- 0.165 || Accuracy:  0.85 || Time: 4.16\n",
      "*** Validate ***\n",
      "Epoch: 25 || Loss: 0.537 +/- 0.252 || Accuracy:  0.82 || Time: 1.91\n",
      "\n",
      "## -- Training -- ##\n",
      "Epoch: 26 || Loss: 0.404 +/- 0.124 || Accuracy:  0.86 || Time: 5.26\n",
      "*** Validate ***\n",
      "Epoch: 26 || Loss: 0.500 +/- 0.181 || Accuracy:  0.83 || Time: 0.14\n",
      "\n",
      "## -- Training -- ##\n",
      "Epoch: 27 || Loss: 0.391 +/- 0.123 || Accuracy:  0.86 || Time: 7.16\n",
      "*** Validate ***\n",
      "Epoch: 27 || Loss: 0.535 +/- 0.195 || Accuracy:  0.81 || Time: 1.56\n",
      "\n",
      "## -- Training -- ##\n",
      "Epoch: 28 || Loss: 0.373 +/- 0.118 || Accuracy:  0.86 || Time: 6.82\n",
      "*** Validate ***\n",
      "Epoch: 28 || Loss: 0.620 +/- 0.171 || Accuracy:  0.77 || Time: 1.77\n",
      "\n",
      "## -- Training -- ##\n",
      "Epoch: 29 || Loss: 0.368 +/- 0.141 || Accuracy:  0.87 || Time: 7.20\n",
      "*** Validate ***\n",
      "Epoch: 29 || Loss: 1.005 +/- 0.234 || Accuracy:  0.68 || Time: 1.09\n",
      "\n",
      "## -- Training -- ##\n",
      "Epoch: 30 || Loss: 0.354 +/- 0.104 || Accuracy:  0.87 || Time: 7.01\n",
      "*** Validate ***\n",
      "Epoch: 30 || Loss: 0.542 +/- 0.161 || Accuracy:  0.80 || Time: 1.67\n",
      "\n",
      "## -- Training -- ##\n",
      "Epoch: 31 || Loss: 0.377 +/- 0.156 || Accuracy:  0.87 || Time: 6.49\n",
      "*** Validate ***\n",
      "Epoch: 31 || Loss: 0.836 +/- 0.334 || Accuracy:  0.77 || Time: 0.16\n",
      "\n",
      "## -- Training -- ##\n",
      "Epoch: 32 || Loss: 0.319 +/- 0.113 || Accuracy:  0.89 || Time: 1.38\n",
      "*** Validate ***\n",
      "Epoch: 32 || Loss: 0.578 +/- 0.148 || Accuracy:  0.79 || Time: 1.17\n",
      "\n",
      "## -- Training -- ##\n",
      "Epoch: 33 || Loss: 0.346 +/- 0.124 || Accuracy:  0.87 || Time: 4.08\n",
      "*** Validate ***\n",
      "Epoch: 33 || Loss: 0.566 +/- 0.273 || Accuracy:  0.84 || Time: 0.15\n",
      "\n",
      "## -- Training -- ##\n",
      "Epoch: 34 || Loss: 0.344 +/- 0.138 || Accuracy:  0.88 || Time: 4.05\n",
      "*** Validate ***\n",
      "Epoch: 34 || Loss: 0.467 +/- 0.187 || Accuracy:  0.84 || Time: 0.15\n",
      "\n",
      "## -- Training -- ##\n",
      "Epoch: 35 || Loss: 0.337 +/- 0.112 || Accuracy:  0.88 || Time: 1.49\n",
      "*** Validate ***\n",
      "Epoch: 35 || Loss: 0.505 +/- 0.253 || Accuracy:  0.85 || Time: 0.15\n",
      "\n",
      "## -- Training -- ##\n",
      "Epoch: 36 || Loss: 0.331 +/- 0.120 || Accuracy:  0.88 || Time: 4.09\n",
      "*** Validate ***\n",
      "Epoch: 36 || Loss: 0.539 +/- 0.231 || Accuracy:  0.81 || Time: 2.52\n",
      "\n",
      "## -- Training -- ##\n",
      "Epoch: 37 || Loss: 0.309 +/- 0.125 || Accuracy:  0.89 || Time: 5.66\n",
      "*** Validate ***\n",
      "Epoch: 37 || Loss: 0.563 +/- 0.291 || Accuracy:  0.84 || Time: 0.91\n",
      "\n",
      "## -- Training -- ##\n",
      "Epoch: 38 || Loss: 0.317 +/- 0.123 || Accuracy:  0.88 || Time: 6.48\n",
      "*** Validate ***\n",
      "Epoch: 38 || Loss: 0.573 +/- 0.302 || Accuracy:  0.82 || Time: 1.79\n",
      "\n",
      "## -- Training -- ##\n",
      "Epoch: 39 || Loss: 0.330 +/- 0.123 || Accuracy:  0.88 || Time: 3.98\n",
      "*** Validate ***\n",
      "Epoch: 39 || Loss: 0.794 +/- 0.174 || Accuracy:  0.72 || Time: 0.14\n",
      "\n",
      "## -- Training -- ##\n",
      "Epoch: 40 || Loss: 0.302 +/- 0.132 || Accuracy:  0.89 || Time: 8.17\n",
      "*** Validate ***\n",
      "Epoch: 40 || Loss: 0.520 +/- 0.211 || Accuracy:  0.83 || Time: 0.14\n",
      "\n",
      "## -- Training -- ##\n",
      "Epoch: 41 || Loss: 0.277 +/- 0.113 || Accuracy:  0.90 || Time: 1.05\n",
      "*** Validate ***\n",
      "Epoch: 41 || Loss: 0.623 +/- 0.303 || Accuracy:  0.82 || Time: 0.14\n",
      "\n",
      "## -- Training -- ##\n",
      "Epoch: 42 || Loss: 0.304 +/- 0.128 || Accuracy:  0.89 || Time: 1.31\n",
      "*** Validate ***\n",
      "Epoch: 42 || Loss: 0.526 +/- 0.255 || Accuracy:  0.82 || Time: 0.14\n",
      "\n",
      "## -- Training -- ##\n",
      "Epoch: 43 || Loss: 0.266 +/- 0.119 || Accuracy:  0.90 || Time: 4.06\n",
      "*** Validate ***\n",
      "Epoch: 43 || Loss: 0.708 +/- 0.177 || Accuracy:  0.75 || Time: 1.18\n",
      "\n",
      "## -- Training -- ##\n",
      "Epoch: 44 || Loss: 0.276 +/- 0.131 || Accuracy:  0.91 || Time: 6.97\n",
      "*** Validate ***\n",
      "Epoch: 44 || Loss: 0.609 +/- 0.289 || Accuracy:  0.81 || Time: 0.98\n",
      "\n",
      "## -- Training -- ##\n",
      "Epoch: 45 || Loss: 0.286 +/- 0.157 || Accuracy:  0.89 || Time: 6.14\n",
      "*** Validate ***\n",
      "Epoch: 45 || Loss: 0.625 +/- 0.131 || Accuracy:  0.78 || Time: 2.11\n",
      "\n"
     ]
    },
    {
     "ename": "KeyboardInterrupt",
     "evalue": "",
     "output_type": "error",
     "traceback": [
      "\u001b[0;31m\u001b[0m",
      "\u001b[0;31mKeyboardInterrupt\u001b[0mTraceback (most recent call last)",
      "\u001b[0;32m<ipython-input-42-2f7e039b0904>\u001b[0m in \u001b[0;36m<module>\u001b[0;34m\u001b[0m\n\u001b[1;32m      2\u001b[0m \u001b[0;34m\u001b[0m\u001b[0m\n\u001b[1;32m      3\u001b[0m \u001b[0;32mfor\u001b[0m \u001b[0mepoch\u001b[0m \u001b[0;32min\u001b[0m \u001b[0mrange\u001b[0m\u001b[0;34m(\u001b[0m\u001b[0margs\u001b[0m\u001b[0;34m[\u001b[0m\u001b[0;34m\"epoch_num\"\u001b[0m\u001b[0;34m]\u001b[0m\u001b[0;34m)\u001b[0m\u001b[0;34m:\u001b[0m\u001b[0;34m\u001b[0m\u001b[0;34m\u001b[0m\u001b[0m\n\u001b[0;32m----> 4\u001b[0;31m     \u001b[0mtrain_losses_wea\u001b[0m\u001b[0;34m.\u001b[0m\u001b[0mappend\u001b[0m\u001b[0;34m(\u001b[0m\u001b[0mtrain\u001b[0m\u001b[0;34m(\u001b[0m\u001b[0mtrain_loader_wea\u001b[0m\u001b[0;34m,\u001b[0m \u001b[0mnet_wea\u001b[0m\u001b[0;34m,\u001b[0m \u001b[0mepoch\u001b[0m\u001b[0;34m,\u001b[0m \u001b[0mcriterion_wea\u001b[0m\u001b[0;34m,\u001b[0m \u001b[0moptimizer_wea\u001b[0m\u001b[0;34m)\u001b[0m\u001b[0;34m)\u001b[0m\u001b[0;34m\u001b[0m\u001b[0;34m\u001b[0m\u001b[0m\n\u001b[0m\u001b[1;32m      5\u001b[0m     \u001b[0mtest_losses_wea\u001b[0m\u001b[0;34m.\u001b[0m\u001b[0mappend\u001b[0m\u001b[0;34m(\u001b[0m\u001b[0mvalidate\u001b[0m\u001b[0;34m(\u001b[0m\u001b[0mtest_loader_wea\u001b[0m\u001b[0;34m,\u001b[0m \u001b[0mnet_wea\u001b[0m\u001b[0;34m,\u001b[0m \u001b[0mepoch\u001b[0m\u001b[0;34m,\u001b[0m \u001b[0mcriterion_wea\u001b[0m\u001b[0;34m)\u001b[0m\u001b[0;34m)\u001b[0m\u001b[0;34m\u001b[0m\u001b[0;34m\u001b[0m\u001b[0m\n",
      "\u001b[0;32m<ipython-input-39-20ad8c75b816>\u001b[0m in \u001b[0;36mtrain\u001b[0;34m(train_loader, net, epoch, criterion, optimizer)\u001b[0m\n\u001b[1;32m      6\u001b[0m     \u001b[0mpred_list\u001b[0m\u001b[0;34m,\u001b[0m \u001b[0mlabel_list\u001b[0m \u001b[0;34m=\u001b[0m \u001b[0mnp\u001b[0m\u001b[0;34m.\u001b[0m\u001b[0marray\u001b[0m\u001b[0;34m(\u001b[0m\u001b[0;34m[\u001b[0m\u001b[0;34m]\u001b[0m\u001b[0;34m)\u001b[0m\u001b[0;34m,\u001b[0m \u001b[0mnp\u001b[0m\u001b[0;34m.\u001b[0m\u001b[0marray\u001b[0m\u001b[0;34m(\u001b[0m\u001b[0;34m[\u001b[0m\u001b[0;34m]\u001b[0m\u001b[0;34m)\u001b[0m\u001b[0;34m\u001b[0m\u001b[0;34m\u001b[0m\u001b[0m\n\u001b[1;32m      7\u001b[0m \u001b[0;34m\u001b[0m\u001b[0m\n\u001b[0;32m----> 8\u001b[0;31m     \u001b[0;32mfor\u001b[0m \u001b[0mbatch\u001b[0m \u001b[0;32min\u001b[0m \u001b[0mtrain_loader\u001b[0m\u001b[0;34m:\u001b[0m\u001b[0;34m\u001b[0m\u001b[0;34m\u001b[0m\u001b[0m\n\u001b[0m\u001b[1;32m      9\u001b[0m         \u001b[0mimage\u001b[0m\u001b[0;34m,\u001b[0m \u001b[0mlabel\u001b[0m \u001b[0;34m=\u001b[0m \u001b[0mbatch\u001b[0m\u001b[0;34m\u001b[0m\u001b[0;34m\u001b[0m\u001b[0m\n\u001b[1;32m     10\u001b[0m \u001b[0;34m\u001b[0m\u001b[0m\n",
      "\u001b[0;32m/usr/local/lib/python3.8/dist-packages/torch/utils/data/dataloader.py\u001b[0m in \u001b[0;36m__next__\u001b[0;34m(self)\u001b[0m\n\u001b[1;32m    519\u001b[0m             \u001b[0;32mif\u001b[0m \u001b[0mself\u001b[0m\u001b[0;34m.\u001b[0m\u001b[0m_sampler_iter\u001b[0m \u001b[0;32mis\u001b[0m \u001b[0;32mNone\u001b[0m\u001b[0;34m:\u001b[0m\u001b[0;34m\u001b[0m\u001b[0;34m\u001b[0m\u001b[0m\n\u001b[1;32m    520\u001b[0m                 \u001b[0mself\u001b[0m\u001b[0;34m.\u001b[0m\u001b[0m_reset\u001b[0m\u001b[0;34m(\u001b[0m\u001b[0;34m)\u001b[0m\u001b[0;34m\u001b[0m\u001b[0;34m\u001b[0m\u001b[0m\n\u001b[0;32m--> 521\u001b[0;31m             \u001b[0mdata\u001b[0m \u001b[0;34m=\u001b[0m \u001b[0mself\u001b[0m\u001b[0;34m.\u001b[0m\u001b[0m_next_data\u001b[0m\u001b[0;34m(\u001b[0m\u001b[0;34m)\u001b[0m\u001b[0;34m\u001b[0m\u001b[0;34m\u001b[0m\u001b[0m\n\u001b[0m\u001b[1;32m    522\u001b[0m             \u001b[0mself\u001b[0m\u001b[0;34m.\u001b[0m\u001b[0m_num_yielded\u001b[0m \u001b[0;34m+=\u001b[0m \u001b[0;36m1\u001b[0m\u001b[0;34m\u001b[0m\u001b[0;34m\u001b[0m\u001b[0m\n\u001b[1;32m    523\u001b[0m             \u001b[0;32mif\u001b[0m \u001b[0mself\u001b[0m\u001b[0;34m.\u001b[0m\u001b[0m_dataset_kind\u001b[0m \u001b[0;34m==\u001b[0m \u001b[0m_DatasetKind\u001b[0m\u001b[0;34m.\u001b[0m\u001b[0mIterable\u001b[0m \u001b[0;32mand\u001b[0m\u001b[0;31m \u001b[0m\u001b[0;31m\\\u001b[0m\u001b[0;34m\u001b[0m\u001b[0;34m\u001b[0m\u001b[0m\n",
      "\u001b[0;32m/usr/local/lib/python3.8/dist-packages/torch/utils/data/dataloader.py\u001b[0m in \u001b[0;36m_next_data\u001b[0;34m(self)\u001b[0m\n\u001b[1;32m    559\u001b[0m     \u001b[0;32mdef\u001b[0m \u001b[0m_next_data\u001b[0m\u001b[0;34m(\u001b[0m\u001b[0mself\u001b[0m\u001b[0;34m)\u001b[0m\u001b[0;34m:\u001b[0m\u001b[0;34m\u001b[0m\u001b[0;34m\u001b[0m\u001b[0m\n\u001b[1;32m    560\u001b[0m         \u001b[0mindex\u001b[0m \u001b[0;34m=\u001b[0m \u001b[0mself\u001b[0m\u001b[0;34m.\u001b[0m\u001b[0m_next_index\u001b[0m\u001b[0;34m(\u001b[0m\u001b[0;34m)\u001b[0m  \u001b[0;31m# may raise StopIteration\u001b[0m\u001b[0;34m\u001b[0m\u001b[0;34m\u001b[0m\u001b[0m\n\u001b[0;32m--> 561\u001b[0;31m         \u001b[0mdata\u001b[0m \u001b[0;34m=\u001b[0m \u001b[0mself\u001b[0m\u001b[0;34m.\u001b[0m\u001b[0m_dataset_fetcher\u001b[0m\u001b[0;34m.\u001b[0m\u001b[0mfetch\u001b[0m\u001b[0;34m(\u001b[0m\u001b[0mindex\u001b[0m\u001b[0;34m)\u001b[0m  \u001b[0;31m# may raise StopIteration\u001b[0m\u001b[0;34m\u001b[0m\u001b[0;34m\u001b[0m\u001b[0m\n\u001b[0m\u001b[1;32m    562\u001b[0m         \u001b[0;32mif\u001b[0m \u001b[0mself\u001b[0m\u001b[0;34m.\u001b[0m\u001b[0m_pin_memory\u001b[0m\u001b[0;34m:\u001b[0m\u001b[0;34m\u001b[0m\u001b[0;34m\u001b[0m\u001b[0m\n\u001b[1;32m    563\u001b[0m             \u001b[0mdata\u001b[0m \u001b[0;34m=\u001b[0m \u001b[0m_utils\u001b[0m\u001b[0;34m.\u001b[0m\u001b[0mpin_memory\u001b[0m\u001b[0;34m.\u001b[0m\u001b[0mpin_memory\u001b[0m\u001b[0;34m(\u001b[0m\u001b[0mdata\u001b[0m\u001b[0;34m)\u001b[0m\u001b[0;34m\u001b[0m\u001b[0;34m\u001b[0m\u001b[0m\n",
      "\u001b[0;32m/usr/local/lib/python3.8/dist-packages/torch/utils/data/_utils/fetch.py\u001b[0m in \u001b[0;36mfetch\u001b[0;34m(self, possibly_batched_index)\u001b[0m\n\u001b[1;32m     45\u001b[0m         \u001b[0;32melse\u001b[0m\u001b[0;34m:\u001b[0m\u001b[0;34m\u001b[0m\u001b[0;34m\u001b[0m\u001b[0m\n\u001b[1;32m     46\u001b[0m             \u001b[0mdata\u001b[0m \u001b[0;34m=\u001b[0m \u001b[0mself\u001b[0m\u001b[0;34m.\u001b[0m\u001b[0mdataset\u001b[0m\u001b[0;34m[\u001b[0m\u001b[0mpossibly_batched_index\u001b[0m\u001b[0;34m]\u001b[0m\u001b[0;34m\u001b[0m\u001b[0;34m\u001b[0m\u001b[0m\n\u001b[0;32m---> 47\u001b[0;31m         \u001b[0;32mreturn\u001b[0m \u001b[0mself\u001b[0m\u001b[0;34m.\u001b[0m\u001b[0mcollate_fn\u001b[0m\u001b[0;34m(\u001b[0m\u001b[0mdata\u001b[0m\u001b[0;34m)\u001b[0m\u001b[0;34m\u001b[0m\u001b[0;34m\u001b[0m\u001b[0m\n\u001b[0m",
      "\u001b[0;32m/usr/local/lib/python3.8/dist-packages/torch/utils/data/_utils/collate.py\u001b[0m in \u001b[0;36mdefault_collate\u001b[0;34m(batch)\u001b[0m\n\u001b[1;32m     82\u001b[0m             \u001b[0;32mraise\u001b[0m \u001b[0mRuntimeError\u001b[0m\u001b[0;34m(\u001b[0m\u001b[0;34m'each element in list of batch should be of equal size'\u001b[0m\u001b[0;34m)\u001b[0m\u001b[0;34m\u001b[0m\u001b[0;34m\u001b[0m\u001b[0m\n\u001b[1;32m     83\u001b[0m         \u001b[0mtransposed\u001b[0m \u001b[0;34m=\u001b[0m \u001b[0mzip\u001b[0m\u001b[0;34m(\u001b[0m\u001b[0;34m*\u001b[0m\u001b[0mbatch\u001b[0m\u001b[0;34m)\u001b[0m\u001b[0;34m\u001b[0m\u001b[0;34m\u001b[0m\u001b[0m\n\u001b[0;32m---> 84\u001b[0;31m         \u001b[0;32mreturn\u001b[0m \u001b[0;34m[\u001b[0m\u001b[0mdefault_collate\u001b[0m\u001b[0;34m(\u001b[0m\u001b[0msamples\u001b[0m\u001b[0;34m)\u001b[0m \u001b[0;32mfor\u001b[0m \u001b[0msamples\u001b[0m \u001b[0;32min\u001b[0m \u001b[0mtransposed\u001b[0m\u001b[0;34m]\u001b[0m\u001b[0;34m\u001b[0m\u001b[0;34m\u001b[0m\u001b[0m\n\u001b[0m\u001b[1;32m     85\u001b[0m \u001b[0;34m\u001b[0m\u001b[0m\n\u001b[1;32m     86\u001b[0m     \u001b[0;32mraise\u001b[0m \u001b[0mTypeError\u001b[0m\u001b[0;34m(\u001b[0m\u001b[0mdefault_collate_err_msg_format\u001b[0m\u001b[0;34m.\u001b[0m\u001b[0mformat\u001b[0m\u001b[0;34m(\u001b[0m\u001b[0melem_type\u001b[0m\u001b[0;34m)\u001b[0m\u001b[0;34m)\u001b[0m\u001b[0;34m\u001b[0m\u001b[0;34m\u001b[0m\u001b[0m\n",
      "\u001b[0;32m/usr/local/lib/python3.8/dist-packages/torch/utils/data/_utils/collate.py\u001b[0m in \u001b[0;36m<listcomp>\u001b[0;34m(.0)\u001b[0m\n\u001b[1;32m     82\u001b[0m             \u001b[0;32mraise\u001b[0m \u001b[0mRuntimeError\u001b[0m\u001b[0;34m(\u001b[0m\u001b[0;34m'each element in list of batch should be of equal size'\u001b[0m\u001b[0;34m)\u001b[0m\u001b[0;34m\u001b[0m\u001b[0;34m\u001b[0m\u001b[0m\n\u001b[1;32m     83\u001b[0m         \u001b[0mtransposed\u001b[0m \u001b[0;34m=\u001b[0m \u001b[0mzip\u001b[0m\u001b[0;34m(\u001b[0m\u001b[0;34m*\u001b[0m\u001b[0mbatch\u001b[0m\u001b[0;34m)\u001b[0m\u001b[0;34m\u001b[0m\u001b[0;34m\u001b[0m\u001b[0m\n\u001b[0;32m---> 84\u001b[0;31m         \u001b[0;32mreturn\u001b[0m \u001b[0;34m[\u001b[0m\u001b[0mdefault_collate\u001b[0m\u001b[0;34m(\u001b[0m\u001b[0msamples\u001b[0m\u001b[0;34m)\u001b[0m \u001b[0;32mfor\u001b[0m \u001b[0msamples\u001b[0m \u001b[0;32min\u001b[0m \u001b[0mtransposed\u001b[0m\u001b[0;34m]\u001b[0m\u001b[0;34m\u001b[0m\u001b[0;34m\u001b[0m\u001b[0m\n\u001b[0m\u001b[1;32m     85\u001b[0m \u001b[0;34m\u001b[0m\u001b[0m\n\u001b[1;32m     86\u001b[0m     \u001b[0;32mraise\u001b[0m \u001b[0mTypeError\u001b[0m\u001b[0;34m(\u001b[0m\u001b[0mdefault_collate_err_msg_format\u001b[0m\u001b[0;34m.\u001b[0m\u001b[0mformat\u001b[0m\u001b[0;34m(\u001b[0m\u001b[0melem_type\u001b[0m\u001b[0;34m)\u001b[0m\u001b[0;34m)\u001b[0m\u001b[0;34m\u001b[0m\u001b[0;34m\u001b[0m\u001b[0m\n",
      "\u001b[0;32m/usr/local/lib/python3.8/dist-packages/torch/utils/data/_utils/collate.py\u001b[0m in \u001b[0;36mdefault_collate\u001b[0;34m(batch)\u001b[0m\n\u001b[1;32m     54\u001b[0m             \u001b[0mstorage\u001b[0m \u001b[0;34m=\u001b[0m \u001b[0melem\u001b[0m\u001b[0;34m.\u001b[0m\u001b[0mstorage\u001b[0m\u001b[0;34m(\u001b[0m\u001b[0;34m)\u001b[0m\u001b[0;34m.\u001b[0m\u001b[0m_new_shared\u001b[0m\u001b[0;34m(\u001b[0m\u001b[0mnumel\u001b[0m\u001b[0;34m)\u001b[0m\u001b[0;34m\u001b[0m\u001b[0;34m\u001b[0m\u001b[0m\n\u001b[1;32m     55\u001b[0m             \u001b[0mout\u001b[0m \u001b[0;34m=\u001b[0m \u001b[0melem\u001b[0m\u001b[0;34m.\u001b[0m\u001b[0mnew\u001b[0m\u001b[0;34m(\u001b[0m\u001b[0mstorage\u001b[0m\u001b[0;34m)\u001b[0m\u001b[0;34m\u001b[0m\u001b[0;34m\u001b[0m\u001b[0m\n\u001b[0;32m---> 56\u001b[0;31m         \u001b[0;32mreturn\u001b[0m \u001b[0mtorch\u001b[0m\u001b[0;34m.\u001b[0m\u001b[0mstack\u001b[0m\u001b[0;34m(\u001b[0m\u001b[0mbatch\u001b[0m\u001b[0;34m,\u001b[0m \u001b[0;36m0\u001b[0m\u001b[0;34m,\u001b[0m \u001b[0mout\u001b[0m\u001b[0;34m=\u001b[0m\u001b[0mout\u001b[0m\u001b[0;34m)\u001b[0m\u001b[0;34m\u001b[0m\u001b[0;34m\u001b[0m\u001b[0m\n\u001b[0m\u001b[1;32m     57\u001b[0m     \u001b[0;32melif\u001b[0m \u001b[0melem_type\u001b[0m\u001b[0;34m.\u001b[0m\u001b[0m__module__\u001b[0m \u001b[0;34m==\u001b[0m \u001b[0;34m'numpy'\u001b[0m \u001b[0;32mand\u001b[0m \u001b[0melem_type\u001b[0m\u001b[0;34m.\u001b[0m\u001b[0m__name__\u001b[0m \u001b[0;34m!=\u001b[0m \u001b[0;34m'str_'\u001b[0m\u001b[0;31m \u001b[0m\u001b[0;31m\\\u001b[0m\u001b[0;34m\u001b[0m\u001b[0;34m\u001b[0m\u001b[0m\n\u001b[1;32m     58\u001b[0m             \u001b[0;32mand\u001b[0m \u001b[0melem_type\u001b[0m\u001b[0;34m.\u001b[0m\u001b[0m__name__\u001b[0m \u001b[0;34m!=\u001b[0m \u001b[0;34m'string_'\u001b[0m\u001b[0;34m:\u001b[0m\u001b[0;34m\u001b[0m\u001b[0;34m\u001b[0m\u001b[0m\n",
      "\u001b[0;31mKeyboardInterrupt\u001b[0m: "
     ]
    }
   ],
   "source": [
    "train_losses_wea, test_losses_wea = list(), list()\n",
    "\n",
    "for epoch in range(args[\"epoch_num\"]):\n",
    "    train_losses_wea.append(train(train_loader_wea, net_wea, epoch, criterion_wea, optimizer_wea))\n",
    "    test_losses_wea.append(validate(test_loader_wea, net_wea, epoch, criterion_wea))"
   ]
  },
  {
   "cell_type": "code",
   "execution_count": null,
   "metadata": {},
   "outputs": [],
   "source": [
    "# Real Test Values \n",
    "validation_images_wea = test_set_wea.images.to(args[\"device\"]) \n",
    "validation_labels_wea = test_set_wea.labels"
   ]
  },
  {
   "cell_type": "code",
   "execution_count": 147,
   "metadata": {},
   "outputs": [],
   "source": [
    "# Predict\n",
    "y_pred_wea = np.array([np.argmax(net_wea(image.unsqueeze(0)).cpu().detach().numpy()) for image in validation_images_wea])\n",
    "\n",
    "# Transform the numeric label back to string\n",
    "validation_labels_wea = list(map(lambda x: unique_wea[x], validation_labels_wea))\n",
    "y_pred_wea = list(map(lambda x: unique_wea[x], y_pred_wea))"
   ]
  },
  {
   "cell_type": "code",
   "execution_count": 152,
   "metadata": {},
   "outputs": [
    {
     "data": {
      "text/plain": [
       "540"
      ]
     },
     "execution_count": 152,
     "metadata": {},
     "output_type": "execute_result"
    }
   ],
   "source": [
    "y_pred_wea"
   ]
  },
  {
   "cell_type": "code",
   "execution_count": null,
   "metadata": {},
   "outputs": [],
   "source": []
  },
  {
   "cell_type": "code",
   "execution_count": null,
   "metadata": {},
   "outputs": [],
   "source": []
  },
  {
   "cell_type": "code",
   "execution_count": null,
   "metadata": {},
   "outputs": [],
   "source": []
  },
  {
   "cell_type": "markdown",
   "metadata": {},
   "source": [
    "---"
   ]
  },
  {
   "cell_type": "code",
   "execution_count": null,
   "metadata": {},
   "outputs": [],
   "source": [
    "# crash-ego\n",
    "train_dataset = CustomDataset(train['video_path'].values, train['crash_ego'].values) #, tfms=tfms\n",
    "train_loader = DataLoader(train_dataset, batch_size = CFG['BATCH_SIZE'], shuffle=True, num_workers=3)\n",
    "\n",
    "val_dataset = CustomDataset(val['video_path'].values, val['crash_ego'].values) #, tfms=tfms\n",
    "val_loader = DataLoader(val_dataset, batch_size = CFG['BATCH_SIZE'], shuffle=False, num_workers=3)\n",
    "\n",
    "# timing\n",
    "train_dataset_time = CustomDataset(train['video_path'].values, train['timing'].values) #, tfms=tfms\n",
    "train_loader_time = DataLoader(train_dataset_time, batch_size = CFG['BATCH_SIZE'], shuffle=True, num_workers=3)\n",
    "\n",
    "val_dataset_time = CustomDataset(val['video_path'].values, val['timing'].values) #, tfms=tfms\n",
    "val_loader_time = DataLoader(val_dataset_time, batch_size = CFG['BATCH_SIZE'], shuffle=False, num_workers=3)\n",
    "\n",
    "# weather\n",
    "train_dataset_wea = CustomDataset(train['video_path'].values, train['weather'].values) #, tfms=tfms\n",
    "train_loader_wea = DataLoader(train_dataset_wea, batch_size = CFG['BATCH_SIZE'], shuffle=True, num_workers=3)\n",
    "\n",
    "val_dataset_wea = CustomDataset(val['video_path'].values, val['weather'].values) #, tfms=tfms\n",
    "val_loader_wea = DataLoader(val_dataset_wea, batch_size = CFG['BATCH_SIZE'], shuffle=False, num_workers=3)"
   ]
  },
  {
   "cell_type": "markdown",
   "metadata": {},
   "source": [
    "#### Model Define"
   ]
  },
  {
   "cell_type": "code",
   "execution_count": 66,
   "metadata": {},
   "outputs": [],
   "source": [
    "class BaseModel(nn.Module):\n",
    "    def __init__(self, num_classes=3):\n",
    "        super(BaseModel, self).__init__()\n",
    "        self.feature_extract = nn.Sequential(\n",
    "            nn.Conv3d(3, 8, (1, 3, 3)),\n",
    "            nn.ReLU(),\n",
    "            nn.BatchNorm3d(8),\n",
    "            nn.MaxPool3d(2),\n",
    "            nn.Conv3d(8, 32, (1, 2, 2)),\n",
    "            nn.ReLU(),\n",
    "            nn.BatchNorm3d(32),\n",
    "            nn.MaxPool3d(2),\n",
    "            nn.Conv3d(32, 64, (1, 2, 2)),\n",
    "            nn.ReLU(),\n",
    "            nn.BatchNorm3d(64),\n",
    "            nn.MaxPool3d(2),\n",
    "            nn.Conv3d(64, 128, (1, 2, 2)),\n",
    "            nn.ReLU(),\n",
    "            nn.BatchNorm3d(128),\n",
    "            nn.MaxPool3d((3, 7, 7)),\n",
    "        )\n",
    "        self.classifier = nn.Linear(1024, num_classes)\n",
    "        \n",
    "    def forward(self, x):\n",
    "        batch_size = x.size(0)\n",
    "        x = self.feature_extract(x)\n",
    "        x = x.view(batch_size, -1)\n",
    "        x = self.classifier(x)\n",
    "        \n",
    "        return x"
   ]
  },
  {
   "cell_type": "code",
   "execution_count": 67,
   "metadata": {},
   "outputs": [],
   "source": [
    "class BaseModel_wea(nn.Module):\n",
    "    def __init__(self, num_classes=4):\n",
    "        super(BaseModel_wea, self).__init__()\n",
    "        self.feature_extract = nn.Sequential(\n",
    "            nn.Conv3d(3, 8, (1, 3, 3)),\n",
    "            nn.ReLU(),\n",
    "            nn.BatchNorm3d(8),\n",
    "            nn.MaxPool3d(2),\n",
    "            nn.Conv3d(8, 32, (1, 2, 2)),\n",
    "            nn.ReLU(),\n",
    "            nn.BatchNorm3d(32),\n",
    "            nn.MaxPool3d(2),\n",
    "            nn.Conv3d(32, 64, (1, 2, 2)),\n",
    "            nn.ReLU(),\n",
    "            nn.BatchNorm3d(64),\n",
    "            nn.MaxPool3d(2),\n",
    "            nn.Conv3d(64, 128, (1, 2, 2)),\n",
    "            nn.ReLU(),\n",
    "            nn.BatchNorm3d(128),\n",
    "            nn.MaxPool3d((3, 7, 7)),\n",
    "        )\n",
    "        self.classifier = nn.Linear(1024, num_classes)\n",
    "        \n",
    "    def forward(self, x):\n",
    "        batch_size = x.size(0)\n",
    "        x = self.feature_extract(x)\n",
    "        x = x.view(batch_size, -1)\n",
    "        x = self.classifier(x)\n",
    "        return x"
   ]
  },
  {
   "cell_type": "markdown",
   "metadata": {},
   "source": [
    "### Train"
   ]
  },
  {
   "cell_type": "code",
   "execution_count": 68,
   "metadata": {},
   "outputs": [],
   "source": [
    "def train(model, optimizer, train_loader, val_loader, scheduler, device):\n",
    "    model.to(device)\n",
    "    criterion = nn.CrossEntropyLoss().to(device)\n",
    "    \n",
    "    best_val_score = 0\n",
    "    best_model = None\n",
    "    \n",
    "    for epoch in range(1, CFG['EPOCHS']+1):\n",
    "        model.train()\n",
    "        train_loss = []\n",
    "        for videos, labels in tqdm(iter(train_loader)):\n",
    "            videos = videos.to(device)\n",
    "            labels = labels.to(device)\n",
    "            \n",
    "            optimizer.zero_grad()\n",
    "            \n",
    "            output = model(videos)\n",
    "            loss = criterion(output, labels)\n",
    "            \n",
    "            loss.backward()\n",
    "            optimizer.step()\n",
    "            \n",
    "            train_loss.append(loss.item())\n",
    "                    \n",
    "        _val_loss, _val_score = validation(model, criterion, val_loader, device)\n",
    "        _train_loss = np.mean(train_loss)\n",
    "        print(f'Epoch [{epoch}], Train Loss : [{_train_loss:.5f}] Val Loss : [{_val_loss:.5f}] Val F1 : [{_val_score:.5f}]')\n",
    "        \n",
    "        if scheduler is not None:\n",
    "            scheduler.step(_val_score)\n",
    "            \n",
    "        if best_val_score < _val_score:\n",
    "            best_val_score = _val_score\n",
    "            best_model = model\n",
    "    \n",
    "    return best_model"
   ]
  },
  {
   "cell_type": "code",
   "execution_count": 69,
   "metadata": {},
   "outputs": [],
   "source": [
    "def validation(model, criterion, val_loader, device):\n",
    "    model.eval()\n",
    "    val_loss = []\n",
    "    preds, trues = [], []\n",
    "    \n",
    "    with torch.no_grad():\n",
    "        for videos, labels in tqdm(iter(val_loader)):\n",
    "            videos = videos.to(device)\n",
    "            labels = labels.to(device)\n",
    "            \n",
    "            logit = model(videos)\n",
    "            \n",
    "            loss = criterion(logit, labels)\n",
    "            \n",
    "            val_loss.append(loss.item())\n",
    "            \n",
    "            preds += logit.argmax(1).detach().cpu().numpy().tolist()\n",
    "            trues += labels.detach().cpu().numpy().tolist()\n",
    "        \n",
    "        _val_loss = np.mean(val_loss)\n",
    "    \n",
    "    _val_score = f1_score(trues, preds, average='macro')\n",
    "    return _val_loss, _val_score"
   ]
  },
  {
   "cell_type": "markdown",
   "metadata": {},
   "source": [
    "## Run!!"
   ]
  },
  {
   "cell_type": "code",
   "execution_count": 70,
   "metadata": {
    "tags": []
   },
   "outputs": [
    {
     "data": {
      "application/vnd.jupyter.widget-view+json": {
       "model_id": "2002155b891e48eda0068cc536c60f52",
       "version_major": 2,
       "version_minor": 0
      },
      "text/plain": [
       "  0%|          | 0/270 [00:00<?, ?it/s]"
      ]
     },
     "metadata": {},
     "output_type": "display_data"
    },
    {
     "data": {
      "application/vnd.jupyter.widget-view+json": {
       "model_id": "c3111998201347d0baf4854e336b4acd",
       "version_major": 2,
       "version_minor": 0
      },
      "text/plain": [
       "  0%|          | 0/68 [00:00<?, ?it/s]"
      ]
     },
     "metadata": {},
     "output_type": "display_data"
    },
    {
     "name": "stdout",
     "output_type": "stream",
     "text": [
      "Epoch [1], Train Loss : [0.74974] Val Loss : [0.56124] Val F1 : [0.60178]\n"
     ]
    },
    {
     "data": {
      "application/vnd.jupyter.widget-view+json": {
       "model_id": "8c7ea919ce41464ba446182ccd07a443",
       "version_major": 2,
       "version_minor": 0
      },
      "text/plain": [
       "  0%|          | 0/270 [00:00<?, ?it/s]"
      ]
     },
     "metadata": {},
     "output_type": "display_data"
    },
    {
     "data": {
      "application/vnd.jupyter.widget-view+json": {
       "model_id": "6521f6bd31be4b9ebbbb514cd763b36f",
       "version_major": 2,
       "version_minor": 0
      },
      "text/plain": [
       "  0%|          | 0/68 [00:00<?, ?it/s]"
      ]
     },
     "metadata": {},
     "output_type": "display_data"
    },
    {
     "name": "stdout",
     "output_type": "stream",
     "text": [
      "Epoch [2], Train Loss : [0.45328] Val Loss : [0.47136] Val F1 : [0.67970]\n"
     ]
    },
    {
     "data": {
      "application/vnd.jupyter.widget-view+json": {
       "model_id": "0a49e5ee78084e0aafcd9e0896f9a0b0",
       "version_major": 2,
       "version_minor": 0
      },
      "text/plain": [
       "  0%|          | 0/270 [00:00<?, ?it/s]"
      ]
     },
     "metadata": {},
     "output_type": "display_data"
    },
    {
     "data": {
      "application/vnd.jupyter.widget-view+json": {
       "model_id": "9053b8cbcdb74869a2047e51f6555a37",
       "version_major": 2,
       "version_minor": 0
      },
      "text/plain": [
       "  0%|          | 0/68 [00:00<?, ?it/s]"
      ]
     },
     "metadata": {},
     "output_type": "display_data"
    },
    {
     "name": "stdout",
     "output_type": "stream",
     "text": [
      "Epoch [3], Train Loss : [0.37819] Val Loss : [0.42156] Val F1 : [0.70112]\n"
     ]
    },
    {
     "data": {
      "application/vnd.jupyter.widget-view+json": {
       "model_id": "5860d0485b164d4194ae38b281d80042",
       "version_major": 2,
       "version_minor": 0
      },
      "text/plain": [
       "  0%|          | 0/270 [00:00<?, ?it/s]"
      ]
     },
     "metadata": {},
     "output_type": "display_data"
    },
    {
     "data": {
      "application/vnd.jupyter.widget-view+json": {
       "model_id": "3ac87917927c4a95939eecfc6b4a9359",
       "version_major": 2,
       "version_minor": 0
      },
      "text/plain": [
       "  0%|          | 0/68 [00:00<?, ?it/s]"
      ]
     },
     "metadata": {},
     "output_type": "display_data"
    },
    {
     "name": "stdout",
     "output_type": "stream",
     "text": [
      "Epoch [4], Train Loss : [0.30995] Val Loss : [0.68412] Val F1 : [0.58989]\n"
     ]
    },
    {
     "data": {
      "application/vnd.jupyter.widget-view+json": {
       "model_id": "6fe56891faf64688b800f74f2b9ebd42",
       "version_major": 2,
       "version_minor": 0
      },
      "text/plain": [
       "  0%|          | 0/270 [00:00<?, ?it/s]"
      ]
     },
     "metadata": {},
     "output_type": "display_data"
    },
    {
     "data": {
      "application/vnd.jupyter.widget-view+json": {
       "model_id": "7a7e979b4f8141b782bb5ec2066c1229",
       "version_major": 2,
       "version_minor": 0
      },
      "text/plain": [
       "  0%|          | 0/68 [00:00<?, ?it/s]"
      ]
     },
     "metadata": {},
     "output_type": "display_data"
    },
    {
     "name": "stdout",
     "output_type": "stream",
     "text": [
      "Epoch [5], Train Loss : [0.26636] Val Loss : [0.42604] Val F1 : [0.70255]\n"
     ]
    },
    {
     "data": {
      "application/vnd.jupyter.widget-view+json": {
       "model_id": "3b2dc4d937d541679daf89d59c496b53",
       "version_major": 2,
       "version_minor": 0
      },
      "text/plain": [
       "  0%|          | 0/270 [00:00<?, ?it/s]"
      ]
     },
     "metadata": {},
     "output_type": "display_data"
    },
    {
     "data": {
      "application/vnd.jupyter.widget-view+json": {
       "model_id": "a60825f992ef42f59f74acad483a0db3",
       "version_major": 2,
       "version_minor": 0
      },
      "text/plain": [
       "  0%|          | 0/68 [00:00<?, ?it/s]"
      ]
     },
     "metadata": {},
     "output_type": "display_data"
    },
    {
     "name": "stdout",
     "output_type": "stream",
     "text": [
      "Epoch [6], Train Loss : [0.18465] Val Loss : [0.38907] Val F1 : [0.74835]\n"
     ]
    },
    {
     "data": {
      "application/vnd.jupyter.widget-view+json": {
       "model_id": "a042787138014d539ea11be62f32efd2",
       "version_major": 2,
       "version_minor": 0
      },
      "text/plain": [
       "  0%|          | 0/270 [00:00<?, ?it/s]"
      ]
     },
     "metadata": {},
     "output_type": "display_data"
    },
    {
     "data": {
      "application/vnd.jupyter.widget-view+json": {
       "model_id": "37ff684dbcfd4c43887fd6d471458e18",
       "version_major": 2,
       "version_minor": 0
      },
      "text/plain": [
       "  0%|          | 0/68 [00:00<?, ?it/s]"
      ]
     },
     "metadata": {},
     "output_type": "display_data"
    },
    {
     "name": "stdout",
     "output_type": "stream",
     "text": [
      "Epoch [7], Train Loss : [0.14798] Val Loss : [0.36240] Val F1 : [0.75504]\n"
     ]
    },
    {
     "data": {
      "application/vnd.jupyter.widget-view+json": {
       "model_id": "598de8db335341c9ac45c41d71adf237",
       "version_major": 2,
       "version_minor": 0
      },
      "text/plain": [
       "  0%|          | 0/270 [00:00<?, ?it/s]"
      ]
     },
     "metadata": {},
     "output_type": "display_data"
    },
    {
     "data": {
      "application/vnd.jupyter.widget-view+json": {
       "model_id": "667c72a4f7c8446087c5e6c3f287effd",
       "version_major": 2,
       "version_minor": 0
      },
      "text/plain": [
       "  0%|          | 0/68 [00:00<?, ?it/s]"
      ]
     },
     "metadata": {},
     "output_type": "display_data"
    },
    {
     "name": "stdout",
     "output_type": "stream",
     "text": [
      "Epoch [8], Train Loss : [0.12313] Val Loss : [0.44837] Val F1 : [0.73887]\n"
     ]
    },
    {
     "data": {
      "application/vnd.jupyter.widget-view+json": {
       "model_id": "de89f08de9ec4b498540c02c35746504",
       "version_major": 2,
       "version_minor": 0
      },
      "text/plain": [
       "  0%|          | 0/270 [00:00<?, ?it/s]"
      ]
     },
     "metadata": {},
     "output_type": "display_data"
    },
    {
     "data": {
      "application/vnd.jupyter.widget-view+json": {
       "model_id": "28e2ac8689ea4eaea627aecb1372dec9",
       "version_major": 2,
       "version_minor": 0
      },
      "text/plain": [
       "  0%|          | 0/68 [00:00<?, ?it/s]"
      ]
     },
     "metadata": {},
     "output_type": "display_data"
    },
    {
     "name": "stdout",
     "output_type": "stream",
     "text": [
      "Epoch [9], Train Loss : [0.11759] Val Loss : [0.41368] Val F1 : [0.74674]\n"
     ]
    },
    {
     "data": {
      "application/vnd.jupyter.widget-view+json": {
       "model_id": "b0105b6272f54373b8513ef5a302f13e",
       "version_major": 2,
       "version_minor": 0
      },
      "text/plain": [
       "  0%|          | 0/270 [00:00<?, ?it/s]"
      ]
     },
     "metadata": {},
     "output_type": "display_data"
    },
    {
     "data": {
      "application/vnd.jupyter.widget-view+json": {
       "model_id": "f441ebcb67b24011b5cc9c263e595f71",
       "version_major": 2,
       "version_minor": 0
      },
      "text/plain": [
       "  0%|          | 0/68 [00:00<?, ?it/s]"
      ]
     },
     "metadata": {},
     "output_type": "display_data"
    },
    {
     "name": "stdout",
     "output_type": "stream",
     "text": [
      "Epoch [10], Train Loss : [0.08492] Val Loss : [0.54475] Val F1 : [0.70931]\n",
      "Epoch    10: reducing learning rate of group 0 to 1.5000e-04.\n"
     ]
    },
    {
     "data": {
      "application/vnd.jupyter.widget-view+json": {
       "model_id": "cf9a8c70a08f456c98a3d47dadda8a76",
       "version_major": 2,
       "version_minor": 0
      },
      "text/plain": [
       "  0%|          | 0/270 [00:00<?, ?it/s]"
      ]
     },
     "metadata": {},
     "output_type": "display_data"
    },
    {
     "data": {
      "application/vnd.jupyter.widget-view+json": {
       "model_id": "d946587ee25c4d1b9a0bdc8ba7a2b840",
       "version_major": 2,
       "version_minor": 0
      },
      "text/plain": [
       "  0%|          | 0/68 [00:00<?, ?it/s]"
      ]
     },
     "metadata": {},
     "output_type": "display_data"
    },
    {
     "name": "stdout",
     "output_type": "stream",
     "text": [
      "Epoch [11], Train Loss : [0.04092] Val Loss : [0.43173] Val F1 : [0.76765]\n"
     ]
    },
    {
     "data": {
      "application/vnd.jupyter.widget-view+json": {
       "model_id": "16b33499a36548bc9c4c57611ac8fc1b",
       "version_major": 2,
       "version_minor": 0
      },
      "text/plain": [
       "  0%|          | 0/270 [00:00<?, ?it/s]"
      ]
     },
     "metadata": {},
     "output_type": "display_data"
    },
    {
     "data": {
      "application/vnd.jupyter.widget-view+json": {
       "model_id": "658ad81d099443da86f33dc174055f4a",
       "version_major": 2,
       "version_minor": 0
      },
      "text/plain": [
       "  0%|          | 0/68 [00:00<?, ?it/s]"
      ]
     },
     "metadata": {},
     "output_type": "display_data"
    },
    {
     "name": "stdout",
     "output_type": "stream",
     "text": [
      "Epoch [12], Train Loss : [0.02881] Val Loss : [0.42434] Val F1 : [0.75938]\n"
     ]
    },
    {
     "data": {
      "application/vnd.jupyter.widget-view+json": {
       "model_id": "278919f5e1f741b0b22cb267b63608f9",
       "version_major": 2,
       "version_minor": 0
      },
      "text/plain": [
       "  0%|          | 0/270 [00:00<?, ?it/s]"
      ]
     },
     "metadata": {},
     "output_type": "display_data"
    },
    {
     "data": {
      "application/vnd.jupyter.widget-view+json": {
       "model_id": "122de6a604024711a746a4a3ab03e696",
       "version_major": 2,
       "version_minor": 0
      },
      "text/plain": [
       "  0%|          | 0/68 [00:00<?, ?it/s]"
      ]
     },
     "metadata": {},
     "output_type": "display_data"
    },
    {
     "name": "stdout",
     "output_type": "stream",
     "text": [
      "Epoch [13], Train Loss : [0.01831] Val Loss : [0.44377] Val F1 : [0.76249]\n"
     ]
    },
    {
     "data": {
      "application/vnd.jupyter.widget-view+json": {
       "model_id": "05cf5c629cde47759d232b9e37a36641",
       "version_major": 2,
       "version_minor": 0
      },
      "text/plain": [
       "  0%|          | 0/270 [00:00<?, ?it/s]"
      ]
     },
     "metadata": {},
     "output_type": "display_data"
    },
    {
     "data": {
      "application/vnd.jupyter.widget-view+json": {
       "model_id": "89887e62f82f4c8686b2f5495e4fe750",
       "version_major": 2,
       "version_minor": 0
      },
      "text/plain": [
       "  0%|          | 0/68 [00:00<?, ?it/s]"
      ]
     },
     "metadata": {},
     "output_type": "display_data"
    },
    {
     "name": "stdout",
     "output_type": "stream",
     "text": [
      "Epoch [14], Train Loss : [0.01701] Val Loss : [0.38479] Val F1 : [0.76539]\n",
      "Epoch    14: reducing learning rate of group 0 to 7.5000e-05.\n"
     ]
    },
    {
     "data": {
      "application/vnd.jupyter.widget-view+json": {
       "model_id": "d17fa76b96c44f5c804f2bc6ac406d0b",
       "version_major": 2,
       "version_minor": 0
      },
      "text/plain": [
       "  0%|          | 0/270 [00:00<?, ?it/s]"
      ]
     },
     "metadata": {},
     "output_type": "display_data"
    },
    {
     "data": {
      "application/vnd.jupyter.widget-view+json": {
       "model_id": "437866db311a4d1faa82d874394b025d",
       "version_major": 2,
       "version_minor": 0
      },
      "text/plain": [
       "  0%|          | 0/68 [00:00<?, ?it/s]"
      ]
     },
     "metadata": {},
     "output_type": "display_data"
    },
    {
     "name": "stdout",
     "output_type": "stream",
     "text": [
      "Epoch [15], Train Loss : [0.01356] Val Loss : [0.43022] Val F1 : [0.77464]\n"
     ]
    },
    {
     "data": {
      "application/vnd.jupyter.widget-view+json": {
       "model_id": "d935081975ae4da7aae3c7825d2ed805",
       "version_major": 2,
       "version_minor": 0
      },
      "text/plain": [
       "  0%|          | 0/270 [00:00<?, ?it/s]"
      ]
     },
     "metadata": {},
     "output_type": "display_data"
    },
    {
     "data": {
      "application/vnd.jupyter.widget-view+json": {
       "model_id": "bf44eac4155e4f5c910604f9a3ea11de",
       "version_major": 2,
       "version_minor": 0
      },
      "text/plain": [
       "  0%|          | 0/68 [00:00<?, ?it/s]"
      ]
     },
     "metadata": {},
     "output_type": "display_data"
    },
    {
     "name": "stdout",
     "output_type": "stream",
     "text": [
      "Epoch [16], Train Loss : [0.01130] Val Loss : [0.41960] Val F1 : [0.76124]\n"
     ]
    },
    {
     "data": {
      "application/vnd.jupyter.widget-view+json": {
       "model_id": "cbbcda1b836242e2abf57fc8d32ba4f8",
       "version_major": 2,
       "version_minor": 0
      },
      "text/plain": [
       "  0%|          | 0/270 [00:00<?, ?it/s]"
      ]
     },
     "metadata": {},
     "output_type": "display_data"
    },
    {
     "data": {
      "application/vnd.jupyter.widget-view+json": {
       "model_id": "7a3b1574b2e84cdbb8b7136d77fc7271",
       "version_major": 2,
       "version_minor": 0
      },
      "text/plain": [
       "  0%|          | 0/68 [00:00<?, ?it/s]"
      ]
     },
     "metadata": {},
     "output_type": "display_data"
    },
    {
     "name": "stdout",
     "output_type": "stream",
     "text": [
      "Epoch [17], Train Loss : [0.00866] Val Loss : [0.47047] Val F1 : [0.74401]\n"
     ]
    },
    {
     "data": {
      "application/vnd.jupyter.widget-view+json": {
       "model_id": "835061eaad864b85b5ad81bf1d0b3a65",
       "version_major": 2,
       "version_minor": 0
      },
      "text/plain": [
       "  0%|          | 0/270 [00:00<?, ?it/s]"
      ]
     },
     "metadata": {},
     "output_type": "display_data"
    },
    {
     "data": {
      "application/vnd.jupyter.widget-view+json": {
       "model_id": "3b23762c8c1644619cd3ab94222f898d",
       "version_major": 2,
       "version_minor": 0
      },
      "text/plain": [
       "  0%|          | 0/68 [00:00<?, ?it/s]"
      ]
     },
     "metadata": {},
     "output_type": "display_data"
    },
    {
     "name": "stdout",
     "output_type": "stream",
     "text": [
      "Epoch [18], Train Loss : [0.00698] Val Loss : [0.44487] Val F1 : [0.75974]\n",
      "Epoch    18: reducing learning rate of group 0 to 3.7500e-05.\n"
     ]
    },
    {
     "data": {
      "application/vnd.jupyter.widget-view+json": {
       "model_id": "6766e573b88e4d68b6c65a3631e19ca2",
       "version_major": 2,
       "version_minor": 0
      },
      "text/plain": [
       "  0%|          | 0/270 [00:00<?, ?it/s]"
      ]
     },
     "metadata": {},
     "output_type": "display_data"
    },
    {
     "data": {
      "application/vnd.jupyter.widget-view+json": {
       "model_id": "0912298ce63c40819b01bd748686ed08",
       "version_major": 2,
       "version_minor": 0
      },
      "text/plain": [
       "  0%|          | 0/68 [00:00<?, ?it/s]"
      ]
     },
     "metadata": {},
     "output_type": "display_data"
    },
    {
     "name": "stdout",
     "output_type": "stream",
     "text": [
      "Epoch [19], Train Loss : [0.00670] Val Loss : [0.42368] Val F1 : [0.76777]\n"
     ]
    },
    {
     "data": {
      "application/vnd.jupyter.widget-view+json": {
       "model_id": "797cce8fc5bb45f391c1f88ecf7989ed",
       "version_major": 2,
       "version_minor": 0
      },
      "text/plain": [
       "  0%|          | 0/270 [00:00<?, ?it/s]"
      ]
     },
     "metadata": {},
     "output_type": "display_data"
    },
    {
     "data": {
      "application/vnd.jupyter.widget-view+json": {
       "model_id": "38dc8edb66584432b766bb92877fb735",
       "version_major": 2,
       "version_minor": 0
      },
      "text/plain": [
       "  0%|          | 0/68 [00:00<?, ?it/s]"
      ]
     },
     "metadata": {},
     "output_type": "display_data"
    },
    {
     "name": "stdout",
     "output_type": "stream",
     "text": [
      "Epoch [20], Train Loss : [0.00638] Val Loss : [0.42379] Val F1 : [0.77435]\n"
     ]
    }
   ],
   "source": [
    "# crash-ego\n",
    "model = BaseModel()\n",
    "model.eval()\n",
    "optimizer = torch.optim.Adam(params = model.parameters(), lr = CFG[\"LEARNING_RATE\"])\n",
    "scheduler = torch.optim.lr_scheduler.ReduceLROnPlateau(optimizer, mode='max', factor=0.5, patience=2,threshold_mode='abs',min_lr=1e-8, verbose=True)\n",
    "\n",
    "infer_model = train(model, optimizer, train_loader, val_loader, scheduler, device)"
   ]
  },
  {
   "cell_type": "code",
   "execution_count": 71,
   "metadata": {},
   "outputs": [
    {
     "data": {
      "application/vnd.jupyter.widget-view+json": {
       "model_id": "7b74eec6fdeb4d29ab07a34ecd484a23",
       "version_major": 2,
       "version_minor": 0
      },
      "text/plain": [
       "  0%|          | 0/270 [00:00<?, ?it/s]"
      ]
     },
     "metadata": {},
     "output_type": "display_data"
    },
    {
     "data": {
      "application/vnd.jupyter.widget-view+json": {
       "model_id": "3986d797b4fb482090a2feb0cbdc11c2",
       "version_major": 2,
       "version_minor": 0
      },
      "text/plain": [
       "  0%|          | 0/68 [00:00<?, ?it/s]"
      ]
     },
     "metadata": {},
     "output_type": "display_data"
    },
    {
     "name": "stdout",
     "output_type": "stream",
     "text": [
      "Epoch [1], Train Loss : [0.59737] Val Loss : [0.39989] Val F1 : [0.58386]\n"
     ]
    },
    {
     "data": {
      "application/vnd.jupyter.widget-view+json": {
       "model_id": "6fa8888fe1fc46e1b3673d42ac8dc3ee",
       "version_major": 2,
       "version_minor": 0
      },
      "text/plain": [
       "  0%|          | 0/270 [00:00<?, ?it/s]"
      ]
     },
     "metadata": {},
     "output_type": "display_data"
    },
    {
     "data": {
      "application/vnd.jupyter.widget-view+json": {
       "model_id": "bee14e18c2474c4784bdeac4ff3cb605",
       "version_major": 2,
       "version_minor": 0
      },
      "text/plain": [
       "  0%|          | 0/68 [00:00<?, ?it/s]"
      ]
     },
     "metadata": {},
     "output_type": "display_data"
    },
    {
     "name": "stdout",
     "output_type": "stream",
     "text": [
      "Epoch [2], Train Loss : [0.32342] Val Loss : [0.29916] Val F1 : [0.77955]\n"
     ]
    },
    {
     "data": {
      "application/vnd.jupyter.widget-view+json": {
       "model_id": "98944973d8744fb08ddfa4d110f6c03b",
       "version_major": 2,
       "version_minor": 0
      },
      "text/plain": [
       "  0%|          | 0/270 [00:00<?, ?it/s]"
      ]
     },
     "metadata": {},
     "output_type": "display_data"
    },
    {
     "data": {
      "application/vnd.jupyter.widget-view+json": {
       "model_id": "4d67939fcd5e48ee9e48bcc4d9646b37",
       "version_major": 2,
       "version_minor": 0
      },
      "text/plain": [
       "  0%|          | 0/68 [00:00<?, ?it/s]"
      ]
     },
     "metadata": {},
     "output_type": "display_data"
    },
    {
     "name": "stdout",
     "output_type": "stream",
     "text": [
      "Epoch [3], Train Loss : [0.22860] Val Loss : [0.28633] Val F1 : [0.74744]\n"
     ]
    },
    {
     "data": {
      "application/vnd.jupyter.widget-view+json": {
       "model_id": "e6a85bc70ce041e3a752d6ad5a8273b7",
       "version_major": 2,
       "version_minor": 0
      },
      "text/plain": [
       "  0%|          | 0/270 [00:00<?, ?it/s]"
      ]
     },
     "metadata": {},
     "output_type": "display_data"
    },
    {
     "data": {
      "application/vnd.jupyter.widget-view+json": {
       "model_id": "27a46a094a5d449185c443e02fdba2b6",
       "version_major": 2,
       "version_minor": 0
      },
      "text/plain": [
       "  0%|          | 0/68 [00:00<?, ?it/s]"
      ]
     },
     "metadata": {},
     "output_type": "display_data"
    },
    {
     "name": "stdout",
     "output_type": "stream",
     "text": [
      "Epoch [4], Train Loss : [0.14739] Val Loss : [0.29242] Val F1 : [0.73485]\n"
     ]
    },
    {
     "data": {
      "application/vnd.jupyter.widget-view+json": {
       "model_id": "c63aca8d0bf54a819c4514a2421f48d5",
       "version_major": 2,
       "version_minor": 0
      },
      "text/plain": [
       "  0%|          | 0/270 [00:00<?, ?it/s]"
      ]
     },
     "metadata": {},
     "output_type": "display_data"
    },
    {
     "data": {
      "application/vnd.jupyter.widget-view+json": {
       "model_id": "17e31646c90842e2b98941cdf5741902",
       "version_major": 2,
       "version_minor": 0
      },
      "text/plain": [
       "  0%|          | 0/68 [00:00<?, ?it/s]"
      ]
     },
     "metadata": {},
     "output_type": "display_data"
    },
    {
     "name": "stdout",
     "output_type": "stream",
     "text": [
      "Epoch [5], Train Loss : [0.13081] Val Loss : [0.26445] Val F1 : [0.74477]\n",
      "Epoch     5: reducing learning rate of group 0 to 1.5000e-04.\n"
     ]
    },
    {
     "data": {
      "application/vnd.jupyter.widget-view+json": {
       "model_id": "30dc6343d49642d09329695ffb5e608d",
       "version_major": 2,
       "version_minor": 0
      },
      "text/plain": [
       "  0%|          | 0/270 [00:00<?, ?it/s]"
      ]
     },
     "metadata": {},
     "output_type": "display_data"
    },
    {
     "data": {
      "application/vnd.jupyter.widget-view+json": {
       "model_id": "5ff6413ef40d445f957e9b36e2a6a9fe",
       "version_major": 2,
       "version_minor": 0
      },
      "text/plain": [
       "  0%|          | 0/68 [00:00<?, ?it/s]"
      ]
     },
     "metadata": {},
     "output_type": "display_data"
    },
    {
     "name": "stdout",
     "output_type": "stream",
     "text": [
      "Epoch [6], Train Loss : [0.07168] Val Loss : [0.23546] Val F1 : [0.74956]\n"
     ]
    },
    {
     "data": {
      "application/vnd.jupyter.widget-view+json": {
       "model_id": "e4885f04cb4e4aeebf84b04248db0029",
       "version_major": 2,
       "version_minor": 0
      },
      "text/plain": [
       "  0%|          | 0/270 [00:00<?, ?it/s]"
      ]
     },
     "metadata": {},
     "output_type": "display_data"
    },
    {
     "data": {
      "application/vnd.jupyter.widget-view+json": {
       "model_id": "b5878dd0eb8d41358b29ae9248cd4774",
       "version_major": 2,
       "version_minor": 0
      },
      "text/plain": [
       "  0%|          | 0/68 [00:00<?, ?it/s]"
      ]
     },
     "metadata": {},
     "output_type": "display_data"
    },
    {
     "name": "stdout",
     "output_type": "stream",
     "text": [
      "Epoch [7], Train Loss : [0.04503] Val Loss : [0.24340] Val F1 : [0.79612]\n"
     ]
    },
    {
     "data": {
      "application/vnd.jupyter.widget-view+json": {
       "model_id": "e69017fdae194615b574c268d6ebbdc0",
       "version_major": 2,
       "version_minor": 0
      },
      "text/plain": [
       "  0%|          | 0/270 [00:00<?, ?it/s]"
      ]
     },
     "metadata": {},
     "output_type": "display_data"
    },
    {
     "data": {
      "application/vnd.jupyter.widget-view+json": {
       "model_id": "031880fad11648e9a2d8fefbf77bb625",
       "version_major": 2,
       "version_minor": 0
      },
      "text/plain": [
       "  0%|          | 0/68 [00:00<?, ?it/s]"
      ]
     },
     "metadata": {},
     "output_type": "display_data"
    },
    {
     "name": "stdout",
     "output_type": "stream",
     "text": [
      "Epoch [8], Train Loss : [0.03510] Val Loss : [0.27658] Val F1 : [0.80361]\n"
     ]
    },
    {
     "data": {
      "application/vnd.jupyter.widget-view+json": {
       "model_id": "7a3cfeab79e34fadb34dd996a4933fab",
       "version_major": 2,
       "version_minor": 0
      },
      "text/plain": [
       "  0%|          | 0/270 [00:00<?, ?it/s]"
      ]
     },
     "metadata": {},
     "output_type": "display_data"
    },
    {
     "data": {
      "application/vnd.jupyter.widget-view+json": {
       "model_id": "1b9f37a06a3c40479daa392cc0405a1f",
       "version_major": 2,
       "version_minor": 0
      },
      "text/plain": [
       "  0%|          | 0/68 [00:00<?, ?it/s]"
      ]
     },
     "metadata": {},
     "output_type": "display_data"
    },
    {
     "name": "stdout",
     "output_type": "stream",
     "text": [
      "Epoch [9], Train Loss : [0.02447] Val Loss : [0.23958] Val F1 : [0.80342]\n"
     ]
    },
    {
     "data": {
      "application/vnd.jupyter.widget-view+json": {
       "model_id": "4070b51910a14c709c779bfa67961164",
       "version_major": 2,
       "version_minor": 0
      },
      "text/plain": [
       "  0%|          | 0/270 [00:00<?, ?it/s]"
      ]
     },
     "metadata": {},
     "output_type": "display_data"
    },
    {
     "data": {
      "application/vnd.jupyter.widget-view+json": {
       "model_id": "884735ebf59c42d4a9a27ed5eb0f5a9f",
       "version_major": 2,
       "version_minor": 0
      },
      "text/plain": [
       "  0%|          | 0/68 [00:00<?, ?it/s]"
      ]
     },
     "metadata": {},
     "output_type": "display_data"
    },
    {
     "name": "stdout",
     "output_type": "stream",
     "text": [
      "Epoch [10], Train Loss : [0.02343] Val Loss : [0.31844] Val F1 : [0.74102]\n"
     ]
    },
    {
     "data": {
      "application/vnd.jupyter.widget-view+json": {
       "model_id": "ea1c342169084c36957020a6096ff9bc",
       "version_major": 2,
       "version_minor": 0
      },
      "text/plain": [
       "  0%|          | 0/270 [00:00<?, ?it/s]"
      ]
     },
     "metadata": {},
     "output_type": "display_data"
    },
    {
     "data": {
      "application/vnd.jupyter.widget-view+json": {
       "model_id": "bed08419b30c4ecea2d133483213c095",
       "version_major": 2,
       "version_minor": 0
      },
      "text/plain": [
       "  0%|          | 0/68 [00:00<?, ?it/s]"
      ]
     },
     "metadata": {},
     "output_type": "display_data"
    },
    {
     "name": "stdout",
     "output_type": "stream",
     "text": [
      "Epoch [11], Train Loss : [0.02953] Val Loss : [0.25479] Val F1 : [0.76409]\n",
      "Epoch    11: reducing learning rate of group 0 to 7.5000e-05.\n"
     ]
    },
    {
     "data": {
      "application/vnd.jupyter.widget-view+json": {
       "model_id": "8ad87607ee594ef394cffb4e9c7cc954",
       "version_major": 2,
       "version_minor": 0
      },
      "text/plain": [
       "  0%|          | 0/270 [00:00<?, ?it/s]"
      ]
     },
     "metadata": {},
     "output_type": "display_data"
    },
    {
     "data": {
      "application/vnd.jupyter.widget-view+json": {
       "model_id": "fa8ecc21f15b41129e8240c1ed6e9368",
       "version_major": 2,
       "version_minor": 0
      },
      "text/plain": [
       "  0%|          | 0/68 [00:00<?, ?it/s]"
      ]
     },
     "metadata": {},
     "output_type": "display_data"
    },
    {
     "name": "stdout",
     "output_type": "stream",
     "text": [
      "Epoch [12], Train Loss : [0.01940] Val Loss : [0.23556] Val F1 : [0.79585]\n"
     ]
    },
    {
     "data": {
      "application/vnd.jupyter.widget-view+json": {
       "model_id": "99a77ea43c1a4681a738663e9df9f42b",
       "version_major": 2,
       "version_minor": 0
      },
      "text/plain": [
       "  0%|          | 0/270 [00:00<?, ?it/s]"
      ]
     },
     "metadata": {},
     "output_type": "display_data"
    },
    {
     "data": {
      "application/vnd.jupyter.widget-view+json": {
       "model_id": "0011db27787c479db8fe42d46f074e16",
       "version_major": 2,
       "version_minor": 0
      },
      "text/plain": [
       "  0%|          | 0/68 [00:00<?, ?it/s]"
      ]
     },
     "metadata": {},
     "output_type": "display_data"
    },
    {
     "name": "stdout",
     "output_type": "stream",
     "text": [
      "Epoch [13], Train Loss : [0.01345] Val Loss : [0.26338] Val F1 : [0.77975]\n"
     ]
    },
    {
     "data": {
      "application/vnd.jupyter.widget-view+json": {
       "model_id": "21ab9622f9ae4f16a717c5380b9ee1b4",
       "version_major": 2,
       "version_minor": 0
      },
      "text/plain": [
       "  0%|          | 0/270 [00:00<?, ?it/s]"
      ]
     },
     "metadata": {},
     "output_type": "display_data"
    },
    {
     "data": {
      "application/vnd.jupyter.widget-view+json": {
       "model_id": "e4ea3e3a7ffb4b3c9e4afa84357bec9c",
       "version_major": 2,
       "version_minor": 0
      },
      "text/plain": [
       "  0%|          | 0/68 [00:00<?, ?it/s]"
      ]
     },
     "metadata": {},
     "output_type": "display_data"
    },
    {
     "name": "stdout",
     "output_type": "stream",
     "text": [
      "Epoch [14], Train Loss : [0.00949] Val Loss : [0.30478] Val F1 : [0.76143]\n",
      "Epoch    14: reducing learning rate of group 0 to 3.7500e-05.\n"
     ]
    },
    {
     "data": {
      "application/vnd.jupyter.widget-view+json": {
       "model_id": "05cda5201982413eb61b3a70f9ebc22e",
       "version_major": 2,
       "version_minor": 0
      },
      "text/plain": [
       "  0%|          | 0/270 [00:00<?, ?it/s]"
      ]
     },
     "metadata": {},
     "output_type": "display_data"
    },
    {
     "data": {
      "application/vnd.jupyter.widget-view+json": {
       "model_id": "3ab07c7d7d2148febe081dae3abdbb1c",
       "version_major": 2,
       "version_minor": 0
      },
      "text/plain": [
       "  0%|          | 0/68 [00:00<?, ?it/s]"
      ]
     },
     "metadata": {},
     "output_type": "display_data"
    },
    {
     "name": "stdout",
     "output_type": "stream",
     "text": [
      "Epoch [15], Train Loss : [0.00690] Val Loss : [0.24388] Val F1 : [0.77768]\n"
     ]
    },
    {
     "data": {
      "application/vnd.jupyter.widget-view+json": {
       "model_id": "1bb998243d164e25a5c9073089080b43",
       "version_major": 2,
       "version_minor": 0
      },
      "text/plain": [
       "  0%|          | 0/270 [00:00<?, ?it/s]"
      ]
     },
     "metadata": {},
     "output_type": "display_data"
    },
    {
     "data": {
      "application/vnd.jupyter.widget-view+json": {
       "model_id": "de28d1d8f7e64c7e9874fa93a3d90c78",
       "version_major": 2,
       "version_minor": 0
      },
      "text/plain": [
       "  0%|          | 0/68 [00:00<?, ?it/s]"
      ]
     },
     "metadata": {},
     "output_type": "display_data"
    },
    {
     "name": "stdout",
     "output_type": "stream",
     "text": [
      "Epoch [16], Train Loss : [0.00604] Val Loss : [0.26626] Val F1 : [0.78741]\n"
     ]
    },
    {
     "data": {
      "application/vnd.jupyter.widget-view+json": {
       "model_id": "4089d84cecfb4c02856f53a0c0011dc3",
       "version_major": 2,
       "version_minor": 0
      },
      "text/plain": [
       "  0%|          | 0/270 [00:00<?, ?it/s]"
      ]
     },
     "metadata": {},
     "output_type": "display_data"
    },
    {
     "data": {
      "application/vnd.jupyter.widget-view+json": {
       "model_id": "d3878dea7c434372b627d7cedb6f0665",
       "version_major": 2,
       "version_minor": 0
      },
      "text/plain": [
       "  0%|          | 0/68 [00:00<?, ?it/s]"
      ]
     },
     "metadata": {},
     "output_type": "display_data"
    },
    {
     "name": "stdout",
     "output_type": "stream",
     "text": [
      "Epoch [17], Train Loss : [0.00508] Val Loss : [0.25660] Val F1 : [0.78841]\n",
      "Epoch    17: reducing learning rate of group 0 to 1.8750e-05.\n"
     ]
    },
    {
     "data": {
      "application/vnd.jupyter.widget-view+json": {
       "model_id": "310ed9aacaf84f0e85864cb9fb8e61af",
       "version_major": 2,
       "version_minor": 0
      },
      "text/plain": [
       "  0%|          | 0/270 [00:00<?, ?it/s]"
      ]
     },
     "metadata": {},
     "output_type": "display_data"
    },
    {
     "data": {
      "application/vnd.jupyter.widget-view+json": {
       "model_id": "9640245eec3e43ecbe80e9ca1e0bf19b",
       "version_major": 2,
       "version_minor": 0
      },
      "text/plain": [
       "  0%|          | 0/68 [00:00<?, ?it/s]"
      ]
     },
     "metadata": {},
     "output_type": "display_data"
    },
    {
     "name": "stdout",
     "output_type": "stream",
     "text": [
      "Epoch [18], Train Loss : [0.00497] Val Loss : [0.25057] Val F1 : [0.79838]\n"
     ]
    },
    {
     "data": {
      "application/vnd.jupyter.widget-view+json": {
       "model_id": "ae01caaaf5b64f27a9cd811af2089625",
       "version_major": 2,
       "version_minor": 0
      },
      "text/plain": [
       "  0%|          | 0/270 [00:00<?, ?it/s]"
      ]
     },
     "metadata": {},
     "output_type": "display_data"
    },
    {
     "data": {
      "application/vnd.jupyter.widget-view+json": {
       "model_id": "e5111db3e8134cc89e1e0b454580c81d",
       "version_major": 2,
       "version_minor": 0
      },
      "text/plain": [
       "  0%|          | 0/68 [00:00<?, ?it/s]"
      ]
     },
     "metadata": {},
     "output_type": "display_data"
    },
    {
     "name": "stdout",
     "output_type": "stream",
     "text": [
      "Epoch [19], Train Loss : [0.00498] Val Loss : [0.24675] Val F1 : [0.79473]\n"
     ]
    },
    {
     "data": {
      "application/vnd.jupyter.widget-view+json": {
       "model_id": "d61dda0b2fb74af190722a9046768aa7",
       "version_major": 2,
       "version_minor": 0
      },
      "text/plain": [
       "  0%|          | 0/270 [00:00<?, ?it/s]"
      ]
     },
     "metadata": {},
     "output_type": "display_data"
    },
    {
     "data": {
      "application/vnd.jupyter.widget-view+json": {
       "model_id": "1f2198c6cfaa417588dd2d56930889c5",
       "version_major": 2,
       "version_minor": 0
      },
      "text/plain": [
       "  0%|          | 0/68 [00:00<?, ?it/s]"
      ]
     },
     "metadata": {},
     "output_type": "display_data"
    },
    {
     "name": "stdout",
     "output_type": "stream",
     "text": [
      "Epoch [20], Train Loss : [0.00474] Val Loss : [0.26919] Val F1 : [0.78035]\n",
      "Epoch    20: reducing learning rate of group 0 to 9.3750e-06.\n"
     ]
    }
   ],
   "source": [
    "#time \n",
    "model_time = BaseModel()\n",
    "model_time.eval()\n",
    "optimizer_time = torch.optim.Adam(params = model_time.parameters(), lr = CFG[\"LEARNING_RATE\"])\n",
    "scheduler_time = torch.optim.lr_scheduler.ReduceLROnPlateau(optimizer_time, mode='max', factor=0.5, patience=2,threshold_mode='abs',min_lr=1e-8, verbose=True)\n",
    "\n",
    "infer_model_time = train(model_time, optimizer_time, train_loader_time, val_loader_time, scheduler_time, device)"
   ]
  },
  {
   "cell_type": "code",
   "execution_count": 72,
   "metadata": {},
   "outputs": [
    {
     "data": {
      "application/vnd.jupyter.widget-view+json": {
       "model_id": "97fefcb5d25842708cad8a837b4d48a3",
       "version_major": 2,
       "version_minor": 0
      },
      "text/plain": [
       "  0%|          | 0/270 [00:00<?, ?it/s]"
      ]
     },
     "metadata": {},
     "output_type": "display_data"
    },
    {
     "data": {
      "application/vnd.jupyter.widget-view+json": {
       "model_id": "eda218f1b5e04c92a8f0bbe2f0fd5794",
       "version_major": 2,
       "version_minor": 0
      },
      "text/plain": [
       "  0%|          | 0/68 [00:00<?, ?it/s]"
      ]
     },
     "metadata": {},
     "output_type": "display_data"
    },
    {
     "name": "stdout",
     "output_type": "stream",
     "text": [
      "Epoch [1], Train Loss : [0.78279] Val Loss : [0.54034] Val F1 : [0.39823]\n"
     ]
    },
    {
     "data": {
      "application/vnd.jupyter.widget-view+json": {
       "model_id": "8d15e727ced24bfaa74a89628492d1b6",
       "version_major": 2,
       "version_minor": 0
      },
      "text/plain": [
       "  0%|          | 0/270 [00:00<?, ?it/s]"
      ]
     },
     "metadata": {},
     "output_type": "display_data"
    },
    {
     "data": {
      "application/vnd.jupyter.widget-view+json": {
       "model_id": "9ae11d0edc4b482fb9a816d97710720c",
       "version_major": 2,
       "version_minor": 0
      },
      "text/plain": [
       "  0%|          | 0/68 [00:00<?, ?it/s]"
      ]
     },
     "metadata": {},
     "output_type": "display_data"
    },
    {
     "name": "stdout",
     "output_type": "stream",
     "text": [
      "Epoch [2], Train Loss : [0.47614] Val Loss : [0.49982] Val F1 : [0.40917]\n"
     ]
    },
    {
     "data": {
      "application/vnd.jupyter.widget-view+json": {
       "model_id": "69cf813a710549a587b7219efe0f7354",
       "version_major": 2,
       "version_minor": 0
      },
      "text/plain": [
       "  0%|          | 0/270 [00:00<?, ?it/s]"
      ]
     },
     "metadata": {},
     "output_type": "display_data"
    },
    {
     "data": {
      "application/vnd.jupyter.widget-view+json": {
       "model_id": "24eca72cbe3d42dc98fce729417bb0aa",
       "version_major": 2,
       "version_minor": 0
      },
      "text/plain": [
       "  0%|          | 0/68 [00:00<?, ?it/s]"
      ]
     },
     "metadata": {},
     "output_type": "display_data"
    },
    {
     "name": "stdout",
     "output_type": "stream",
     "text": [
      "Epoch [3], Train Loss : [0.37180] Val Loss : [0.46124] Val F1 : [0.48607]\n"
     ]
    },
    {
     "data": {
      "application/vnd.jupyter.widget-view+json": {
       "model_id": "d3b1e46beb4e41cf868701750464f849",
       "version_major": 2,
       "version_minor": 0
      },
      "text/plain": [
       "  0%|          | 0/270 [00:00<?, ?it/s]"
      ]
     },
     "metadata": {},
     "output_type": "display_data"
    },
    {
     "data": {
      "application/vnd.jupyter.widget-view+json": {
       "model_id": "d90fc5869ac449a0b4e3a820fa679640",
       "version_major": 2,
       "version_minor": 0
      },
      "text/plain": [
       "  0%|          | 0/68 [00:00<?, ?it/s]"
      ]
     },
     "metadata": {},
     "output_type": "display_data"
    },
    {
     "name": "stdout",
     "output_type": "stream",
     "text": [
      "Epoch [4], Train Loss : [0.31103] Val Loss : [0.43652] Val F1 : [0.56971]\n"
     ]
    },
    {
     "data": {
      "application/vnd.jupyter.widget-view+json": {
       "model_id": "ee15fb922c4b434abd87ac72ba7463fb",
       "version_major": 2,
       "version_minor": 0
      },
      "text/plain": [
       "  0%|          | 0/270 [00:00<?, ?it/s]"
      ]
     },
     "metadata": {},
     "output_type": "display_data"
    },
    {
     "data": {
      "application/vnd.jupyter.widget-view+json": {
       "model_id": "9a498fc5f55a439a80aa465d95c8df7a",
       "version_major": 2,
       "version_minor": 0
      },
      "text/plain": [
       "  0%|          | 0/68 [00:00<?, ?it/s]"
      ]
     },
     "metadata": {},
     "output_type": "display_data"
    },
    {
     "name": "stdout",
     "output_type": "stream",
     "text": [
      "Epoch [5], Train Loss : [0.24437] Val Loss : [0.46845] Val F1 : [0.44960]\n"
     ]
    },
    {
     "data": {
      "application/vnd.jupyter.widget-view+json": {
       "model_id": "8c81014d6f29421d94ecd64db92f892a",
       "version_major": 2,
       "version_minor": 0
      },
      "text/plain": [
       "  0%|          | 0/270 [00:00<?, ?it/s]"
      ]
     },
     "metadata": {},
     "output_type": "display_data"
    },
    {
     "data": {
      "application/vnd.jupyter.widget-view+json": {
       "model_id": "f6d6058a5e024459b7073f8a54e6079f",
       "version_major": 2,
       "version_minor": 0
      },
      "text/plain": [
       "  0%|          | 0/68 [00:00<?, ?it/s]"
      ]
     },
     "metadata": {},
     "output_type": "display_data"
    },
    {
     "name": "stdout",
     "output_type": "stream",
     "text": [
      "Epoch [6], Train Loss : [0.21803] Val Loss : [0.47699] Val F1 : [0.52546]\n"
     ]
    },
    {
     "data": {
      "application/vnd.jupyter.widget-view+json": {
       "model_id": "1e954f2fecd04b8fb975b9f3f7059b6f",
       "version_major": 2,
       "version_minor": 0
      },
      "text/plain": [
       "  0%|          | 0/270 [00:00<?, ?it/s]"
      ]
     },
     "metadata": {},
     "output_type": "display_data"
    },
    {
     "data": {
      "application/vnd.jupyter.widget-view+json": {
       "model_id": "b5e0cdf1022c4f7380274513f4bcaa22",
       "version_major": 2,
       "version_minor": 0
      },
      "text/plain": [
       "  0%|          | 0/68 [00:00<?, ?it/s]"
      ]
     },
     "metadata": {},
     "output_type": "display_data"
    },
    {
     "name": "stdout",
     "output_type": "stream",
     "text": [
      "Epoch [7], Train Loss : [0.20142] Val Loss : [0.53668] Val F1 : [0.47312]\n",
      "Epoch     7: reducing learning rate of group 0 to 1.5000e-04.\n"
     ]
    },
    {
     "data": {
      "application/vnd.jupyter.widget-view+json": {
       "model_id": "278221443dfc4750a1d5301bbd41e91f",
       "version_major": 2,
       "version_minor": 0
      },
      "text/plain": [
       "  0%|          | 0/270 [00:00<?, ?it/s]"
      ]
     },
     "metadata": {},
     "output_type": "display_data"
    },
    {
     "data": {
      "application/vnd.jupyter.widget-view+json": {
       "model_id": "1e3dcfa7a4c147d9aa56d891e22f1dee",
       "version_major": 2,
       "version_minor": 0
      },
      "text/plain": [
       "  0%|          | 0/68 [00:00<?, ?it/s]"
      ]
     },
     "metadata": {},
     "output_type": "display_data"
    },
    {
     "name": "stdout",
     "output_type": "stream",
     "text": [
      "Epoch [8], Train Loss : [0.10911] Val Loss : [0.41115] Val F1 : [0.51077]\n"
     ]
    },
    {
     "data": {
      "application/vnd.jupyter.widget-view+json": {
       "model_id": "3850037e33ec49259ca8818347cbb1e5",
       "version_major": 2,
       "version_minor": 0
      },
      "text/plain": [
       "  0%|          | 0/270 [00:00<?, ?it/s]"
      ]
     },
     "metadata": {},
     "output_type": "display_data"
    },
    {
     "data": {
      "application/vnd.jupyter.widget-view+json": {
       "model_id": "a96e50e589f649859c72ff65e4cdce6f",
       "version_major": 2,
       "version_minor": 0
      },
      "text/plain": [
       "  0%|          | 0/68 [00:00<?, ?it/s]"
      ]
     },
     "metadata": {},
     "output_type": "display_data"
    },
    {
     "name": "stdout",
     "output_type": "stream",
     "text": [
      "Epoch [9], Train Loss : [0.07523] Val Loss : [0.40005] Val F1 : [0.53669]\n"
     ]
    },
    {
     "data": {
      "application/vnd.jupyter.widget-view+json": {
       "model_id": "55d1c4ffc69445c8918159960772a505",
       "version_major": 2,
       "version_minor": 0
      },
      "text/plain": [
       "  0%|          | 0/270 [00:00<?, ?it/s]"
      ]
     },
     "metadata": {},
     "output_type": "display_data"
    },
    {
     "data": {
      "application/vnd.jupyter.widget-view+json": {
       "model_id": "3a8f573de8fa453f896a9e8e25902ecb",
       "version_major": 2,
       "version_minor": 0
      },
      "text/plain": [
       "  0%|          | 0/68 [00:00<?, ?it/s]"
      ]
     },
     "metadata": {},
     "output_type": "display_data"
    },
    {
     "name": "stdout",
     "output_type": "stream",
     "text": [
      "Epoch [10], Train Loss : [0.04669] Val Loss : [0.44909] Val F1 : [0.47436]\n",
      "Epoch    10: reducing learning rate of group 0 to 7.5000e-05.\n"
     ]
    },
    {
     "data": {
      "application/vnd.jupyter.widget-view+json": {
       "model_id": "0ae264576ab541c98aa03541453e80ea",
       "version_major": 2,
       "version_minor": 0
      },
      "text/plain": [
       "  0%|          | 0/270 [00:00<?, ?it/s]"
      ]
     },
     "metadata": {},
     "output_type": "display_data"
    },
    {
     "data": {
      "application/vnd.jupyter.widget-view+json": {
       "model_id": "4fe667d7699d4bc1901c1821a7f44af9",
       "version_major": 2,
       "version_minor": 0
      },
      "text/plain": [
       "  0%|          | 0/68 [00:00<?, ?it/s]"
      ]
     },
     "metadata": {},
     "output_type": "display_data"
    },
    {
     "name": "stdout",
     "output_type": "stream",
     "text": [
      "Epoch [11], Train Loss : [0.03616] Val Loss : [0.44594] Val F1 : [0.55295]\n"
     ]
    },
    {
     "data": {
      "application/vnd.jupyter.widget-view+json": {
       "model_id": "88b3f2f08762440bbd20f98f837e5cc5",
       "version_major": 2,
       "version_minor": 0
      },
      "text/plain": [
       "  0%|          | 0/270 [00:00<?, ?it/s]"
      ]
     },
     "metadata": {},
     "output_type": "display_data"
    },
    {
     "data": {
      "application/vnd.jupyter.widget-view+json": {
       "model_id": "0654b74c99734cfbaa05f7c2acea93f4",
       "version_major": 2,
       "version_minor": 0
      },
      "text/plain": [
       "  0%|          | 0/68 [00:00<?, ?it/s]"
      ]
     },
     "metadata": {},
     "output_type": "display_data"
    },
    {
     "name": "stdout",
     "output_type": "stream",
     "text": [
      "Epoch [12], Train Loss : [0.02903] Val Loss : [0.42165] Val F1 : [0.58424]\n"
     ]
    },
    {
     "data": {
      "application/vnd.jupyter.widget-view+json": {
       "model_id": "a01bc6339df94741963bc38110db7cef",
       "version_major": 2,
       "version_minor": 0
      },
      "text/plain": [
       "  0%|          | 0/270 [00:00<?, ?it/s]"
      ]
     },
     "metadata": {},
     "output_type": "display_data"
    },
    {
     "data": {
      "application/vnd.jupyter.widget-view+json": {
       "model_id": "2d3941814d684856969dc96077dd087b",
       "version_major": 2,
       "version_minor": 0
      },
      "text/plain": [
       "  0%|          | 0/68 [00:00<?, ?it/s]"
      ]
     },
     "metadata": {},
     "output_type": "display_data"
    },
    {
     "name": "stdout",
     "output_type": "stream",
     "text": [
      "Epoch [13], Train Loss : [0.02295] Val Loss : [0.46967] Val F1 : [0.58206]\n"
     ]
    },
    {
     "data": {
      "application/vnd.jupyter.widget-view+json": {
       "model_id": "a0a50c1b9688476cb61dca35d1705c46",
       "version_major": 2,
       "version_minor": 0
      },
      "text/plain": [
       "  0%|          | 0/270 [00:00<?, ?it/s]"
      ]
     },
     "metadata": {},
     "output_type": "display_data"
    },
    {
     "data": {
      "application/vnd.jupyter.widget-view+json": {
       "model_id": "2c98a43fc7184152b62faaa2b5faf3a5",
       "version_major": 2,
       "version_minor": 0
      },
      "text/plain": [
       "  0%|          | 0/68 [00:00<?, ?it/s]"
      ]
     },
     "metadata": {},
     "output_type": "display_data"
    },
    {
     "name": "stdout",
     "output_type": "stream",
     "text": [
      "Epoch [14], Train Loss : [0.01874] Val Loss : [0.47624] Val F1 : [0.52105]\n"
     ]
    },
    {
     "data": {
      "application/vnd.jupyter.widget-view+json": {
       "model_id": "0ef053b80ecb4bd68f4369a56ed3d6b3",
       "version_major": 2,
       "version_minor": 0
      },
      "text/plain": [
       "  0%|          | 0/270 [00:00<?, ?it/s]"
      ]
     },
     "metadata": {},
     "output_type": "display_data"
    },
    {
     "data": {
      "application/vnd.jupyter.widget-view+json": {
       "model_id": "e870361145ca4215839897336daed00d",
       "version_major": 2,
       "version_minor": 0
      },
      "text/plain": [
       "  0%|          | 0/68 [00:00<?, ?it/s]"
      ]
     },
     "metadata": {},
     "output_type": "display_data"
    },
    {
     "name": "stdout",
     "output_type": "stream",
     "text": [
      "Epoch [15], Train Loss : [0.02138] Val Loss : [0.44754] Val F1 : [0.54842]\n",
      "Epoch    15: reducing learning rate of group 0 to 3.7500e-05.\n"
     ]
    },
    {
     "data": {
      "application/vnd.jupyter.widget-view+json": {
       "model_id": "3bbd9f9168924c41990e018fc98f37b9",
       "version_major": 2,
       "version_minor": 0
      },
      "text/plain": [
       "  0%|          | 0/270 [00:00<?, ?it/s]"
      ]
     },
     "metadata": {},
     "output_type": "display_data"
    },
    {
     "data": {
      "application/vnd.jupyter.widget-view+json": {
       "model_id": "e7b9f86aef964e659d8a5f8cfbd6ca6f",
       "version_major": 2,
       "version_minor": 0
      },
      "text/plain": [
       "  0%|          | 0/68 [00:00<?, ?it/s]"
      ]
     },
     "metadata": {},
     "output_type": "display_data"
    },
    {
     "name": "stdout",
     "output_type": "stream",
     "text": [
      "Epoch [16], Train Loss : [0.01559] Val Loss : [0.52601] Val F1 : [0.54163]\n"
     ]
    },
    {
     "data": {
      "application/vnd.jupyter.widget-view+json": {
       "model_id": "a7c59c0b8417420f8d4b6d62eb067fc3",
       "version_major": 2,
       "version_minor": 0
      },
      "text/plain": [
       "  0%|          | 0/270 [00:00<?, ?it/s]"
      ]
     },
     "metadata": {},
     "output_type": "display_data"
    },
    {
     "data": {
      "application/vnd.jupyter.widget-view+json": {
       "model_id": "82838b4fc7334f24a220a341b9c168a9",
       "version_major": 2,
       "version_minor": 0
      },
      "text/plain": [
       "  0%|          | 0/68 [00:00<?, ?it/s]"
      ]
     },
     "metadata": {},
     "output_type": "display_data"
    },
    {
     "name": "stdout",
     "output_type": "stream",
     "text": [
      "Epoch [17], Train Loss : [0.01261] Val Loss : [0.47211] Val F1 : [0.61463]\n"
     ]
    },
    {
     "data": {
      "application/vnd.jupyter.widget-view+json": {
       "model_id": "2e3f010e2871413e9f9dc6cb093d51db",
       "version_major": 2,
       "version_minor": 0
      },
      "text/plain": [
       "  0%|          | 0/270 [00:00<?, ?it/s]"
      ]
     },
     "metadata": {},
     "output_type": "display_data"
    },
    {
     "data": {
      "application/vnd.jupyter.widget-view+json": {
       "model_id": "cbc004dfe8734339bad3dd69e2fb00de",
       "version_major": 2,
       "version_minor": 0
      },
      "text/plain": [
       "  0%|          | 0/68 [00:00<?, ?it/s]"
      ]
     },
     "metadata": {},
     "output_type": "display_data"
    },
    {
     "name": "stdout",
     "output_type": "stream",
     "text": [
      "Epoch [18], Train Loss : [0.01301] Val Loss : [0.48697] Val F1 : [0.59931]\n"
     ]
    },
    {
     "data": {
      "application/vnd.jupyter.widget-view+json": {
       "model_id": "8aa20cb016884dcaa75cc89821ced3ba",
       "version_major": 2,
       "version_minor": 0
      },
      "text/plain": [
       "  0%|          | 0/270 [00:00<?, ?it/s]"
      ]
     },
     "metadata": {},
     "output_type": "display_data"
    },
    {
     "data": {
      "application/vnd.jupyter.widget-view+json": {
       "model_id": "8d1e3aeaa7034590bb64e5d32c012232",
       "version_major": 2,
       "version_minor": 0
      },
      "text/plain": [
       "  0%|          | 0/68 [00:00<?, ?it/s]"
      ]
     },
     "metadata": {},
     "output_type": "display_data"
    },
    {
     "name": "stdout",
     "output_type": "stream",
     "text": [
      "Epoch [19], Train Loss : [0.01075] Val Loss : [0.46219] Val F1 : [0.57195]\n"
     ]
    },
    {
     "data": {
      "application/vnd.jupyter.widget-view+json": {
       "model_id": "196cdc17e2fb435f98e81a741a501f53",
       "version_major": 2,
       "version_minor": 0
      },
      "text/plain": [
       "  0%|          | 0/270 [00:00<?, ?it/s]"
      ]
     },
     "metadata": {},
     "output_type": "display_data"
    },
    {
     "data": {
      "application/vnd.jupyter.widget-view+json": {
       "model_id": "3aa6285cf09c48f8bcba54ae45047924",
       "version_major": 2,
       "version_minor": 0
      },
      "text/plain": [
       "  0%|          | 0/68 [00:00<?, ?it/s]"
      ]
     },
     "metadata": {},
     "output_type": "display_data"
    },
    {
     "name": "stdout",
     "output_type": "stream",
     "text": [
      "Epoch [20], Train Loss : [0.01026] Val Loss : [0.48954] Val F1 : [0.58073]\n",
      "Epoch    20: reducing learning rate of group 0 to 1.8750e-05.\n"
     ]
    }
   ],
   "source": [
    "#weather\n",
    "model_wea = BaseModel_wea()\n",
    "model_wea.eval()\n",
    "optimizer_wea = torch.optim.Adam(params = model_wea.parameters(), lr = CFG[\"LEARNING_RATE\"])\n",
    "scheduler_wea = torch.optim.lr_scheduler.ReduceLROnPlateau(optimizer_wea, mode='max', factor=0.5, patience=2,threshold_mode='abs',min_lr=1e-8, verbose=True)\n",
    "\n",
    "infer_model_wea = train(model_wea, optimizer_wea, train_loader_wea, val_loader_wea, scheduler_wea, device)"
   ]
  },
  {
   "cell_type": "markdown",
   "metadata": {},
   "source": [
    "## Inference"
   ]
  },
  {
   "cell_type": "code",
   "execution_count": 73,
   "metadata": {},
   "outputs": [],
   "source": [
    "test = pd.read_csv('./test.csv')"
   ]
  },
  {
   "cell_type": "code",
   "execution_count": 74,
   "metadata": {},
   "outputs": [],
   "source": [
    "test_dataset = CustomDataset_Test(test['video_path'].values, None)\n",
    "test_loader = DataLoader(test_dataset, batch_size = CFG['BATCH_SIZE'], shuffle=False, num_workers=3)"
   ]
  },
  {
   "cell_type": "code",
   "execution_count": 75,
   "metadata": {},
   "outputs": [],
   "source": [
    "def inference(model, test_loader, device):\n",
    "    model.to(device)\n",
    "    model.eval()\n",
    "    preds = []\n",
    "    with torch.no_grad():\n",
    "        for videos in tqdm(iter(test_loader)):\n",
    "            videos = videos.to(device)\n",
    "            \n",
    "            logit = model(videos)\n",
    "\n",
    "            preds += logit.argmax(1).detach().cpu().numpy().tolist()\n",
    "    return preds"
   ]
  },
  {
   "cell_type": "code",
   "execution_count": 76,
   "metadata": {},
   "outputs": [
    {
     "data": {
      "application/vnd.jupyter.widget-view+json": {
       "model_id": "bf8b186526be4ec5b9731dc75086c4b4",
       "version_major": 2,
       "version_minor": 0
      },
      "text/plain": [
       "  0%|          | 0/225 [00:00<?, ?it/s]"
      ]
     },
     "metadata": {},
     "output_type": "display_data"
    }
   ],
   "source": [
    "preds = inference(model, test_loader, device)"
   ]
  },
  {
   "cell_type": "code",
   "execution_count": 77,
   "metadata": {},
   "outputs": [
    {
     "data": {
      "application/vnd.jupyter.widget-view+json": {
       "model_id": "980d94d8e50e412db6a94961619cca2a",
       "version_major": 2,
       "version_minor": 0
      },
      "text/plain": [
       "  0%|          | 0/225 [00:00<?, ?it/s]"
      ]
     },
     "metadata": {},
     "output_type": "display_data"
    }
   ],
   "source": [
    "preds_time = inference(model_time, test_loader, device)"
   ]
  },
  {
   "cell_type": "code",
   "execution_count": 78,
   "metadata": {},
   "outputs": [
    {
     "data": {
      "application/vnd.jupyter.widget-view+json": {
       "model_id": "8855afc782634424acdc29994160b7cf",
       "version_major": 2,
       "version_minor": 0
      },
      "text/plain": [
       "  0%|          | 0/225 [00:00<?, ?it/s]"
      ]
     },
     "metadata": {},
     "output_type": "display_data"
    }
   ],
   "source": [
    "preds_wea = inference(model_wea, test_loader, device)"
   ]
  },
  {
   "cell_type": "markdown",
   "metadata": {},
   "source": [
    "## Submission"
   ]
  },
  {
   "cell_type": "code",
   "execution_count": 79,
   "metadata": {},
   "outputs": [],
   "source": [
    "submit = pd.read_csv('./sample_submission.csv')"
   ]
  },
  {
   "cell_type": "code",
   "execution_count": 80,
   "metadata": {},
   "outputs": [],
   "source": [
    "submit['crash_ego']= preds"
   ]
  },
  {
   "cell_type": "code",
   "execution_count": 81,
   "metadata": {},
   "outputs": [],
   "source": [
    "submit['timing']= preds_time"
   ]
  },
  {
   "cell_type": "code",
   "execution_count": 82,
   "metadata": {},
   "outputs": [],
   "source": [
    "submit['weather']= preds_wea"
   ]
  },
  {
   "cell_type": "code",
   "execution_count": 83,
   "metadata": {},
   "outputs": [
    {
     "data": {
      "text/plain": [
       "0    1254\n",
       "2     277\n",
       "1     269\n",
       "Name: crash_ego, dtype: int64"
      ]
     },
     "execution_count": 83,
     "metadata": {},
     "output_type": "execute_result"
    }
   ],
   "source": [
    "submit['crash_ego'].value_counts()"
   ]
  },
  {
   "cell_type": "code",
   "execution_count": 84,
   "metadata": {},
   "outputs": [
    {
     "data": {
      "text/plain": [
       "0    1247\n",
       "1     521\n",
       "2      32\n",
       "Name: timing, dtype: int64"
      ]
     },
     "execution_count": 84,
     "metadata": {},
     "output_type": "execute_result"
    }
   ],
   "source": [
    "submit['timing'].value_counts()"
   ]
  },
  {
   "cell_type": "code",
   "execution_count": 85,
   "metadata": {},
   "outputs": [
    {
     "data": {
      "text/plain": [
       "0    1259\n",
       "1     492\n",
       "2      45\n",
       "3       4\n",
       "Name: weather, dtype: int64"
      ]
     },
     "execution_count": 85,
     "metadata": {},
     "output_type": "execute_result"
    }
   ],
   "source": [
    "submit['weather'].value_counts()"
   ]
  },
  {
   "cell_type": "code",
   "execution_count": 86,
   "metadata": {},
   "outputs": [],
   "source": [
    "submit.to_csv('./sub/unrelabel/v2_unrelabel.csv',index=False)"
   ]
  },
  {
   "cell_type": "markdown",
   "metadata": {},
   "source": [
    "---"
   ]
  },
  {
   "cell_type": "code",
   "execution_count": 87,
   "metadata": {},
   "outputs": [],
   "source": [
    "submit.loc[submit[submit['crash_ego']==0].index,'weather'] = 0\n",
    "submit.loc[submit[submit['crash_ego']==0].index,'timing'] = 0"
   ]
  },
  {
   "cell_type": "code",
   "execution_count": 88,
   "metadata": {},
   "outputs": [],
   "source": [
    "submit.loc[(submit['weather']==1)*(submit['timing']==1),'label'] = 1\n",
    "submit.loc[(submit['weather']==1)*(submit['timing']==2),'label'] = 2\n",
    "submit.loc[(submit['weather']==2)*(submit['timing']==1),'label'] = 3\n",
    "submit.loc[(submit['weather']==2)*(submit['timing']==2),'label'] = 4\n",
    "submit.loc[(submit['weather']==3)*(submit['timing']==1),'label'] = 5\n",
    "submit.loc[(submit['weather']==3)*(submit['timing']==2),'label'] = 6\n",
    "\n",
    "submit.loc[submit.crash_ego==2,'label'] += 6"
   ]
  },
  {
   "cell_type": "markdown",
   "metadata": {},
   "source": [
    "---"
   ]
  },
  {
   "cell_type": "code",
   "execution_count": 89,
   "metadata": {},
   "outputs": [
    {
     "data": {
      "text/plain": [
       "0     1294\n",
       "7      211\n",
       "1      190\n",
       "6       33\n",
       "3       23\n",
       "8       15\n",
       "9       15\n",
       "2       13\n",
       "5        3\n",
       "10       2\n",
       "11       1\n",
       "Name: label, dtype: int64"
      ]
     },
     "execution_count": 89,
     "metadata": {},
     "output_type": "execute_result"
    }
   ],
   "source": [
    "submit.label.value_counts()"
   ]
  },
  {
   "cell_type": "code",
   "execution_count": 90,
   "metadata": {},
   "outputs": [],
   "source": [
    "submit.iloc[:,:2].to_csv('./sub/v2_relabeled.csv',index=False)"
   ]
  }
 ],
 "metadata": {
  "kernelspec": {
   "display_name": "PyTorch 1.9.0 on Python 3.8 (CUDA 11.1)",
   "language": "python",
   "name": "python3"
  },
  "language_info": {
   "codemirror_mode": {
    "name": "ipython",
    "version": 3
   },
   "file_extension": ".py",
   "mimetype": "text/x-python",
   "name": "python",
   "nbconvert_exporter": "python",
   "pygments_lexer": "ipython3",
   "version": "3.8.7"
  }
 },
 "nbformat": 4,
 "nbformat_minor": 5
}
